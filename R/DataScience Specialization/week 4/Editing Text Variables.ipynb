{
 "cells": [
  {
   "cell_type": "code",
   "execution_count": 20,
   "metadata": {},
   "outputs": [
    {
     "name": "stderr",
     "output_type": "stream",
     "text": [
      "\n",
      "Attaching package: 'dplyr'\n",
      "\n",
      "The following objects are masked from 'package:stats':\n",
      "\n",
      "    filter, lag\n",
      "\n",
      "The following objects are masked from 'package:base':\n",
      "\n",
      "    intersect, setdiff, setequal, union\n",
      "\n"
     ]
    }
   ],
   "source": [
    "library(dplyr)"
   ]
  },
  {
   "cell_type": "code",
   "execution_count": null,
   "metadata": {},
   "outputs": [],
   "source": []
  },
  {
   "cell_type": "code",
   "execution_count": 3,
   "metadata": {},
   "outputs": [
    {
     "data": {
      "text/html": [
       "'C:/Users/asus-A9/Documents/GitHub/AnacondaWorkingSpace/R/DataScience Specialization/week 4'"
      ],
      "text/latex": [
       "'C:/Users/asus-A9/Documents/GitHub/AnacondaWorkingSpace/R/DataScience Specialization/week 4'"
      ],
      "text/markdown": [
       "'C:/Users/asus-A9/Documents/GitHub/AnacondaWorkingSpace/R/DataScience Specialization/week 4'"
      ],
      "text/plain": [
       "[1] \"C:/Users/asus-A9/Documents/GitHub/AnacondaWorkingSpace/R/DataScience Specialization/week 4\""
      ]
     },
     "metadata": {},
     "output_type": "display_data"
    }
   ],
   "source": [
    "getwd()"
   ]
  },
  {
   "cell_type": "code",
   "execution_count": 21,
   "metadata": {},
   "outputs": [],
   "source": [
    "data_file = 'C:/Users/asus-A9/Documents/GitHub/AnacondaWorkingSpace/R/DataScience Specialization/Data'\n",
    "camera_data = tbl_df(read.csv(file.path(data_file, \"cameras.csv\")))"
   ]
  },
  {
   "cell_type": "code",
   "execution_count": 22,
   "metadata": {},
   "outputs": [
    {
     "data": {
      "text/html": [
       "<table>\n",
       "<thead><tr><th scope=col>address</th><th scope=col>direction</th><th scope=col>street</th><th scope=col>crossStreet</th><th scope=col>intersection</th><th scope=col>Location.1</th></tr></thead>\n",
       "<tbody>\n",
       "\t<tr><td>S CATON AVE &amp; BENSON AVE   </td><td>N/B                            </td><td>Caton Ave                      </td><td>Benson Ave                     </td><td>Caton Ave &amp; Benson Ave     </td><td>(39.2693779962, -76.6688185297)</td></tr>\n",
       "\t<tr><td>S CATON AVE &amp; BENSON AVE   </td><td>S/B                            </td><td>Caton Ave                      </td><td>Benson Ave                     </td><td>Caton Ave &amp; Benson Ave     </td><td>(39.2693157898, -76.6689698176)</td></tr>\n",
       "</tbody>\n",
       "</table>\n"
      ],
      "text/latex": [
       "\\begin{tabular}{r|llllll}\n",
       " address & direction & street & crossStreet & intersection & Location.1\\\\\n",
       "\\hline\n",
       "\t S CATON AVE \\& BENSON AVE      & N/B                             & Caton Ave                       & Benson Ave                      & Caton Ave \\& Benson Ave        & (39.2693779962, -76.6688185297)\\\\\n",
       "\t S CATON AVE \\& BENSON AVE      & S/B                             & Caton Ave                       & Benson Ave                      & Caton Ave \\& Benson Ave        & (39.2693157898, -76.6689698176)\\\\\n",
       "\\end{tabular}\n"
      ],
      "text/markdown": [
       "\n",
       "address | direction | street | crossStreet | intersection | Location.1 | \n",
       "|---|---|\n",
       "| S CATON AVE & BENSON AVE        | N/B                             | Caton Ave                       | Benson Ave                      | Caton Ave & Benson Ave          | (39.2693779962, -76.6688185297) | \n",
       "| S CATON AVE & BENSON AVE        | S/B                             | Caton Ave                       | Benson Ave                      | Caton Ave & Benson Ave          | (39.2693157898, -76.6689698176) | \n",
       "\n",
       "\n"
      ],
      "text/plain": [
       "  address                  direction street    crossStreet\n",
       "1 S CATON AVE & BENSON AVE N/B       Caton Ave Benson Ave \n",
       "2 S CATON AVE & BENSON AVE S/B       Caton Ave Benson Ave \n",
       "  intersection           Location.1                     \n",
       "1 Caton Ave & Benson Ave (39.2693779962, -76.6688185297)\n",
       "2 Caton Ave & Benson Ave (39.2693157898, -76.6689698176)"
      ]
     },
     "metadata": {},
     "output_type": "display_data"
    }
   ],
   "source": [
    "head(camera_data, n=2)"
   ]
  },
  {
   "cell_type": "code",
   "execution_count": 23,
   "metadata": {},
   "outputs": [
    {
     "data": {
      "text/html": [
       "<ol class=list-inline>\n",
       "\t<li>80</li>\n",
       "\t<li>6</li>\n",
       "</ol>\n"
      ],
      "text/latex": [
       "\\begin{enumerate*}\n",
       "\\item 80\n",
       "\\item 6\n",
       "\\end{enumerate*}\n"
      ],
      "text/markdown": [
       "1. 80\n",
       "2. 6\n",
       "\n",
       "\n"
      ],
      "text/plain": [
       "[1] 80  6"
      ]
     },
     "metadata": {},
     "output_type": "display_data"
    }
   ],
   "source": [
    "dim(camera_data)"
   ]
  },
  {
   "cell_type": "code",
   "execution_count": 24,
   "metadata": {},
   "outputs": [
    {
     "data": {
      "text/html": [
       "FALSE"
      ],
      "text/latex": [
       "FALSE"
      ],
      "text/markdown": [
       "FALSE"
      ],
      "text/plain": [
       "[1] FALSE"
      ]
     },
     "metadata": {},
     "output_type": "display_data"
    }
   ],
   "source": [
    "any(is.na(camera_data))"
   ]
  },
  {
   "cell_type": "code",
   "execution_count": 25,
   "metadata": {},
   "outputs": [
    {
     "data": {
      "text/html": [
       "0"
      ],
      "text/latex": [
       "0"
      ],
      "text/markdown": [
       "0"
      ],
      "text/plain": [
       "[1] 0"
      ]
     },
     "metadata": {},
     "output_type": "display_data"
    }
   ],
   "source": [
    "sum(is.na(camera_data))"
   ]
  },
  {
   "cell_type": "code",
   "execution_count": 26,
   "metadata": {},
   "outputs": [
    {
     "data": {
      "text/plain": [
       "                           address   direction             street  \n",
       " EDMONDSON AVE & N ATHOL AVE   : 2   E/B:24    Northern Pkwy  : 4  \n",
       " ERDMAN AVE & N MACON ST       : 2   N/B:14    Liberty Hghts\\n: 3  \n",
       " GWYNNS FLS & GARRISON BLVD    : 2   S/B:20    Park Heights   : 3  \n",
       " LIBERTY HTS & HILLSDALE RD    : 2   W/B:22    Caton Ave      : 2  \n",
       " PARK HEIGHTS AVE & HAYWARD AVE: 2             Cold Spring\\n  : 2  \n",
       " RUSSELL ST & W HAMBURG ST     : 2             Edmonson       : 2  \n",
       " (Other)                       :68             (Other)        :64  \n",
       "          crossStreet                           intersection\n",
       " Belvedere Ave  : 2   Caton Ave & Benson Ave          : 2   \n",
       " Benson Ave     : 2   Erdman  & Macon St              : 2   \n",
       " Garrison Blvd  : 2   Gwynns Falls \\n  & Garrison Blvd: 2   \n",
       " Gay St         : 2   Liberty Hghts\\n  & Hillsdale Ave: 2   \n",
       " Greenspring Ave: 2   Mt Royal\\n & North              : 2   \n",
       " Hamburg St     : 2   Park Heights   & Hayward Ave    : 2   \n",
       " (Other)        :68   (Other)                         :68   \n",
       "                           Location.1\n",
       " (39.3135792902, -76.6762250182): 2  \n",
       " (39.3175028074, -76.5556737923): 2  \n",
       " (39.3304453818, -76.6945100293): 2  \n",
       " (39.3499204055, -76.6788706721): 2  \n",
       " (39.1999130165, -76.5559766825): 1  \n",
       " (39.2364856246, -76.6122106478): 1  \n",
       " (Other)                        :70  "
      ]
     },
     "metadata": {},
     "output_type": "display_data"
    }
   ],
   "source": [
    "summary(camera_data)"
   ]
  },
  {
   "cell_type": "code",
   "execution_count": 27,
   "metadata": {},
   "outputs": [
    {
     "name": "stdout",
     "output_type": "stream",
     "text": [
      "Classes 'tbl_df', 'tbl' and 'data.frame':\t80 obs. of  6 variables:\n",
      " $ address     : Factor w/ 71 levels \"E 33RD ST & THE ALAMEDA\",..: 49 49 70 57 1 14 14 31 5 35 ...\n",
      " $ direction   : Factor w/ 4 levels \"E/B\",\"N/B\",\"S/B\",..: 2 3 1 3 1 1 4 3 4 1 ...\n",
      " $ street      : Factor w/ 61 levels \"\\nPulaski Hwy \\n\",..: 2 2 60 56 6 11 11 3 30 38 ...\n",
      " $ crossStreet : Factor w/ 66 levels \"33rd St\",\"4th St\",..: 6 6 49 1 58 40 40 36 7 38 ...\n",
      " $ intersection: Factor w/ 74 levels \" &\",\"\\nPulaski Hwy \\n & Moravia Park Drive\",..: 3 3 73 69 8 14 14 4 36 48 ...\n",
      " $ Location.1  : Factor w/ 76 levels \"(39.1999130165, -76.5559766825)\",..: 7 6 8 49 48 35 36 74 32 29 ...\n"
     ]
    }
   ],
   "source": [
    "str(camera_data)"
   ]
  },
  {
   "cell_type": "code",
   "execution_count": 28,
   "metadata": {},
   "outputs": [
    {
     "data": {
      "text/plain": [
       "Number of cases in table: 80 \n",
       "Number of factors: 1 "
      ]
     },
     "metadata": {},
     "output_type": "display_data"
    }
   ],
   "source": [
    "summary(table(camera_data$address))"
   ]
  },
  {
   "cell_type": "code",
   "execution_count": 29,
   "metadata": {},
   "outputs": [
    {
     "data": {
      "text/html": [
       "<ol class=list-inline>\n",
       "\t<li>'address'</li>\n",
       "\t<li>'direction'</li>\n",
       "\t<li>'street'</li>\n",
       "\t<li>'crossStreet'</li>\n",
       "\t<li>'intersection'</li>\n",
       "\t<li>'Location.1'</li>\n",
       "</ol>\n"
      ],
      "text/latex": [
       "\\begin{enumerate*}\n",
       "\\item 'address'\n",
       "\\item 'direction'\n",
       "\\item 'street'\n",
       "\\item 'crossStreet'\n",
       "\\item 'intersection'\n",
       "\\item 'Location.1'\n",
       "\\end{enumerate*}\n"
      ],
      "text/markdown": [
       "1. 'address'\n",
       "2. 'direction'\n",
       "3. 'street'\n",
       "4. 'crossStreet'\n",
       "5. 'intersection'\n",
       "6. 'Location.1'\n",
       "\n",
       "\n"
      ],
      "text/plain": [
       "[1] \"address\"      \"direction\"    \"street\"       \"crossStreet\"  \"intersection\"\n",
       "[6] \"Location.1\"  "
      ]
     },
     "metadata": {},
     "output_type": "display_data"
    }
   ],
   "source": [
    "names(camera_data)"
   ]
  },
  {
   "cell_type": "code",
   "execution_count": 31,
   "metadata": {},
   "outputs": [
    {
     "data": {
      "text/html": [
       "<ol class=list-inline>\n",
       "\t<li>'address'</li>\n",
       "\t<li>'direction'</li>\n",
       "\t<li>'street'</li>\n",
       "\t<li>'crossstreet'</li>\n",
       "\t<li>'intersection'</li>\n",
       "\t<li>'location.1'</li>\n",
       "</ol>\n"
      ],
      "text/latex": [
       "\\begin{enumerate*}\n",
       "\\item 'address'\n",
       "\\item 'direction'\n",
       "\\item 'street'\n",
       "\\item 'crossstreet'\n",
       "\\item 'intersection'\n",
       "\\item 'location.1'\n",
       "\\end{enumerate*}\n"
      ],
      "text/markdown": [
       "1. 'address'\n",
       "2. 'direction'\n",
       "3. 'street'\n",
       "4. 'crossstreet'\n",
       "5. 'intersection'\n",
       "6. 'location.1'\n",
       "\n",
       "\n"
      ],
      "text/plain": [
       "[1] \"address\"      \"direction\"    \"street\"       \"crossstreet\"  \"intersection\"\n",
       "[6] \"location.1\"  "
      ]
     },
     "metadata": {},
     "output_type": "display_data"
    }
   ],
   "source": [
    "tolower(names(camera_data))"
   ]
  },
  {
   "cell_type": "code",
   "execution_count": 35,
   "metadata": {},
   "outputs": [
    {
     "data": {
      "text/html": [
       "<ol>\n",
       "\t<li>'address'</li>\n",
       "\t<li>'direction'</li>\n",
       "\t<li>'street'</li>\n",
       "\t<li>'crossStreet'</li>\n",
       "\t<li>'intersection'</li>\n",
       "\t<li><ol class=list-inline>\n",
       "\t<li>'Location'</li>\n",
       "\t<li>'1'</li>\n",
       "</ol>\n",
       "</li>\n",
       "</ol>\n"
      ],
      "text/latex": [
       "\\begin{enumerate}\n",
       "\\item 'address'\n",
       "\\item 'direction'\n",
       "\\item 'street'\n",
       "\\item 'crossStreet'\n",
       "\\item 'intersection'\n",
       "\\item \\begin{enumerate*}\n",
       "\\item 'Location'\n",
       "\\item '1'\n",
       "\\end{enumerate*}\n",
       "\n",
       "\\end{enumerate}\n"
      ],
      "text/markdown": [
       "1. 'address'\n",
       "2. 'direction'\n",
       "3. 'street'\n",
       "4. 'crossStreet'\n",
       "5. 'intersection'\n",
       "6. 1. 'Location'\n",
       "2. '1'\n",
       "\n",
       "\n",
       "\n",
       "\n",
       "\n"
      ],
      "text/plain": [
       "[[1]]\n",
       "[1] \"address\"\n",
       "\n",
       "[[2]]\n",
       "[1] \"direction\"\n",
       "\n",
       "[[3]]\n",
       "[1] \"street\"\n",
       "\n",
       "[[4]]\n",
       "[1] \"crossStreet\"\n",
       "\n",
       "[[5]]\n",
       "[1] \"intersection\"\n",
       "\n",
       "[[6]]\n",
       "[1] \"Location\" \"1\"       \n"
      ]
     },
     "metadata": {},
     "output_type": "display_data"
    }
   ],
   "source": [
    "splitnames = strsplit(names(camera_data), \"\\\\.\")\n",
    "splitnames"
   ]
  },
  {
   "cell_type": "code",
   "execution_count": 37,
   "metadata": {},
   "outputs": [
    {
     "data": {
      "text/html": [
       "<table>\n",
       "<thead><tr><th scope=col>address</th><th scope=col>direction</th><th scope=col>street</th><th scope=col>crossStreet</th><th scope=col>intersection</th><th scope=col>Location.1</th></tr></thead>\n",
       "<tbody>\n",
       "\t<tr><td>S CATON AVE &amp; BENSON AVE   </td><td>N/B                            </td><td>Caton Ave                      </td><td>Benson Ave                     </td><td>Caton Ave &amp; Benson Ave     </td><td>(39.2693779962, -76.6688185297)</td></tr>\n",
       "</tbody>\n",
       "</table>\n"
      ],
      "text/latex": [
       "\\begin{tabular}{r|llllll}\n",
       " address & direction & street & crossStreet & intersection & Location.1\\\\\n",
       "\\hline\n",
       "\t S CATON AVE \\& BENSON AVE      & N/B                             & Caton Ave                       & Benson Ave                      & Caton Ave \\& Benson Ave        & (39.2693779962, -76.6688185297)\\\\\n",
       "\\end{tabular}\n"
      ],
      "text/markdown": [
       "\n",
       "address | direction | street | crossStreet | intersection | Location.1 | \n",
       "|---|\n",
       "| S CATON AVE & BENSON AVE        | N/B                             | Caton Ave                       | Benson Ave                      | Caton Ave & Benson Ave          | (39.2693779962, -76.6688185297) | \n",
       "\n",
       "\n"
      ],
      "text/plain": [
       "  address                  direction street    crossStreet\n",
       "1 S CATON AVE & BENSON AVE N/B       Caton Ave Benson Ave \n",
       "  intersection           Location.1                     \n",
       "1 Caton Ave & Benson Ave (39.2693779962, -76.6688185297)"
      ]
     },
     "metadata": {},
     "output_type": "display_data"
    }
   ],
   "source": [
    "head(camera_data, n = 1)"
   ]
  },
  {
   "cell_type": "code",
   "execution_count": 39,
   "metadata": {},
   "outputs": [
    {
     "name": "stderr",
     "output_type": "stream",
     "text": [
      "ERROR while rich displaying an object: Error in FUN(X[[i]], ...): attempt to use zero-length variable name\n",
      "\n",
      "Traceback:\n",
      "1. FUN(X[[i]], ...)\n",
      "2. tryCatch(withCallingHandlers({\n",
      " .     rpr <- mime2repr[[mime]](obj)\n",
      " .     if (is.null(rpr)) \n",
      " .         return(NULL)\n",
      " .     prepare_content(is.raw(rpr), rpr)\n",
      " . }, error = error_handler), error = outer_handler)\n",
      "3. tryCatchList(expr, classes, parentenv, handlers)\n",
      "4. tryCatchOne(expr, names, parentenv, handlers[[1L]])\n",
      "5. doTryCatch(return(expr), name, parentenv, handler)\n",
      "6. withCallingHandlers({\n",
      " .     rpr <- mime2repr[[mime]](obj)\n",
      " .     if (is.null(rpr)) \n",
      " .         return(NULL)\n",
      " .     prepare_content(is.raw(rpr), rpr)\n",
      " . }, error = error_handler)\n",
      "7. mime2repr[[mime]](obj)\n",
      "8. repr_html.list(obj)\n",
      "9. repr_list_generic(obj, \"html\", \"\\t<li>%s</li>\\n\", \"\\t<dt>$%s</dt>\\n\\t\\t<dd>%s</dd>\\n\", \n",
      " .     \"<strong>$%s</strong> = %s\", \"<ol>\\n%s</ol>\\n\", \"<dl>\\n%s</dl>\\n\", \n",
      " .     numeric_item = \"\\t<dt>[[%s]]</dt>\\n\\t\\t<dd>%s</dd>\\n\", escape_fun = html_escape)\n",
      "10. sapply(nms, as.name, USE.NAMES = FALSE)\n",
      "11. lapply(X = X, FUN = FUN, ...)\n",
      "12. FUN(X[[i]], ...)\n",
      "ERROR while rich displaying an object: Error in FUN(X[[i]], ...): attempt to use zero-length variable name\n",
      "\n",
      "Traceback:\n",
      "1. FUN(X[[i]], ...)\n",
      "2. tryCatch(withCallingHandlers({\n",
      " .     rpr <- mime2repr[[mime]](obj)\n",
      " .     if (is.null(rpr)) \n",
      " .         return(NULL)\n",
      " .     prepare_content(is.raw(rpr), rpr)\n",
      " . }, error = error_handler), error = outer_handler)\n",
      "3. tryCatchList(expr, classes, parentenv, handlers)\n",
      "4. tryCatchOne(expr, names, parentenv, handlers[[1L]])\n",
      "5. doTryCatch(return(expr), name, parentenv, handler)\n",
      "6. withCallingHandlers({\n",
      " .     rpr <- mime2repr[[mime]](obj)\n",
      " .     if (is.null(rpr)) \n",
      " .         return(NULL)\n",
      " .     prepare_content(is.raw(rpr), rpr)\n",
      " . }, error = error_handler)\n",
      "7. mime2repr[[mime]](obj)\n",
      "8. repr_markdown.list(obj)\n",
      "9. repr_list_generic(obj, \"markdown\", \"%s. %s\\n\", \"$%s\\n:   %s\\n\", \n",
      " .     \"**$%s** = %s\", \"%s\\n\\n\", numeric_item = \"[[%s]]\\n:   %s\\n\", \n",
      " .     item_uses_numbers = TRUE, escape_fun = html_escape)\n",
      "10. sapply(nms, as.name, USE.NAMES = FALSE)\n",
      "11. lapply(X = X, FUN = FUN, ...)\n",
      "12. FUN(X[[i]], ...)\n",
      "ERROR while rich displaying an object: Error in FUN(X[[i]], ...): attempt to use zero-length variable name\n",
      "\n",
      "Traceback:\n",
      "1. FUN(X[[i]], ...)\n",
      "2. tryCatch(withCallingHandlers({\n",
      " .     rpr <- mime2repr[[mime]](obj)\n",
      " .     if (is.null(rpr)) \n",
      " .         return(NULL)\n",
      " .     prepare_content(is.raw(rpr), rpr)\n",
      " . }, error = error_handler), error = outer_handler)\n",
      "3. tryCatchList(expr, classes, parentenv, handlers)\n",
      "4. tryCatchOne(expr, names, parentenv, handlers[[1L]])\n",
      "5. doTryCatch(return(expr), name, parentenv, handler)\n",
      "6. withCallingHandlers({\n",
      " .     rpr <- mime2repr[[mime]](obj)\n",
      " .     if (is.null(rpr)) \n",
      " .         return(NULL)\n",
      " .     prepare_content(is.raw(rpr), rpr)\n",
      " . }, error = error_handler)\n",
      "7. mime2repr[[mime]](obj)\n",
      "8. repr_latex.list(obj)\n",
      "9. repr_list_generic(obj, \"latex\", \"\\\\item %s\\n\", \"\\\\item[\\\\$%s] %s\\n\", \n",
      " .     \"\\\\textbf{\\\\$%s} = %s\", enum_wrap = \"\\\\begin{enumerate}\\n%s\\\\end{enumerate}\\n\", \n",
      " .     named_wrap = \"\\\\begin{description}\\n%s\\\\end{description}\\n\", \n",
      " .     numeric_item = \"\\\\item[{[[%s]]}] %s\\n\", escape_fun = latex_escape)\n",
      "10. sapply(nms, as.name, USE.NAMES = FALSE)\n",
      "11. lapply(X = X, FUN = FUN, ...)\n",
      "12. FUN(X[[i]], ...)\n"
     ]
    },
    {
     "data": {
      "text/plain": [
       "$letters\n",
       "[1] \"A\" \"b\" \"c\"\n",
       "\n",
       "$numbers\n",
       "[1] 1 2 3\n",
       "\n",
       "[[3]]\n",
       "     [,1] [,2] [,3] [,4] [,5]\n",
       "[1,]    1    6   11   16   21\n",
       "[2,]    2    7   12   17   22\n",
       "[3,]    3    8   13   18   23\n",
       "[4,]    4    9   14   19   24\n",
       "[5,]    5   10   15   20   25\n"
      ]
     },
     "metadata": {},
     "output_type": "display_data"
    }
   ],
   "source": [
    "my_list <- list(letters = c('A', 'b', 'c'), \n",
    "               numbers = 1:3, \n",
    "               matrix(1:25, ncol = 5))\n",
    "head(my_list)"
   ]
  },
  {
   "cell_type": "code",
   "execution_count": 40,
   "metadata": {},
   "outputs": [
    {
     "data": {
      "text/html": [
       "<strong>$letters</strong> = <ol class=list-inline>\n",
       "\t<li>'A'</li>\n",
       "\t<li>'b'</li>\n",
       "\t<li>'c'</li>\n",
       "</ol>\n"
      ],
      "text/latex": [
       "\\textbf{\\$letters} = \\begin{enumerate*}\n",
       "\\item 'A'\n",
       "\\item 'b'\n",
       "\\item 'c'\n",
       "\\end{enumerate*}\n"
      ],
      "text/markdown": [
       "**$letters** = 1. 'A'\n",
       "2. 'b'\n",
       "3. 'c'\n",
       "\n",
       "\n"
      ],
      "text/plain": [
       "$letters\n",
       "[1] \"A\" \"b\" \"c\"\n"
      ]
     },
     "metadata": {},
     "output_type": "display_data"
    }
   ],
   "source": [
    "my_list[1]"
   ]
  },
  {
   "cell_type": "code",
   "execution_count": 42,
   "metadata": {},
   "outputs": [
    {
     "data": {
      "text/html": [
       "<ol class=list-inline>\n",
       "\t<li>'A'</li>\n",
       "\t<li>'b'</li>\n",
       "\t<li>'c'</li>\n",
       "</ol>\n"
      ],
      "text/latex": [
       "\\begin{enumerate*}\n",
       "\\item 'A'\n",
       "\\item 'b'\n",
       "\\item 'c'\n",
       "\\end{enumerate*}\n"
      ],
      "text/markdown": [
       "1. 'A'\n",
       "2. 'b'\n",
       "3. 'c'\n",
       "\n",
       "\n"
      ],
      "text/plain": [
       "[1] \"A\" \"b\" \"c\""
      ]
     },
     "metadata": {},
     "output_type": "display_data"
    }
   ],
   "source": [
    "my_list$letters"
   ]
  },
  {
   "cell_type": "code",
   "execution_count": 43,
   "metadata": {},
   "outputs": [
    {
     "data": {
      "text/html": [
       "<ol class=list-inline>\n",
       "\t<li>'A'</li>\n",
       "\t<li>'b'</li>\n",
       "\t<li>'c'</li>\n",
       "</ol>\n"
      ],
      "text/latex": [
       "\\begin{enumerate*}\n",
       "\\item 'A'\n",
       "\\item 'b'\n",
       "\\item 'c'\n",
       "\\end{enumerate*}\n"
      ],
      "text/markdown": [
       "1. 'A'\n",
       "2. 'b'\n",
       "3. 'c'\n",
       "\n",
       "\n"
      ],
      "text/plain": [
       "[1] \"A\" \"b\" \"c\""
      ]
     },
     "metadata": {},
     "output_type": "display_data"
    }
   ],
   "source": [
    "my_list[[1]]"
   ]
  },
  {
   "cell_type": "code",
   "execution_count": 44,
   "metadata": {},
   "outputs": [
    {
     "data": {
      "text/html": [
       "<ol>\n",
       "\t<li><ol class=list-inline>\n",
       "\t<li>'Location'</li>\n",
       "\t<li>'1'</li>\n",
       "</ol>\n",
       "</li>\n",
       "</ol>\n"
      ],
      "text/latex": [
       "\\begin{enumerate}\n",
       "\\item \\begin{enumerate*}\n",
       "\\item 'Location'\n",
       "\\item '1'\n",
       "\\end{enumerate*}\n",
       "\n",
       "\\end{enumerate}\n"
      ],
      "text/markdown": [
       "1. 1. 'Location'\n",
       "2. '1'\n",
       "\n",
       "\n",
       "\n",
       "\n",
       "\n"
      ],
      "text/plain": [
       "[[1]]\n",
       "[1] \"Location\" \"1\"       \n"
      ]
     },
     "metadata": {},
     "output_type": "display_data"
    }
   ],
   "source": [
    "splitnames[6]"
   ]
  },
  {
   "cell_type": "code",
   "execution_count": 45,
   "metadata": {},
   "outputs": [
    {
     "data": {
      "text/html": [
       "<ol>\n",
       "\t<li><ol class=list-inline>\n",
       "\t<li>'Location'</li>\n",
       "\t<li>'1'</li>\n",
       "</ol>\n",
       "</li>\n",
       "</ol>\n"
      ],
      "text/latex": [
       "\\begin{enumerate}\n",
       "\\item \\begin{enumerate*}\n",
       "\\item 'Location'\n",
       "\\item '1'\n",
       "\\end{enumerate*}\n",
       "\n",
       "\\end{enumerate}\n"
      ],
      "text/markdown": [
       "1. 1. 'Location'\n",
       "2. '1'\n",
       "\n",
       "\n",
       "\n",
       "\n",
       "\n"
      ],
      "text/plain": [
       "[[1]]\n",
       "[1] \"Location\" \"1\"       \n"
      ]
     },
     "metadata": {},
     "output_type": "display_data"
    }
   ],
   "source": [
    "splitnames[6][1]"
   ]
  },
  {
   "cell_type": "code",
   "execution_count": 47,
   "metadata": {},
   "outputs": [
    {
     "data": {
      "text/html": [
       "<ol class=list-inline>\n",
       "\t<li>'address'</li>\n",
       "\t<li>'direction'</li>\n",
       "\t<li>'street'</li>\n",
       "\t<li>'crossStreet'</li>\n",
       "\t<li>'intersection'</li>\n",
       "\t<li>'Location'</li>\n",
       "</ol>\n"
      ],
      "text/latex": [
       "\\begin{enumerate*}\n",
       "\\item 'address'\n",
       "\\item 'direction'\n",
       "\\item 'street'\n",
       "\\item 'crossStreet'\n",
       "\\item 'intersection'\n",
       "\\item 'Location'\n",
       "\\end{enumerate*}\n"
      ],
      "text/markdown": [
       "1. 'address'\n",
       "2. 'direction'\n",
       "3. 'street'\n",
       "4. 'crossStreet'\n",
       "5. 'intersection'\n",
       "6. 'Location'\n",
       "\n",
       "\n"
      ],
      "text/plain": [
       "[1] \"address\"      \"direction\"    \"street\"       \"crossStreet\"  \"intersection\"\n",
       "[6] \"Location\"    "
      ]
     },
     "metadata": {},
     "output_type": "display_data"
    }
   ],
   "source": [
    "FirstElement <- function(x){x[1]}\n",
    "sapply(splitnames, FirstElement)"
   ]
  },
  {
   "cell_type": "code",
   "execution_count": null,
   "metadata": {},
   "outputs": [],
   "source": []
  }
 ],
 "metadata": {
  "kernelspec": {
   "display_name": "R",
   "language": "R",
   "name": "ir"
  },
  "language_info": {
   "codemirror_mode": "r",
   "file_extension": ".r",
   "mimetype": "text/x-r-source",
   "name": "R",
   "pygments_lexer": "r",
   "version": "3.5.1"
  }
 },
 "nbformat": 4,
 "nbformat_minor": 2
}
