{
 "cells": [
  {
   "cell_type": "code",
   "execution_count": 1,
   "metadata": {},
   "outputs": [],
   "source": [
    "library(httr)\n",
    "library(jsonlite)\n",
    "library(httpuv)"
   ]
  },
  {
   "cell_type": "code",
   "execution_count": 2,
   "metadata": {},
   "outputs": [
    {
     "data": {
      "text/plain": [
       "<oauth_endpoint>\n",
       " authorize: https://github.com/login/oauth/authorize\n",
       " access:    https://github.com/login/oauth/access_token"
      ]
     },
     "metadata": {},
     "output_type": "display_data"
    },
    {
     "name": "stderr",
     "output_type": "stream",
     "text": [
      "Waiting for authentication in browser...\n",
      "Press Esc/Ctrl + C to abort\n",
      "Please point your browser to the following url: \n",
      "https://github.com/login/oauth/authorize?client_id=bc012001f5353f746fdb&redirect_uri=http%3A%2F%2Flocalhost%3A1410%2F&response_type=code&state=j44eQoc1gY\n",
      "Authentication complete.\n"
     ]
    }
   ],
   "source": [
    "oauth_endpoints(\"github\")\n",
    "\n",
    "my_app <- oauth_app(\"Data_Science_Specialization\", \n",
    "                    key = \"bc012001f5353f746fdb\",\n",
    "                   secret = \"b80cbc777799af16a3579aa7efcf74481f02f035\" )\n",
    "# Get oauth credentials\n",
    "github_token <- oauth2.0_token(oauth_endpoints('github'),\n",
    "                              my_app)\n",
    "\n",
    "# Use API\n",
    "gtoken <- config(token = github_token)\n",
    "request = GET(\"https://api.github.com/users/jtleek/repos\")\n",
    "\n",
    "#Take action on http error\n",
    "\n",
    "stop_for_status(request)\n",
    "\n",
    "# Extract content from request\n",
    "\n",
    "json1 = content(request)\n",
    "\n",
    "# Convert to a data.frame\n",
    "\n",
    "gitDF <- fromJSON(toJSON(json1))\n"
   ]
  },
  {
   "cell_type": "code",
   "execution_count": 4,
   "metadata": {},
   "outputs": [
    {
     "data": {
      "text/html": [
       "<ol class=list-inline>\n",
       "\t<li>'id'</li>\n",
       "\t<li>'node_id'</li>\n",
       "\t<li>'name'</li>\n",
       "\t<li>'full_name'</li>\n",
       "\t<li>'private'</li>\n",
       "\t<li>'owner'</li>\n",
       "\t<li>'html_url'</li>\n",
       "\t<li>'description'</li>\n",
       "\t<li>'fork'</li>\n",
       "\t<li>'url'</li>\n",
       "\t<li>'forks_url'</li>\n",
       "\t<li>'keys_url'</li>\n",
       "\t<li>'collaborators_url'</li>\n",
       "\t<li>'teams_url'</li>\n",
       "\t<li>'hooks_url'</li>\n",
       "\t<li>'issue_events_url'</li>\n",
       "\t<li>'events_url'</li>\n",
       "\t<li>'assignees_url'</li>\n",
       "\t<li>'branches_url'</li>\n",
       "\t<li>'tags_url'</li>\n",
       "\t<li>'blobs_url'</li>\n",
       "\t<li>'git_tags_url'</li>\n",
       "\t<li>'git_refs_url'</li>\n",
       "\t<li>'trees_url'</li>\n",
       "\t<li>'statuses_url'</li>\n",
       "\t<li>'languages_url'</li>\n",
       "\t<li>'stargazers_url'</li>\n",
       "\t<li>'contributors_url'</li>\n",
       "\t<li>'subscribers_url'</li>\n",
       "\t<li>'subscription_url'</li>\n",
       "\t<li>'commits_url'</li>\n",
       "\t<li>'git_commits_url'</li>\n",
       "\t<li>'comments_url'</li>\n",
       "\t<li>'issue_comment_url'</li>\n",
       "\t<li>'contents_url'</li>\n",
       "\t<li>'compare_url'</li>\n",
       "\t<li>'merges_url'</li>\n",
       "\t<li>'archive_url'</li>\n",
       "\t<li>'downloads_url'</li>\n",
       "\t<li>'issues_url'</li>\n",
       "\t<li>'pulls_url'</li>\n",
       "\t<li>'milestones_url'</li>\n",
       "\t<li>'notifications_url'</li>\n",
       "\t<li>'labels_url'</li>\n",
       "\t<li>'releases_url'</li>\n",
       "\t<li>'deployments_url'</li>\n",
       "\t<li>'created_at'</li>\n",
       "\t<li>'updated_at'</li>\n",
       "\t<li>'pushed_at'</li>\n",
       "\t<li>'git_url'</li>\n",
       "\t<li>'ssh_url'</li>\n",
       "\t<li>'clone_url'</li>\n",
       "\t<li>'svn_url'</li>\n",
       "\t<li>'homepage'</li>\n",
       "\t<li>'size'</li>\n",
       "\t<li>'stargazers_count'</li>\n",
       "\t<li>'watchers_count'</li>\n",
       "\t<li>'language'</li>\n",
       "\t<li>'has_issues'</li>\n",
       "\t<li>'has_projects'</li>\n",
       "\t<li>'has_downloads'</li>\n",
       "\t<li>'has_wiki'</li>\n",
       "\t<li>'has_pages'</li>\n",
       "\t<li>'forks_count'</li>\n",
       "\t<li>'mirror_url'</li>\n",
       "\t<li>'archived'</li>\n",
       "\t<li>'open_issues_count'</li>\n",
       "\t<li>'license'</li>\n",
       "\t<li>'forks'</li>\n",
       "\t<li>'open_issues'</li>\n",
       "\t<li>'watchers'</li>\n",
       "\t<li>'default_branch'</li>\n",
       "</ol>\n"
      ],
      "text/latex": [
       "\\begin{enumerate*}\n",
       "\\item 'id'\n",
       "\\item 'node\\_id'\n",
       "\\item 'name'\n",
       "\\item 'full\\_name'\n",
       "\\item 'private'\n",
       "\\item 'owner'\n",
       "\\item 'html\\_url'\n",
       "\\item 'description'\n",
       "\\item 'fork'\n",
       "\\item 'url'\n",
       "\\item 'forks\\_url'\n",
       "\\item 'keys\\_url'\n",
       "\\item 'collaborators\\_url'\n",
       "\\item 'teams\\_url'\n",
       "\\item 'hooks\\_url'\n",
       "\\item 'issue\\_events\\_url'\n",
       "\\item 'events\\_url'\n",
       "\\item 'assignees\\_url'\n",
       "\\item 'branches\\_url'\n",
       "\\item 'tags\\_url'\n",
       "\\item 'blobs\\_url'\n",
       "\\item 'git\\_tags\\_url'\n",
       "\\item 'git\\_refs\\_url'\n",
       "\\item 'trees\\_url'\n",
       "\\item 'statuses\\_url'\n",
       "\\item 'languages\\_url'\n",
       "\\item 'stargazers\\_url'\n",
       "\\item 'contributors\\_url'\n",
       "\\item 'subscribers\\_url'\n",
       "\\item 'subscription\\_url'\n",
       "\\item 'commits\\_url'\n",
       "\\item 'git\\_commits\\_url'\n",
       "\\item 'comments\\_url'\n",
       "\\item 'issue\\_comment\\_url'\n",
       "\\item 'contents\\_url'\n",
       "\\item 'compare\\_url'\n",
       "\\item 'merges\\_url'\n",
       "\\item 'archive\\_url'\n",
       "\\item 'downloads\\_url'\n",
       "\\item 'issues\\_url'\n",
       "\\item 'pulls\\_url'\n",
       "\\item 'milestones\\_url'\n",
       "\\item 'notifications\\_url'\n",
       "\\item 'labels\\_url'\n",
       "\\item 'releases\\_url'\n",
       "\\item 'deployments\\_url'\n",
       "\\item 'created\\_at'\n",
       "\\item 'updated\\_at'\n",
       "\\item 'pushed\\_at'\n",
       "\\item 'git\\_url'\n",
       "\\item 'ssh\\_url'\n",
       "\\item 'clone\\_url'\n",
       "\\item 'svn\\_url'\n",
       "\\item 'homepage'\n",
       "\\item 'size'\n",
       "\\item 'stargazers\\_count'\n",
       "\\item 'watchers\\_count'\n",
       "\\item 'language'\n",
       "\\item 'has\\_issues'\n",
       "\\item 'has\\_projects'\n",
       "\\item 'has\\_downloads'\n",
       "\\item 'has\\_wiki'\n",
       "\\item 'has\\_pages'\n",
       "\\item 'forks\\_count'\n",
       "\\item 'mirror\\_url'\n",
       "\\item 'archived'\n",
       "\\item 'open\\_issues\\_count'\n",
       "\\item 'license'\n",
       "\\item 'forks'\n",
       "\\item 'open\\_issues'\n",
       "\\item 'watchers'\n",
       "\\item 'default\\_branch'\n",
       "\\end{enumerate*}\n"
      ],
      "text/markdown": [
       "1. 'id'\n",
       "2. 'node_id'\n",
       "3. 'name'\n",
       "4. 'full_name'\n",
       "5. 'private'\n",
       "6. 'owner'\n",
       "7. 'html_url'\n",
       "8. 'description'\n",
       "9. 'fork'\n",
       "10. 'url'\n",
       "11. 'forks_url'\n",
       "12. 'keys_url'\n",
       "13. 'collaborators_url'\n",
       "14. 'teams_url'\n",
       "15. 'hooks_url'\n",
       "16. 'issue_events_url'\n",
       "17. 'events_url'\n",
       "18. 'assignees_url'\n",
       "19. 'branches_url'\n",
       "20. 'tags_url'\n",
       "21. 'blobs_url'\n",
       "22. 'git_tags_url'\n",
       "23. 'git_refs_url'\n",
       "24. 'trees_url'\n",
       "25. 'statuses_url'\n",
       "26. 'languages_url'\n",
       "27. 'stargazers_url'\n",
       "28. 'contributors_url'\n",
       "29. 'subscribers_url'\n",
       "30. 'subscription_url'\n",
       "31. 'commits_url'\n",
       "32. 'git_commits_url'\n",
       "33. 'comments_url'\n",
       "34. 'issue_comment_url'\n",
       "35. 'contents_url'\n",
       "36. 'compare_url'\n",
       "37. 'merges_url'\n",
       "38. 'archive_url'\n",
       "39. 'downloads_url'\n",
       "40. 'issues_url'\n",
       "41. 'pulls_url'\n",
       "42. 'milestones_url'\n",
       "43. 'notifications_url'\n",
       "44. 'labels_url'\n",
       "45. 'releases_url'\n",
       "46. 'deployments_url'\n",
       "47. 'created_at'\n",
       "48. 'updated_at'\n",
       "49. 'pushed_at'\n",
       "50. 'git_url'\n",
       "51. 'ssh_url'\n",
       "52. 'clone_url'\n",
       "53. 'svn_url'\n",
       "54. 'homepage'\n",
       "55. 'size'\n",
       "56. 'stargazers_count'\n",
       "57. 'watchers_count'\n",
       "58. 'language'\n",
       "59. 'has_issues'\n",
       "60. 'has_projects'\n",
       "61. 'has_downloads'\n",
       "62. 'has_wiki'\n",
       "63. 'has_pages'\n",
       "64. 'forks_count'\n",
       "65. 'mirror_url'\n",
       "66. 'archived'\n",
       "67. 'open_issues_count'\n",
       "68. 'license'\n",
       "69. 'forks'\n",
       "70. 'open_issues'\n",
       "71. 'watchers'\n",
       "72. 'default_branch'\n",
       "\n",
       "\n"
      ],
      "text/plain": [
       " [1] \"id\"                \"node_id\"           \"name\"             \n",
       " [4] \"full_name\"         \"private\"           \"owner\"            \n",
       " [7] \"html_url\"          \"description\"       \"fork\"             \n",
       "[10] \"url\"               \"forks_url\"         \"keys_url\"         \n",
       "[13] \"collaborators_url\" \"teams_url\"         \"hooks_url\"        \n",
       "[16] \"issue_events_url\"  \"events_url\"        \"assignees_url\"    \n",
       "[19] \"branches_url\"      \"tags_url\"          \"blobs_url\"        \n",
       "[22] \"git_tags_url\"      \"git_refs_url\"      \"trees_url\"        \n",
       "[25] \"statuses_url\"      \"languages_url\"     \"stargazers_url\"   \n",
       "[28] \"contributors_url\"  \"subscribers_url\"   \"subscription_url\" \n",
       "[31] \"commits_url\"       \"git_commits_url\"   \"comments_url\"     \n",
       "[34] \"issue_comment_url\" \"contents_url\"      \"compare_url\"      \n",
       "[37] \"merges_url\"        \"archive_url\"       \"downloads_url\"    \n",
       "[40] \"issues_url\"        \"pulls_url\"         \"milestones_url\"   \n",
       "[43] \"notifications_url\" \"labels_url\"        \"releases_url\"     \n",
       "[46] \"deployments_url\"   \"created_at\"        \"updated_at\"       \n",
       "[49] \"pushed_at\"         \"git_url\"           \"ssh_url\"          \n",
       "[52] \"clone_url\"         \"svn_url\"           \"homepage\"         \n",
       "[55] \"size\"              \"stargazers_count\"  \"watchers_count\"   \n",
       "[58] \"language\"          \"has_issues\"        \"has_projects\"     \n",
       "[61] \"has_downloads\"     \"has_wiki\"          \"has_pages\"        \n",
       "[64] \"forks_count\"       \"mirror_url\"        \"archived\"         \n",
       "[67] \"open_issues_count\" \"license\"           \"forks\"            \n",
       "[70] \"open_issues\"       \"watchers\"          \"default_branch\"   "
      ]
     },
     "metadata": {},
     "output_type": "display_data"
    }
   ],
   "source": [
    "names(gitDF)"
   ]
  },
  {
   "cell_type": "code",
   "execution_count": 6,
   "metadata": {},
   "outputs": [
    {
     "data": {
      "text/html": [
       "<ol>\n",
       "\t<li>'2013-11-07T13:25:07Z'</li>\n",
       "</ol>\n"
      ],
      "text/latex": [
       "\\begin{enumerate}\n",
       "\\item '2013-11-07T13:25:07Z'\n",
       "\\end{enumerate}\n"
      ],
      "text/markdown": [
       "1. '2013-11-07T13:25:07Z'\n",
       "\n",
       "\n"
      ],
      "text/plain": [
       "[[1]]\n",
       "[1] \"2013-11-07T13:25:07Z\"\n"
      ]
     },
     "metadata": {},
     "output_type": "display_data"
    }
   ],
   "source": [
    "gitDF[gitDF$full_name == \"jtleek/datasharing\", \"created_at\"]"
   ]
  },
  {
   "cell_type": "code",
   "execution_count": null,
   "metadata": {},
   "outputs": [],
   "source": []
  },
  {
   "cell_type": "code",
   "execution_count": null,
   "metadata": {},
   "outputs": [],
   "source": []
  },
  {
   "cell_type": "code",
   "execution_count": null,
   "metadata": {},
   "outputs": [],
   "source": []
  },
  {
   "cell_type": "code",
   "execution_count": 8,
   "metadata": {},
   "outputs": [
    {
     "name": "stderr",
     "output_type": "stream",
     "text": [
      "also installing the dependencies 'gsubfn', 'proto', 'RSQLite', 'chron'\n",
      "\n",
      "Warning message:\n",
      "\"unable to access index for repository http://www.stats.ox.ac.uk/pub/RWin/bin/windows/contrib/3.5:\n",
      "  cannot open URL 'http://www.stats.ox.ac.uk/pub/RWin/bin/windows/contrib/3.5/PACKAGES'\""
     ]
    },
    {
     "name": "stdout",
     "output_type": "stream",
     "text": [
      "package 'gsubfn' successfully unpacked and MD5 sums checked\n",
      "package 'proto' successfully unpacked and MD5 sums checked\n",
      "package 'RSQLite' successfully unpacked and MD5 sums checked\n",
      "package 'chron' successfully unpacked and MD5 sums checked\n",
      "package 'sqldf' successfully unpacked and MD5 sums checked\n",
      "\n",
      "The downloaded binary packages are in\n",
      "\tC:\\Users\\asus-A9\\AppData\\Local\\Temp\\RtmpWO7yAx\\downloaded_packages\n"
     ]
    }
   ],
   "source": [
    "install.packages(\"sqldf\")"
   ]
  },
  {
   "cell_type": "code",
   "execution_count": 9,
   "metadata": {},
   "outputs": [
    {
     "data": {
      "text/html": [
       "'C:/Users/asus-A9/Anaconda3/envs/R_Env/lib/R'"
      ],
      "text/latex": [
       "'C:/Users/asus-A9/Anaconda3/envs/R\\_Env/lib/R'"
      ],
      "text/markdown": [
       "'C:/Users/asus-A9/Anaconda3/envs/R_Env/lib/R'"
      ],
      "text/plain": [
       "[1] \"C:/Users/asus-A9/Anaconda3/envs/R_Env/lib/R\""
      ]
     },
     "metadata": {},
     "output_type": "display_data"
    }
   ],
   "source": [
    "R.home()"
   ]
  },
  {
   "cell_type": "code",
   "execution_count": 12,
   "metadata": {},
   "outputs": [],
   "source": [
    "dest = './Data/AmericanCommunitySurvey.csv'\n",
    "url = \"https://d396qusza40orc.cloudfront.net/getdata%2Fdata%2Fss06pid.csv\"\n",
    "acs = download.file(url, destfile = dest)"
   ]
  },
  {
   "cell_type": "code",
   "execution_count": 11,
   "metadata": {},
   "outputs": [
    {
     "data": {
      "text/html": [
       "'C:/Users/asus-A9/Documents/GitHub/AnacondaWorkingSpace/R/DataScience Specialization'"
      ],
      "text/latex": [
       "'C:/Users/asus-A9/Documents/GitHub/AnacondaWorkingSpace/R/DataScience Specialization'"
      ],
      "text/markdown": [
       "'C:/Users/asus-A9/Documents/GitHub/AnacondaWorkingSpace/R/DataScience Specialization'"
      ],
      "text/plain": [
       "[1] \"C:/Users/asus-A9/Documents/GitHub/AnacondaWorkingSpace/R/DataScience Specialization\""
      ]
     },
     "metadata": {},
     "output_type": "display_data"
    }
   ],
   "source": [
    "getwd()"
   ]
  },
  {
   "cell_type": "code",
   "execution_count": null,
   "metadata": {},
   "outputs": [],
   "source": []
  }
 ],
 "metadata": {
  "kernelspec": {
   "display_name": "R",
   "language": "R",
   "name": "ir"
  },
  "language_info": {
   "codemirror_mode": "r",
   "file_extension": ".r",
   "mimetype": "text/x-r-source",
   "name": "R",
   "pygments_lexer": "r",
   "version": "3.5.1"
  }
 },
 "nbformat": 4,
 "nbformat_minor": 2
}
