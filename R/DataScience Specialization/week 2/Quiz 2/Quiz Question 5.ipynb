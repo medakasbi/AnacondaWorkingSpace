{
 "cells": [
  {
   "cell_type": "code",
   "execution_count": 7,
   "metadata": {},
   "outputs": [
    {
     "name": "stderr",
     "output_type": "stream",
     "text": [
      "\n",
      "Attaching package: 'dplyr'\n",
      "\n",
      "The following objects are masked from 'package:stats':\n",
      "\n",
      "    filter, lag\n",
      "\n",
      "The following objects are masked from 'package:base':\n",
      "\n",
      "    intersect, setdiff, setequal, union\n",
      "\n"
     ]
    }
   ],
   "source": [
    "library(dplyr)"
   ]
  },
  {
   "cell_type": "code",
   "execution_count": 1,
   "metadata": {},
   "outputs": [
    {
     "data": {
      "text/html": [
       "<ol class=list-inline>\n",
       "\t<li>'Quiz 2 question 2.ipynb'</li>\n",
       "\t<li>'Quiz 2 Question 4.ipynb'</li>\n",
       "\t<li>'Quiz 2.ipynb'</li>\n",
       "\t<li>'Quiz Question 5.ipynb'</li>\n",
       "</ol>\n"
      ],
      "text/latex": [
       "\\begin{enumerate*}\n",
       "\\item 'Quiz 2 question 2.ipynb'\n",
       "\\item 'Quiz 2 Question 4.ipynb'\n",
       "\\item 'Quiz 2.ipynb'\n",
       "\\item 'Quiz Question 5.ipynb'\n",
       "\\end{enumerate*}\n"
      ],
      "text/markdown": [
       "1. 'Quiz 2 question 2.ipynb'\n",
       "2. 'Quiz 2 Question 4.ipynb'\n",
       "3. 'Quiz 2.ipynb'\n",
       "4. 'Quiz Question 5.ipynb'\n",
       "\n",
       "\n"
      ],
      "text/plain": [
       "[1] \"Quiz 2 question 2.ipynb\" \"Quiz 2 Question 4.ipynb\"\n",
       "[3] \"Quiz 2.ipynb\"            \"Quiz Question 5.ipynb\"  "
      ]
     },
     "metadata": {},
     "output_type": "display_data"
    }
   ],
   "source": [
    "list.files('./')"
   ]
  },
  {
   "cell_type": "code",
   "execution_count": 2,
   "metadata": {},
   "outputs": [
    {
     "data": {
      "text/html": [
       "<ol class=list-inline>\n",
       "\t<li>'02_01_readingMySQL.pdf'</li>\n",
       "\t<li>'example.h5'</li>\n",
       "\t<li>'New Text Document.txt'</li>\n",
       "\t<li>'Quiz 2'</li>\n",
       "\t<li>'reading-from-mysql.ipynb'</li>\n",
       "\t<li>'Reading from API\\'S.ipynb'</li>\n",
       "\t<li>'Reading from HDF5 .ipynb'</li>\n",
       "\t<li>'Reading from MySQL.ipynb'</li>\n",
       "\t<li>'Reading from the web.ipynb'</li>\n",
       "\t<li>'readingFromAPIs.pdf'</li>\n",
       "\t<li>'readingFromOtherSources.pdf'</li>\n",
       "\t<li>'readingFromTheWeb.pdf'</li>\n",
       "</ol>\n"
      ],
      "text/latex": [
       "\\begin{enumerate*}\n",
       "\\item '02\\_01\\_readingMySQL.pdf'\n",
       "\\item 'example.h5'\n",
       "\\item 'New Text Document.txt'\n",
       "\\item 'Quiz 2'\n",
       "\\item 'reading-from-mysql.ipynb'\n",
       "\\item 'Reading from API\\textbackslash{}'S.ipynb'\n",
       "\\item 'Reading from HDF5 .ipynb'\n",
       "\\item 'Reading from MySQL.ipynb'\n",
       "\\item 'Reading from the web.ipynb'\n",
       "\\item 'readingFromAPIs.pdf'\n",
       "\\item 'readingFromOtherSources.pdf'\n",
       "\\item 'readingFromTheWeb.pdf'\n",
       "\\end{enumerate*}\n"
      ],
      "text/markdown": [
       "1. '02_01_readingMySQL.pdf'\n",
       "2. 'example.h5'\n",
       "3. 'New Text Document.txt'\n",
       "4. 'Quiz 2'\n",
       "5. 'reading-from-mysql.ipynb'\n",
       "6. 'Reading from API\\'S.ipynb'\n",
       "7. 'Reading from HDF5 .ipynb'\n",
       "8. 'Reading from MySQL.ipynb'\n",
       "9. 'Reading from the web.ipynb'\n",
       "10. 'readingFromAPIs.pdf'\n",
       "11. 'readingFromOtherSources.pdf'\n",
       "12. 'readingFromTheWeb.pdf'\n",
       "\n",
       "\n"
      ],
      "text/plain": [
       " [1] \"02_01_readingMySQL.pdf\"      \"example.h5\"                 \n",
       " [3] \"New Text Document.txt\"       \"Quiz 2\"                     \n",
       " [5] \"reading-from-mysql.ipynb\"    \"Reading from API'S.ipynb\"   \n",
       " [7] \"Reading from HDF5 .ipynb\"    \"Reading from MySQL.ipynb\"   \n",
       " [9] \"Reading from the web.ipynb\"  \"readingFromAPIs.pdf\"        \n",
       "[11] \"readingFromOtherSources.pdf\" \"readingFromTheWeb.pdf\"      "
      ]
     },
     "metadata": {},
     "output_type": "display_data"
    }
   ],
   "source": [
    "list.files('../')\n"
   ]
  },
  {
   "cell_type": "code",
   "execution_count": 3,
   "metadata": {},
   "outputs": [
    {
     "data": {
      "text/html": [
       "'C:/Users/asus-A9/Documents/GitHub/AnacondaWorkingSpace/R/DataScience Specialization/week 2/Quiz 2'"
      ],
      "text/latex": [
       "'C:/Users/asus-A9/Documents/GitHub/AnacondaWorkingSpace/R/DataScience Specialization/week 2/Quiz 2'"
      ],
      "text/markdown": [
       "'C:/Users/asus-A9/Documents/GitHub/AnacondaWorkingSpace/R/DataScience Specialization/week 2/Quiz 2'"
      ],
      "text/plain": [
       "[1] \"C:/Users/asus-A9/Documents/GitHub/AnacondaWorkingSpace/R/DataScience Specialization/week 2/Quiz 2\""
      ]
     },
     "metadata": {},
     "output_type": "display_data"
    }
   ],
   "source": [
    "getwd()"
   ]
  },
  {
   "cell_type": "code",
   "execution_count": 6,
   "metadata": {},
   "outputs": [],
   "source": [
    "data_dir = 'C:/Users/asus-A9/Documents/GitHub/AnacondaWorkingSpace/R/DataScience Specialization/Data'\n",
    "url = 'https://d396qusza40orc.cloudfront.net/getdata%2Fwksst8110.for'\n",
    "dest_file = file.path(data_dir, 'wkss8110.for')\n",
    "download.file(url, dest_file)"
   ]
  },
  {
   "cell_type": "code",
   "execution_count": 9,
   "metadata": {},
   "outputs": [],
   "source": [
    "dt = tbl_df(read.fwf(dest_file, widths = TRUE))"
   ]
  },
  {
   "cell_type": "code",
   "execution_count": 10,
   "metadata": {},
   "outputs": [
    {
     "data": {
      "text/html": [
       "<table>\n",
       "<thead><tr><th scope=col>V1</th></tr></thead>\n",
       "<tbody>\n",
       "\t<tr><td>NA</td></tr>\n",
       "\t<tr><td>NA</td></tr>\n",
       "\t<tr><td>NA</td></tr>\n",
       "\t<tr><td>NA</td></tr>\n",
       "\t<tr><td>NA</td></tr>\n",
       "\t<tr><td>NA</td></tr>\n",
       "</tbody>\n",
       "</table>\n"
      ],
      "text/latex": [
       "\\begin{tabular}{r|l}\n",
       " V1\\\\\n",
       "\\hline\n",
       "\t NA\\\\\n",
       "\t NA\\\\\n",
       "\t NA\\\\\n",
       "\t NA\\\\\n",
       "\t NA\\\\\n",
       "\t NA\\\\\n",
       "\\end{tabular}\n"
      ],
      "text/markdown": [
       "\n",
       "V1 | \n",
       "|---|---|---|---|---|---|\n",
       "| NA | \n",
       "| NA | \n",
       "| NA | \n",
       "| NA | \n",
       "| NA | \n",
       "| NA | \n",
       "\n",
       "\n"
      ],
      "text/plain": [
       "  V1\n",
       "1 NA\n",
       "2 NA\n",
       "3 NA\n",
       "4 NA\n",
       "5 NA\n",
       "6 NA"
      ]
     },
     "metadata": {},
     "output_type": "display_data"
    }
   ],
   "source": [
    "head(dt)"
   ]
  },
  {
   "cell_type": "code",
   "execution_count": null,
   "metadata": {},
   "outputs": [],
   "source": []
  },
  {
   "cell_type": "code",
   "execution_count": null,
   "metadata": {},
   "outputs": [],
   "source": []
  },
  {
   "cell_type": "code",
   "execution_count": 11,
   "metadata": {},
   "outputs": [
    {
     "data": {
      "text/html": [
       "32426.7"
      ],
      "text/latex": [
       "32426.7"
      ],
      "text/markdown": [
       "32426.7"
      ],
      "text/plain": [
       "[1] 32426.7"
      ]
     },
     "metadata": {},
     "output_type": "display_data"
    }
   ],
   "source": [
    "url <- \"https://d396qusza40orc.cloudfront.net/getdata%2Fwksst8110.for\"\n",
    "lines <- readLines(url, n = 10)\n",
    "w <- c(1, 9, 5, 4, 1, 3, 5, 4, 1, 3, 5, 4, 1, 3, 5, 4, 1, 3)\n",
    "colNames <- c(\"filler\", \"week\", \"filler\", \"sstNino12\", \"filler\", \"sstaNino12\", \n",
    "              \"filler\", \"sstNino3\", \"filler\", \"sstaNino3\", \"filler\", \"sstNino34\", \"filler\", \n",
    "              \"sstaNino34\", \"filler\", \"sstNino4\", \"filler\", \"sstaNino4\")\n",
    "d <- read.fwf(url, w, header = FALSE, skip = 4, col.names = colNames)\n",
    "d <- d[, grep(\"^[^filler]\", names(d))]\n",
    "sum(d[, 4])\n"
   ]
  },
  {
   "cell_type": "code",
   "execution_count": null,
   "metadata": {},
   "outputs": [],
   "source": []
  }
 ],
 "metadata": {
  "kernelspec": {
   "display_name": "R",
   "language": "R",
   "name": "ir"
  },
  "language_info": {
   "codemirror_mode": "r",
   "file_extension": ".r",
   "mimetype": "text/x-r-source",
   "name": "R",
   "pygments_lexer": "r",
   "version": "3.5.1"
  }
 },
 "nbformat": 4,
 "nbformat_minor": 2
}
