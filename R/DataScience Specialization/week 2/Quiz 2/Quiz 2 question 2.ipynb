{
 "cells": [
  {
   "cell_type": "markdown",
   "metadata": {},
   "source": [
    "## Question 2\n",
    "The sqldf package allows for execution of SQL commands on R data frames. We will use the sqldf package to practice the queries we might send with the dbSendQuery command in RMySQL. \n",
    "\n",
    "Download the American Community Survey data and load it into an R object called \n",
    "\n",
    "acs \n",
    "\n",
    "https://d396qusza40orc.cloudfront.net/getdata%2Fdata%2Fss06pid.csv \n",
    "\n",
    "Which of the following commands will select only the data for the probability weights pwgtp1 with ages less than 50? "
   ]
  },
  {
   "cell_type": "code",
   "execution_count": 17,
   "metadata": {},
   "outputs": [
    {
     "name": "stderr",
     "output_type": "stream",
     "text": [
      "Loading required package: DBI\n",
      "\n",
      "Attaching package: 'RMySQL'\n",
      "\n",
      "The following object is masked from 'package:RSQLite':\n",
      "\n",
      "    isIdCurrent\n",
      "\n"
     ]
    }
   ],
   "source": [
    "library(RMySQL)"
   ]
  },
  {
   "cell_type": "code",
   "execution_count": 1,
   "metadata": {},
   "outputs": [
    {
     "name": "stderr",
     "output_type": "stream",
     "text": [
      "Loading required package: gsubfn\n",
      "Loading required package: proto\n",
      "Loading required package: RSQLite\n"
     ]
    }
   ],
   "source": [
    "library(\"sqldf\")"
   ]
  },
  {
   "cell_type": "code",
   "execution_count": 15,
   "metadata": {},
   "outputs": [],
   "source": [
    "library(data.table)\n",
    "\n",
    "url <- \"https://d396qusza40orc.cloudfront.net/getdata%2Fdata%2Fss06pid.csv\"\n",
    "data_directory = 'C:/Users/asus-A9/Documents/GitHub/AnacondaWorkingSpace/R/DataScience Specialization/Data'\n",
    "\n",
    "dest <- file.path(data_directory, \"ss0pid.csv\")"
   ]
  },
  {
   "cell_type": "code",
   "execution_count": 16,
   "metadata": {},
   "outputs": [],
   "source": [
    "download.file(url, dest)\n",
    "acs <- data.table(read.csv(dest))"
   ]
  },
  {
   "cell_type": "code",
   "execution_count": 18,
   "metadata": {},
   "outputs": [
    {
     "data": {
      "text/html": [
       "<table>\n",
       "<thead><tr><th scope=col>RT</th><th scope=col>SERIALNO</th><th scope=col>SPORDER</th><th scope=col>PUMA</th><th scope=col>ST</th><th scope=col>ADJUST</th><th scope=col>PWGTP</th><th scope=col>AGEP</th><th scope=col>CIT</th><th scope=col>COW</th><th scope=col>...</th><th scope=col>pwgtp71</th><th scope=col>pwgtp72</th><th scope=col>pwgtp73</th><th scope=col>pwgtp74</th><th scope=col>pwgtp75</th><th scope=col>pwgtp76</th><th scope=col>pwgtp77</th><th scope=col>pwgtp78</th><th scope=col>pwgtp79</th><th scope=col>pwgtp80</th></tr></thead>\n",
       "<tbody>\n",
       "\t<tr><td>P      </td><td>186    </td><td>1      </td><td>700    </td><td>16     </td><td>1015675</td><td> 89    </td><td>43     </td><td>1      </td><td> 7     </td><td>...    </td><td> 82    </td><td> 27    </td><td> 92    </td><td>150    </td><td> 28    </td><td> 78    </td><td> 25    </td><td> 99    </td><td>159    </td><td>129    </td></tr>\n",
       "\t<tr><td>P      </td><td>186    </td><td>2      </td><td>700    </td><td>16     </td><td>1015675</td><td> 92    </td><td>42     </td><td>1      </td><td> 4     </td><td>...    </td><td> 84    </td><td> 26    </td><td> 90    </td><td>159    </td><td> 30    </td><td> 87    </td><td> 27    </td><td> 98    </td><td>167    </td><td>131    </td></tr>\n",
       "\t<tr><td>P      </td><td>186    </td><td>3      </td><td>700    </td><td>16     </td><td>1015675</td><td>107    </td><td>16     </td><td>1      </td><td> 1     </td><td>...    </td><td> 90    </td><td> 28    </td><td> 92    </td><td>177    </td><td> 33    </td><td>105    </td><td> 30    </td><td>104    </td><td>206    </td><td>156    </td></tr>\n",
       "\t<tr><td>P      </td><td>186    </td><td>4      </td><td>700    </td><td>16     </td><td>1015675</td><td> 91    </td><td>14     </td><td>1      </td><td>NA     </td><td>...    </td><td> 81    </td><td> 28    </td><td> 94    </td><td>164    </td><td> 29    </td><td> 88    </td><td> 27    </td><td>104    </td><td>156    </td><td>138    </td></tr>\n",
       "\t<tr><td>P      </td><td>306    </td><td>1      </td><td>700    </td><td>16     </td><td>1015675</td><td>309    </td><td>29     </td><td>1      </td><td> 5     </td><td>...    </td><td>294    </td><td>400    </td><td> 80    </td><td>489    </td><td>340    </td><td>491    </td><td>612    </td><td>282    </td><td>462    </td><td>259    </td></tr>\n",
       "\t<tr><td>P      </td><td>395    </td><td>1      </td><td>100    </td><td>16     </td><td>1015675</td><td>108    </td><td>40     </td><td>1      </td><td> 8     </td><td>...    </td><td>123    </td><td>119    </td><td>171    </td><td>108    </td><td> 97    </td><td>104    </td><td> 31    </td><td>127    </td><td>108    </td><td> 31    </td></tr>\n",
       "</tbody>\n",
       "</table>\n"
      ],
      "text/latex": [
       "\\begin{tabular}{r|lllllllllllllllllllllllllllllllllllllllllllllllllllllllllllllllllllllllllllllllllllllllllllllllllllllllllllllllllllllllllllllllllllllllllllllllllllllllllllllllllllllllllllllllllllllllllllllllllllllllllllllllllllllllllllllllllllllllllllllll}\n",
       " RT & SERIALNO & SPORDER & PUMA & ST & ADJUST & PWGTP & AGEP & CIT & COW & ... & pwgtp71 & pwgtp72 & pwgtp73 & pwgtp74 & pwgtp75 & pwgtp76 & pwgtp77 & pwgtp78 & pwgtp79 & pwgtp80\\\\\n",
       "\\hline\n",
       "\t P       & 186     & 1       & 700     & 16      & 1015675 &  89     & 43      & 1       &  7      & ...     &  82     &  27     &  92     & 150     &  28     &  78     &  25     &  99     & 159     & 129    \\\\\n",
       "\t P       & 186     & 2       & 700     & 16      & 1015675 &  92     & 42      & 1       &  4      & ...     &  84     &  26     &  90     & 159     &  30     &  87     &  27     &  98     & 167     & 131    \\\\\n",
       "\t P       & 186     & 3       & 700     & 16      & 1015675 & 107     & 16      & 1       &  1      & ...     &  90     &  28     &  92     & 177     &  33     & 105     &  30     & 104     & 206     & 156    \\\\\n",
       "\t P       & 186     & 4       & 700     & 16      & 1015675 &  91     & 14      & 1       & NA      & ...     &  81     &  28     &  94     & 164     &  29     &  88     &  27     & 104     & 156     & 138    \\\\\n",
       "\t P       & 306     & 1       & 700     & 16      & 1015675 & 309     & 29      & 1       &  5      & ...     & 294     & 400     &  80     & 489     & 340     & 491     & 612     & 282     & 462     & 259    \\\\\n",
       "\t P       & 395     & 1       & 100     & 16      & 1015675 & 108     & 40      & 1       &  8      & ...     & 123     & 119     & 171     & 108     &  97     & 104     &  31     & 127     & 108     &  31    \\\\\n",
       "\\end{tabular}\n"
      ],
      "text/markdown": [
       "\n",
       "RT | SERIALNO | SPORDER | PUMA | ST | ADJUST | PWGTP | AGEP | CIT | COW | ... | pwgtp71 | pwgtp72 | pwgtp73 | pwgtp74 | pwgtp75 | pwgtp76 | pwgtp77 | pwgtp78 | pwgtp79 | pwgtp80 | \n",
       "|---|---|---|---|---|---|\n",
       "| P       | 186     | 1       | 700     | 16      | 1015675 |  89     | 43      | 1       |  7      | ...     |  82     |  27     |  92     | 150     |  28     |  78     |  25     |  99     | 159     | 129     | \n",
       "| P       | 186     | 2       | 700     | 16      | 1015675 |  92     | 42      | 1       |  4      | ...     |  84     |  26     |  90     | 159     |  30     |  87     |  27     |  98     | 167     | 131     | \n",
       "| P       | 186     | 3       | 700     | 16      | 1015675 | 107     | 16      | 1       |  1      | ...     |  90     |  28     |  92     | 177     |  33     | 105     |  30     | 104     | 206     | 156     | \n",
       "| P       | 186     | 4       | 700     | 16      | 1015675 |  91     | 14      | 1       | NA      | ...     |  81     |  28     |  94     | 164     |  29     |  88     |  27     | 104     | 156     | 138     | \n",
       "| P       | 306     | 1       | 700     | 16      | 1015675 | 309     | 29      | 1       |  5      | ...     | 294     | 400     |  80     | 489     | 340     | 491     | 612     | 282     | 462     | 259     | \n",
       "| P       | 395     | 1       | 100     | 16      | 1015675 | 108     | 40      | 1       |  8      | ...     | 123     | 119     | 171     | 108     |  97     | 104     |  31     | 127     | 108     |  31     | \n",
       "\n",
       "\n"
      ],
      "text/plain": [
       "  RT SERIALNO SPORDER PUMA ST ADJUST  PWGTP AGEP CIT COW ... pwgtp71 pwgtp72\n",
       "1 P  186      1       700  16 1015675  89   43   1    7  ...  82      27    \n",
       "2 P  186      2       700  16 1015675  92   42   1    4  ...  84      26    \n",
       "3 P  186      3       700  16 1015675 107   16   1    1  ...  90      28    \n",
       "4 P  186      4       700  16 1015675  91   14   1   NA  ...  81      28    \n",
       "5 P  306      1       700  16 1015675 309   29   1    5  ... 294     400    \n",
       "6 P  395      1       100  16 1015675 108   40   1    8  ... 123     119    \n",
       "  pwgtp73 pwgtp74 pwgtp75 pwgtp76 pwgtp77 pwgtp78 pwgtp79 pwgtp80\n",
       "1  92     150      28      78      25      99     159     129    \n",
       "2  90     159      30      87      27      98     167     131    \n",
       "3  92     177      33     105      30     104     206     156    \n",
       "4  94     164      29      88      27     104     156     138    \n",
       "5  80     489     340     491     612     282     462     259    \n",
       "6 171     108      97     104      31     127     108      31    "
      ]
     },
     "metadata": {},
     "output_type": "display_data"
    }
   ],
   "source": [
    "head(acs)"
   ]
  },
  {
   "cell_type": "code",
   "execution_count": 19,
   "metadata": {},
   "outputs": [
    {
     "data": {
      "text/html": [
       "<ol class=list-inline>\n",
       "\t<li>14931</li>\n",
       "\t<li>239</li>\n",
       "</ol>\n"
      ],
      "text/latex": [
       "\\begin{enumerate*}\n",
       "\\item 14931\n",
       "\\item 239\n",
       "\\end{enumerate*}\n"
      ],
      "text/markdown": [
       "1. 14931\n",
       "2. 239\n",
       "\n",
       "\n"
      ],
      "text/plain": [
       "[1] 14931   239"
      ]
     },
     "metadata": {},
     "output_type": "display_data"
    }
   ],
   "source": [
    "dim(acs)"
   ]
  },
  {
   "cell_type": "code",
   "execution_count": 20,
   "metadata": {},
   "outputs": [],
   "source": []
  },
  {
   "cell_type": "code",
   "execution_count": null,
   "metadata": {},
   "outputs": [],
   "source": []
  }
 ],
 "metadata": {
  "kernelspec": {
   "display_name": "R",
   "language": "R",
   "name": "ir"
  },
  "language_info": {
   "codemirror_mode": "r",
   "file_extension": ".r",
   "mimetype": "text/x-r-source",
   "name": "R",
   "pygments_lexer": "r",
   "version": "3.5.1"
  }
 },
 "nbformat": 4,
 "nbformat_minor": 2
}
