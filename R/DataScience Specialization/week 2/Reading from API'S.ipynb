{
 "cells": [
  {
   "cell_type": "code",
   "execution_count": 1,
   "metadata": {},
   "outputs": [],
   "source": [
    "library(httr)"
   ]
  },
  {
   "cell_type": "code",
   "execution_count": 16,
   "metadata": {},
   "outputs": [],
   "source": [
    "myapp = oauth_app('twitter', \n",
    "                  key = \"Lgld2fSsbiubicdBMEnkCkQrV\", \n",
    "                  secret = \"uLKxPgbpskwYx2xAbVMxXqV35aVkfo8rmYjdD7trTKcQKz5kD0\")\n",
    "\n",
    "sig = sign_oauth1.0(myapp,\n",
    "                    token= \"2269112941-wIgtgtgBg7QP0KpDIzAd5ZtwIYKPUcWD4cGDJBB\",\n",
    "                    token_secret = \"GrXARE0fJhvXxUKmINNg3zfrXomrfytAdlhi3shj1AtS2\")\n",
    "homeTL = GET('https://api.twitter.com/1.1/statuses/home_timeline.json', sig)"
   ]
  },
  {
   "cell_type": "code",
   "execution_count": 17,
   "metadata": {},
   "outputs": [
    {
     "data": {
      "text/html": [
       "'response'"
      ],
      "text/latex": [
       "'response'"
      ],
      "text/markdown": [
       "'response'"
      ],
      "text/plain": [
       "[1] \"response\""
      ]
     },
     "metadata": {},
     "output_type": "display_data"
    }
   ],
   "source": [
    "class(homeTL)"
   ]
  },
  {
   "cell_type": "code",
   "execution_count": 20,
   "metadata": {},
   "outputs": [
    {
     "data": {
      "text/html": [
       "<table>\n",
       "<thead><tr><th scope=col>created_at</th><th scope=col>id</th><th scope=col>id_str</th><th scope=col>text</th></tr></thead>\n",
       "<tbody>\n",
       "\t<tr><td>Fri Dec 21 07:33:51 +0000 2018                                                                                                     </td><td>1.076018e+18                                                                                                                       </td><td>1076017890468347904                                                                                                                </td><td>Efficient and scalable data structures and algorithms for goal-oriented adaptivity of space-time FEM codes. https://t.co/4YUNo1XRkO</td></tr>\n",
       "</tbody>\n",
       "</table>\n"
      ],
      "text/latex": [
       "\\begin{tabular}{r|llll}\n",
       " created\\_at & id & id\\_str & text\\\\\n",
       "\\hline\n",
       "\t Fri Dec 21 07:33:51 +0000 2018                                                                                                      & 1.076018e+18                                                                                                                        & 1076017890468347904                                                                                                                 & Efficient and scalable data structures and algorithms for goal-oriented adaptivity of space-time FEM codes. https://t.co/4YUNo1XRkO\\\\\n",
       "\\end{tabular}\n"
      ],
      "text/markdown": [
       "\n",
       "created_at | id | id_str | text | \n",
       "|---|\n",
       "| Fri Dec 21 07:33:51 +0000 2018                                                                                                      | 1.076018e+18                                                                                                                        | 1076017890468347904                                                                                                                 | Efficient and scalable data structures and algorithms for goal-oriented adaptivity of space-time FEM codes. https://t.co/4YUNo1XRkO | \n",
       "\n",
       "\n"
      ],
      "text/plain": [
       "  created_at                     id           id_str             \n",
       "1 Fri Dec 21 07:33:51 +0000 2018 1.076018e+18 1076017890468347904\n",
       "  text                                                                                                                               \n",
       "1 Efficient and scalable data structures and algorithms for goal-oriented adaptivity of space-time FEM codes. https://t.co/4YUNo1XRkO"
      ]
     },
     "metadata": {},
     "output_type": "display_data"
    }
   ],
   "source": [
    "library(jsonlite)\n",
    "json1 = content(homeTL)\n",
    "json2 = fromJSON(toJSON(json1))\n",
    "json2[1, 1:4]"
   ]
  },
  {
   "cell_type": "code",
   "execution_count": null,
   "metadata": {},
   "outputs": [],
   "source": []
  }
 ],
 "metadata": {
  "kernelspec": {
   "display_name": "R",
   "language": "R",
   "name": "ir"
  },
  "language_info": {
   "codemirror_mode": "r",
   "file_extension": ".r",
   "mimetype": "text/x-r-source",
   "name": "R",
   "pygments_lexer": "r",
   "version": "3.5.1"
  }
 },
 "nbformat": 4,
 "nbformat_minor": 2
}
