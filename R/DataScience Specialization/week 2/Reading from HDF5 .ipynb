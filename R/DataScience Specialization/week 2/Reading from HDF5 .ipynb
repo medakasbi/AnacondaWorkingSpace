{
 "cells": [
  {
   "cell_type": "code",
   "execution_count": 1,
   "metadata": {
    "scrolled": true
   },
   "outputs": [],
   "source": [
    "# source(\"http://bioconductor.org/biocLite.R\")\n",
    "# biocLite(\"rhdf5\")"
   ]
  },
  {
   "cell_type": "code",
   "execution_count": 2,
   "metadata": {},
   "outputs": [],
   "source": [
    "library(rhdf5)\n",
    "# created = h5cr"
   ]
  },
  {
   "cell_type": "code",
   "execution_count": 3,
   "metadata": {},
   "outputs": [
    {
     "data": {
      "text/html": [
       "TRUE"
      ],
      "text/latex": [
       "TRUE"
      ],
      "text/markdown": [
       "TRUE"
      ],
      "text/plain": [
       "[1] TRUE"
      ]
     },
     "metadata": {},
     "output_type": "display_data"
    }
   ],
   "source": [
    "created = h5createFile(\"example.h5\")\n",
    "created"
   ]
  },
  {
   "cell_type": "code",
   "execution_count": 6,
   "metadata": {},
   "outputs": [
    {
     "name": "stderr",
     "output_type": "stream",
     "text": [
      "Can not create group. Object with name 'foo' already exists.\n",
      "Can not create group. Object with name 'baa' already exists.\n",
      "Can not create group. Object with name 'foo/foobaa' already exists.\n"
     ]
    },
    {
     "data": {
      "text/html": [
       "<table>\n",
       "<thead><tr><th></th><th scope=col>group</th><th scope=col>name</th><th scope=col>otype</th><th scope=col>dclass</th><th scope=col>dim</th></tr></thead>\n",
       "<tbody>\n",
       "\t<tr><th scope=row>0</th><td>/        </td><td>baa      </td><td>H5I_GROUP</td><td>         </td><td>         </td></tr>\n",
       "\t<tr><th scope=row>1</th><td>/        </td><td>foo      </td><td>H5I_GROUP</td><td>         </td><td>         </td></tr>\n",
       "\t<tr><th scope=row>2</th><td>/foo     </td><td>foobaa   </td><td>H5I_GROUP</td><td>         </td><td>         </td></tr>\n",
       "</tbody>\n",
       "</table>\n"
      ],
      "text/latex": [
       "\\begin{tabular}{r|lllll}\n",
       "  & group & name & otype & dclass & dim\\\\\n",
       "\\hline\n",
       "\t0 & /           & baa         & H5I\\_GROUP &             &            \\\\\n",
       "\t1 & /           & foo         & H5I\\_GROUP &             &            \\\\\n",
       "\t2 & /foo        & foobaa      & H5I\\_GROUP &             &            \\\\\n",
       "\\end{tabular}\n"
      ],
      "text/markdown": [
       "\n",
       "| <!--/--> | group | name | otype | dclass | dim | \n",
       "|---|---|---|\n",
       "| 0 | /         | baa       | H5I_GROUP |           |           | \n",
       "| 1 | /         | foo       | H5I_GROUP |           |           | \n",
       "| 2 | /foo      | foobaa    | H5I_GROUP |           |           | \n",
       "\n",
       "\n"
      ],
      "text/plain": [
       "  group name   otype     dclass dim\n",
       "0 /     baa    H5I_GROUP           \n",
       "1 /     foo    H5I_GROUP           \n",
       "2 /foo  foobaa H5I_GROUP           "
      ]
     },
     "metadata": {},
     "output_type": "display_data"
    }
   ],
   "source": [
    "created = h5createGroup('example.h5', 'foo')\n",
    "created = h5createGroup('example.h5', 'baa')\n",
    "created = h5createGroup('example.h5', 'foo/foobaa')\n",
    "h5ls(\"example.h5\")"
   ]
  },
  {
   "cell_type": "code",
   "execution_count": 8,
   "metadata": {},
   "outputs": [
    {
     "data": {
      "text/html": [
       "<table>\n",
       "<thead><tr><th></th><th scope=col>group</th><th scope=col>name</th><th scope=col>otype</th><th scope=col>dclass</th><th scope=col>dim</th></tr></thead>\n",
       "<tbody>\n",
       "\t<tr><th scope=row>0</th><td>/          </td><td>baa        </td><td>H5I_GROUP  </td><td>           </td><td>           </td></tr>\n",
       "\t<tr><th scope=row>1</th><td>/          </td><td>foo        </td><td>H5I_GROUP  </td><td>           </td><td>           </td></tr>\n",
       "\t<tr><th scope=row>2</th><td>/foo       </td><td>A          </td><td>H5I_DATASET</td><td>INTEGER    </td><td>5 x 2      </td></tr>\n",
       "\t<tr><th scope=row>3</th><td>/foo       </td><td>baa        </td><td>H5I_DATASET</td><td>INTEGER    </td><td>5 x 2      </td></tr>\n",
       "\t<tr><th scope=row>4</th><td>/foo       </td><td>foobaa     </td><td>H5I_GROUP  </td><td>           </td><td>           </td></tr>\n",
       "\t<tr><th scope=row>5</th><td>/foo/foobaa</td><td>B          </td><td>H5I_DATASET</td><td>FLOAT      </td><td>5 x 2 x 2  </td></tr>\n",
       "</tbody>\n",
       "</table>\n"
      ],
      "text/latex": [
       "\\begin{tabular}{r|lllll}\n",
       "  & group & name & otype & dclass & dim\\\\\n",
       "\\hline\n",
       "\t0 & /             & baa           & H5I\\_GROUP   &               &              \\\\\n",
       "\t1 & /             & foo           & H5I\\_GROUP   &               &              \\\\\n",
       "\t2 & /foo          & A             & H5I\\_DATASET & INTEGER       & 5 x 2        \\\\\n",
       "\t3 & /foo          & baa           & H5I\\_DATASET & INTEGER       & 5 x 2        \\\\\n",
       "\t4 & /foo          & foobaa        & H5I\\_GROUP   &               &              \\\\\n",
       "\t5 & /foo/foobaa   & B             & H5I\\_DATASET & FLOAT         & 5 x 2 x 2    \\\\\n",
       "\\end{tabular}\n"
      ],
      "text/markdown": [
       "\n",
       "| <!--/--> | group | name | otype | dclass | dim | \n",
       "|---|---|---|---|---|---|\n",
       "| 0 | /           | baa         | H5I_GROUP   |             |             | \n",
       "| 1 | /           | foo         | H5I_GROUP   |             |             | \n",
       "| 2 | /foo        | A           | H5I_DATASET | INTEGER     | 5 x 2       | \n",
       "| 3 | /foo        | baa         | H5I_DATASET | INTEGER     | 5 x 2       | \n",
       "| 4 | /foo        | foobaa      | H5I_GROUP   |             |             | \n",
       "| 5 | /foo/foobaa | B           | H5I_DATASET | FLOAT       | 5 x 2 x 2   | \n",
       "\n",
       "\n"
      ],
      "text/plain": [
       "  group       name   otype       dclass  dim      \n",
       "0 /           baa    H5I_GROUP                    \n",
       "1 /           foo    H5I_GROUP                    \n",
       "2 /foo        A      H5I_DATASET INTEGER 5 x 2    \n",
       "3 /foo        baa    H5I_DATASET INTEGER 5 x 2    \n",
       "4 /foo        foobaa H5I_GROUP                    \n",
       "5 /foo/foobaa B      H5I_DATASET FLOAT   5 x 2 x 2"
      ]
     },
     "metadata": {},
     "output_type": "display_data"
    }
   ],
   "source": [
    "A = matrix(1:10, nr=5, nc=2)\n",
    "h5write(A, \"example.h5\", 'foo/A')\n",
    "B = array(seq(0.1, 2.0, by=0.1), dim = c(5, 2, 2))\n",
    "attr(B, \"scale\") <- \"liter\"\n",
    "h5write(B, \"example.h5\", \"foo/foobaa/B\")\n",
    "h5ls(\"example.h5\")"
   ]
  },
  {
   "cell_type": "code",
   "execution_count": 9,
   "metadata": {},
   "outputs": [
    {
     "data": {
      "text/html": [
       "<table>\n",
       "<thead><tr><th></th><th scope=col>group</th><th scope=col>name</th><th scope=col>otype</th><th scope=col>dclass</th><th scope=col>dim</th></tr></thead>\n",
       "<tbody>\n",
       "\t<tr><th scope=row>0</th><td>/          </td><td>baa        </td><td>H5I_GROUP  </td><td>           </td><td>           </td></tr>\n",
       "\t<tr><th scope=row>1</th><td>/          </td><td>df         </td><td>H5I_DATASET</td><td>COMPOUND   </td><td>5          </td></tr>\n",
       "\t<tr><th scope=row>2</th><td>/          </td><td>foo        </td><td>H5I_GROUP  </td><td>           </td><td>           </td></tr>\n",
       "\t<tr><th scope=row>3</th><td>/foo       </td><td>A          </td><td>H5I_DATASET</td><td>INTEGER    </td><td>5 x 2      </td></tr>\n",
       "\t<tr><th scope=row>4</th><td>/foo       </td><td>baa        </td><td>H5I_DATASET</td><td>INTEGER    </td><td>5 x 2      </td></tr>\n",
       "\t<tr><th scope=row>5</th><td>/foo       </td><td>foobaa     </td><td>H5I_GROUP  </td><td>           </td><td>           </td></tr>\n",
       "\t<tr><th scope=row>6</th><td>/foo/foobaa</td><td>B          </td><td>H5I_DATASET</td><td>FLOAT      </td><td>5 x 2 x 2  </td></tr>\n",
       "</tbody>\n",
       "</table>\n"
      ],
      "text/latex": [
       "\\begin{tabular}{r|lllll}\n",
       "  & group & name & otype & dclass & dim\\\\\n",
       "\\hline\n",
       "\t0 & /             & baa           & H5I\\_GROUP   &               &              \\\\\n",
       "\t1 & /             & df            & H5I\\_DATASET & COMPOUND      & 5            \\\\\n",
       "\t2 & /             & foo           & H5I\\_GROUP   &               &              \\\\\n",
       "\t3 & /foo          & A             & H5I\\_DATASET & INTEGER       & 5 x 2        \\\\\n",
       "\t4 & /foo          & baa           & H5I\\_DATASET & INTEGER       & 5 x 2        \\\\\n",
       "\t5 & /foo          & foobaa        & H5I\\_GROUP   &               &              \\\\\n",
       "\t6 & /foo/foobaa   & B             & H5I\\_DATASET & FLOAT         & 5 x 2 x 2    \\\\\n",
       "\\end{tabular}\n"
      ],
      "text/markdown": [
       "\n",
       "| <!--/--> | group | name | otype | dclass | dim | \n",
       "|---|---|---|---|---|---|---|\n",
       "| 0 | /           | baa         | H5I_GROUP   |             |             | \n",
       "| 1 | /           | df          | H5I_DATASET | COMPOUND    | 5           | \n",
       "| 2 | /           | foo         | H5I_GROUP   |             |             | \n",
       "| 3 | /foo        | A           | H5I_DATASET | INTEGER     | 5 x 2       | \n",
       "| 4 | /foo        | baa         | H5I_DATASET | INTEGER     | 5 x 2       | \n",
       "| 5 | /foo        | foobaa      | H5I_GROUP   |             |             | \n",
       "| 6 | /foo/foobaa | B           | H5I_DATASET | FLOAT       | 5 x 2 x 2   | \n",
       "\n",
       "\n"
      ],
      "text/plain": [
       "  group       name   otype       dclass   dim      \n",
       "0 /           baa    H5I_GROUP                     \n",
       "1 /           df     H5I_DATASET COMPOUND 5        \n",
       "2 /           foo    H5I_GROUP                     \n",
       "3 /foo        A      H5I_DATASET INTEGER  5 x 2    \n",
       "4 /foo        baa    H5I_DATASET INTEGER  5 x 2    \n",
       "5 /foo        foobaa H5I_GROUP                     \n",
       "6 /foo/foobaa B      H5I_DATASET FLOAT    5 x 2 x 2"
      ]
     },
     "metadata": {},
     "output_type": "display_data"
    }
   ],
   "source": [
    "df = data.frame(1L:5L, \n",
    "                seq(0, 1, length.out = 5),\n",
    "                c('ab', 'cde', 'fghi', 'a', 's'), \n",
    "                stringsAsFactors=FALSE)\n",
    "h5write(df, \"example.h5\", \"df\")\n",
    "h5ls(\"example.h5\")"
   ]
  },
  {
   "cell_type": "code",
   "execution_count": 10,
   "metadata": {},
   "outputs": [],
   "source": [
    "readA = h5read(\"example.h5\", 'foo/A')\n",
    "readB = h5read(\"example.h5\", 'foo/foobaa/B')\n",
    "readdf = h5read(\"example.h5\", 'df')\n"
   ]
  },
  {
   "cell_type": "code",
   "execution_count": 11,
   "metadata": {},
   "outputs": [
    {
     "data": {
      "text/html": [
       "<table>\n",
       "<tbody>\n",
       "\t<tr><td>1 </td><td> 6</td></tr>\n",
       "\t<tr><td>2 </td><td> 7</td></tr>\n",
       "\t<tr><td>3 </td><td> 8</td></tr>\n",
       "\t<tr><td>4 </td><td> 9</td></tr>\n",
       "\t<tr><td>5 </td><td>10</td></tr>\n",
       "</tbody>\n",
       "</table>\n"
      ],
      "text/latex": [
       "\\begin{tabular}{ll}\n",
       "\t 1  &  6\\\\\n",
       "\t 2  &  7\\\\\n",
       "\t 3  &  8\\\\\n",
       "\t 4  &  9\\\\\n",
       "\t 5  & 10\\\\\n",
       "\\end{tabular}\n"
      ],
      "text/markdown": [
       "\n",
       "| 1  |  6 | \n",
       "| 2  |  7 | \n",
       "| 3  |  8 | \n",
       "| 4  |  9 | \n",
       "| 5  | 10 | \n",
       "\n",
       "\n"
      ],
      "text/plain": [
       "     [,1] [,2]\n",
       "[1,] 1     6  \n",
       "[2,] 2     7  \n",
       "[3,] 3     8  \n",
       "[4,] 4     9  \n",
       "[5,] 5    10  "
      ]
     },
     "metadata": {},
     "output_type": "display_data"
    }
   ],
   "source": [
    "readA"
   ]
  },
  {
   "cell_type": "code",
   "execution_count": 12,
   "metadata": {},
   "outputs": [
    {
     "data": {
      "text/html": [
       "<table>\n",
       "<tbody>\n",
       "\t<tr><td>12</td><td> 6</td></tr>\n",
       "\t<tr><td>13</td><td> 7</td></tr>\n",
       "\t<tr><td>14</td><td> 8</td></tr>\n",
       "\t<tr><td> 4</td><td> 9</td></tr>\n",
       "\t<tr><td> 5</td><td>10</td></tr>\n",
       "</tbody>\n",
       "</table>\n"
      ],
      "text/latex": [
       "\\begin{tabular}{ll}\n",
       "\t 12 &  6\\\\\n",
       "\t 13 &  7\\\\\n",
       "\t 14 &  8\\\\\n",
       "\t  4 &  9\\\\\n",
       "\t  5 & 10\\\\\n",
       "\\end{tabular}\n"
      ],
      "text/markdown": [
       "\n",
       "| 12 |  6 | \n",
       "| 13 |  7 | \n",
       "| 14 |  8 | \n",
       "|  4 |  9 | \n",
       "|  5 | 10 | \n",
       "\n",
       "\n"
      ],
      "text/plain": [
       "     [,1] [,2]\n",
       "[1,] 12    6  \n",
       "[2,] 13    7  \n",
       "[3,] 14    8  \n",
       "[4,]  4    9  \n",
       "[5,]  5   10  "
      ]
     },
     "metadata": {},
     "output_type": "display_data"
    }
   ],
   "source": [
    "h5write(c(12, 13, 14), 'example.h5', 'foo/A', index=list(1:3, 1))\n",
    "h5read(\"example.h5\", 'foo/A')"
   ]
  },
  {
   "cell_type": "code",
   "execution_count": 13,
   "metadata": {},
   "outputs": [
    {
     "data": {
      "text/html": [
       "<table>\n",
       "<tbody>\n",
       "\t<tr><td>12</td><td> 6</td></tr>\n",
       "\t<tr><td>13</td><td> 7</td></tr>\n",
       "\t<tr><td>14</td><td>12</td></tr>\n",
       "\t<tr><td> 4</td><td>13</td></tr>\n",
       "\t<tr><td> 5</td><td>14</td></tr>\n",
       "</tbody>\n",
       "</table>\n"
      ],
      "text/latex": [
       "\\begin{tabular}{ll}\n",
       "\t 12 &  6\\\\\n",
       "\t 13 &  7\\\\\n",
       "\t 14 & 12\\\\\n",
       "\t  4 & 13\\\\\n",
       "\t  5 & 14\\\\\n",
       "\\end{tabular}\n"
      ],
      "text/markdown": [
       "\n",
       "| 12 |  6 | \n",
       "| 13 |  7 | \n",
       "| 14 | 12 | \n",
       "|  4 | 13 | \n",
       "|  5 | 14 | \n",
       "\n",
       "\n"
      ],
      "text/plain": [
       "     [,1] [,2]\n",
       "[1,] 12    6  \n",
       "[2,] 13    7  \n",
       "[3,] 14   12  \n",
       "[4,]  4   13  \n",
       "[5,]  5   14  "
      ]
     },
     "metadata": {},
     "output_type": "display_data"
    }
   ],
   "source": [
    "h5write(c(12, 13, 14), 'example.h5', 'foo/A', index=list(3:5, 2))\n",
    "h5read(\"example.h5\", 'foo/A')"
   ]
  },
  {
   "cell_type": "code",
   "execution_count": 14,
   "metadata": {},
   "outputs": [
    {
     "data": {
      "text/html": [
       "<table>\n",
       "<tbody>\n",
       "\t<tr><td>12</td><td> 6</td></tr>\n",
       "\t<tr><td>13</td><td> 7</td></tr>\n",
       "\t<tr><td>14</td><td>12</td></tr>\n",
       "\t<tr><td> 4</td><td>13</td></tr>\n",
       "\t<tr><td> 5</td><td>14</td></tr>\n",
       "</tbody>\n",
       "</table>\n"
      ],
      "text/latex": [
       "\\begin{tabular}{ll}\n",
       "\t 12 &  6\\\\\n",
       "\t 13 &  7\\\\\n",
       "\t 14 & 12\\\\\n",
       "\t  4 & 13\\\\\n",
       "\t  5 & 14\\\\\n",
       "\\end{tabular}\n"
      ],
      "text/markdown": [
       "\n",
       "| 12 |  6 | \n",
       "| 13 |  7 | \n",
       "| 14 | 12 | \n",
       "|  4 | 13 | \n",
       "|  5 | 14 | \n",
       "\n",
       "\n"
      ],
      "text/plain": [
       "     [,1] [,2]\n",
       "[1,] 12    6  \n",
       "[2,] 13    7  \n",
       "[3,] 14   12  \n",
       "[4,]  4   13  \n",
       "[5,]  5   14  "
      ]
     },
     "metadata": {},
     "output_type": "display_data"
    }
   ],
   "source": [
    "h5write(c(12, 13, 14), 'example.h5', 'foo/A', index=list(2:4, 3))\n",
    "h5read(\"example.h5\", 'foo/A')"
   ]
  },
  {
   "cell_type": "code",
   "execution_count": 15,
   "metadata": {},
   "outputs": [
    {
     "data": {
      "text/html": [
       "<table>\n",
       "<tbody>\n",
       "\t<tr><td> 6</td></tr>\n",
       "\t<tr><td> 7</td></tr>\n",
       "\t<tr><td>12</td></tr>\n",
       "</tbody>\n",
       "</table>\n"
      ],
      "text/latex": [
       "\\begin{tabular}{l}\n",
       "\t  6\\\\\n",
       "\t  7\\\\\n",
       "\t 12\\\\\n",
       "\\end{tabular}\n"
      ],
      "text/markdown": [
       "\n",
       "|  6 | \n",
       "|  7 | \n",
       "| 12 | \n",
       "\n",
       "\n"
      ],
      "text/plain": [
       "     [,1]\n",
       "[1,]  6  \n",
       "[2,]  7  \n",
       "[3,] 12  "
      ]
     },
     "metadata": {},
     "output_type": "display_data"
    }
   ],
   "source": [
    "h5read(\"example.h5\", 'foo/A', index = list(1:3, 2))"
   ]
  },
  {
   "cell_type": "code",
   "execution_count": null,
   "metadata": {},
   "outputs": [],
   "source": []
  }
 ],
 "metadata": {
  "kernelspec": {
   "display_name": "R",
   "language": "R",
   "name": "ir"
  },
  "language_info": {
   "codemirror_mode": "r",
   "file_extension": ".r",
   "mimetype": "text/x-r-source",
   "name": "R",
   "pygments_lexer": "r",
   "version": "3.5.1"
  }
 },
 "nbformat": 4,
 "nbformat_minor": 2
}
