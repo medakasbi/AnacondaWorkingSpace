{
 "cells": [
  {
   "cell_type": "code",
   "execution_count": 1,
   "metadata": {},
   "outputs": [
    {
     "data": {
      "text/html": [
       "'C:/Users/asus-A9/Anaconda3/envs/R_Env/lib/R'"
      ],
      "text/latex": [
       "'C:/Users/asus-A9/Anaconda3/envs/R\\_Env/lib/R'"
      ],
      "text/markdown": [
       "'C:/Users/asus-A9/Anaconda3/envs/R_Env/lib/R'"
      ],
      "text/plain": [
       "[1] \"C:/Users/asus-A9/Anaconda3/envs/R_Env/lib/R\""
      ]
     },
     "metadata": {},
     "output_type": "display_data"
    }
   ],
   "source": [
    "R.home()"
   ]
  },
  {
   "cell_type": "code",
   "execution_count": 3,
   "metadata": {},
   "outputs": [
    {
     "data": {
      "text/plain": [
       "               _                           \n",
       "platform       x86_64-w64-mingw32          \n",
       "arch           x86_64                      \n",
       "os             mingw32                     \n",
       "system         x86_64, mingw32             \n",
       "status                                     \n",
       "major          3                           \n",
       "minor          5.1                         \n",
       "year           2018                        \n",
       "month          07                          \n",
       "day            02                          \n",
       "svn rev        74947                       \n",
       "language       R                           \n",
       "version.string R version 3.5.1 (2018-07-02)\n",
       "nickname       Feather Spray               "
      ]
     },
     "metadata": {},
     "output_type": "display_data"
    }
   ],
   "source": [
    "R.version"
   ]
  },
  {
   "cell_type": "code",
   "execution_count": 4,
   "metadata": {},
   "outputs": [
    {
     "name": "stderr",
     "output_type": "stream",
     "text": [
      "Warning message:\n",
      "\"unable to access index for repository http://www.stats.ox.ac.uk/pub/RWin/bin/windows/contrib/3.5:\n",
      "  cannot open URL 'http://www.stats.ox.ac.uk/pub/RWin/bin/windows/contrib/3.5/PACKAGES'\""
     ]
    },
    {
     "name": "stdout",
     "output_type": "stream",
     "text": [
      "package 'RMySQL' successfully unpacked and MD5 sums checked\n",
      "\n",
      "The downloaded binary packages are in\n",
      "\tC:\\Users\\asus-A9\\AppData\\Local\\Temp\\RtmpKIuNKJ\\downloaded_packages\n"
     ]
    }
   ],
   "source": [
    "#install.packages(\"RMySQL\")"
   ]
  },
  {
   "cell_type": "code",
   "execution_count": null,
   "metadata": {},
   "outputs": [],
   "source": []
  }
 ],
 "metadata": {
  "kernelspec": {
   "display_name": "R",
   "language": "R",
   "name": "ir"
  },
  "language_info": {
   "codemirror_mode": "r",
   "file_extension": ".r",
   "mimetype": "text/x-r-source",
   "name": "R",
   "pygments_lexer": "r",
   "version": "3.5.1"
  }
 },
 "nbformat": 4,
 "nbformat_minor": 2
}
