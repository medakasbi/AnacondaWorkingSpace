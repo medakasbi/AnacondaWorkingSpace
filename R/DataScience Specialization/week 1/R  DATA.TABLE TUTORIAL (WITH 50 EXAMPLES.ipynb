{
 "cells": [
  {
   "cell_type": "markdown",
   "metadata": {},
   "source": [
    "https://www.listendata.com/2016/10/r-data-table.html"
   ]
  },
  {
   "cell_type": "code",
   "execution_count": 1,
   "metadata": {},
   "outputs": [],
   "source": [
    "library(data.table)"
   ]
  },
  {
   "cell_type": "code",
   "execution_count": 2,
   "metadata": {},
   "outputs": [
    {
     "data": {
      "text/html": [
       "'C:/Users/asus-A9/Documents/GitHub/AnacondaWorkingSpace/R/DataScience Specialization'"
      ],
      "text/latex": [
       "'C:/Users/asus-A9/Documents/GitHub/AnacondaWorkingSpace/R/DataScience Specialization'"
      ],
      "text/markdown": [
       "'C:/Users/asus-A9/Documents/GitHub/AnacondaWorkingSpace/R/DataScience Specialization'"
      ],
      "text/plain": [
       "[1] \"C:/Users/asus-A9/Documents/GitHub/AnacondaWorkingSpace/R/DataScience Specialization\""
      ]
     },
     "metadata": {},
     "output_type": "display_data"
    }
   ],
   "source": [
    "getwd()"
   ]
  },
  {
   "cell_type": "code",
   "execution_count": 3,
   "metadata": {},
   "outputs": [
    {
     "data": {
      "text/html": [
       "<ol class=list-inline>\n",
       "\t<li>'Data'</li>\n",
       "\t<li>'Download a file from the web.ipynb'</li>\n",
       "\t<li>'JSON.ipynb'</li>\n",
       "\t<li><span style=white-space:pre-wrap>'R  DATA.TABLE TUTORIAL (WITH 50 EXAMPLES.ipynb'</span></li>\n",
       "\t<li>'The data.table Package.ipynb'</li>\n",
       "</ol>\n"
      ],
      "text/latex": [
       "\\begin{enumerate*}\n",
       "\\item 'Data'\n",
       "\\item 'Download a file from the web.ipynb'\n",
       "\\item 'JSON.ipynb'\n",
       "\\item 'R  DATA.TABLE TUTORIAL (WITH 50 EXAMPLES.ipynb'\n",
       "\\item 'The data.table Package.ipynb'\n",
       "\\end{enumerate*}\n"
      ],
      "text/markdown": [
       "1. 'Data'\n",
       "2. 'Download a file from the web.ipynb'\n",
       "3. 'JSON.ipynb'\n",
       "4. <span style=white-space:pre-wrap>'R  DATA.TABLE TUTORIAL (WITH 50 EXAMPLES.ipynb'</span>\n",
       "5. 'The data.table Package.ipynb'\n",
       "\n",
       "\n"
      ],
      "text/plain": [
       "[1] \"Data\"                                          \n",
       "[2] \"Download a file from the web.ipynb\"            \n",
       "[3] \"JSON.ipynb\"                                    \n",
       "[4] \"R  DATA.TABLE TUTORIAL (WITH 50 EXAMPLES.ipynb\"\n",
       "[5] \"The data.table Package.ipynb\"                  "
      ]
     },
     "metadata": {},
     "output_type": "display_data"
    }
   ],
   "source": [
    "list.files(getwd())"
   ]
  },
  {
   "cell_type": "code",
   "execution_count": 4,
   "metadata": {},
   "outputs": [
    {
     "data": {
      "text/html": [
       "<ol class=list-inline>\n",
       "\t<li>'01_01_downLoadingFiles.pdf'</li>\n",
       "\t<li>'01_02_rawAndProcessedData.pdf'</li>\n",
       "\t<li>'01_03_componentsOfTidyData.pdf'</li>\n",
       "\t<li>'01_05_readingLocalFiles.pdf'</li>\n",
       "\t<li>'01_06_readingExcelFiles.pdf'</li>\n",
       "\t<li>'01_07_readingXML.pdf'</li>\n",
       "\t<li>'01_08_readingJSON.pdf'</li>\n",
       "\t<li>'01_09_dataTable.pdf'</li>\n",
       "\t<li>'cameras.csv'</li>\n",
       "\t<li>'cameras.xlsx'</li>\n",
       "\t<li>'Controle continu.xlsx'</li>\n",
       "\t<li>'flights.csv'</li>\n",
       "</ol>\n"
      ],
      "text/latex": [
       "\\begin{enumerate*}\n",
       "\\item '01\\_01\\_downLoadingFiles.pdf'\n",
       "\\item '01\\_02\\_rawAndProcessedData.pdf'\n",
       "\\item '01\\_03\\_componentsOfTidyData.pdf'\n",
       "\\item '01\\_05\\_readingLocalFiles.pdf'\n",
       "\\item '01\\_06\\_readingExcelFiles.pdf'\n",
       "\\item '01\\_07\\_readingXML.pdf'\n",
       "\\item '01\\_08\\_readingJSON.pdf'\n",
       "\\item '01\\_09\\_dataTable.pdf'\n",
       "\\item 'cameras.csv'\n",
       "\\item 'cameras.xlsx'\n",
       "\\item 'Controle continu.xlsx'\n",
       "\\item 'flights.csv'\n",
       "\\end{enumerate*}\n"
      ],
      "text/markdown": [
       "1. '01_01_downLoadingFiles.pdf'\n",
       "2. '01_02_rawAndProcessedData.pdf'\n",
       "3. '01_03_componentsOfTidyData.pdf'\n",
       "4. '01_05_readingLocalFiles.pdf'\n",
       "5. '01_06_readingExcelFiles.pdf'\n",
       "6. '01_07_readingXML.pdf'\n",
       "7. '01_08_readingJSON.pdf'\n",
       "8. '01_09_dataTable.pdf'\n",
       "9. 'cameras.csv'\n",
       "10. 'cameras.xlsx'\n",
       "11. 'Controle continu.xlsx'\n",
       "12. 'flights.csv'\n",
       "\n",
       "\n"
      ],
      "text/plain": [
       " [1] \"01_01_downLoadingFiles.pdf\"     \"01_02_rawAndProcessedData.pdf\" \n",
       " [3] \"01_03_componentsOfTidyData.pdf\" \"01_05_readingLocalFiles.pdf\"   \n",
       " [5] \"01_06_readingExcelFiles.pdf\"    \"01_07_readingXML.pdf\"          \n",
       " [7] \"01_08_readingJSON.pdf\"          \"01_09_dataTable.pdf\"           \n",
       " [9] \"cameras.csv\"                    \"cameras.xlsx\"                  \n",
       "[11] \"Controle continu.xlsx\"          \"flights.csv\"                   "
      ]
     },
     "metadata": {},
     "output_type": "display_data"
    }
   ],
   "source": [
    "list.files(\"./Data\")"
   ]
  },
  {
   "cell_type": "code",
   "execution_count": 5,
   "metadata": {},
   "outputs": [],
   "source": [
    "# furl = \"https://github.com/arunsrinivasan/satrdays-workshop/raw/master/flights_2014.csv\"\n",
    "# mydata = download.file(url =  furl, \n",
    "#                        destfile = \"./Data/flights.csv\" ) \n",
    "\n"
   ]
  },
  {
   "cell_type": "code",
   "execution_count": 6,
   "metadata": {},
   "outputs": [],
   "source": [
    "#datedownload = date()"
   ]
  },
  {
   "cell_type": "code",
   "execution_count": 7,
   "metadata": {},
   "outputs": [],
   "source": [
    "wdata = fread(\"./Data/flights.csv\")"
   ]
  },
  {
   "cell_type": "code",
   "execution_count": 8,
   "metadata": {},
   "outputs": [
    {
     "data": {
      "text/html": [
       "253316"
      ],
      "text/latex": [
       "253316"
      ],
      "text/markdown": [
       "253316"
      ],
      "text/plain": [
       "[1] 253316"
      ]
     },
     "metadata": {},
     "output_type": "display_data"
    }
   ],
   "source": [
    "nrow(wdata)"
   ]
  },
  {
   "cell_type": "code",
   "execution_count": 9,
   "metadata": {},
   "outputs": [
    {
     "data": {
      "text/html": [
       "17"
      ],
      "text/latex": [
       "17"
      ],
      "text/markdown": [
       "17"
      ],
      "text/plain": [
       "[1] 17"
      ]
     },
     "metadata": {},
     "output_type": "display_data"
    }
   ],
   "source": [
    "ncol(x = wdata)"
   ]
  },
  {
   "cell_type": "code",
   "execution_count": 10,
   "metadata": {},
   "outputs": [
    {
     "data": {
      "text/html": [
       "<ol class=list-inline>\n",
       "\t<li>'year'</li>\n",
       "\t<li>'month'</li>\n",
       "\t<li>'day'</li>\n",
       "\t<li>'dep_time'</li>\n",
       "\t<li>'dep_delay'</li>\n",
       "\t<li>'arr_time'</li>\n",
       "\t<li>'arr_delay'</li>\n",
       "\t<li>'cancelled'</li>\n",
       "\t<li>'carrier'</li>\n",
       "\t<li>'tailnum'</li>\n",
       "\t<li>'flight'</li>\n",
       "\t<li>'origin'</li>\n",
       "\t<li>'dest'</li>\n",
       "\t<li>'air_time'</li>\n",
       "\t<li>'distance'</li>\n",
       "\t<li>'hour'</li>\n",
       "\t<li>'min'</li>\n",
       "</ol>\n"
      ],
      "text/latex": [
       "\\begin{enumerate*}\n",
       "\\item 'year'\n",
       "\\item 'month'\n",
       "\\item 'day'\n",
       "\\item 'dep\\_time'\n",
       "\\item 'dep\\_delay'\n",
       "\\item 'arr\\_time'\n",
       "\\item 'arr\\_delay'\n",
       "\\item 'cancelled'\n",
       "\\item 'carrier'\n",
       "\\item 'tailnum'\n",
       "\\item 'flight'\n",
       "\\item 'origin'\n",
       "\\item 'dest'\n",
       "\\item 'air\\_time'\n",
       "\\item 'distance'\n",
       "\\item 'hour'\n",
       "\\item 'min'\n",
       "\\end{enumerate*}\n"
      ],
      "text/markdown": [
       "1. 'year'\n",
       "2. 'month'\n",
       "3. 'day'\n",
       "4. 'dep_time'\n",
       "5. 'dep_delay'\n",
       "6. 'arr_time'\n",
       "7. 'arr_delay'\n",
       "8. 'cancelled'\n",
       "9. 'carrier'\n",
       "10. 'tailnum'\n",
       "11. 'flight'\n",
       "12. 'origin'\n",
       "13. 'dest'\n",
       "14. 'air_time'\n",
       "15. 'distance'\n",
       "16. 'hour'\n",
       "17. 'min'\n",
       "\n",
       "\n"
      ],
      "text/plain": [
       " [1] \"year\"      \"month\"     \"day\"       \"dep_time\"  \"dep_delay\" \"arr_time\" \n",
       " [7] \"arr_delay\" \"cancelled\" \"carrier\"   \"tailnum\"   \"flight\"    \"origin\"   \n",
       "[13] \"dest\"      \"air_time\"  \"distance\"  \"hour\"      \"min\"      "
      ]
     },
     "metadata": {},
     "output_type": "display_data"
    }
   ],
   "source": [
    "names(wdata)"
   ]
  },
  {
   "cell_type": "code",
   "execution_count": 11,
   "metadata": {},
   "outputs": [
    {
     "data": {
      "text/html": [
       "<table>\n",
       "<thead><tr><th scope=col>year</th><th scope=col>month</th><th scope=col>day</th><th scope=col>dep_time</th><th scope=col>dep_delay</th><th scope=col>arr_time</th><th scope=col>arr_delay</th><th scope=col>cancelled</th><th scope=col>carrier</th><th scope=col>tailnum</th><th scope=col>flight</th><th scope=col>origin</th><th scope=col>dest</th><th scope=col>air_time</th><th scope=col>distance</th><th scope=col>hour</th><th scope=col>min</th></tr></thead>\n",
       "<tbody>\n",
       "\t<tr><td>2014  </td><td>1     </td><td>1     </td><td> 914  </td><td>14    </td><td>1238  </td><td> 13   </td><td>0     </td><td>AA    </td><td>N338AA</td><td>  1   </td><td>JFK   </td><td>LAX   </td><td>359   </td><td>2475  </td><td> 9    </td><td>14    </td></tr>\n",
       "\t<tr><td>2014  </td><td>1     </td><td>1     </td><td>1157  </td><td>-3    </td><td>1523  </td><td> 13   </td><td>0     </td><td>AA    </td><td>N335AA</td><td>  3   </td><td>JFK   </td><td>LAX   </td><td>363   </td><td>2475  </td><td>11    </td><td>57    </td></tr>\n",
       "\t<tr><td>2014  </td><td>1     </td><td>1     </td><td>1902  </td><td> 2    </td><td>2224  </td><td>  9   </td><td>0     </td><td>AA    </td><td>N327AA</td><td> 21   </td><td>JFK   </td><td>LAX   </td><td>351   </td><td>2475  </td><td>19    </td><td> 2    </td></tr>\n",
       "\t<tr><td>2014  </td><td>1     </td><td>1     </td><td> 722  </td><td>-8    </td><td>1014  </td><td>-26   </td><td>0     </td><td>AA    </td><td>N3EHAA</td><td> 29   </td><td>LGA   </td><td>PBI   </td><td>157   </td><td>1035  </td><td> 7    </td><td>22    </td></tr>\n",
       "\t<tr><td>2014  </td><td>1     </td><td>1     </td><td>1347  </td><td> 2    </td><td>1706  </td><td>  1   </td><td>0     </td><td>AA    </td><td>N319AA</td><td>117   </td><td>JFK   </td><td>LAX   </td><td>350   </td><td>2475  </td><td>13    </td><td>47    </td></tr>\n",
       "\t<tr><td>2014  </td><td>1     </td><td>1     </td><td>1824  </td><td> 4    </td><td>2145  </td><td>  0   </td><td>0     </td><td>AA    </td><td>N3DEAA</td><td>119   </td><td>EWR   </td><td>LAX   </td><td>339   </td><td>2454  </td><td>18    </td><td>24    </td></tr>\n",
       "</tbody>\n",
       "</table>\n"
      ],
      "text/latex": [
       "\\begin{tabular}{r|lllllllllllllllll}\n",
       " year & month & day & dep\\_time & dep\\_delay & arr\\_time & arr\\_delay & cancelled & carrier & tailnum & flight & origin & dest & air\\_time & distance & hour & min\\\\\n",
       "\\hline\n",
       "\t 2014   & 1      & 1      &  914   & 14     & 1238   &  13    & 0      & AA     & N338AA &   1    & JFK    & LAX    & 359    & 2475   &  9     & 14    \\\\\n",
       "\t 2014   & 1      & 1      & 1157   & -3     & 1523   &  13    & 0      & AA     & N335AA &   3    & JFK    & LAX    & 363    & 2475   & 11     & 57    \\\\\n",
       "\t 2014   & 1      & 1      & 1902   &  2     & 2224   &   9    & 0      & AA     & N327AA &  21    & JFK    & LAX    & 351    & 2475   & 19     &  2    \\\\\n",
       "\t 2014   & 1      & 1      &  722   & -8     & 1014   & -26    & 0      & AA     & N3EHAA &  29    & LGA    & PBI    & 157    & 1035   &  7     & 22    \\\\\n",
       "\t 2014   & 1      & 1      & 1347   &  2     & 1706   &   1    & 0      & AA     & N319AA & 117    & JFK    & LAX    & 350    & 2475   & 13     & 47    \\\\\n",
       "\t 2014   & 1      & 1      & 1824   &  4     & 2145   &   0    & 0      & AA     & N3DEAA & 119    & EWR    & LAX    & 339    & 2454   & 18     & 24    \\\\\n",
       "\\end{tabular}\n"
      ],
      "text/markdown": [
       "\n",
       "year | month | day | dep_time | dep_delay | arr_time | arr_delay | cancelled | carrier | tailnum | flight | origin | dest | air_time | distance | hour | min | \n",
       "|---|---|---|---|---|---|\n",
       "| 2014   | 1      | 1      |  914   | 14     | 1238   |  13    | 0      | AA     | N338AA |   1    | JFK    | LAX    | 359    | 2475   |  9     | 14     | \n",
       "| 2014   | 1      | 1      | 1157   | -3     | 1523   |  13    | 0      | AA     | N335AA |   3    | JFK    | LAX    | 363    | 2475   | 11     | 57     | \n",
       "| 2014   | 1      | 1      | 1902   |  2     | 2224   |   9    | 0      | AA     | N327AA |  21    | JFK    | LAX    | 351    | 2475   | 19     |  2     | \n",
       "| 2014   | 1      | 1      |  722   | -8     | 1014   | -26    | 0      | AA     | N3EHAA |  29    | LGA    | PBI    | 157    | 1035   |  7     | 22     | \n",
       "| 2014   | 1      | 1      | 1347   |  2     | 1706   |   1    | 0      | AA     | N319AA | 117    | JFK    | LAX    | 350    | 2475   | 13     | 47     | \n",
       "| 2014   | 1      | 1      | 1824   |  4     | 2145   |   0    | 0      | AA     | N3DEAA | 119    | EWR    | LAX    | 339    | 2454   | 18     | 24     | \n",
       "\n",
       "\n"
      ],
      "text/plain": [
       "  year month day dep_time dep_delay arr_time arr_delay cancelled carrier\n",
       "1 2014 1     1    914     14        1238      13       0         AA     \n",
       "2 2014 1     1   1157     -3        1523      13       0         AA     \n",
       "3 2014 1     1   1902      2        2224       9       0         AA     \n",
       "4 2014 1     1    722     -8        1014     -26       0         AA     \n",
       "5 2014 1     1   1347      2        1706       1       0         AA     \n",
       "6 2014 1     1   1824      4        2145       0       0         AA     \n",
       "  tailnum flight origin dest air_time distance hour min\n",
       "1 N338AA    1    JFK    LAX  359      2475      9   14 \n",
       "2 N335AA    3    JFK    LAX  363      2475     11   57 \n",
       "3 N327AA   21    JFK    LAX  351      2475     19    2 \n",
       "4 N3EHAA   29    LGA    PBI  157      1035      7   22 \n",
       "5 N319AA  117    JFK    LAX  350      2475     13   47 \n",
       "6 N3DEAA  119    EWR    LAX  339      2454     18   24 "
      ]
     },
     "metadata": {},
     "output_type": "display_data"
    }
   ],
   "source": [
    "head(wdata)"
   ]
  },
  {
   "cell_type": "code",
   "execution_count": 12,
   "metadata": {},
   "outputs": [],
   "source": [
    "dat1 = wdata[, origin]"
   ]
  },
  {
   "cell_type": "code",
   "execution_count": 13,
   "metadata": {},
   "outputs": [
    {
     "data": {
      "text/html": [
       "'character'"
      ],
      "text/latex": [
       "'character'"
      ],
      "text/markdown": [
       "'character'"
      ],
      "text/plain": [
       "[1] \"character\""
      ]
     },
     "metadata": {},
     "output_type": "display_data"
    }
   ],
   "source": [
    "class(dat1)"
   ]
  },
  {
   "cell_type": "code",
   "execution_count": 14,
   "metadata": {},
   "outputs": [],
   "source": [
    "dat1 = wdata[, .(origin)]"
   ]
  },
  {
   "cell_type": "code",
   "execution_count": 15,
   "metadata": {},
   "outputs": [
    {
     "data": {
      "text/html": [
       "<ol class=list-inline>\n",
       "\t<li>'data.table'</li>\n",
       "\t<li>'data.frame'</li>\n",
       "</ol>\n"
      ],
      "text/latex": [
       "\\begin{enumerate*}\n",
       "\\item 'data.table'\n",
       "\\item 'data.frame'\n",
       "\\end{enumerate*}\n"
      ],
      "text/markdown": [
       "1. 'data.table'\n",
       "2. 'data.frame'\n",
       "\n",
       "\n"
      ],
      "text/plain": [
       "[1] \"data.table\" \"data.frame\""
      ]
     },
     "metadata": {},
     "output_type": "display_data"
    }
   ],
   "source": [
    "class(dat1)"
   ]
  },
  {
   "cell_type": "code",
   "execution_count": 16,
   "metadata": {},
   "outputs": [
    {
     "data": {
      "text/html": [
       "<table>\n",
       "<thead><tr><th scope=col>origin</th></tr></thead>\n",
       "<tbody>\n",
       "\t<tr><td>JFK</td></tr>\n",
       "\t<tr><td>JFK</td></tr>\n",
       "\t<tr><td>JFK</td></tr>\n",
       "\t<tr><td>LGA</td></tr>\n",
       "\t<tr><td>JFK</td></tr>\n",
       "\t<tr><td>EWR</td></tr>\n",
       "</tbody>\n",
       "</table>\n"
      ],
      "text/latex": [
       "\\begin{tabular}{r|l}\n",
       " origin\\\\\n",
       "\\hline\n",
       "\t JFK\\\\\n",
       "\t JFK\\\\\n",
       "\t JFK\\\\\n",
       "\t LGA\\\\\n",
       "\t JFK\\\\\n",
       "\t EWR\\\\\n",
       "\\end{tabular}\n"
      ],
      "text/markdown": [
       "\n",
       "origin | \n",
       "|---|---|---|---|---|---|\n",
       "| JFK | \n",
       "| JFK | \n",
       "| JFK | \n",
       "| LGA | \n",
       "| JFK | \n",
       "| EWR | \n",
       "\n",
       "\n"
      ],
      "text/plain": [
       "  origin\n",
       "1 JFK   \n",
       "2 JFK   \n",
       "3 JFK   \n",
       "4 LGA   \n",
       "5 JFK   \n",
       "6 EWR   "
      ]
     },
     "metadata": {},
     "output_type": "display_data"
    }
   ],
   "source": [
    "dat2 = wdata[, c(\"origin\"), with =FALSE]\n",
    "head(dat2)"
   ]
  },
  {
   "cell_type": "code",
   "execution_count": 17,
   "metadata": {},
   "outputs": [
    {
     "data": {
      "text/html": [
       "<table>\n",
       "<thead><tr><th scope=col>origin</th></tr></thead>\n",
       "<tbody>\n",
       "\t<tr><td>JFK</td></tr>\n",
       "\t<tr><td>JFK</td></tr>\n",
       "\t<tr><td>JFK</td></tr>\n",
       "\t<tr><td>LGA</td></tr>\n",
       "\t<tr><td>JFK</td></tr>\n",
       "\t<tr><td>EWR</td></tr>\n",
       "</tbody>\n",
       "</table>\n"
      ],
      "text/latex": [
       "\\begin{tabular}{r|l}\n",
       " origin\\\\\n",
       "\\hline\n",
       "\t JFK\\\\\n",
       "\t JFK\\\\\n",
       "\t JFK\\\\\n",
       "\t LGA\\\\\n",
       "\t JFK\\\\\n",
       "\t EWR\\\\\n",
       "\\end{tabular}\n"
      ],
      "text/markdown": [
       "\n",
       "origin | \n",
       "|---|---|---|---|---|---|\n",
       "| JFK | \n",
       "| JFK | \n",
       "| JFK | \n",
       "| LGA | \n",
       "| JFK | \n",
       "| EWR | \n",
       "\n",
       "\n"
      ],
      "text/plain": [
       "  origin\n",
       "1 JFK   \n",
       "2 JFK   \n",
       "3 JFK   \n",
       "4 LGA   \n",
       "5 JFK   \n",
       "6 EWR   "
      ]
     },
     "metadata": {},
     "output_type": "display_data"
    }
   ],
   "source": [
    "dat2 = wdata[, 2]\n",
    "head(dat1)"
   ]
  },
  {
   "cell_type": "code",
   "execution_count": 18,
   "metadata": {},
   "outputs": [
    {
     "data": {
      "text/html": [
       "<ol class=list-inline>\n",
       "\t<li>'year'</li>\n",
       "\t<li>'month'</li>\n",
       "\t<li>'dep_time'</li>\n",
       "\t<li>'dep_delay'</li>\n",
       "\t<li>'arr_time'</li>\n",
       "\t<li>'arr_delay'</li>\n",
       "\t<li>'cancelled'</li>\n",
       "\t<li>'tailnum'</li>\n",
       "\t<li>'flight'</li>\n",
       "\t<li>'dest'</li>\n",
       "\t<li>'air_time'</li>\n",
       "\t<li>'distance'</li>\n",
       "\t<li>'hour'</li>\n",
       "\t<li>'min'</li>\n",
       "</ol>\n"
      ],
      "text/latex": [
       "\\begin{enumerate*}\n",
       "\\item 'year'\n",
       "\\item 'month'\n",
       "\\item 'dep\\_time'\n",
       "\\item 'dep\\_delay'\n",
       "\\item 'arr\\_time'\n",
       "\\item 'arr\\_delay'\n",
       "\\item 'cancelled'\n",
       "\\item 'tailnum'\n",
       "\\item 'flight'\n",
       "\\item 'dest'\n",
       "\\item 'air\\_time'\n",
       "\\item 'distance'\n",
       "\\item 'hour'\n",
       "\\item 'min'\n",
       "\\end{enumerate*}\n"
      ],
      "text/markdown": [
       "1. 'year'\n",
       "2. 'month'\n",
       "3. 'dep_time'\n",
       "4. 'dep_delay'\n",
       "5. 'arr_time'\n",
       "6. 'arr_delay'\n",
       "7. 'cancelled'\n",
       "8. 'tailnum'\n",
       "9. 'flight'\n",
       "10. 'dest'\n",
       "11. 'air_time'\n",
       "12. 'distance'\n",
       "13. 'hour'\n",
       "14. 'min'\n",
       "\n",
       "\n"
      ],
      "text/plain": [
       " [1] \"year\"      \"month\"     \"dep_time\"  \"dep_delay\" \"arr_time\"  \"arr_delay\"\n",
       " [7] \"cancelled\" \"tailnum\"   \"flight\"    \"dest\"      \"air_time\"  \"distance\" \n",
       "[13] \"hour\"      \"min\"      "
      ]
     },
     "metadata": {},
     "output_type": "display_data"
    }
   ],
   "source": [
    "dat1 = wdata[, !c(\"origin\", \"day\", \"carrier\")]\n",
    "names(dat1)"
   ]
  },
  {
   "cell_type": "code",
   "execution_count": 19,
   "metadata": {},
   "outputs": [
    {
     "data": {
      "text/html": [
       "<ol class=list-inline>\n",
       "\t<li>'dep_time'</li>\n",
       "\t<li>'dep_delay'</li>\n",
       "</ol>\n"
      ],
      "text/latex": [
       "\\begin{enumerate*}\n",
       "\\item 'dep\\_time'\n",
       "\\item 'dep\\_delay'\n",
       "\\end{enumerate*}\n"
      ],
      "text/markdown": [
       "1. 'dep_time'\n",
       "2. 'dep_delay'\n",
       "\n",
       "\n"
      ],
      "text/plain": [
       "[1] \"dep_time\"  \"dep_delay\""
      ]
     },
     "metadata": {},
     "output_type": "display_data"
    }
   ],
   "source": [
    "dat3 = wdata[, names(wdata) %like% \"dep\", with = FALSE]\n",
    "names(dat3)"
   ]
  },
  {
   "cell_type": "code",
   "execution_count": null,
   "metadata": {},
   "outputs": [],
   "source": []
  }
 ],
 "metadata": {
  "kernelspec": {
   "display_name": "R",
   "language": "R",
   "name": "ir"
  },
  "language_info": {
   "codemirror_mode": "r",
   "file_extension": ".r",
   "mimetype": "text/x-r-source",
   "name": "R",
   "pygments_lexer": "r",
   "version": "3.5.1"
  }
 },
 "nbformat": 4,
 "nbformat_minor": 2
}
