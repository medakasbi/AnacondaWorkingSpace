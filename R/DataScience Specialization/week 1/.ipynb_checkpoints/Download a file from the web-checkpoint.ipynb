{
 "cells": [
  {
   "cell_type": "code",
   "execution_count": 8,
   "metadata": {},
   "outputs": [],
   "source": [
    "library(xlsx)"
   ]
  },
  {
   "cell_type": "code",
   "execution_count": 9,
   "metadata": {},
   "outputs": [
    {
     "data": {
      "text/html": [
       "'C:/Users/asus-A9/Documents/GitHub/AnacondaWorkingSpace/R/DataScience Specialization'"
      ],
      "text/latex": [
       "'C:/Users/asus-A9/Documents/GitHub/AnacondaWorkingSpace/R/DataScience Specialization'"
      ],
      "text/markdown": [
       "'C:/Users/asus-A9/Documents/GitHub/AnacondaWorkingSpace/R/DataScience Specialization'"
      ],
      "text/plain": [
       "[1] \"C:/Users/asus-A9/Documents/GitHub/AnacondaWorkingSpace/R/DataScience Specialization\""
      ]
     },
     "metadata": {},
     "output_type": "display_data"
    }
   ],
   "source": [
    "getwd()"
   ]
  },
  {
   "cell_type": "code",
   "execution_count": 10,
   "metadata": {},
   "outputs": [],
   "source": [
    "if (!file.exists('Data')) {\n",
    "    dir.create('Data')\n",
    "}"
   ]
  },
  {
   "cell_type": "code",
   "execution_count": 11,
   "metadata": {},
   "outputs": [
    {
     "data": {
      "text/html": [
       "<ol class=list-inline>\n",
       "\t<li>'Data'</li>\n",
       "\t<li>'Download a file from the web.ipynb'</li>\n",
       "</ol>\n"
      ],
      "text/latex": [
       "\\begin{enumerate*}\n",
       "\\item 'Data'\n",
       "\\item 'Download a file from the web.ipynb'\n",
       "\\end{enumerate*}\n"
      ],
      "text/markdown": [
       "1. 'Data'\n",
       "2. 'Download a file from the web.ipynb'\n",
       "\n",
       "\n"
      ],
      "text/plain": [
       "[1] \"Data\"                               \"Download a file from the web.ipynb\""
      ]
     },
     "metadata": {},
     "output_type": "display_data"
    }
   ],
   "source": [
    "list.files('./')"
   ]
  },
  {
   "cell_type": "code",
   "execution_count": 12,
   "metadata": {},
   "outputs": [
    {
     "data": {
      "text/html": [
       "<ol class=list-inline>\n",
       "\t<li>'Data'</li>\n",
       "\t<li>'Download a file from the web.ipynb'</li>\n",
       "</ol>\n"
      ],
      "text/latex": [
       "\\begin{enumerate*}\n",
       "\\item 'Data'\n",
       "\\item 'Download a file from the web.ipynb'\n",
       "\\end{enumerate*}\n"
      ],
      "text/markdown": [
       "1. 'Data'\n",
       "2. 'Download a file from the web.ipynb'\n",
       "\n",
       "\n"
      ],
      "text/plain": [
       "[1] \"Data\"                               \"Download a file from the web.ipynb\""
      ]
     },
     "metadata": {},
     "output_type": "display_data"
    }
   ],
   "source": [
    "list.files()"
   ]
  },
  {
   "cell_type": "code",
   "execution_count": 13,
   "metadata": {},
   "outputs": [
    {
     "data": {
      "text/html": [
       "<ol class=list-inline>\n",
       "\t<li>'cameras.csv'</li>\n",
       "\t<li>'cameras.xlsx'</li>\n",
       "\t<li>'Controle continu.xlsx'</li>\n",
       "\t<li>'downLoadingFiles.pdf'</li>\n",
       "</ol>\n"
      ],
      "text/latex": [
       "\\begin{enumerate*}\n",
       "\\item 'cameras.csv'\n",
       "\\item 'cameras.xlsx'\n",
       "\\item 'Controle continu.xlsx'\n",
       "\\item 'downLoadingFiles.pdf'\n",
       "\\end{enumerate*}\n"
      ],
      "text/markdown": [
       "1. 'cameras.csv'\n",
       "2. 'cameras.xlsx'\n",
       "3. 'Controle continu.xlsx'\n",
       "4. 'downLoadingFiles.pdf'\n",
       "\n",
       "\n"
      ],
      "text/plain": [
       "[1] \"cameras.csv\"           \"cameras.xlsx\"          \"Controle continu.xlsx\"\n",
       "[4] \"downLoadingFiles.pdf\" "
      ]
     },
     "metadata": {},
     "output_type": "display_data"
    }
   ],
   "source": [
    "link = 'https://data.baltimorecity.gov/api/views/dz54-2aru/rows.csv?accessType=DOWNLOAD'\n",
    "download.file(link, destfile = './Data/cameras.csv')\n",
    "list.files('./Data')"
   ]
  },
  {
   "cell_type": "code",
   "execution_count": 14,
   "metadata": {},
   "outputs": [
    {
     "data": {
      "text/html": [
       "'Sat Dec 01 08:26:04 2018'"
      ],
      "text/latex": [
       "'Sat Dec 01 08:26:04 2018'"
      ],
      "text/markdown": [
       "'Sat Dec 01 08:26:04 2018'"
      ],
      "text/plain": [
       "[1] \"Sat Dec 01 08:26:04 2018\""
      ]
     },
     "metadata": {},
     "output_type": "display_data"
    }
   ],
   "source": [
    "download_date = date()\n",
    "download_date"
   ]
  },
  {
   "cell_type": "code",
   "execution_count": 15,
   "metadata": {},
   "outputs": [],
   "source": [
    "data = read.csv('./Data/cameras.csv')"
   ]
  },
  {
   "cell_type": "code",
   "execution_count": 16,
   "metadata": {},
   "outputs": [
    {
     "data": {
      "text/html": [
       "<table>\n",
       "<thead><tr><th scope=col>address</th><th scope=col>direction</th><th scope=col>street</th><th scope=col>crossStreet</th><th scope=col>intersection</th><th scope=col>Location.1</th></tr></thead>\n",
       "<tbody>\n",
       "\t<tr><td><span style=white-space:pre-wrap>S CATON AVE &amp; BENSON AVE      </span></td><td>N/B                                                                       </td><td><span style=white-space:pre-wrap>Caton Ave  </span>                       </td><td><span style=white-space:pre-wrap>Benson Ave  </span>                      </td><td><span style=white-space:pre-wrap>Caton Ave &amp; Benson Ave    </span>    </td><td>(39.2693779962, -76.6688185297)                                           </td></tr>\n",
       "\t<tr><td><span style=white-space:pre-wrap>S CATON AVE &amp; BENSON AVE      </span></td><td>S/B                                                                       </td><td><span style=white-space:pre-wrap>Caton Ave  </span>                       </td><td><span style=white-space:pre-wrap>Benson Ave  </span>                      </td><td><span style=white-space:pre-wrap>Caton Ave &amp; Benson Ave    </span>    </td><td>(39.2693157898, -76.6689698176)                                           </td></tr>\n",
       "\t<tr><td>WILKENS AVE &amp; PINE HEIGHTS AVE</td><td>E/B                               </td><td>Wilkens Ave                       </td><td>Pine Heights                      </td><td>Wilkens Ave &amp; Pine Heights    </td><td>(39.2720252302, -76.676960806)    </td></tr>\n",
       "\t<tr><td><span style=white-space:pre-wrap>THE ALAMEDA &amp; E 33RD ST       </span></td><td>S/B                                                                       </td><td>The Alameda                                                               </td><td><span style=white-space:pre-wrap>33rd St     </span>                      </td><td><span style=white-space:pre-wrap>The Alameda  &amp; 33rd St    </span>    </td><td>(39.3285013141, -76.5953545714)                                           </td></tr>\n",
       "\t<tr><td><span style=white-space:pre-wrap>E 33RD ST &amp; THE ALAMEDA       </span></td><td>E/B                                                                       </td><td><span style=white-space:pre-wrap>E 33rd     </span>                       </td><td>The Alameda                                                               </td><td><span style=white-space:pre-wrap>E 33rd  &amp; The Alameda     </span>    </td><td>(39.3283410623, -76.5953594625)                                           </td></tr>\n",
       "\t<tr><td><span style=white-space:pre-wrap>ERDMAN AVE &amp; N MACON ST       </span></td><td>E/B                                                                       </td><td><span style=white-space:pre-wrap>Erdman     </span>                       </td><td><span style=white-space:pre-wrap>Macon St    </span>                      </td><td><span style=white-space:pre-wrap>Erdman  &amp; Macon St        </span>    </td><td>(39.3068045671, -76.5593167803)                                           </td></tr>\n",
       "</tbody>\n",
       "</table>\n"
      ],
      "text/latex": [
       "\\begin{tabular}{r|llllll}\n",
       " address & direction & street & crossStreet & intersection & Location.1\\\\\n",
       "\\hline\n",
       "\t S CATON AVE \\& BENSON AVE       & N/B                              & Caton Ave                        & Benson Ave                       & Caton Ave \\& Benson Ave         & (39.2693779962, -76.6688185297) \\\\\n",
       "\t S CATON AVE \\& BENSON AVE       & S/B                              & Caton Ave                        & Benson Ave                       & Caton Ave \\& Benson Ave         & (39.2693157898, -76.6689698176) \\\\\n",
       "\t WILKENS AVE \\& PINE HEIGHTS AVE & E/B                              & Wilkens Ave                      & Pine Heights                     & Wilkens Ave \\& Pine Heights     & (39.2720252302, -76.676960806)  \\\\\n",
       "\t THE ALAMEDA \\& E 33RD ST        & S/B                              & The Alameda                      & 33rd St                          & The Alameda  \\& 33rd St         & (39.3285013141, -76.5953545714) \\\\\n",
       "\t E 33RD ST \\& THE ALAMEDA        & E/B                              & E 33rd                           & The Alameda                      & E 33rd  \\& The Alameda          & (39.3283410623, -76.5953594625) \\\\\n",
       "\t ERDMAN AVE \\& N MACON ST        & E/B                              & Erdman                           & Macon St                         & Erdman  \\& Macon St             & (39.3068045671, -76.5593167803) \\\\\n",
       "\\end{tabular}\n"
      ],
      "text/markdown": [
       "\n",
       "address | direction | street | crossStreet | intersection | Location.1 | \n",
       "|---|---|---|---|---|---|\n",
       "| S CATON AVE & BENSON AVE        | N/B                             | Caton Ave                       | Benson Ave                      | Caton Ave & Benson Ave          | (39.2693779962, -76.6688185297) | \n",
       "| S CATON AVE & BENSON AVE        | S/B                             | Caton Ave                       | Benson Ave                      | Caton Ave & Benson Ave          | (39.2693157898, -76.6689698176) | \n",
       "| WILKENS AVE & PINE HEIGHTS AVE  | E/B                             | Wilkens Ave                     | Pine Heights                    | Wilkens Ave & Pine Heights      | (39.2720252302, -76.676960806)  | \n",
       "| THE ALAMEDA & E 33RD ST         | S/B                             | The Alameda                     | 33rd St                         | The Alameda  & 33rd St          | (39.3285013141, -76.5953545714) | \n",
       "| E 33RD ST & THE ALAMEDA         | E/B                             | E 33rd                          | The Alameda                     | E 33rd  & The Alameda           | (39.3283410623, -76.5953594625) | \n",
       "| ERDMAN AVE & N MACON ST         | E/B                             | Erdman                          | Macon St                        | Erdman  & Macon St              | (39.3068045671, -76.5593167803) | \n",
       "\n",
       "\n"
      ],
      "text/plain": [
       "  address                        direction street      crossStreet \n",
       "1 S CATON AVE & BENSON AVE       N/B       Caton Ave   Benson Ave  \n",
       "2 S CATON AVE & BENSON AVE       S/B       Caton Ave   Benson Ave  \n",
       "3 WILKENS AVE & PINE HEIGHTS AVE E/B       Wilkens Ave Pine Heights\n",
       "4 THE ALAMEDA & E 33RD ST        S/B       The Alameda 33rd St     \n",
       "5 E 33RD ST & THE ALAMEDA        E/B       E 33rd      The Alameda \n",
       "6 ERDMAN AVE & N MACON ST        E/B       Erdman      Macon St    \n",
       "  intersection               Location.1                     \n",
       "1 Caton Ave & Benson Ave     (39.2693779962, -76.6688185297)\n",
       "2 Caton Ave & Benson Ave     (39.2693157898, -76.6689698176)\n",
       "3 Wilkens Ave & Pine Heights (39.2720252302, -76.676960806) \n",
       "4 The Alameda  & 33rd St     (39.3285013141, -76.5953545714)\n",
       "5 E 33rd  & The Alameda      (39.3283410623, -76.5953594625)\n",
       "6 Erdman  & Macon St         (39.3068045671, -76.5593167803)"
      ]
     },
     "metadata": {},
     "output_type": "display_data"
    }
   ],
   "source": [
    "head(data)"
   ]
  },
  {
   "cell_type": "code",
   "execution_count": 17,
   "metadata": {},
   "outputs": [
    {
     "data": {
      "text/html": [
       "<ol class=list-inline>\n",
       "\t<li>80</li>\n",
       "\t<li>6</li>\n",
       "</ol>\n"
      ],
      "text/latex": [
       "\\begin{enumerate*}\n",
       "\\item 80\n",
       "\\item 6\n",
       "\\end{enumerate*}\n"
      ],
      "text/markdown": [
       "1. 80\n",
       "2. 6\n",
       "\n",
       "\n"
      ],
      "text/plain": [
       "[1] 80  6"
      ]
     },
     "metadata": {},
     "output_type": "display_data"
    }
   ],
   "source": [
    "dim(data)"
   ]
  },
  {
   "cell_type": "code",
   "execution_count": 18,
   "metadata": {},
   "outputs": [
    {
     "data": {
      "text/html": [
       "<ol class=list-inline>\n",
       "\t<li>'address'</li>\n",
       "\t<li>'direction'</li>\n",
       "\t<li>'street'</li>\n",
       "\t<li>'crossStreet'</li>\n",
       "\t<li>'intersection'</li>\n",
       "\t<li>'Location.1'</li>\n",
       "</ol>\n"
      ],
      "text/latex": [
       "\\begin{enumerate*}\n",
       "\\item 'address'\n",
       "\\item 'direction'\n",
       "\\item 'street'\n",
       "\\item 'crossStreet'\n",
       "\\item 'intersection'\n",
       "\\item 'Location.1'\n",
       "\\end{enumerate*}\n"
      ],
      "text/markdown": [
       "1. 'address'\n",
       "2. 'direction'\n",
       "3. 'street'\n",
       "4. 'crossStreet'\n",
       "5. 'intersection'\n",
       "6. 'Location.1'\n",
       "\n",
       "\n"
      ],
      "text/plain": [
       "[1] \"address\"      \"direction\"    \"street\"       \"crossStreet\"  \"intersection\"\n",
       "[6] \"Location.1\"  "
      ]
     },
     "metadata": {},
     "output_type": "display_data"
    }
   ],
   "source": [
    "names(data)"
   ]
  },
  {
   "cell_type": "code",
   "execution_count": 19,
   "metadata": {},
   "outputs": [
    {
     "name": "stdout",
     "output_type": "stream",
     "text": [
      "'data.frame':\t80 obs. of  6 variables:\n",
      " $ address     : Factor w/ 71 levels \"E 33RD ST & THE ALAMEDA\",..: 49 49 70 57 1 14 14 31 5 35 ...\n",
      " $ direction   : Factor w/ 4 levels \"E/B\",\"N/B\",\"S/B\",..: 2 3 1 3 1 1 4 3 4 1 ...\n",
      " $ street      : Factor w/ 61 levels \"\\nPulaski Hwy \\n\",..: 2 2 60 56 6 11 11 3 30 38 ...\n",
      " $ crossStreet : Factor w/ 66 levels \"33rd St\",\"4th St\",..: 6 6 49 1 58 40 40 36 7 38 ...\n",
      " $ intersection: Factor w/ 74 levels \" &\",\"\\nPulaski Hwy \\n & Moravia Park Drive\",..: 3 3 73 69 8 14 14 4 36 48 ...\n",
      " $ Location.1  : Factor w/ 76 levels \"(39.1999130165, -76.5559766825)\",..: 7 6 8 49 48 35 36 74 32 29 ...\n"
     ]
    }
   ],
   "source": [
    "str(data)"
   ]
  },
  {
   "cell_type": "code",
   "execution_count": 20,
   "metadata": {},
   "outputs": [
    {
     "data": {
      "text/plain": [
       "                           address   direction             street  \n",
       " EDMONDSON AVE & N ATHOL AVE   : 2   E/B:24    Northern Pkwy  : 4  \n",
       " ERDMAN AVE & N MACON ST       : 2   N/B:14    Liberty Hghts\\n: 3  \n",
       " GWYNNS FLS & GARRISON BLVD    : 2   S/B:20    Park Heights   : 3  \n",
       " LIBERTY HTS & HILLSDALE RD    : 2   W/B:22    Caton Ave      : 2  \n",
       " PARK HEIGHTS AVE & HAYWARD AVE: 2             Cold Spring\\n  : 2  \n",
       " RUSSELL ST & W HAMBURG ST     : 2             Edmonson       : 2  \n",
       " (Other)                       :68             (Other)        :64  \n",
       "          crossStreet                           intersection\n",
       " Belvedere Ave  : 2   Caton Ave & Benson Ave          : 2   \n",
       " Benson Ave     : 2   Erdman  & Macon St              : 2   \n",
       " Garrison Blvd  : 2   Gwynns Falls \\n  & Garrison Blvd: 2   \n",
       " Gay St         : 2   Liberty Hghts\\n  & Hillsdale Ave: 2   \n",
       " Greenspring Ave: 2   Mt Royal\\n & North              : 2   \n",
       " Hamburg St     : 2   Park Heights   & Hayward Ave    : 2   \n",
       " (Other)        :68   (Other)                         :68   \n",
       "                           Location.1\n",
       " (39.3135792902, -76.6762250182): 2  \n",
       " (39.3175028074, -76.5556737923): 2  \n",
       " (39.3304453818, -76.6945100293): 2  \n",
       " (39.3499204055, -76.6788706721): 2  \n",
       " (39.1999130165, -76.5559766825): 1  \n",
       " (39.2364856246, -76.6122106478): 1  \n",
       " (Other)                        :70  "
      ]
     },
     "metadata": {},
     "output_type": "display_data"
    }
   ],
   "source": [
    "summary(data)"
   ]
  },
  {
   "cell_type": "code",
   "execution_count": 21,
   "metadata": {},
   "outputs": [
    {
     "data": {
      "text/html": [
       "<pre class=language-r><code>function (file, header = FALSE, sep = \"\", quote = \"\\\"'\", dec = \".\", \n",
       "<span style=white-space:pre-wrap>    numerals = c(\"allow.loss\", \"warn.loss\", \"no.loss\"), row.names, </span>\n",
       "<span style=white-space:pre-wrap>    col.names, as.is = !stringsAsFactors, na.strings = \"NA\", </span>\n",
       "<span style=white-space:pre-wrap>    colClasses = NA, nrows = -1, skip = 0, check.names = TRUE, </span>\n",
       "<span style=white-space:pre-wrap>    fill = !blank.lines.skip, strip.white = FALSE, blank.lines.skip = TRUE, </span>\n",
       "<span style=white-space:pre-wrap>    comment.char = \"#\", allowEscapes = FALSE, flush = FALSE, </span>\n",
       "<span style=white-space:pre-wrap>    stringsAsFactors = default.stringsAsFactors(), fileEncoding = \"\", </span>\n",
       "<span style=white-space:pre-wrap>    encoding = \"unknown\", text, skipNul = FALSE) </span>\n",
       "NULL</code></pre>"
      ],
      "text/latex": [
       "\\begin{minted}{r}\n",
       "function (file, header = FALSE, sep = \"\", quote = \"\\textbackslash{}\"'\", dec = \".\", \n",
       "    numerals = c(\"allow.loss\", \"warn.loss\", \"no.loss\"), row.names, \n",
       "    col.names, as.is = !stringsAsFactors, na.strings = \"NA\", \n",
       "    colClasses = NA, nrows = -1, skip = 0, check.names = TRUE, \n",
       "    fill = !blank.lines.skip, strip.white = FALSE, blank.lines.skip = TRUE, \n",
       "    comment.char = \"\\#\", allowEscapes = FALSE, flush = FALSE, \n",
       "    stringsAsFactors = default.stringsAsFactors(), fileEncoding = \"\", \n",
       "    encoding = \"unknown\", text, skipNul = FALSE) \n",
       "NULL\n",
       "\\end{minted}"
      ],
      "text/markdown": [
       "```r\n",
       "function (file, header = FALSE, sep = \"\", quote = \"\\\"'\", dec = \".\", \n",
       "    numerals = c(\"allow.loss\", \"warn.loss\", \"no.loss\"), row.names, \n",
       "    col.names, as.is = !stringsAsFactors, na.strings = \"NA\", \n",
       "    colClasses = NA, nrows = -1, skip = 0, check.names = TRUE, \n",
       "    fill = !blank.lines.skip, strip.white = FALSE, blank.lines.skip = TRUE, \n",
       "    comment.char = \"#\", allowEscapes = FALSE, flush = FALSE, \n",
       "    stringsAsFactors = default.stringsAsFactors(), fileEncoding = \"\", \n",
       "    encoding = \"unknown\", text, skipNul = FALSE) \n",
       "NULL\n",
       "```"
      ],
      "text/plain": [
       "function (file, header = FALSE, sep = \"\", quote = \"\\\"'\", dec = \".\", \n",
       "    numerals = c(\"allow.loss\", \"warn.loss\", \"no.loss\"), row.names, \n",
       "    col.names, as.is = !stringsAsFactors, na.strings = \"NA\", \n",
       "    colClasses = NA, nrows = -1, skip = 0, check.names = TRUE, \n",
       "    fill = !blank.lines.skip, strip.white = FALSE, blank.lines.skip = TRUE, \n",
       "    comment.char = \"#\", allowEscapes = FALSE, flush = FALSE, \n",
       "    stringsAsFactors = default.stringsAsFactors(), fileEncoding = \"\", \n",
       "    encoding = \"unknown\", text, skipNul = FALSE) \n",
       "NULL"
      ]
     },
     "metadata": {},
     "output_type": "display_data"
    }
   ],
   "source": [
    "args(read.table)"
   ]
  },
  {
   "cell_type": "code",
   "execution_count": 23,
   "metadata": {},
   "outputs": [],
   "source": [
    "#camera_data <- read.table(\"./Data/cameras.csv\")"
   ]
  },
  {
   "cell_type": "code",
   "execution_count": 24,
   "metadata": {},
   "outputs": [
    {
     "data": {
      "text/html": [
       "<table>\n",
       "<thead><tr><th scope=col>address</th><th scope=col>direction</th><th scope=col>street</th><th scope=col>crossStreet</th><th scope=col>intersection</th><th scope=col>Location.1</th></tr></thead>\n",
       "<tbody>\n",
       "\t<tr><td><span style=white-space:pre-wrap>S CATON AVE &amp; BENSON AVE      </span></td><td>N/B                                                                       </td><td><span style=white-space:pre-wrap>Caton Ave  </span>                       </td><td><span style=white-space:pre-wrap>Benson Ave  </span>                      </td><td><span style=white-space:pre-wrap>Caton Ave &amp; Benson Ave    </span>    </td><td>(39.2693779962, -76.6688185297)                                           </td></tr>\n",
       "\t<tr><td><span style=white-space:pre-wrap>S CATON AVE &amp; BENSON AVE      </span></td><td>S/B                                                                       </td><td><span style=white-space:pre-wrap>Caton Ave  </span>                       </td><td><span style=white-space:pre-wrap>Benson Ave  </span>                      </td><td><span style=white-space:pre-wrap>Caton Ave &amp; Benson Ave    </span>    </td><td>(39.2693157898, -76.6689698176)                                           </td></tr>\n",
       "\t<tr><td>WILKENS AVE &amp; PINE HEIGHTS AVE</td><td>E/B                               </td><td>Wilkens Ave                       </td><td>Pine Heights                      </td><td>Wilkens Ave &amp; Pine Heights    </td><td>(39.2720252302, -76.676960806)    </td></tr>\n",
       "\t<tr><td><span style=white-space:pre-wrap>THE ALAMEDA &amp; E 33RD ST       </span></td><td>S/B                                                                       </td><td>The Alameda                                                               </td><td><span style=white-space:pre-wrap>33rd St     </span>                      </td><td><span style=white-space:pre-wrap>The Alameda  &amp; 33rd St    </span>    </td><td>(39.3285013141, -76.5953545714)                                           </td></tr>\n",
       "\t<tr><td><span style=white-space:pre-wrap>E 33RD ST &amp; THE ALAMEDA       </span></td><td>E/B                                                                       </td><td><span style=white-space:pre-wrap>E 33rd     </span>                       </td><td>The Alameda                                                               </td><td><span style=white-space:pre-wrap>E 33rd  &amp; The Alameda     </span>    </td><td>(39.3283410623, -76.5953594625)                                           </td></tr>\n",
       "\t<tr><td><span style=white-space:pre-wrap>ERDMAN AVE &amp; N MACON ST       </span></td><td>E/B                                                                       </td><td><span style=white-space:pre-wrap>Erdman     </span>                       </td><td><span style=white-space:pre-wrap>Macon St    </span>                      </td><td><span style=white-space:pre-wrap>Erdman  &amp; Macon St        </span>    </td><td>(39.3068045671, -76.5593167803)                                           </td></tr>\n",
       "</tbody>\n",
       "</table>\n"
      ],
      "text/latex": [
       "\\begin{tabular}{r|llllll}\n",
       " address & direction & street & crossStreet & intersection & Location.1\\\\\n",
       "\\hline\n",
       "\t S CATON AVE \\& BENSON AVE       & N/B                              & Caton Ave                        & Benson Ave                       & Caton Ave \\& Benson Ave         & (39.2693779962, -76.6688185297) \\\\\n",
       "\t S CATON AVE \\& BENSON AVE       & S/B                              & Caton Ave                        & Benson Ave                       & Caton Ave \\& Benson Ave         & (39.2693157898, -76.6689698176) \\\\\n",
       "\t WILKENS AVE \\& PINE HEIGHTS AVE & E/B                              & Wilkens Ave                      & Pine Heights                     & Wilkens Ave \\& Pine Heights     & (39.2720252302, -76.676960806)  \\\\\n",
       "\t THE ALAMEDA \\& E 33RD ST        & S/B                              & The Alameda                      & 33rd St                          & The Alameda  \\& 33rd St         & (39.3285013141, -76.5953545714) \\\\\n",
       "\t E 33RD ST \\& THE ALAMEDA        & E/B                              & E 33rd                           & The Alameda                      & E 33rd  \\& The Alameda          & (39.3283410623, -76.5953594625) \\\\\n",
       "\t ERDMAN AVE \\& N MACON ST        & E/B                              & Erdman                           & Macon St                         & Erdman  \\& Macon St             & (39.3068045671, -76.5593167803) \\\\\n",
       "\\end{tabular}\n"
      ],
      "text/markdown": [
       "\n",
       "address | direction | street | crossStreet | intersection | Location.1 | \n",
       "|---|---|---|---|---|---|\n",
       "| S CATON AVE & BENSON AVE        | N/B                             | Caton Ave                       | Benson Ave                      | Caton Ave & Benson Ave          | (39.2693779962, -76.6688185297) | \n",
       "| S CATON AVE & BENSON AVE        | S/B                             | Caton Ave                       | Benson Ave                      | Caton Ave & Benson Ave          | (39.2693157898, -76.6689698176) | \n",
       "| WILKENS AVE & PINE HEIGHTS AVE  | E/B                             | Wilkens Ave                     | Pine Heights                    | Wilkens Ave & Pine Heights      | (39.2720252302, -76.676960806)  | \n",
       "| THE ALAMEDA & E 33RD ST         | S/B                             | The Alameda                     | 33rd St                         | The Alameda  & 33rd St          | (39.3285013141, -76.5953545714) | \n",
       "| E 33RD ST & THE ALAMEDA         | E/B                             | E 33rd                          | The Alameda                     | E 33rd  & The Alameda           | (39.3283410623, -76.5953594625) | \n",
       "| ERDMAN AVE & N MACON ST         | E/B                             | Erdman                          | Macon St                        | Erdman  & Macon St              | (39.3068045671, -76.5593167803) | \n",
       "\n",
       "\n"
      ],
      "text/plain": [
       "  address                        direction street      crossStreet \n",
       "1 S CATON AVE & BENSON AVE       N/B       Caton Ave   Benson Ave  \n",
       "2 S CATON AVE & BENSON AVE       S/B       Caton Ave   Benson Ave  \n",
       "3 WILKENS AVE & PINE HEIGHTS AVE E/B       Wilkens Ave Pine Heights\n",
       "4 THE ALAMEDA & E 33RD ST        S/B       The Alameda 33rd St     \n",
       "5 E 33RD ST & THE ALAMEDA        E/B       E 33rd      The Alameda \n",
       "6 ERDMAN AVE & N MACON ST        E/B       Erdman      Macon St    \n",
       "  intersection               Location.1                     \n",
       "1 Caton Ave & Benson Ave     (39.2693779962, -76.6688185297)\n",
       "2 Caton Ave & Benson Ave     (39.2693157898, -76.6689698176)\n",
       "3 Wilkens Ave & Pine Heights (39.2720252302, -76.676960806) \n",
       "4 The Alameda  & 33rd St     (39.3285013141, -76.5953545714)\n",
       "5 E 33rd  & The Alameda      (39.3283410623, -76.5953594625)\n",
       "6 Erdman  & Macon St         (39.3068045671, -76.5593167803)"
      ]
     },
     "metadata": {},
     "output_type": "display_data"
    }
   ],
   "source": [
    "camera_data <- read.table(\"./Data/cameras.csv\", sep =',', header = TRUE)\n",
    "head(camera_data)"
   ]
  },
  {
   "cell_type": "code",
   "execution_count": 25,
   "metadata": {},
   "outputs": [
    {
     "data": {
      "text/html": [
       "<ol class=list-inline>\n",
       "\t<li>'cameras.csv'</li>\n",
       "\t<li>'cameras.xlsx'</li>\n",
       "\t<li>'Controle continu.xlsx'</li>\n",
       "\t<li>'downLoadingFiles.pdf'</li>\n",
       "</ol>\n"
      ],
      "text/latex": [
       "\\begin{enumerate*}\n",
       "\\item 'cameras.csv'\n",
       "\\item 'cameras.xlsx'\n",
       "\\item 'Controle continu.xlsx'\n",
       "\\item 'downLoadingFiles.pdf'\n",
       "\\end{enumerate*}\n"
      ],
      "text/markdown": [
       "1. 'cameras.csv'\n",
       "2. 'cameras.xlsx'\n",
       "3. 'Controle continu.xlsx'\n",
       "4. 'downLoadingFiles.pdf'\n",
       "\n",
       "\n"
      ],
      "text/plain": [
       "[1] \"cameras.csv\"           \"cameras.xlsx\"          \"Controle continu.xlsx\"\n",
       "[4] \"downLoadingFiles.pdf\" "
      ]
     },
     "metadata": {},
     "output_type": "display_data"
    }
   ],
   "source": [
    "work_dir = './data'\n",
    "list.files(work_dir )"
   ]
  },
  {
   "cell_type": "code",
   "execution_count": 26,
   "metadata": {},
   "outputs": [],
   "source": [
    "#controle_c <- read.csv(paste(work_dir,'Controle continu.xlsx', sep ='/'))"
   ]
  },
  {
   "cell_type": "code",
   "execution_count": 27,
   "metadata": {},
   "outputs": [],
   "source": [
    "xls_link = 'https://data.baltimorecity.gov/api/views/dz54-2aru/rows.tsv?accessType=DOWNLOAD'\n",
    "download.file(xls_link, \n",
    "              destfile = paste(work_dir, 'cameras.xlsx', sep ='/'))\n",
    "download_date = date()"
   ]
  },
  {
   "cell_type": "code",
   "execution_count": 28,
   "metadata": {},
   "outputs": [],
   "source": [
    "controle_continue <- paste(work_dir,'Controle continu.xlsx', sep ='/')"
   ]
  },
  {
   "cell_type": "code",
   "execution_count": 30,
   "metadata": {},
   "outputs": [
    {
     "ename": "ERROR",
     "evalue": "Error in read.xlsx(camera_xls_file, sheet = 1, header = TRUE): argument 2 matches multiple formal arguments\n",
     "output_type": "error",
     "traceback": [
      "Error in read.xlsx(camera_xls_file, sheet = 1, header = TRUE): argument 2 matches multiple formal arguments\nTraceback:\n"
     ]
    }
   ],
   "source": [
    "camera_xls_file = paste(work_dir, 'camera.xlsx', sep= \"/\")\n",
    "cam_data = read.xlsx(camera_xls_file, sheet=1, header = TRUE)"
   ]
  },
  {
   "cell_type": "code",
   "execution_count": 31,
   "metadata": {
    "scrolled": true
   },
   "outputs": [
    {
     "data": {
      "text/html": [
       "<table>\n",
       "<thead><tr><th scope=col>address</th><th scope=col>direction</th><th scope=col>street</th><th scope=col>crossStreet</th><th scope=col>intersection</th><th scope=col>Location.1</th></tr></thead>\n",
       "<tbody>\n",
       "\t<tr><td><span style=white-space:pre-wrap>S CATON AVE &amp; BENSON AVE      </span></td><td>N/B                                                                       </td><td><span style=white-space:pre-wrap>Caton Ave  </span>                       </td><td><span style=white-space:pre-wrap>Benson Ave  </span>                      </td><td><span style=white-space:pre-wrap>Caton Ave &amp; Benson Ave    </span>    </td><td>(39.2693779962, -76.6688185297)                                           </td></tr>\n",
       "\t<tr><td><span style=white-space:pre-wrap>S CATON AVE &amp; BENSON AVE      </span></td><td>S/B                                                                       </td><td><span style=white-space:pre-wrap>Caton Ave  </span>                       </td><td><span style=white-space:pre-wrap>Benson Ave  </span>                      </td><td><span style=white-space:pre-wrap>Caton Ave &amp; Benson Ave    </span>    </td><td>(39.2693157898, -76.6689698176)                                           </td></tr>\n",
       "\t<tr><td>WILKENS AVE &amp; PINE HEIGHTS AVE</td><td>E/B                               </td><td>Wilkens Ave                       </td><td>Pine Heights                      </td><td>Wilkens Ave &amp; Pine Heights    </td><td>(39.2720252302, -76.676960806)    </td></tr>\n",
       "\t<tr><td><span style=white-space:pre-wrap>THE ALAMEDA &amp; E 33RD ST       </span></td><td>S/B                                                                       </td><td>The Alameda                                                               </td><td><span style=white-space:pre-wrap>33rd St     </span>                      </td><td><span style=white-space:pre-wrap>The Alameda  &amp; 33rd St    </span>    </td><td>(39.3285013141, -76.5953545714)                                           </td></tr>\n",
       "\t<tr><td><span style=white-space:pre-wrap>E 33RD ST &amp; THE ALAMEDA       </span></td><td>E/B                                                                       </td><td><span style=white-space:pre-wrap>E 33rd     </span>                       </td><td>The Alameda                                                               </td><td><span style=white-space:pre-wrap>E 33rd  &amp; The Alameda     </span>    </td><td>(39.3283410623, -76.5953594625)                                           </td></tr>\n",
       "\t<tr><td><span style=white-space:pre-wrap>ERDMAN AVE &amp; N MACON ST       </span></td><td>E/B                                                                       </td><td><span style=white-space:pre-wrap>Erdman     </span>                       </td><td><span style=white-space:pre-wrap>Macon St    </span>                      </td><td><span style=white-space:pre-wrap>Erdman  &amp; Macon St        </span>    </td><td>(39.3068045671, -76.5593167803)                                           </td></tr>\n",
       "</tbody>\n",
       "</table>\n"
      ],
      "text/latex": [
       "\\begin{tabular}{r|llllll}\n",
       " address & direction & street & crossStreet & intersection & Location.1\\\\\n",
       "\\hline\n",
       "\t S CATON AVE \\& BENSON AVE       & N/B                              & Caton Ave                        & Benson Ave                       & Caton Ave \\& Benson Ave         & (39.2693779962, -76.6688185297) \\\\\n",
       "\t S CATON AVE \\& BENSON AVE       & S/B                              & Caton Ave                        & Benson Ave                       & Caton Ave \\& Benson Ave         & (39.2693157898, -76.6689698176) \\\\\n",
       "\t WILKENS AVE \\& PINE HEIGHTS AVE & E/B                              & Wilkens Ave                      & Pine Heights                     & Wilkens Ave \\& Pine Heights     & (39.2720252302, -76.676960806)  \\\\\n",
       "\t THE ALAMEDA \\& E 33RD ST        & S/B                              & The Alameda                      & 33rd St                          & The Alameda  \\& 33rd St         & (39.3285013141, -76.5953545714) \\\\\n",
       "\t E 33RD ST \\& THE ALAMEDA        & E/B                              & E 33rd                           & The Alameda                      & E 33rd  \\& The Alameda          & (39.3283410623, -76.5953594625) \\\\\n",
       "\t ERDMAN AVE \\& N MACON ST        & E/B                              & Erdman                           & Macon St                         & Erdman  \\& Macon St             & (39.3068045671, -76.5593167803) \\\\\n",
       "\\end{tabular}\n"
      ],
      "text/markdown": [
       "\n",
       "address | direction | street | crossStreet | intersection | Location.1 | \n",
       "|---|---|---|---|---|---|\n",
       "| S CATON AVE & BENSON AVE        | N/B                             | Caton Ave                       | Benson Ave                      | Caton Ave & Benson Ave          | (39.2693779962, -76.6688185297) | \n",
       "| S CATON AVE & BENSON AVE        | S/B                             | Caton Ave                       | Benson Ave                      | Caton Ave & Benson Ave          | (39.2693157898, -76.6689698176) | \n",
       "| WILKENS AVE & PINE HEIGHTS AVE  | E/B                             | Wilkens Ave                     | Pine Heights                    | Wilkens Ave & Pine Heights      | (39.2720252302, -76.676960806)  | \n",
       "| THE ALAMEDA & E 33RD ST         | S/B                             | The Alameda                     | 33rd St                         | The Alameda  & 33rd St          | (39.3285013141, -76.5953545714) | \n",
       "| E 33RD ST & THE ALAMEDA         | E/B                             | E 33rd                          | The Alameda                     | E 33rd  & The Alameda           | (39.3283410623, -76.5953594625) | \n",
       "| ERDMAN AVE & N MACON ST         | E/B                             | Erdman                          | Macon St                        | Erdman  & Macon St              | (39.3068045671, -76.5593167803) | \n",
       "\n",
       "\n"
      ],
      "text/plain": [
       "  address                        direction street      crossStreet \n",
       "1 S CATON AVE & BENSON AVE       N/B       Caton Ave   Benson Ave  \n",
       "2 S CATON AVE & BENSON AVE       S/B       Caton Ave   Benson Ave  \n",
       "3 WILKENS AVE & PINE HEIGHTS AVE E/B       Wilkens Ave Pine Heights\n",
       "4 THE ALAMEDA & E 33RD ST        S/B       The Alameda 33rd St     \n",
       "5 E 33RD ST & THE ALAMEDA        E/B       E 33rd      The Alameda \n",
       "6 ERDMAN AVE & N MACON ST        E/B       Erdman      Macon St    \n",
       "  intersection               Location.1                     \n",
       "1 Caton Ave & Benson Ave     (39.2693779962, -76.6688185297)\n",
       "2 Caton Ave & Benson Ave     (39.2693157898, -76.6689698176)\n",
       "3 Wilkens Ave & Pine Heights (39.2720252302, -76.676960806) \n",
       "4 The Alameda  & 33rd St     (39.3285013141, -76.5953545714)\n",
       "5 E 33rd  & The Alameda      (39.3283410623, -76.5953594625)\n",
       "6 Erdman  & Macon St         (39.3068045671, -76.5593167803)"
      ]
     },
     "metadata": {},
     "output_type": "display_data"
    }
   ],
   "source": [
    "head(camera_data)"
   ]
  },
  {
   "cell_type": "code",
   "execution_count": 68,
   "metadata": {},
   "outputs": [],
   "source": [
    "row_indx <- 1:12\n",
    "col_indx <- 1:31\n",
    "cc_data = read.xlsx(controle_continue, sheetIndex = 1, rowIndex = row_indx, colIndex = col_indx)"
   ]
  },
  {
   "cell_type": "code",
   "execution_count": 69,
   "metadata": {
    "scrolled": true
   },
   "outputs": [
    {
     "data": {
      "text/html": [
       "<table>\n",
       "<thead><tr><th scope=col>Numero</th><th scope=col>Date.de.Naissance</th><th scope=col>Niveau</th><th scope=col>Nom</th><th scope=col>Tazkia</th><th scope=col>Iqtidaa.wa.Istijaba</th><th scope=col>Qist.wa.Hikma</th><th scope=col>Qiraa</th><th scope=col>Fahm.Al.Maqrou.</th><th scope=col>Tarakib</th><th scope=col>...</th><th scope=col>ActivitÃ.s.de.Lecture</th><th scope=col>Communication.et.actes.de.langages</th><th scope=col>Grammaire</th><th scope=col>Conjugaison</th><th scope=col>Orth_Dictee</th><th scope=col>Lexique</th><th scope=col>Production.ecrite</th><th scope=col>Poesie_Lecture.diction</th><th scope=col>Education.sportive</th><th scope=col>Moyenne</th></tr></thead>\n",
       "<tbody>\n",
       "\t<tr><td>D131823243          </td><td>09-08-2006          </td><td>6                   </td><td>Mohamed Oubihi      </td><td>8.0                 </td><td>8.0                 </td><td>6.0                 </td><td>8.5                 </td><td>8.5                 </td><td>8.5                 </td><td>...                 </td><td>7.0                 </td><td>7.5                 </td><td>7.0                 </td><td>6                   </td><td>5.0                 </td><td>9.0                 </td><td>8.0                 </td><td>6.5                 </td><td>7.0                 </td><td>7.576923            </td></tr>\n",
       "\t<tr><td>D133823237          </td><td>15-05-2006          </td><td>6                   </td><td>Asmaa Bendara       </td><td>7.5                 </td><td>7.0                 </td><td>5.0                 </td><td>8.5                 </td><td>8.5                 </td><td>7.5                 </td><td>...                 </td><td>7.5                 </td><td>6.5                 </td><td>7.5                 </td><td>5                   </td><td>7.0                 </td><td>8.0                 </td><td>7.5                 </td><td>8.5                 </td><td>7.0                 </td><td>7.432692            </td></tr>\n",
       "\t<tr><td>D131823234          </td><td>07-03-2007          </td><td>5                   </td><td>Ayoub Bendara       </td><td>5.0                 </td><td>7.5                 </td><td>6.0                 </td><td>6.0                 </td><td>6.0                 </td><td>4.0                 </td><td>...                 </td><td>6.0                 </td><td>7.0                 </td><td>3.0                 </td><td>4                   </td><td>5.0                 </td><td>4.0                 </td><td>6.0                 </td><td>6.0                 </td><td>6.0                 </td><td>5.230769            </td></tr>\n",
       "\t<tr><td>D134823232          </td><td>25-02-2008          </td><td>5                   </td><td>Ilham Alhabib       </td><td>5.5                 </td><td>7.0                 </td><td>6.0                 </td><td>6.0                 </td><td>6.0                 </td><td>5.5                 </td><td>...                 </td><td>5.5                 </td><td>5.0                 </td><td>4.0                 </td><td>3                   </td><td>4.0                 </td><td>4.0                 </td><td>5.0                 </td><td>6.0                 </td><td>6.0                 </td><td>5.153846            </td></tr>\n",
       "\t<tr><td>D134823233          </td><td>19-03-2007          </td><td>5                   </td><td>Ismail Hamza        </td><td>6.0                 </td><td>7.0                 </td><td>6.5                 </td><td>6.0                 </td><td>6.0                 </td><td>4.5                 </td><td>...                 </td><td>5.5                 </td><td>5.0                 </td><td>5.0                 </td><td>3                   </td><td>4.0                 </td><td>4.0                 </td><td>6.5                 </td><td>5.0                 </td><td>7.0                 </td><td>5.605769            </td></tr>\n",
       "\t<tr><td>D135782154          </td><td>10-10-2007          </td><td>5                   </td><td>Mohamed Amine Hafeth</td><td>5.5                 </td><td>7.0                 </td><td>8.0                 </td><td>7.5                 </td><td>7.5                 </td><td>4.0                 </td><td>...                 </td><td>5.5                 </td><td>5.5                 </td><td>5.0                 </td><td>4                   </td><td>4.0                 </td><td>7.0                 </td><td>5.0                 </td><td>5.0                 </td><td>6.0                 </td><td>5.865385            </td></tr>\n",
       "\t<tr><td>D135823231          </td><td>19-07-2007          </td><td>5                   </td><td>Mohamed Bendara     </td><td>6.0                 </td><td>8.0                 </td><td>8.8                 </td><td>7.5                 </td><td>7.5                 </td><td>5.5                 </td><td>...                 </td><td>5.5                 </td><td>5.0                 </td><td>4.0                 </td><td>5                   </td><td>6.0                 </td><td>5.0                 </td><td>5.0                 </td><td>5.0                 </td><td>6.5                 </td><td>6.088462            </td></tr>\n",
       "\t<tr><td>D139796448          </td><td>25-04-2007          </td><td>5                   </td><td>Lahoucine Outferdine</td><td>6.0                 </td><td>5.5                 </td><td>7.0                 </td><td>6.5                 </td><td>6.5                 </td><td>4.0                 </td><td>...                 </td><td>4.0                 </td><td>5.0                 </td><td>4.0                 </td><td>3                   </td><td>4.0                 </td><td>7.0                 </td><td>4.0                 </td><td>6.0                 </td><td>5.0                 </td><td>5.557692            </td></tr>\n",
       "\t<tr><td>D139823245          </td><td>16-07-2006          </td><td>5                   </td><td>Biramane Soulaimane </td><td>6.5                 </td><td>6.5                 </td><td>6.5                 </td><td>6.0                 </td><td>6.0                 </td><td>6.5                 </td><td>...                 </td><td>5.0                 </td><td>5.5                 </td><td>7.0                 </td><td>3                   </td><td>4.0                 </td><td>5.0                 </td><td>5.0                 </td><td>5.0                 </td><td>7.0                 </td><td>5.663462            </td></tr>\n",
       "\t<tr><td>D146116768          </td><td>09-11-2008          </td><td>5                   </td><td>Karima Atanam       </td><td>8.0                 </td><td>9.0                 </td><td>7.0                 </td><td>8.0                 </td><td>8.0                 </td><td>8.5                 </td><td>...                 </td><td>7.5                 </td><td>8.0                 </td><td>7.0                 </td><td>6                   </td><td>8.5                 </td><td>7.0                 </td><td>8.0                 </td><td>7.0                 </td><td>6.5                 </td><td>7.961538            </td></tr>\n",
       "\t<tr><td>D146116770          </td><td>13-10-2008          </td><td>5                   </td><td>Salma Oubihi        </td><td>7.0                 </td><td>8.0                 </td><td>5.5                 </td><td>7.5                 </td><td>7.5                 </td><td>5.0                 </td><td>...                 </td><td>6.5                 </td><td>6.5                 </td><td>6.0                 </td><td>4                   </td><td>5.0                 </td><td>7.5                 </td><td>6.0                 </td><td>5.0                 </td><td>6.0                 </td><td>6.480769            </td></tr>\n",
       "</tbody>\n",
       "</table>\n"
      ],
      "text/latex": [
       "\\begin{tabular}{r|lllllllllllllllllllllllllllllll}\n",
       " Numero & Date.de.Naissance & Niveau & Nom & Tazkia & Iqtidaa.wa.Istijaba & Qist.wa.Hikma & Qiraa & Fahm.Al.Maqrou. & Tarakib & ... & ActivitÃ.s.de.Lecture & Communication.et.actes.de.langages & Grammaire & Conjugaison & Orth\\_Dictee & Lexique & Production.ecrite & Poesie\\_Lecture.diction & Education.sportive & Moyenne\\\\\n",
       "\\hline\n",
       "\t D131823243           & 09-08-2006           & 6                    & Mohamed Oubihi       & 8.0                  & 8.0                  & 6.0                  & 8.5                  & 8.5                  & 8.5                  & ...                  & 7.0                  & 7.5                  & 7.0                  & 6                    & 5.0                  & 9.0                  & 8.0                  & 6.5                  & 7.0                  & 7.576923            \\\\\n",
       "\t D133823237           & 15-05-2006           & 6                    & Asmaa Bendara        & 7.5                  & 7.0                  & 5.0                  & 8.5                  & 8.5                  & 7.5                  & ...                  & 7.5                  & 6.5                  & 7.5                  & 5                    & 7.0                  & 8.0                  & 7.5                  & 8.5                  & 7.0                  & 7.432692            \\\\\n",
       "\t D131823234           & 07-03-2007           & 5                    & Ayoub Bendara        & 5.0                  & 7.5                  & 6.0                  & 6.0                  & 6.0                  & 4.0                  & ...                  & 6.0                  & 7.0                  & 3.0                  & 4                    & 5.0                  & 4.0                  & 6.0                  & 6.0                  & 6.0                  & 5.230769            \\\\\n",
       "\t D134823232           & 25-02-2008           & 5                    & Ilham Alhabib        & 5.5                  & 7.0                  & 6.0                  & 6.0                  & 6.0                  & 5.5                  & ...                  & 5.5                  & 5.0                  & 4.0                  & 3                    & 4.0                  & 4.0                  & 5.0                  & 6.0                  & 6.0                  & 5.153846            \\\\\n",
       "\t D134823233           & 19-03-2007           & 5                    & Ismail Hamza         & 6.0                  & 7.0                  & 6.5                  & 6.0                  & 6.0                  & 4.5                  & ...                  & 5.5                  & 5.0                  & 5.0                  & 3                    & 4.0                  & 4.0                  & 6.5                  & 5.0                  & 7.0                  & 5.605769            \\\\\n",
       "\t D135782154           & 10-10-2007           & 5                    & Mohamed Amine Hafeth & 5.5                  & 7.0                  & 8.0                  & 7.5                  & 7.5                  & 4.0                  & ...                  & 5.5                  & 5.5                  & 5.0                  & 4                    & 4.0                  & 7.0                  & 5.0                  & 5.0                  & 6.0                  & 5.865385            \\\\\n",
       "\t D135823231           & 19-07-2007           & 5                    & Mohamed Bendara      & 6.0                  & 8.0                  & 8.8                  & 7.5                  & 7.5                  & 5.5                  & ...                  & 5.5                  & 5.0                  & 4.0                  & 5                    & 6.0                  & 5.0                  & 5.0                  & 5.0                  & 6.5                  & 6.088462            \\\\\n",
       "\t D139796448           & 25-04-2007           & 5                    & Lahoucine Outferdine & 6.0                  & 5.5                  & 7.0                  & 6.5                  & 6.5                  & 4.0                  & ...                  & 4.0                  & 5.0                  & 4.0                  & 3                    & 4.0                  & 7.0                  & 4.0                  & 6.0                  & 5.0                  & 5.557692            \\\\\n",
       "\t D139823245           & 16-07-2006           & 5                    & Biramane Soulaimane  & 6.5                  & 6.5                  & 6.5                  & 6.0                  & 6.0                  & 6.5                  & ...                  & 5.0                  & 5.5                  & 7.0                  & 3                    & 4.0                  & 5.0                  & 5.0                  & 5.0                  & 7.0                  & 5.663462            \\\\\n",
       "\t D146116768           & 09-11-2008           & 5                    & Karima Atanam        & 8.0                  & 9.0                  & 7.0                  & 8.0                  & 8.0                  & 8.5                  & ...                  & 7.5                  & 8.0                  & 7.0                  & 6                    & 8.5                  & 7.0                  & 8.0                  & 7.0                  & 6.5                  & 7.961538            \\\\\n",
       "\t D146116770           & 13-10-2008           & 5                    & Salma Oubihi         & 7.0                  & 8.0                  & 5.5                  & 7.5                  & 7.5                  & 5.0                  & ...                  & 6.5                  & 6.5                  & 6.0                  & 4                    & 5.0                  & 7.5                  & 6.0                  & 5.0                  & 6.0                  & 6.480769            \\\\\n",
       "\\end{tabular}\n"
      ],
      "text/markdown": [
       "\n",
       "Numero | Date.de.Naissance | Niveau | Nom | Tazkia | Iqtidaa.wa.Istijaba | Qist.wa.Hikma | Qiraa | Fahm.Al.Maqrou. | Tarakib | ... | ActivitÃ.s.de.Lecture | Communication.et.actes.de.langages | Grammaire | Conjugaison | Orth_Dictee | Lexique | Production.ecrite | Poesie_Lecture.diction | Education.sportive | Moyenne | \n",
       "|---|---|---|---|---|---|---|---|---|---|---|\n",
       "| D131823243           | 09-08-2006           | 6                    | Mohamed Oubihi       | 8.0                  | 8.0                  | 6.0                  | 8.5                  | 8.5                  | 8.5                  | ...                  | 7.0                  | 7.5                  | 7.0                  | 6                    | 5.0                  | 9.0                  | 8.0                  | 6.5                  | 7.0                  | 7.576923             | \n",
       "| D133823237           | 15-05-2006           | 6                    | Asmaa Bendara        | 7.5                  | 7.0                  | 5.0                  | 8.5                  | 8.5                  | 7.5                  | ...                  | 7.5                  | 6.5                  | 7.5                  | 5                    | 7.0                  | 8.0                  | 7.5                  | 8.5                  | 7.0                  | 7.432692             | \n",
       "| D131823234           | 07-03-2007           | 5                    | Ayoub Bendara        | 5.0                  | 7.5                  | 6.0                  | 6.0                  | 6.0                  | 4.0                  | ...                  | 6.0                  | 7.0                  | 3.0                  | 4                    | 5.0                  | 4.0                  | 6.0                  | 6.0                  | 6.0                  | 5.230769             | \n",
       "| D134823232           | 25-02-2008           | 5                    | Ilham Alhabib        | 5.5                  | 7.0                  | 6.0                  | 6.0                  | 6.0                  | 5.5                  | ...                  | 5.5                  | 5.0                  | 4.0                  | 3                    | 4.0                  | 4.0                  | 5.0                  | 6.0                  | 6.0                  | 5.153846             | \n",
       "| D134823233           | 19-03-2007           | 5                    | Ismail Hamza         | 6.0                  | 7.0                  | 6.5                  | 6.0                  | 6.0                  | 4.5                  | ...                  | 5.5                  | 5.0                  | 5.0                  | 3                    | 4.0                  | 4.0                  | 6.5                  | 5.0                  | 7.0                  | 5.605769             | \n",
       "| D135782154           | 10-10-2007           | 5                    | Mohamed Amine Hafeth | 5.5                  | 7.0                  | 8.0                  | 7.5                  | 7.5                  | 4.0                  | ...                  | 5.5                  | 5.5                  | 5.0                  | 4                    | 4.0                  | 7.0                  | 5.0                  | 5.0                  | 6.0                  | 5.865385             | \n",
       "| D135823231           | 19-07-2007           | 5                    | Mohamed Bendara      | 6.0                  | 8.0                  | 8.8                  | 7.5                  | 7.5                  | 5.5                  | ...                  | 5.5                  | 5.0                  | 4.0                  | 5                    | 6.0                  | 5.0                  | 5.0                  | 5.0                  | 6.5                  | 6.088462             | \n",
       "| D139796448           | 25-04-2007           | 5                    | Lahoucine Outferdine | 6.0                  | 5.5                  | 7.0                  | 6.5                  | 6.5                  | 4.0                  | ...                  | 4.0                  | 5.0                  | 4.0                  | 3                    | 4.0                  | 7.0                  | 4.0                  | 6.0                  | 5.0                  | 5.557692             | \n",
       "| D139823245           | 16-07-2006           | 5                    | Biramane Soulaimane  | 6.5                  | 6.5                  | 6.5                  | 6.0                  | 6.0                  | 6.5                  | ...                  | 5.0                  | 5.5                  | 7.0                  | 3                    | 4.0                  | 5.0                  | 5.0                  | 5.0                  | 7.0                  | 5.663462             | \n",
       "| D146116768           | 09-11-2008           | 5                    | Karima Atanam        | 8.0                  | 9.0                  | 7.0                  | 8.0                  | 8.0                  | 8.5                  | ...                  | 7.5                  | 8.0                  | 7.0                  | 6                    | 8.5                  | 7.0                  | 8.0                  | 7.0                  | 6.5                  | 7.961538             | \n",
       "| D146116770           | 13-10-2008           | 5                    | Salma Oubihi         | 7.0                  | 8.0                  | 5.5                  | 7.5                  | 7.5                  | 5.0                  | ...                  | 6.5                  | 6.5                  | 6.0                  | 4                    | 5.0                  | 7.5                  | 6.0                  | 5.0                  | 6.0                  | 6.480769             | \n",
       "\n",
       "\n"
      ],
      "text/plain": [
       "   Numero     Date.de.Naissance Niveau Nom                  Tazkia\n",
       "1  D131823243 09-08-2006        6      Mohamed Oubihi       8.0   \n",
       "2  D133823237 15-05-2006        6      Asmaa Bendara        7.5   \n",
       "3  D131823234 07-03-2007        5      Ayoub Bendara        5.0   \n",
       "4  D134823232 25-02-2008        5      Ilham Alhabib        5.5   \n",
       "5  D134823233 19-03-2007        5      Ismail Hamza         6.0   \n",
       "6  D135782154 10-10-2007        5      Mohamed Amine Hafeth 5.5   \n",
       "7  D135823231 19-07-2007        5      Mohamed Bendara      6.0   \n",
       "8  D139796448 25-04-2007        5      Lahoucine Outferdine 6.0   \n",
       "9  D139823245 16-07-2006        5      Biramane Soulaimane  6.5   \n",
       "10 D146116768 09-11-2008        5      Karima Atanam        8.0   \n",
       "11 D146116770 13-10-2008        5      Salma Oubihi         7.0   \n",
       "   Iqtidaa.wa.Istijaba Qist.wa.Hikma Qiraa Fahm.Al.Maqrou. Tarakib ...\n",
       "1  8.0                 6.0           8.5   8.5             8.5     ...\n",
       "2  7.0                 5.0           8.5   8.5             7.5     ...\n",
       "3  7.5                 6.0           6.0   6.0             4.0     ...\n",
       "4  7.0                 6.0           6.0   6.0             5.5     ...\n",
       "5  7.0                 6.5           6.0   6.0             4.5     ...\n",
       "6  7.0                 8.0           7.5   7.5             4.0     ...\n",
       "7  8.0                 8.8           7.5   7.5             5.5     ...\n",
       "8  5.5                 7.0           6.5   6.5             4.0     ...\n",
       "9  6.5                 6.5           6.0   6.0             6.5     ...\n",
       "10 9.0                 7.0           8.0   8.0             8.5     ...\n",
       "11 8.0                 5.5           7.5   7.5             5.0     ...\n",
       "   ActivitÃ.s.de.Lecture Communication.et.actes.de.langages Grammaire\n",
       "1  7.0                   7.5                                7.0      \n",
       "2  7.5                   6.5                                7.5      \n",
       "3  6.0                   7.0                                3.0      \n",
       "4  5.5                   5.0                                4.0      \n",
       "5  5.5                   5.0                                5.0      \n",
       "6  5.5                   5.5                                5.0      \n",
       "7  5.5                   5.0                                4.0      \n",
       "8  4.0                   5.0                                4.0      \n",
       "9  5.0                   5.5                                7.0      \n",
       "10 7.5                   8.0                                7.0      \n",
       "11 6.5                   6.5                                6.0      \n",
       "   Conjugaison Orth_Dictee Lexique Production.ecrite Poesie_Lecture.diction\n",
       "1  6           5.0         9.0     8.0               6.5                   \n",
       "2  5           7.0         8.0     7.5               8.5                   \n",
       "3  4           5.0         4.0     6.0               6.0                   \n",
       "4  3           4.0         4.0     5.0               6.0                   \n",
       "5  3           4.0         4.0     6.5               5.0                   \n",
       "6  4           4.0         7.0     5.0               5.0                   \n",
       "7  5           6.0         5.0     5.0               5.0                   \n",
       "8  3           4.0         7.0     4.0               6.0                   \n",
       "9  3           4.0         5.0     5.0               5.0                   \n",
       "10 6           8.5         7.0     8.0               7.0                   \n",
       "11 4           5.0         7.5     6.0               5.0                   \n",
       "   Education.sportive Moyenne \n",
       "1  7.0                7.576923\n",
       "2  7.0                7.432692\n",
       "3  6.0                5.230769\n",
       "4  6.0                5.153846\n",
       "5  7.0                5.605769\n",
       "6  6.0                5.865385\n",
       "7  6.5                6.088462\n",
       "8  5.0                5.557692\n",
       "9  7.0                5.663462\n",
       "10 6.5                7.961538\n",
       "11 6.0                6.480769"
      ]
     },
     "metadata": {},
     "output_type": "display_data"
    }
   ],
   "source": [
    "cc_data"
   ]
  },
  {
   "cell_type": "code",
   "execution_count": 70,
   "metadata": {},
   "outputs": [
    {
     "data": {
      "text/html": [
       "<ol class=list-inline>\n",
       "\t<li>11</li>\n",
       "\t<li>31</li>\n",
       "</ol>\n"
      ],
      "text/latex": [
       "\\begin{enumerate*}\n",
       "\\item 11\n",
       "\\item 31\n",
       "\\end{enumerate*}\n"
      ],
      "text/markdown": [
       "1. 11\n",
       "2. 31\n",
       "\n",
       "\n"
      ],
      "text/plain": [
       "[1] 11 31"
      ]
     },
     "metadata": {},
     "output_type": "display_data"
    }
   ],
   "source": [
    "dim(cc_data)"
   ]
  },
  {
   "cell_type": "code",
   "execution_count": 71,
   "metadata": {},
   "outputs": [
    {
     "name": "stderr",
     "output_type": "stream",
     "text": [
      "Loading required package: devtools\n",
      "Warning message in library(package, lib.loc = lib.loc, character.only = TRUE, logical.return = TRUE, :\n",
      "\"there is no package called 'devtools'\""
     ]
    }
   ],
   "source": [
    "require(devtools)"
   ]
  },
  {
   "cell_type": "code",
   "execution_count": 74,
   "metadata": {},
   "outputs": [],
   "source": [
    "library(devtools)"
   ]
  },
  {
   "cell_type": "code",
   "execution_count": 75,
   "metadata": {},
   "outputs": [
    {
     "name": "stderr",
     "output_type": "stream",
     "text": [
      "Warning message:\n",
      "\"Username parameter is deprecated. Please use miraisolutions/Xlconnect\"Downloading GitHub repo miraisolutions/Xlconnect@master\n",
      "from URL https://api.github.com/repos/miraisolutions/Xlconnect/zipball/master\n",
      "Installing XLConnect\n",
      "Installing 1 package: XLConnectJars\n",
      "Warning message:\n",
      "\"unable to access index for repository http://www.stats.ox.ac.uk/pub/RWin/bin/windows/contrib/3.5:\n",
      "  cannot open URL 'http://www.stats.ox.ac.uk/pub/RWin/bin/windows/contrib/3.5/PACKAGES'\""
     ]
    },
    {
     "name": "stdout",
     "output_type": "stream",
     "text": [
      "package 'XLConnectJars' successfully unpacked and MD5 sums checked\n",
      "\n",
      "The downloaded binary packages are in\n",
      "\tC:\\Users\\asus-A9\\AppData\\Local\\Temp\\RtmpMNxULv\\downloaded_packages\n"
     ]
    },
    {
     "name": "stderr",
     "output_type": "stream",
     "text": [
      "\"C:/Users/asus-A9/Anaconda3/envs/R_Env/lib/R/bin/x64/R\" --no-site-file  \\\n",
      "  --no-environ --no-save --no-restore --quiet CMD INSTALL  \\\n",
      "  \"C:/Users/asus-A9/AppData/Local/Temp/RtmpMNxULv/devtools1634c7d11e8/miraisolutions-xlconnect-8d1c3ad\"  \\\n",
      "  --library=\"C:/Users/asus-A9/Anaconda3/envs/R_Env/lib/R/library\"  \\\n",
      "  --install-tests \n",
      "\n"
     ]
    }
   ],
   "source": [
    "install_github(\"Xlconnect\",\n",
    "               username = \"miraisolutions\",\n",
    "               ref = \"master\")"
   ]
  },
  {
   "cell_type": "code",
   "execution_count": 82,
   "metadata": {},
   "outputs": [],
   "source": [
    "library(XML)"
   ]
  },
  {
   "cell_type": "code",
   "execution_count": 85,
   "metadata": {},
   "outputs": [
    {
     "name": "stdout",
     "output_type": "stream",
     "text": [
      "Unknown IO errorfailed to load external entity \"http://www.w3schools.com/xml/simple.xml\"\n"
     ]
    },
    {
     "ename": "ERROR",
     "evalue": "Error: 1: Unknown IO error2: failed to load external entity \"http://www.w3schools.com/xml/simple.xml\"\n\n",
     "output_type": "error",
     "traceback": [
      "Error: 1: Unknown IO error2: failed to load external entity \"http://www.w3schools.com/xml/simple.xml\"\n\nTraceback:\n",
      "1. xmlTreeParse(fileUrl, useInternal = TRUE)",
      "2. (function (msg, ...) \n . {\n .     if (length(grep(\"\\\\\\n$\", msg)) == 0) \n .         paste(msg, \"\\n\", sep = \"\")\n .     if (immediate) \n .         cat(msg)\n .     if (length(msg) == 0) {\n .         e = simpleError(paste(1:length(messages), messages, sep = \": \", \n .             collapse = \"\"))\n .         class(e) = c(class, class(e))\n .         stop(e)\n .     }\n .     messages <<- c(messages, msg)\n . })(character(0))"
     ]
    }
   ],
   "source": [
    "fileUrl = \"http://www.w3schools.com/xml/simple.xml\"\n",
    "doc <- xmlTreeParse(fileUrl, useInternal = TRUE)\n",
    "rootNode <- xmlRoot(doc)\n",
    "xmlName(rootNode)"
   ]
  },
  {
   "cell_type": "code",
   "execution_count": null,
   "metadata": {},
   "outputs": [],
   "source": []
  }
 ],
 "metadata": {
  "kernelspec": {
   "display_name": "R",
   "language": "R",
   "name": "ir"
  },
  "language_info": {
   "codemirror_mode": "r",
   "file_extension": ".r",
   "mimetype": "text/x-r-source",
   "name": "R",
   "pygments_lexer": "r",
   "version": "3.5.1"
  }
 },
 "nbformat": 4,
 "nbformat_minor": 2
}
