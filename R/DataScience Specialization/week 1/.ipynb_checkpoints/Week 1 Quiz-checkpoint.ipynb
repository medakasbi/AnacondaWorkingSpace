{
 "cells": [
  {
   "cell_type": "code",
   "execution_count": 1,
   "metadata": {},
   "outputs": [
    {
     "name": "stderr",
     "output_type": "stream",
     "text": [
      "\n",
      "Attaching package: 'dplyr'\n",
      "\n",
      "The following objects are masked from 'package:stats':\n",
      "\n",
      "    filter, lag\n",
      "\n",
      "The following objects are masked from 'package:base':\n",
      "\n",
      "    intersect, setdiff, setequal, union\n",
      "\n"
     ]
    }
   ],
   "source": [
    "library(dplyr)"
   ]
  },
  {
   "cell_type": "code",
   "execution_count": 3,
   "metadata": {},
   "outputs": [
    {
     "data": {
      "text/html": [
       "<ol class=list-inline>\n",
       "\t<li>'Data'</li>\n",
       "\t<li>'Download a file from the web.ipynb'</li>\n",
       "\t<li>'JSON.ipynb'</li>\n",
       "\t<li><span style=white-space:pre-wrap>'R  DATA.TABLE TUTORIAL (WITH 50 EXAMPLES.ipynb'</span></li>\n",
       "\t<li>'The data.table Package.ipynb'</li>\n",
       "\t<li>'Week 1 Quiz.ipynb'</li>\n",
       "</ol>\n"
      ],
      "text/latex": [
       "\\begin{enumerate*}\n",
       "\\item 'Data'\n",
       "\\item 'Download a file from the web.ipynb'\n",
       "\\item 'JSON.ipynb'\n",
       "\\item 'R  DATA.TABLE TUTORIAL (WITH 50 EXAMPLES.ipynb'\n",
       "\\item 'The data.table Package.ipynb'\n",
       "\\item 'Week 1 Quiz.ipynb'\n",
       "\\end{enumerate*}\n"
      ],
      "text/markdown": [
       "1. 'Data'\n",
       "2. 'Download a file from the web.ipynb'\n",
       "3. 'JSON.ipynb'\n",
       "4. <span style=white-space:pre-wrap>'R  DATA.TABLE TUTORIAL (WITH 50 EXAMPLES.ipynb'</span>\n",
       "5. 'The data.table Package.ipynb'\n",
       "6. 'Week 1 Quiz.ipynb'\n",
       "\n",
       "\n"
      ],
      "text/plain": [
       "[1] \"Data\"                                          \n",
       "[2] \"Download a file from the web.ipynb\"            \n",
       "[3] \"JSON.ipynb\"                                    \n",
       "[4] \"R  DATA.TABLE TUTORIAL (WITH 50 EXAMPLES.ipynb\"\n",
       "[5] \"The data.table Package.ipynb\"                  \n",
       "[6] \"Week 1 Quiz.ipynb\"                             "
      ]
     },
     "metadata": {},
     "output_type": "display_data"
    }
   ],
   "source": [
    "list.files()"
   ]
  },
  {
   "cell_type": "code",
   "execution_count": 4,
   "metadata": {},
   "outputs": [],
   "source": [
    "# url = 'https://d396qusza40orc.cloudfront.net/getdata%2Fdata%2Fss06hid.csv'\n",
    "# dest = './Data/2006 microdata survey about housing for the state of Idaho.csv'\n",
    "# datafile = download.file(url, dest)"
   ]
  },
  {
   "cell_type": "code",
   "execution_count": 6,
   "metadata": {},
   "outputs": [
    {
     "data": {
      "text/html": [
       "'Wed Dec 12 10:22:28 2018'"
      ],
      "text/latex": [
       "'Wed Dec 12 10:22:28 2018'"
      ],
      "text/markdown": [
       "'Wed Dec 12 10:22:28 2018'"
      ],
      "text/plain": [
       "[1] \"Wed Dec 12 10:22:28 2018\""
      ]
     },
     "metadata": {},
     "output_type": "display_data"
    }
   ],
   "source": [
    "# download_date = date()\n",
    "# download_date \n",
    "# 'Wed Dec 12 10:22:28 2018'"
   ]
  },
  {
   "cell_type": "code",
   "execution_count": 7,
   "metadata": {},
   "outputs": [],
   "source": [
    "data_file = './Data/2006 microdata survey about housing for the state of Idaho.csv'"
   ]
  },
  {
   "cell_type": "code",
   "execution_count": 10,
   "metadata": {},
   "outputs": [],
   "source": [
    "data = tbl_df(read.csv(data_file))"
   ]
  },
  {
   "cell_type": "code",
   "execution_count": 11,
   "metadata": {},
   "outputs": [
    {
     "data": {
      "text/html": [
       "<table>\n",
       "<thead><tr><th scope=col>RT</th><th scope=col>SERIALNO</th><th scope=col>DIVISION</th><th scope=col>PUMA</th><th scope=col>REGION</th><th scope=col>ST</th><th scope=col>ADJUST</th><th scope=col>WGTP</th><th scope=col>NP</th><th scope=col>TYPE</th><th scope=col>...</th><th scope=col>wgtp71</th><th scope=col>wgtp72</th><th scope=col>wgtp73</th><th scope=col>wgtp74</th><th scope=col>wgtp75</th><th scope=col>wgtp76</th><th scope=col>wgtp77</th><th scope=col>wgtp78</th><th scope=col>wgtp79</th><th scope=col>wgtp80</th></tr></thead>\n",
       "<tbody>\n",
       "\t<tr><td>H      </td><td>186    </td><td>8      </td><td>700    </td><td>4      </td><td>16     </td><td>1015675</td><td> 89    </td><td>4      </td><td>1      </td><td>...    </td><td> 81    </td><td> 27    </td><td> 93    </td><td>151    </td><td> 28    </td><td> 79    </td><td> 25    </td><td>101    </td><td>157    </td><td>129    </td></tr>\n",
       "\t<tr><td>H      </td><td>306    </td><td>8      </td><td>700    </td><td>4      </td><td>16     </td><td>1015675</td><td>310    </td><td>1      </td><td>1      </td><td>...    </td><td>292    </td><td>401    </td><td> 81    </td><td>494    </td><td>346    </td><td>496    </td><td>615    </td><td>286    </td><td>454    </td><td>260    </td></tr>\n",
       "\t<tr><td>H      </td><td>395    </td><td>8      </td><td>100    </td><td>4      </td><td>16     </td><td>1015675</td><td>106    </td><td>2      </td><td>1      </td><td>...    </td><td>123    </td><td>119    </td><td>168    </td><td>107    </td><td> 95    </td><td>101    </td><td> 30    </td><td>124    </td><td>106    </td><td> 31    </td></tr>\n",
       "\t<tr><td>H      </td><td>506    </td><td>8      </td><td>700    </td><td>4      </td><td>16     </td><td>1015675</td><td>240    </td><td>4      </td><td>1      </td><td>...    </td><td> 68    </td><td>359    </td><td>385    </td><td> 71    </td><td>234    </td><td>421    </td><td> 76    </td><td> 77    </td><td>242    </td><td>231    </td></tr>\n",
       "\t<tr><td>H      </td><td>835    </td><td>8      </td><td>800    </td><td>4      </td><td>16     </td><td>1015675</td><td>118    </td><td>4      </td><td>1      </td><td>...    </td><td>127    </td><td> 36    </td><td>119    </td><td>121    </td><td>116    </td><td>209    </td><td> 97    </td><td>176    </td><td>144    </td><td> 38    </td></tr>\n",
       "\t<tr><td>H      </td><td>989    </td><td>8      </td><td>700    </td><td>4      </td><td>16     </td><td>1015675</td><td>115    </td><td>4      </td><td>1      </td><td>...    </td><td>120    </td><td> 34    </td><td>109    </td><td>199    </td><td>116    </td><td>110    </td><td>211    </td><td>120    </td><td> 31    </td><td>189    </td></tr>\n",
       "</tbody>\n",
       "</table>\n"
      ],
      "text/latex": [
       "\\begin{tabular}{r|llllllllllllllllllllllllllllllllllllllllllllllllllllllllllllllllllllllllllllllllllllllllllllllllllllllllllllllllllllllllllllllllllllllllllllllllllllllllllllllllllllllllllllllllllllllllllll}\n",
       " RT & SERIALNO & DIVISION & PUMA & REGION & ST & ADJUST & WGTP & NP & TYPE & ... & wgtp71 & wgtp72 & wgtp73 & wgtp74 & wgtp75 & wgtp76 & wgtp77 & wgtp78 & wgtp79 & wgtp80\\\\\n",
       "\\hline\n",
       "\t H       & 186     & 8       & 700     & 4       & 16      & 1015675 &  89     & 4       & 1       & ...     &  81     &  27     &  93     & 151     &  28     &  79     &  25     & 101     & 157     & 129    \\\\\n",
       "\t H       & 306     & 8       & 700     & 4       & 16      & 1015675 & 310     & 1       & 1       & ...     & 292     & 401     &  81     & 494     & 346     & 496     & 615     & 286     & 454     & 260    \\\\\n",
       "\t H       & 395     & 8       & 100     & 4       & 16      & 1015675 & 106     & 2       & 1       & ...     & 123     & 119     & 168     & 107     &  95     & 101     &  30     & 124     & 106     &  31    \\\\\n",
       "\t H       & 506     & 8       & 700     & 4       & 16      & 1015675 & 240     & 4       & 1       & ...     &  68     & 359     & 385     &  71     & 234     & 421     &  76     &  77     & 242     & 231    \\\\\n",
       "\t H       & 835     & 8       & 800     & 4       & 16      & 1015675 & 118     & 4       & 1       & ...     & 127     &  36     & 119     & 121     & 116     & 209     &  97     & 176     & 144     &  38    \\\\\n",
       "\t H       & 989     & 8       & 700     & 4       & 16      & 1015675 & 115     & 4       & 1       & ...     & 120     &  34     & 109     & 199     & 116     & 110     & 211     & 120     &  31     & 189    \\\\\n",
       "\\end{tabular}\n"
      ],
      "text/markdown": [
       "\n",
       "RT | SERIALNO | DIVISION | PUMA | REGION | ST | ADJUST | WGTP | NP | TYPE | ... | wgtp71 | wgtp72 | wgtp73 | wgtp74 | wgtp75 | wgtp76 | wgtp77 | wgtp78 | wgtp79 | wgtp80 | \n",
       "|---|---|---|---|---|---|\n",
       "| H       | 186     | 8       | 700     | 4       | 16      | 1015675 |  89     | 4       | 1       | ...     |  81     |  27     |  93     | 151     |  28     |  79     |  25     | 101     | 157     | 129     | \n",
       "| H       | 306     | 8       | 700     | 4       | 16      | 1015675 | 310     | 1       | 1       | ...     | 292     | 401     |  81     | 494     | 346     | 496     | 615     | 286     | 454     | 260     | \n",
       "| H       | 395     | 8       | 100     | 4       | 16      | 1015675 | 106     | 2       | 1       | ...     | 123     | 119     | 168     | 107     |  95     | 101     |  30     | 124     | 106     |  31     | \n",
       "| H       | 506     | 8       | 700     | 4       | 16      | 1015675 | 240     | 4       | 1       | ...     |  68     | 359     | 385     |  71     | 234     | 421     |  76     |  77     | 242     | 231     | \n",
       "| H       | 835     | 8       | 800     | 4       | 16      | 1015675 | 118     | 4       | 1       | ...     | 127     |  36     | 119     | 121     | 116     | 209     |  97     | 176     | 144     |  38     | \n",
       "| H       | 989     | 8       | 700     | 4       | 16      | 1015675 | 115     | 4       | 1       | ...     | 120     |  34     | 109     | 199     | 116     | 110     | 211     | 120     |  31     | 189     | \n",
       "\n",
       "\n"
      ],
      "text/plain": [
       "  RT SERIALNO DIVISION PUMA REGION ST ADJUST  WGTP NP TYPE ... wgtp71 wgtp72\n",
       "1 H  186      8        700  4      16 1015675  89  4  1    ...  81     27   \n",
       "2 H  306      8        700  4      16 1015675 310  1  1    ... 292    401   \n",
       "3 H  395      8        100  4      16 1015675 106  2  1    ... 123    119   \n",
       "4 H  506      8        700  4      16 1015675 240  4  1    ...  68    359   \n",
       "5 H  835      8        800  4      16 1015675 118  4  1    ... 127     36   \n",
       "6 H  989      8        700  4      16 1015675 115  4  1    ... 120     34   \n",
       "  wgtp73 wgtp74 wgtp75 wgtp76 wgtp77 wgtp78 wgtp79 wgtp80\n",
       "1  93    151     28     79     25    101    157    129   \n",
       "2  81    494    346    496    615    286    454    260   \n",
       "3 168    107     95    101     30    124    106     31   \n",
       "4 385     71    234    421     76     77    242    231   \n",
       "5 119    121    116    209     97    176    144     38   \n",
       "6 109    199    116    110    211    120     31    189   "
      ]
     },
     "metadata": {},
     "output_type": "display_data"
    }
   ],
   "source": [
    "head(data)"
   ]
  },
  {
   "cell_type": "code",
   "execution_count": 12,
   "metadata": {},
   "outputs": [
    {
     "data": {
      "text/html": [
       "<ol class=list-inline>\n",
       "\t<li>6496</li>\n",
       "\t<li>188</li>\n",
       "</ol>\n"
      ],
      "text/latex": [
       "\\begin{enumerate*}\n",
       "\\item 6496\n",
       "\\item 188\n",
       "\\end{enumerate*}\n"
      ],
      "text/markdown": [
       "1. 6496\n",
       "2. 188\n",
       "\n",
       "\n"
      ],
      "text/plain": [
       "[1] 6496  188"
      ]
     },
     "metadata": {},
     "output_type": "display_data"
    }
   ],
   "source": [
    "dim(data)"
   ]
  },
  {
   "cell_type": "code",
   "execution_count": 14,
   "metadata": {},
   "outputs": [
    {
     "data": {
      "text/html": [
       "<table>\n",
       "<thead><tr><th scope=col>VAL</th></tr></thead>\n",
       "<tbody>\n",
       "\t<tr><td>17</td></tr>\n",
       "\t<tr><td>NA</td></tr>\n",
       "\t<tr><td>18</td></tr>\n",
       "\t<tr><td>19</td></tr>\n",
       "\t<tr><td>20</td></tr>\n",
       "\t<tr><td>15</td></tr>\n",
       "</tbody>\n",
       "</table>\n"
      ],
      "text/latex": [
       "\\begin{tabular}{r|l}\n",
       " VAL\\\\\n",
       "\\hline\n",
       "\t 17\\\\\n",
       "\t NA\\\\\n",
       "\t 18\\\\\n",
       "\t 19\\\\\n",
       "\t 20\\\\\n",
       "\t 15\\\\\n",
       "\\end{tabular}\n"
      ],
      "text/markdown": [
       "\n",
       "VAL | \n",
       "|---|---|---|---|---|---|\n",
       "| 17 | \n",
       "| NA | \n",
       "| 18 | \n",
       "| 19 | \n",
       "| 20 | \n",
       "| 15 | \n",
       "\n",
       "\n"
      ],
      "text/plain": [
       "  VAL\n",
       "1 17 \n",
       "2 NA \n",
       "3 18 \n",
       "4 19 \n",
       "5 20 \n",
       "6 15 "
      ]
     },
     "metadata": {},
     "output_type": "display_data"
    }
   ],
   "source": [
    "dt = select(data, 'VAL')\n",
    "head(dt)"
   ]
  },
  {
   "cell_type": "code",
   "execution_count": 15,
   "metadata": {},
   "outputs": [
    {
     "data": {
      "text/html": [
       "'integer'"
      ],
      "text/latex": [
       "'integer'"
      ],
      "text/markdown": [
       "'integer'"
      ],
      "text/plain": [
       "[1] \"integer\""
      ]
     },
     "metadata": {},
     "output_type": "display_data"
    }
   ],
   "source": [
    "class(dt$VAL)"
   ]
  },
  {
   "cell_type": "code",
   "execution_count": null,
   "metadata": {},
   "outputs": [],
   "source": []
  }
 ],
 "metadata": {
  "kernelspec": {
   "display_name": "R",
   "language": "R",
   "name": "ir"
  },
  "language_info": {
   "codemirror_mode": "r",
   "file_extension": ".r",
   "mimetype": "text/x-r-source",
   "name": "R",
   "pygments_lexer": "r",
   "version": "3.5.1"
  }
 },
 "nbformat": 4,
 "nbformat_minor": 2
}
