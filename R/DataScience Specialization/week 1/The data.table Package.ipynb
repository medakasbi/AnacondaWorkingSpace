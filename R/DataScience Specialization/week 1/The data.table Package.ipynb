{
 "cells": [
  {
   "cell_type": "code",
   "execution_count": 3,
   "metadata": {},
   "outputs": [],
   "source": [
    "library(data.table)"
   ]
  },
  {
   "cell_type": "code",
   "execution_count": 4,
   "metadata": {},
   "outputs": [],
   "source": [
    "df = data.frame(x=rnorm(9),\n",
    "               y=rep(c(\"a\", \"b\", \"c\"), each = 3), z = rnorm(9))"
   ]
  },
  {
   "cell_type": "code",
   "execution_count": 5,
   "metadata": {},
   "outputs": [
    {
     "data": {
      "text/html": [
       "<table>\n",
       "<thead><tr><th scope=col>x</th><th scope=col>y</th><th scope=col>z</th></tr></thead>\n",
       "<tbody>\n",
       "\t<tr><td> 1.04293584</td><td>a          </td><td>-1.3735290 </td></tr>\n",
       "\t<tr><td>-0.77257841</td><td>a          </td><td>-0.3012870 </td></tr>\n",
       "\t<tr><td>-1.49883443</td><td>a          </td><td>-0.3694201 </td></tr>\n",
       "\t<tr><td>-0.06038516</td><td>b          </td><td>-0.7701422 </td></tr>\n",
       "\t<tr><td> 1.49548252</td><td>b          </td><td>-0.7477902 </td></tr>\n",
       "\t<tr><td> 0.59271332</td><td>b          </td><td>-1.7690194 </td></tr>\n",
       "\t<tr><td> 0.09768357</td><td>c          </td><td>-1.0631972 </td></tr>\n",
       "\t<tr><td> 0.86291546</td><td>c          </td><td> 0.2226571 </td></tr>\n",
       "\t<tr><td> 0.12215513</td><td>c          </td><td>-1.3002235 </td></tr>\n",
       "</tbody>\n",
       "</table>\n"
      ],
      "text/latex": [
       "\\begin{tabular}{r|lll}\n",
       " x & y & z\\\\\n",
       "\\hline\n",
       "\t  1.04293584 & a           & -1.3735290 \\\\\n",
       "\t -0.77257841 & a           & -0.3012870 \\\\\n",
       "\t -1.49883443 & a           & -0.3694201 \\\\\n",
       "\t -0.06038516 & b           & -0.7701422 \\\\\n",
       "\t  1.49548252 & b           & -0.7477902 \\\\\n",
       "\t  0.59271332 & b           & -1.7690194 \\\\\n",
       "\t  0.09768357 & c           & -1.0631972 \\\\\n",
       "\t  0.86291546 & c           &  0.2226571 \\\\\n",
       "\t  0.12215513 & c           & -1.3002235 \\\\\n",
       "\\end{tabular}\n"
      ],
      "text/markdown": [
       "\n",
       "x | y | z | \n",
       "|---|---|---|---|---|---|---|---|---|\n",
       "|  1.04293584 | a           | -1.3735290  | \n",
       "| -0.77257841 | a           | -0.3012870  | \n",
       "| -1.49883443 | a           | -0.3694201  | \n",
       "| -0.06038516 | b           | -0.7701422  | \n",
       "|  1.49548252 | b           | -0.7477902  | \n",
       "|  0.59271332 | b           | -1.7690194  | \n",
       "|  0.09768357 | c           | -1.0631972  | \n",
       "|  0.86291546 | c           |  0.2226571  | \n",
       "|  0.12215513 | c           | -1.3002235  | \n",
       "\n",
       "\n"
      ],
      "text/plain": [
       "  x           y z         \n",
       "1  1.04293584 a -1.3735290\n",
       "2 -0.77257841 a -0.3012870\n",
       "3 -1.49883443 a -0.3694201\n",
       "4 -0.06038516 b -0.7701422\n",
       "5  1.49548252 b -0.7477902\n",
       "6  0.59271332 b -1.7690194\n",
       "7  0.09768357 c -1.0631972\n",
       "8  0.86291546 c  0.2226571\n",
       "9  0.12215513 c -1.3002235"
      ]
     },
     "metadata": {},
     "output_type": "display_data"
    }
   ],
   "source": [
    "df"
   ]
  },
  {
   "cell_type": "code",
   "execution_count": 6,
   "metadata": {},
   "outputs": [
    {
     "name": "stdout",
     "output_type": "stream",
     "text": [
      "[1] 2.69178\n",
      "[1] \"\"\n",
      "[1] -0.5480724 -9.9309800\n",
      "[1] \"\"\n",
      "[1]  1.423867 -8.620575 -5.835549\n",
      "[1] \"\"\n",
      "[1]  1.841075  6.734457 -2.895388 -3.585855\n",
      "[1] \"\"\n",
      "[1] -3.663578  1.899022 -6.236532 -6.420439  5.390303\n",
      "[1] \"\"\n",
      "[1]   1.801786   6.975212 -14.150596  -5.913379   2.159727   3.572619\n",
      "[1] \"\"\n",
      "[1]  5.3421552 -0.6885738 -0.4872168  4.0144053 -9.2493031  3.7124211  4.1502251\n",
      "[1] \"\"\n",
      "[1] -5.1431436  5.3449244  0.6962596  4.3200996  6.4048699 -7.2764109 -3.1899895\n",
      "[8]  3.3522878\n",
      "[1] \"\"\n",
      "[1] -4.5673592  3.9301563  5.8858630 -3.4840860 -3.6864617 -5.1389969  0.2561056\n",
      "[8] -1.8401049  3.2916352\n",
      "[1] \"\"\n"
     ]
    },
    {
     "data": {
      "text/html": [
       "<ol class=list-inline>\n",
       "\t<li>-0.242592485913528</li>\n",
       "\t<li>-0.0462691941890041</li>\n",
       "\t<li>0.632111233784587</li>\n",
       "\t<li>1.36507460329001</li>\n",
       "\t<li>0.966889537416122</li>\n",
       "\t<li>-1.49236650172729</li>\n",
       "\t<li>0.471871922588726</li>\n",
       "\t<li>0.352856576404341</li>\n",
       "\t<li>-1.99570569845161</li>\n",
       "</ol>\n"
      ],
      "text/latex": [
       "\\begin{enumerate*}\n",
       "\\item -0.242592485913528\n",
       "\\item -0.0462691941890041\n",
       "\\item 0.632111233784587\n",
       "\\item 1.36507460329001\n",
       "\\item 0.966889537416122\n",
       "\\item -1.49236650172729\n",
       "\\item 0.471871922588726\n",
       "\\item 0.352856576404341\n",
       "\\item -1.99570569845161\n",
       "\\end{enumerate*}\n"
      ],
      "text/markdown": [
       "1. -0.242592485913528\n",
       "2. -0.0462691941890041\n",
       "3. 0.632111233784587\n",
       "4. 1.36507460329001\n",
       "5. 0.966889537416122\n",
       "6. -1.49236650172729\n",
       "7. 0.471871922588726\n",
       "8. 0.352856576404341\n",
       "9. -1.99570569845161\n",
       "\n",
       "\n"
      ],
      "text/plain": [
       "[1] -0.24259249 -0.04626919  0.63211123  1.36507460  0.96688954 -1.49236650\n",
       "[7]  0.47187192  0.35285658 -1.99570570"
      ]
     },
     "metadata": {},
     "output_type": "display_data"
    }
   ],
   "source": [
    "for(x in 1:9){\n",
    "    print(5 * rnorm(x))\n",
    "    print(\"\")\n",
    "}\n",
    "rnorm(9)"
   ]
  },
  {
   "cell_type": "code",
   "execution_count": 7,
   "metadata": {},
   "outputs": [
    {
     "data": {
      "text/html": [
       "'x'"
      ],
      "text/latex": [
       "'x'"
      ],
      "text/markdown": [
       "'x'"
      ],
      "text/plain": [
       "[1] \"x\""
      ]
     },
     "metadata": {},
     "output_type": "display_data"
    }
   ],
   "source": [
    "rep(\"x\")"
   ]
  },
  {
   "cell_type": "code",
   "execution_count": 8,
   "metadata": {},
   "outputs": [
    {
     "data": {
      "text/html": [
       "<ol class=list-inline>\n",
       "\t<li>'a'</li>\n",
       "\t<li>'b'</li>\n",
       "\t<li>'c'</li>\n",
       "</ol>\n"
      ],
      "text/latex": [
       "\\begin{enumerate*}\n",
       "\\item 'a'\n",
       "\\item 'b'\n",
       "\\item 'c'\n",
       "\\end{enumerate*}\n"
      ],
      "text/markdown": [
       "1. 'a'\n",
       "2. 'b'\n",
       "3. 'c'\n",
       "\n",
       "\n"
      ],
      "text/plain": [
       "[1] \"a\" \"b\" \"c\""
      ]
     },
     "metadata": {},
     "output_type": "display_data"
    }
   ],
   "source": [
    "rep(c(\"a\", \"b\", \"c\"))"
   ]
  },
  {
   "cell_type": "code",
   "execution_count": 9,
   "metadata": {},
   "outputs": [
    {
     "data": {
      "text/html": [
       "<pre class=language-r><code>function (x, ...) \n",
       "NULL</code></pre>"
      ],
      "text/latex": [
       "\\begin{minted}{r}\n",
       "function (x, ...) \n",
       "NULL\n",
       "\\end{minted}"
      ],
      "text/markdown": [
       "```r\n",
       "function (x, ...) \n",
       "NULL\n",
       "```"
      ],
      "text/plain": [
       "function (x, ...) \n",
       "NULL"
      ]
     },
     "metadata": {},
     "output_type": "display_data"
    }
   ],
   "source": [
    "args(rep)"
   ]
  },
  {
   "cell_type": "code",
   "execution_count": 10,
   "metadata": {},
   "outputs": [
    {
     "data": {
      "text/html": [
       "<ol class=list-inline>\n",
       "\t<li>1</li>\n",
       "\t<li>2</li>\n",
       "\t<li>1</li>\n",
       "\t<li>2</li>\n",
       "</ol>\n"
      ],
      "text/latex": [
       "\\begin{enumerate*}\n",
       "\\item 1\n",
       "\\item 2\n",
       "\\item 1\n",
       "\\item 2\n",
       "\\end{enumerate*}\n"
      ],
      "text/markdown": [
       "1. 1\n",
       "2. 2\n",
       "3. 1\n",
       "4. 2\n",
       "\n",
       "\n"
      ],
      "text/plain": [
       "[1] 1 2 1 2"
      ]
     },
     "metadata": {},
     "output_type": "display_data"
    }
   ],
   "source": [
    "rep(1:2, 2)"
   ]
  },
  {
   "cell_type": "code",
   "execution_count": 11,
   "metadata": {},
   "outputs": [
    {
     "data": {
      "text/html": [
       "<ol class=list-inline>\n",
       "\t<li>1</li>\n",
       "\t<li>1</li>\n",
       "\t<li>2</li>\n",
       "\t<li>2</li>\n",
       "</ol>\n"
      ],
      "text/latex": [
       "\\begin{enumerate*}\n",
       "\\item 1\n",
       "\\item 1\n",
       "\\item 2\n",
       "\\item 2\n",
       "\\end{enumerate*}\n"
      ],
      "text/markdown": [
       "1. 1\n",
       "2. 1\n",
       "3. 2\n",
       "4. 2\n",
       "\n",
       "\n"
      ],
      "text/plain": [
       "[1] 1 1 2 2"
      ]
     },
     "metadata": {},
     "output_type": "display_data"
    }
   ],
   "source": [
    "rep(1:2, each=2)"
   ]
  },
  {
   "cell_type": "code",
   "execution_count": 12,
   "metadata": {},
   "outputs": [
    {
     "data": {
      "text/html": [
       "<ol class=list-inline>\n",
       "\t<li>1</li>\n",
       "\t<li>2</li>\n",
       "\t<li>3</li>\n",
       "\t<li>4</li>\n",
       "\t<li>1</li>\n",
       "\t<li>2</li>\n",
       "\t<li>3</li>\n",
       "\t<li>4</li>\n",
       "\t<li>1</li>\n",
       "\t<li>2</li>\n",
       "\t<li>3</li>\n",
       "\t<li>4</li>\n",
       "</ol>\n"
      ],
      "text/latex": [
       "\\begin{enumerate*}\n",
       "\\item 1\n",
       "\\item 2\n",
       "\\item 3\n",
       "\\item 4\n",
       "\\item 1\n",
       "\\item 2\n",
       "\\item 3\n",
       "\\item 4\n",
       "\\item 1\n",
       "\\item 2\n",
       "\\item 3\n",
       "\\item 4\n",
       "\\end{enumerate*}\n"
      ],
      "text/markdown": [
       "1. 1\n",
       "2. 2\n",
       "3. 3\n",
       "4. 4\n",
       "5. 1\n",
       "6. 2\n",
       "7. 3\n",
       "8. 4\n",
       "9. 1\n",
       "10. 2\n",
       "11. 3\n",
       "12. 4\n",
       "\n",
       "\n"
      ],
      "text/plain": [
       " [1] 1 2 3 4 1 2 3 4 1 2 3 4"
      ]
     },
     "metadata": {},
     "output_type": "display_data"
    }
   ],
   "source": [
    "rep(1:4, 3)"
   ]
  },
  {
   "cell_type": "code",
   "execution_count": 13,
   "metadata": {},
   "outputs": [
    {
     "data": {
      "text/html": [
       "<ol class=list-inline>\n",
       "\t<li>1</li>\n",
       "\t<li>1</li>\n",
       "\t<li>1</li>\n",
       "\t<li>2</li>\n",
       "\t<li>2</li>\n",
       "\t<li>2</li>\n",
       "\t<li>3</li>\n",
       "\t<li>3</li>\n",
       "\t<li>3</li>\n",
       "\t<li>4</li>\n",
       "\t<li>4</li>\n",
       "\t<li>4</li>\n",
       "</ol>\n"
      ],
      "text/latex": [
       "\\begin{enumerate*}\n",
       "\\item 1\n",
       "\\item 1\n",
       "\\item 1\n",
       "\\item 2\n",
       "\\item 2\n",
       "\\item 2\n",
       "\\item 3\n",
       "\\item 3\n",
       "\\item 3\n",
       "\\item 4\n",
       "\\item 4\n",
       "\\item 4\n",
       "\\end{enumerate*}\n"
      ],
      "text/markdown": [
       "1. 1\n",
       "2. 1\n",
       "3. 1\n",
       "4. 2\n",
       "5. 2\n",
       "6. 2\n",
       "7. 3\n",
       "8. 3\n",
       "9. 3\n",
       "10. 4\n",
       "11. 4\n",
       "12. 4\n",
       "\n",
       "\n"
      ],
      "text/plain": [
       " [1] 1 1 1 2 2 2 3 3 3 4 4 4"
      ]
     },
     "metadata": {},
     "output_type": "display_data"
    }
   ],
   "source": [
    "rep(seq(4), each= 3)"
   ]
  },
  {
   "cell_type": "code",
   "execution_count": 14,
   "metadata": {},
   "outputs": [
    {
     "data": {
      "text/html": [
       "<table>\n",
       "<thead><tr><th scope=col>note</th><th scope=col>names</th><th scope=col>matieres</th></tr></thead>\n",
       "<tbody>\n",
       "\t<tr><td>7.021293</td><td>siham   </td><td>arabe   </td></tr>\n",
       "\t<tr><td>6.349088</td><td>siham   </td><td>fran    </td></tr>\n",
       "\t<tr><td>7.189374</td><td>siham   </td><td>math    </td></tr>\n",
       "\t<tr><td>6.166247</td><td>karim   </td><td>arabe   </td></tr>\n",
       "\t<tr><td>6.301594</td><td>karim   </td><td>fran    </td></tr>\n",
       "\t<tr><td>5.067737</td><td>karim   </td><td>math    </td></tr>\n",
       "\t<tr><td>7.021293</td><td>mohamed </td><td>arabe   </td></tr>\n",
       "\t<tr><td>6.349088</td><td>mohamed </td><td>fran    </td></tr>\n",
       "\t<tr><td>7.189374</td><td>mohamed </td><td>math    </td></tr>\n",
       "\t<tr><td>6.166247</td><td>salma   </td><td>arabe   </td></tr>\n",
       "\t<tr><td>6.301594</td><td>salma   </td><td>fran    </td></tr>\n",
       "\t<tr><td>5.067737</td><td>salma   </td><td>math    </td></tr>\n",
       "</tbody>\n",
       "</table>\n"
      ],
      "text/latex": [
       "\\begin{tabular}{r|lll}\n",
       " note & names & matieres\\\\\n",
       "\\hline\n",
       "\t 7.021293 & siham    & arabe   \\\\\n",
       "\t 6.349088 & siham    & fran    \\\\\n",
       "\t 7.189374 & siham    & math    \\\\\n",
       "\t 6.166247 & karim    & arabe   \\\\\n",
       "\t 6.301594 & karim    & fran    \\\\\n",
       "\t 5.067737 & karim    & math    \\\\\n",
       "\t 7.021293 & mohamed  & arabe   \\\\\n",
       "\t 6.349088 & mohamed  & fran    \\\\\n",
       "\t 7.189374 & mohamed  & math    \\\\\n",
       "\t 6.166247 & salma    & arabe   \\\\\n",
       "\t 6.301594 & salma    & fran    \\\\\n",
       "\t 5.067737 & salma    & math    \\\\\n",
       "\\end{tabular}\n"
      ],
      "text/markdown": [
       "\n",
       "note | names | matieres | \n",
       "|---|---|---|---|---|---|---|---|---|---|---|---|\n",
       "| 7.021293 | siham    | arabe    | \n",
       "| 6.349088 | siham    | fran     | \n",
       "| 7.189374 | siham    | math     | \n",
       "| 6.166247 | karim    | arabe    | \n",
       "| 6.301594 | karim    | fran     | \n",
       "| 5.067737 | karim    | math     | \n",
       "| 7.021293 | mohamed  | arabe    | \n",
       "| 6.349088 | mohamed  | fran     | \n",
       "| 7.189374 | mohamed  | math     | \n",
       "| 6.166247 | salma    | arabe    | \n",
       "| 6.301594 | salma    | fran     | \n",
       "| 5.067737 | salma    | math     | \n",
       "\n",
       "\n"
      ],
      "text/plain": [
       "   note     names   matieres\n",
       "1  7.021293 siham   arabe   \n",
       "2  6.349088 siham   fran    \n",
       "3  7.189374 siham   math    \n",
       "4  6.166247 karim   arabe   \n",
       "5  6.301594 karim   fran    \n",
       "6  5.067737 karim   math    \n",
       "7  7.021293 mohamed arabe   \n",
       "8  6.349088 mohamed fran    \n",
       "9  7.189374 mohamed math    \n",
       "10 6.166247 salma   arabe   \n",
       "11 6.301594 salma   fran    \n",
       "12 5.067737 salma   math    "
      ]
     },
     "metadata": {},
     "output_type": "display_data"
    }
   ],
   "source": [
    "dt = data.table(note = rnorm(n = 6, mean = 7, sd = 1),\n",
    "                names= rep(c(\"siham\", 'karim', \"mohamed\", \"salma\"), each = 3),\n",
    "                matieres=rep(c('arabe', 'fran', 'math'), 4)\n",
    "               )\n",
    "dt"
   ]
  },
  {
   "cell_type": "code",
   "execution_count": 15,
   "metadata": {},
   "outputs": [
    {
     "name": "stdout",
     "output_type": "stream",
     "text": [
      "   NAME NROW NCOL MB                COLS KEY\n",
      "1:   dt   12    3  0 note,names,matieres    \n",
      "Total: 0MB\n"
     ]
    }
   ],
   "source": [
    "tables()"
   ]
  },
  {
   "cell_type": "code",
   "execution_count": 16,
   "metadata": {},
   "outputs": [
    {
     "data": {
      "text/html": [
       "<table>\n",
       "<thead><tr><th scope=col>note</th><th scope=col>names</th><th scope=col>matieres</th></tr></thead>\n",
       "<tbody>\n",
       "\t<tr><td>7.189374</td><td>siham   </td><td>math    </td></tr>\n",
       "\t<tr><td>6.166247</td><td>karim   </td><td>arabe   </td></tr>\n",
       "</tbody>\n",
       "</table>\n"
      ],
      "text/latex": [
       "\\begin{tabular}{r|lll}\n",
       " note & names & matieres\\\\\n",
       "\\hline\n",
       "\t 7.189374 & siham    & math    \\\\\n",
       "\t 6.166247 & karim    & arabe   \\\\\n",
       "\\end{tabular}\n"
      ],
      "text/markdown": [
       "\n",
       "note | names | matieres | \n",
       "|---|---|\n",
       "| 7.189374 | siham    | math     | \n",
       "| 6.166247 | karim    | arabe    | \n",
       "\n",
       "\n"
      ],
      "text/plain": [
       "  note     names matieres\n",
       "1 7.189374 siham math    \n",
       "2 6.166247 karim arabe   "
      ]
     },
     "metadata": {},
     "output_type": "display_data"
    }
   ],
   "source": [
    "dt[3:4,]"
   ]
  },
  {
   "cell_type": "code",
   "execution_count": 17,
   "metadata": {},
   "outputs": [
    {
     "data": {
      "text/html": [
       "<ol class=list-inline>\n",
       "\t<li>'data.table'</li>\n",
       "\t<li>'data.frame'</li>\n",
       "</ol>\n"
      ],
      "text/latex": [
       "\\begin{enumerate*}\n",
       "\\item 'data.table'\n",
       "\\item 'data.frame'\n",
       "\\end{enumerate*}\n"
      ],
      "text/markdown": [
       "1. 'data.table'\n",
       "2. 'data.frame'\n",
       "\n",
       "\n"
      ],
      "text/plain": [
       "[1] \"data.table\" \"data.frame\""
      ]
     },
     "metadata": {},
     "output_type": "display_data"
    }
   ],
   "source": [
    "notes_math = dt[dt$matieres == \"math\"]\n",
    "class(notes_math)"
   ]
  },
  {
   "cell_type": "code",
   "execution_count": 18,
   "metadata": {},
   "outputs": [
    {
     "data": {
      "text/html": [
       "<table>\n",
       "<thead><tr><th scope=col>note</th><th scope=col>names</th><th scope=col>matieres</th></tr></thead>\n",
       "<tbody>\n",
       "\t<tr><td>7.021293</td><td>siham   </td><td>arabe   </td></tr>\n",
       "\t<tr><td>6.349088</td><td>mohamed </td><td>fran    </td></tr>\n",
       "</tbody>\n",
       "</table>\n"
      ],
      "text/latex": [
       "\\begin{tabular}{r|lll}\n",
       " note & names & matieres\\\\\n",
       "\\hline\n",
       "\t 7.021293 & siham    & arabe   \\\\\n",
       "\t 6.349088 & mohamed  & fran    \\\\\n",
       "\\end{tabular}\n"
      ],
      "text/markdown": [
       "\n",
       "note | names | matieres | \n",
       "|---|---|\n",
       "| 7.021293 | siham    | arabe    | \n",
       "| 6.349088 | mohamed  | fran     | \n",
       "\n",
       "\n"
      ],
      "text/plain": [
       "  note     names   matieres\n",
       "1 7.021293 siham   arabe   \n",
       "2 6.349088 mohamed fran    "
      ]
     },
     "metadata": {},
     "output_type": "display_data"
    }
   ],
   "source": [
    "dt[c(1, 8)]"
   ]
  },
  {
   "cell_type": "code",
   "execution_count": 19,
   "metadata": {},
   "outputs": [
    {
     "data": {
      "text/html": [
       "<table>\n",
       "<thead><tr><th scope=col>note</th><th scope=col>matieres</th></tr></thead>\n",
       "<tbody>\n",
       "\t<tr><td>7.021293</td><td>arabe   </td></tr>\n",
       "\t<tr><td>6.349088</td><td>fran    </td></tr>\n",
       "\t<tr><td>7.189374</td><td>math    </td></tr>\n",
       "\t<tr><td>6.166247</td><td>arabe   </td></tr>\n",
       "\t<tr><td>6.301594</td><td>fran    </td></tr>\n",
       "\t<tr><td>5.067737</td><td>math    </td></tr>\n",
       "\t<tr><td>7.021293</td><td>arabe   </td></tr>\n",
       "\t<tr><td>6.349088</td><td>fran    </td></tr>\n",
       "\t<tr><td>7.189374</td><td>math    </td></tr>\n",
       "\t<tr><td>6.166247</td><td>arabe   </td></tr>\n",
       "\t<tr><td>6.301594</td><td>fran    </td></tr>\n",
       "\t<tr><td>5.067737</td><td>math    </td></tr>\n",
       "</tbody>\n",
       "</table>\n"
      ],
      "text/latex": [
       "\\begin{tabular}{r|ll}\n",
       " note & matieres\\\\\n",
       "\\hline\n",
       "\t 7.021293 & arabe   \\\\\n",
       "\t 6.349088 & fran    \\\\\n",
       "\t 7.189374 & math    \\\\\n",
       "\t 6.166247 & arabe   \\\\\n",
       "\t 6.301594 & fran    \\\\\n",
       "\t 5.067737 & math    \\\\\n",
       "\t 7.021293 & arabe   \\\\\n",
       "\t 6.349088 & fran    \\\\\n",
       "\t 7.189374 & math    \\\\\n",
       "\t 6.166247 & arabe   \\\\\n",
       "\t 6.301594 & fran    \\\\\n",
       "\t 5.067737 & math    \\\\\n",
       "\\end{tabular}\n"
      ],
      "text/markdown": [
       "\n",
       "note | matieres | \n",
       "|---|---|---|---|---|---|---|---|---|---|---|---|\n",
       "| 7.021293 | arabe    | \n",
       "| 6.349088 | fran     | \n",
       "| 7.189374 | math     | \n",
       "| 6.166247 | arabe    | \n",
       "| 6.301594 | fran     | \n",
       "| 5.067737 | math     | \n",
       "| 7.021293 | arabe    | \n",
       "| 6.349088 | fran     | \n",
       "| 7.189374 | math     | \n",
       "| 6.166247 | arabe    | \n",
       "| 6.301594 | fran     | \n",
       "| 5.067737 | math     | \n",
       "\n",
       "\n"
      ],
      "text/plain": [
       "   note     matieres\n",
       "1  7.021293 arabe   \n",
       "2  6.349088 fran    \n",
       "3  7.189374 math    \n",
       "4  6.166247 arabe   \n",
       "5  6.301594 fran    \n",
       "6  5.067737 math    \n",
       "7  7.021293 arabe   \n",
       "8  6.349088 fran    \n",
       "9  7.189374 math    \n",
       "10 6.166247 arabe   \n",
       "11 6.301594 fran    \n",
       "12 5.067737 math    "
      ]
     },
     "metadata": {},
     "output_type": "display_data"
    }
   ],
   "source": [
    "dt[, c(1, 3)]"
   ]
  },
  {
   "cell_type": "code",
   "execution_count": 20,
   "metadata": {},
   "outputs": [
    {
     "data": {
      "text/html": [
       "<table>\n",
       "<thead><tr><th scope=col>V1</th></tr></thead>\n",
       "<tbody>\n",
       "\t<tr><td>6.349222</td></tr>\n",
       "</tbody>\n",
       "</table>\n"
      ],
      "text/latex": [
       "\\begin{tabular}{r|l}\n",
       " V1\\\\\n",
       "\\hline\n",
       "\t 6.349222\\\\\n",
       "\\end{tabular}\n"
      ],
      "text/markdown": [
       "\n",
       "V1 | \n",
       "|---|\n",
       "| 6.349222 | \n",
       "\n",
       "\n"
      ],
      "text/plain": [
       "  V1      \n",
       "1 6.349222"
      ]
     },
     "metadata": {},
     "output_type": "display_data"
    }
   ],
   "source": [
    "\n",
    "dt[, list(mean(note))]"
   ]
  },
  {
   "cell_type": "code",
   "execution_count": 21,
   "metadata": {},
   "outputs": [
    {
     "data": {
      "text/plain": [
       "note\n",
       "5.06773703473066 6.16624744762895  6.3015937672529 6.34908802480219 \n",
       "               2                2                2                2 \n",
       "7.02129271693334 7.18937424155098 \n",
       "               2                2 "
      ]
     },
     "metadata": {},
     "output_type": "display_data"
    }
   ],
   "source": [
    "dt[, table(note)]\n"
   ]
  },
  {
   "cell_type": "code",
   "execution_count": 22,
   "metadata": {},
   "outputs": [
    {
     "data": {
      "text/html": [
       "<table>\n",
       "<thead><tr><th scope=col>note</th><th scope=col>prenom</th><th scope=col>nom</th><th scope=col>matieres</th></tr></thead>\n",
       "<tbody>\n",
       "\t<tr><td>6.664035</td><td>siham   </td><td>Bensalem</td><td>arabe   </td></tr>\n",
       "\t<tr><td>6.726696</td><td>siham   </td><td>Bensalem</td><td>fran    </td></tr>\n",
       "\t<tr><td>6.877091</td><td>siham   </td><td>Bensalem</td><td>math    </td></tr>\n",
       "\t<tr><td>8.659592</td><td>karim   </td><td>Abusaid </td><td>arabe   </td></tr>\n",
       "\t<tr><td>8.689894</td><td>karim   </td><td>Abusaid </td><td>fran    </td></tr>\n",
       "\t<tr><td>6.702810</td><td>karim   </td><td>Abusaid </td><td>math    </td></tr>\n",
       "\t<tr><td>6.664035</td><td>mohamed </td><td>Benahmed</td><td>arabe   </td></tr>\n",
       "\t<tr><td>6.726696</td><td>mohamed </td><td>Benahmed</td><td>fran    </td></tr>\n",
       "\t<tr><td>6.877091</td><td>mohamed </td><td>Benahmed</td><td>math    </td></tr>\n",
       "\t<tr><td>8.659592</td><td>salma   </td><td>Ouhmmou </td><td>arabe   </td></tr>\n",
       "\t<tr><td>8.689894</td><td>salma   </td><td>Ouhmmou </td><td>fran    </td></tr>\n",
       "\t<tr><td>6.702810</td><td>salma   </td><td>Ouhmmou </td><td>math    </td></tr>\n",
       "</tbody>\n",
       "</table>\n"
      ],
      "text/latex": [
       "\\begin{tabular}{r|llll}\n",
       " note & prenom & nom & matieres\\\\\n",
       "\\hline\n",
       "\t 6.664035 & siham    & Bensalem & arabe   \\\\\n",
       "\t 6.726696 & siham    & Bensalem & fran    \\\\\n",
       "\t 6.877091 & siham    & Bensalem & math    \\\\\n",
       "\t 8.659592 & karim    & Abusaid  & arabe   \\\\\n",
       "\t 8.689894 & karim    & Abusaid  & fran    \\\\\n",
       "\t 6.702810 & karim    & Abusaid  & math    \\\\\n",
       "\t 6.664035 & mohamed  & Benahmed & arabe   \\\\\n",
       "\t 6.726696 & mohamed  & Benahmed & fran    \\\\\n",
       "\t 6.877091 & mohamed  & Benahmed & math    \\\\\n",
       "\t 8.659592 & salma    & Ouhmmou  & arabe   \\\\\n",
       "\t 8.689894 & salma    & Ouhmmou  & fran    \\\\\n",
       "\t 6.702810 & salma    & Ouhmmou  & math    \\\\\n",
       "\\end{tabular}\n"
      ],
      "text/markdown": [
       "\n",
       "note | prenom | nom | matieres | \n",
       "|---|---|---|---|---|---|---|---|---|---|---|---|\n",
       "| 6.664035 | siham    | Bensalem | arabe    | \n",
       "| 6.726696 | siham    | Bensalem | fran     | \n",
       "| 6.877091 | siham    | Bensalem | math     | \n",
       "| 8.659592 | karim    | Abusaid  | arabe    | \n",
       "| 8.689894 | karim    | Abusaid  | fran     | \n",
       "| 6.702810 | karim    | Abusaid  | math     | \n",
       "| 6.664035 | mohamed  | Benahmed | arabe    | \n",
       "| 6.726696 | mohamed  | Benahmed | fran     | \n",
       "| 6.877091 | mohamed  | Benahmed | math     | \n",
       "| 8.659592 | salma    | Ouhmmou  | arabe    | \n",
       "| 8.689894 | salma    | Ouhmmou  | fran     | \n",
       "| 6.702810 | salma    | Ouhmmou  | math     | \n",
       "\n",
       "\n"
      ],
      "text/plain": [
       "   note     prenom  nom      matieres\n",
       "1  6.664035 siham   Bensalem arabe   \n",
       "2  6.726696 siham   Bensalem fran    \n",
       "3  6.877091 siham   Bensalem math    \n",
       "4  8.659592 karim   Abusaid  arabe   \n",
       "5  8.689894 karim   Abusaid  fran    \n",
       "6  6.702810 karim   Abusaid  math    \n",
       "7  6.664035 mohamed Benahmed arabe   \n",
       "8  6.726696 mohamed Benahmed fran    \n",
       "9  6.877091 mohamed Benahmed math    \n",
       "10 8.659592 salma   Ouhmmou  arabe   \n",
       "11 8.689894 salma   Ouhmmou  fran    \n",
       "12 6.702810 salma   Ouhmmou  math    "
      ]
     },
     "metadata": {},
     "output_type": "display_data"
    }
   ],
   "source": [
    "dt = data.table(note = rnorm(n = 6, mean = 7, sd = 1),\n",
    "                prenom = rep(c(\"siham\", 'karim', \"mohamed\", \"salma\"), each = 3),\n",
    "                nom = rep(c(\"Bensalem\", \"Abusaid\", \"Benahmed\", 'Ouhmmou'), each = 3),\n",
    "                matieres=rep(c('arabe', 'fran', 'math'), 4)\n",
    "               )\n",
    "dt"
   ]
  },
  {
   "cell_type": "code",
   "execution_count": 23,
   "metadata": {},
   "outputs": [
    {
     "data": {},
     "metadata": {},
     "output_type": "display_data"
    }
   ],
   "source": [
    "dt[, nom_long := paste(prenom, nom, sep = \"_\")]"
   ]
  },
  {
   "cell_type": "code",
   "execution_count": 24,
   "metadata": {},
   "outputs": [
    {
     "data": {
      "text/html": [
       "<table>\n",
       "<thead><tr><th scope=col>note</th><th scope=col>prenom</th><th scope=col>nom</th><th scope=col>matieres</th><th scope=col>nom_long</th></tr></thead>\n",
       "<tbody>\n",
       "\t<tr><td>6.664035        </td><td>siham           </td><td>Bensalem        </td><td>arabe           </td><td>siham_Bensalem  </td></tr>\n",
       "\t<tr><td>6.726696        </td><td>siham           </td><td>Bensalem        </td><td>fran            </td><td>siham_Bensalem  </td></tr>\n",
       "\t<tr><td>6.877091        </td><td>siham           </td><td>Bensalem        </td><td>math            </td><td>siham_Bensalem  </td></tr>\n",
       "\t<tr><td>8.659592        </td><td>karim           </td><td>Abusaid         </td><td>arabe           </td><td>karim_Abusaid   </td></tr>\n",
       "\t<tr><td>8.689894        </td><td>karim           </td><td>Abusaid         </td><td>fran            </td><td>karim_Abusaid   </td></tr>\n",
       "\t<tr><td>6.702810        </td><td>karim           </td><td>Abusaid         </td><td>math            </td><td>karim_Abusaid   </td></tr>\n",
       "\t<tr><td>6.664035        </td><td>mohamed         </td><td>Benahmed        </td><td>arabe           </td><td>mohamed_Benahmed</td></tr>\n",
       "\t<tr><td>6.726696        </td><td>mohamed         </td><td>Benahmed        </td><td>fran            </td><td>mohamed_Benahmed</td></tr>\n",
       "\t<tr><td>6.877091        </td><td>mohamed         </td><td>Benahmed        </td><td>math            </td><td>mohamed_Benahmed</td></tr>\n",
       "\t<tr><td>8.659592        </td><td>salma           </td><td>Ouhmmou         </td><td>arabe           </td><td>salma_Ouhmmou   </td></tr>\n",
       "\t<tr><td>8.689894        </td><td>salma           </td><td>Ouhmmou         </td><td>fran            </td><td>salma_Ouhmmou   </td></tr>\n",
       "\t<tr><td>6.702810        </td><td>salma           </td><td>Ouhmmou         </td><td>math            </td><td>salma_Ouhmmou   </td></tr>\n",
       "</tbody>\n",
       "</table>\n"
      ],
      "text/latex": [
       "\\begin{tabular}{r|lllll}\n",
       " note & prenom & nom & matieres & nom\\_long\\\\\n",
       "\\hline\n",
       "\t 6.664035           & siham              & Bensalem           & arabe              & siham\\_Bensalem  \\\\\n",
       "\t 6.726696           & siham              & Bensalem           & fran               & siham\\_Bensalem  \\\\\n",
       "\t 6.877091           & siham              & Bensalem           & math               & siham\\_Bensalem  \\\\\n",
       "\t 8.659592           & karim              & Abusaid            & arabe              & karim\\_Abusaid   \\\\\n",
       "\t 8.689894           & karim              & Abusaid            & fran               & karim\\_Abusaid   \\\\\n",
       "\t 6.702810           & karim              & Abusaid            & math               & karim\\_Abusaid   \\\\\n",
       "\t 6.664035           & mohamed            & Benahmed           & arabe              & mohamed\\_Benahmed\\\\\n",
       "\t 6.726696           & mohamed            & Benahmed           & fran               & mohamed\\_Benahmed\\\\\n",
       "\t 6.877091           & mohamed            & Benahmed           & math               & mohamed\\_Benahmed\\\\\n",
       "\t 8.659592           & salma              & Ouhmmou            & arabe              & salma\\_Ouhmmou   \\\\\n",
       "\t 8.689894           & salma              & Ouhmmou            & fran               & salma\\_Ouhmmou   \\\\\n",
       "\t 6.702810           & salma              & Ouhmmou            & math               & salma\\_Ouhmmou   \\\\\n",
       "\\end{tabular}\n"
      ],
      "text/markdown": [
       "\n",
       "note | prenom | nom | matieres | nom_long | \n",
       "|---|---|---|---|---|---|---|---|---|---|---|---|\n",
       "| 6.664035         | siham            | Bensalem         | arabe            | siham_Bensalem   | \n",
       "| 6.726696         | siham            | Bensalem         | fran             | siham_Bensalem   | \n",
       "| 6.877091         | siham            | Bensalem         | math             | siham_Bensalem   | \n",
       "| 8.659592         | karim            | Abusaid          | arabe            | karim_Abusaid    | \n",
       "| 8.689894         | karim            | Abusaid          | fran             | karim_Abusaid    | \n",
       "| 6.702810         | karim            | Abusaid          | math             | karim_Abusaid    | \n",
       "| 6.664035         | mohamed          | Benahmed         | arabe            | mohamed_Benahmed | \n",
       "| 6.726696         | mohamed          | Benahmed         | fran             | mohamed_Benahmed | \n",
       "| 6.877091         | mohamed          | Benahmed         | math             | mohamed_Benahmed | \n",
       "| 8.659592         | salma            | Ouhmmou          | arabe            | salma_Ouhmmou    | \n",
       "| 8.689894         | salma            | Ouhmmou          | fran             | salma_Ouhmmou    | \n",
       "| 6.702810         | salma            | Ouhmmou          | math             | salma_Ouhmmou    | \n",
       "\n",
       "\n"
      ],
      "text/plain": [
       "   note     prenom  nom      matieres nom_long        \n",
       "1  6.664035 siham   Bensalem arabe    siham_Bensalem  \n",
       "2  6.726696 siham   Bensalem fran     siham_Bensalem  \n",
       "3  6.877091 siham   Bensalem math     siham_Bensalem  \n",
       "4  8.659592 karim   Abusaid  arabe    karim_Abusaid   \n",
       "5  8.689894 karim   Abusaid  fran     karim_Abusaid   \n",
       "6  6.702810 karim   Abusaid  math     karim_Abusaid   \n",
       "7  6.664035 mohamed Benahmed arabe    mohamed_Benahmed\n",
       "8  6.726696 mohamed Benahmed fran     mohamed_Benahmed\n",
       "9  6.877091 mohamed Benahmed math     mohamed_Benahmed\n",
       "10 8.659592 salma   Ouhmmou  arabe    salma_Ouhmmou   \n",
       "11 8.689894 salma   Ouhmmou  fran     salma_Ouhmmou   \n",
       "12 6.702810 salma   Ouhmmou  math     salma_Ouhmmou   "
      ]
     },
     "metadata": {},
     "output_type": "display_data"
    }
   ],
   "source": [
    "dt"
   ]
  },
  {
   "cell_type": "code",
   "execution_count": 25,
   "metadata": {},
   "outputs": [
    {
     "data": {
      "text/html": [
       "<table>\n",
       "<thead><tr><th scope=col>note</th><th scope=col>prenom</th><th scope=col>nom</th><th scope=col>matieres</th><th scope=col>nom_long</th></tr></thead>\n",
       "<tbody>\n",
       "\t<tr><td>6.726696      </td><td>siham         </td><td>Bensalem      </td><td>fran          </td><td>siham_Bensalem</td></tr>\n",
       "</tbody>\n",
       "</table>\n"
      ],
      "text/latex": [
       "\\begin{tabular}{r|lllll}\n",
       " note & prenom & nom & matieres & nom\\_long\\\\\n",
       "\\hline\n",
       "\t 6.726696         & siham            & Bensalem         & fran             & siham\\_Bensalem\\\\\n",
       "\\end{tabular}\n"
      ],
      "text/markdown": [
       "\n",
       "note | prenom | nom | matieres | nom_long | \n",
       "|---|\n",
       "| 6.726696       | siham          | Bensalem       | fran           | siham_Bensalem | \n",
       "\n",
       "\n"
      ],
      "text/plain": [
       "  note     prenom nom      matieres nom_long      \n",
       "1 6.726696 siham  Bensalem fran     siham_Bensalem"
      ]
     },
     "metadata": {},
     "output_type": "display_data"
    }
   ],
   "source": [
    "dt[2,]"
   ]
  },
  {
   "cell_type": "code",
   "execution_count": 26,
   "metadata": {},
   "outputs": [
    {
     "data": {
      "text/html": [
       "<table>\n",
       "<thead><tr><th scope=col>prenom</th></tr></thead>\n",
       "<tbody>\n",
       "\t<tr><td>siham  </td></tr>\n",
       "\t<tr><td>siham  </td></tr>\n",
       "\t<tr><td>siham  </td></tr>\n",
       "\t<tr><td>karim  </td></tr>\n",
       "\t<tr><td>karim  </td></tr>\n",
       "\t<tr><td>karim  </td></tr>\n",
       "\t<tr><td>mohamed</td></tr>\n",
       "\t<tr><td>mohamed</td></tr>\n",
       "\t<tr><td>mohamed</td></tr>\n",
       "\t<tr><td>salma  </td></tr>\n",
       "\t<tr><td>salma  </td></tr>\n",
       "\t<tr><td>salma  </td></tr>\n",
       "</tbody>\n",
       "</table>\n"
      ],
      "text/latex": [
       "\\begin{tabular}{r|l}\n",
       " prenom\\\\\n",
       "\\hline\n",
       "\t siham  \\\\\n",
       "\t siham  \\\\\n",
       "\t siham  \\\\\n",
       "\t karim  \\\\\n",
       "\t karim  \\\\\n",
       "\t karim  \\\\\n",
       "\t mohamed\\\\\n",
       "\t mohamed\\\\\n",
       "\t mohamed\\\\\n",
       "\t salma  \\\\\n",
       "\t salma  \\\\\n",
       "\t salma  \\\\\n",
       "\\end{tabular}\n"
      ],
      "text/markdown": [
       "\n",
       "prenom | \n",
       "|---|---|---|---|---|---|---|---|---|---|---|---|\n",
       "| siham   | \n",
       "| siham   | \n",
       "| siham   | \n",
       "| karim   | \n",
       "| karim   | \n",
       "| karim   | \n",
       "| mohamed | \n",
       "| mohamed | \n",
       "| mohamed | \n",
       "| salma   | \n",
       "| salma   | \n",
       "| salma   | \n",
       "\n",
       "\n"
      ],
      "text/plain": [
       "   prenom \n",
       "1  siham  \n",
       "2  siham  \n",
       "3  siham  \n",
       "4  karim  \n",
       "5  karim  \n",
       "6  karim  \n",
       "7  mohamed\n",
       "8  mohamed\n",
       "9  mohamed\n",
       "10 salma  \n",
       "11 salma  \n",
       "12 salma  "
      ]
     },
     "metadata": {},
     "output_type": "display_data"
    }
   ],
   "source": [
    "dt[,2]"
   ]
  },
  {
   "cell_type": "code",
   "execution_count": 27,
   "metadata": {},
   "outputs": [
    {
     "data": {
      "text/html": [
       "<table>\n",
       "<thead><tr><th scope=col>note</th><th scope=col>prenom</th><th scope=col>nom</th><th scope=col>matieres</th><th scope=col>nom_long</th></tr></thead>\n",
       "<tbody>\n",
       "\t<tr><td>6.664035        </td><td>mohamed         </td><td>Benahmed        </td><td>arabe           </td><td>mohamed_Benahmed</td></tr>\n",
       "\t<tr><td>6.726696        </td><td>mohamed         </td><td>Benahmed        </td><td>fran            </td><td>mohamed_Benahmed</td></tr>\n",
       "\t<tr><td>6.877091        </td><td>mohamed         </td><td>Benahmed        </td><td>math            </td><td>mohamed_Benahmed</td></tr>\n",
       "</tbody>\n",
       "</table>\n"
      ],
      "text/latex": [
       "\\begin{tabular}{r|lllll}\n",
       " note & prenom & nom & matieres & nom\\_long\\\\\n",
       "\\hline\n",
       "\t 6.664035           & mohamed            & Benahmed           & arabe              & mohamed\\_Benahmed\\\\\n",
       "\t 6.726696           & mohamed            & Benahmed           & fran               & mohamed\\_Benahmed\\\\\n",
       "\t 6.877091           & mohamed            & Benahmed           & math               & mohamed\\_Benahmed\\\\\n",
       "\\end{tabular}\n"
      ],
      "text/markdown": [
       "\n",
       "note | prenom | nom | matieres | nom_long | \n",
       "|---|---|---|\n",
       "| 6.664035         | mohamed          | Benahmed         | arabe            | mohamed_Benahmed | \n",
       "| 6.726696         | mohamed          | Benahmed         | fran             | mohamed_Benahmed | \n",
       "| 6.877091         | mohamed          | Benahmed         | math             | mohamed_Benahmed | \n",
       "\n",
       "\n"
      ],
      "text/plain": [
       "  note     prenom  nom      matieres nom_long        \n",
       "1 6.664035 mohamed Benahmed arabe    mohamed_Benahmed\n",
       "2 6.726696 mohamed Benahmed fran     mohamed_Benahmed\n",
       "3 6.877091 mohamed Benahmed math     mohamed_Benahmed"
      ]
     },
     "metadata": {},
     "output_type": "display_data"
    }
   ],
   "source": [
    "dt[dt$prenom == \"mohamed\",]"
   ]
  },
  {
   "cell_type": "code",
   "execution_count": 28,
   "metadata": {},
   "outputs": [
    {
     "data": {
      "text/html": [
       "<table>\n",
       "<thead><tr><th scope=col>note</th><th scope=col>prenom</th><th scope=col>nom</th><th scope=col>matieres</th><th scope=col>nom_long</th></tr></thead>\n",
       "<tbody>\n",
       "\t<tr><td>6.877091      </td><td>siham         </td><td>Bensalem      </td><td>math          </td><td>siham_Bensalem</td></tr>\n",
       "\t<tr><td>8.659592      </td><td>karim         </td><td>Abusaid       </td><td>arabe         </td><td>karim_Abusaid </td></tr>\n",
       "</tbody>\n",
       "</table>\n"
      ],
      "text/latex": [
       "\\begin{tabular}{r|lllll}\n",
       " note & prenom & nom & matieres & nom\\_long\\\\\n",
       "\\hline\n",
       "\t 6.877091         & siham            & Bensalem         & math             & siham\\_Bensalem\\\\\n",
       "\t 8.659592         & karim            & Abusaid          & arabe            & karim\\_Abusaid \\\\\n",
       "\\end{tabular}\n"
      ],
      "text/markdown": [
       "\n",
       "note | prenom | nom | matieres | nom_long | \n",
       "|---|---|\n",
       "| 6.877091       | siham          | Bensalem       | math           | siham_Bensalem | \n",
       "| 8.659592       | karim          | Abusaid        | arabe          | karim_Abusaid  | \n",
       "\n",
       "\n"
      ],
      "text/plain": [
       "  note     prenom nom      matieres nom_long      \n",
       "1 6.877091 siham  Bensalem math     siham_Bensalem\n",
       "2 8.659592 karim  Abusaid  arabe    karim_Abusaid "
      ]
     },
     "metadata": {},
     "output_type": "display_data"
    }
   ],
   "source": [
    "dt[c(3, 4)]"
   ]
  },
  {
   "cell_type": "code",
   "execution_count": 29,
   "metadata": {},
   "outputs": [
    {
     "data": {
      "text/html": [
       "<table>\n",
       "<thead><tr><th scope=col>prenom</th><th scope=col>nom</th></tr></thead>\n",
       "<tbody>\n",
       "\t<tr><td>siham   </td><td>Bensalem</td></tr>\n",
       "\t<tr><td>siham   </td><td>Bensalem</td></tr>\n",
       "\t<tr><td>siham   </td><td>Bensalem</td></tr>\n",
       "\t<tr><td>karim   </td><td>Abusaid </td></tr>\n",
       "\t<tr><td>karim   </td><td>Abusaid </td></tr>\n",
       "\t<tr><td>karim   </td><td>Abusaid </td></tr>\n",
       "\t<tr><td>mohamed </td><td>Benahmed</td></tr>\n",
       "\t<tr><td>mohamed </td><td>Benahmed</td></tr>\n",
       "\t<tr><td>mohamed </td><td>Benahmed</td></tr>\n",
       "\t<tr><td>salma   </td><td>Ouhmmou </td></tr>\n",
       "\t<tr><td>salma   </td><td>Ouhmmou </td></tr>\n",
       "\t<tr><td>salma   </td><td>Ouhmmou </td></tr>\n",
       "</tbody>\n",
       "</table>\n"
      ],
      "text/latex": [
       "\\begin{tabular}{r|ll}\n",
       " prenom & nom\\\\\n",
       "\\hline\n",
       "\t siham    & Bensalem\\\\\n",
       "\t siham    & Bensalem\\\\\n",
       "\t siham    & Bensalem\\\\\n",
       "\t karim    & Abusaid \\\\\n",
       "\t karim    & Abusaid \\\\\n",
       "\t karim    & Abusaid \\\\\n",
       "\t mohamed  & Benahmed\\\\\n",
       "\t mohamed  & Benahmed\\\\\n",
       "\t mohamed  & Benahmed\\\\\n",
       "\t salma    & Ouhmmou \\\\\n",
       "\t salma    & Ouhmmou \\\\\n",
       "\t salma    & Ouhmmou \\\\\n",
       "\\end{tabular}\n"
      ],
      "text/markdown": [
       "\n",
       "prenom | nom | \n",
       "|---|---|---|---|---|---|---|---|---|---|---|---|\n",
       "| siham    | Bensalem | \n",
       "| siham    | Bensalem | \n",
       "| siham    | Bensalem | \n",
       "| karim    | Abusaid  | \n",
       "| karim    | Abusaid  | \n",
       "| karim    | Abusaid  | \n",
       "| mohamed  | Benahmed | \n",
       "| mohamed  | Benahmed | \n",
       "| mohamed  | Benahmed | \n",
       "| salma    | Ouhmmou  | \n",
       "| salma    | Ouhmmou  | \n",
       "| salma    | Ouhmmou  | \n",
       "\n",
       "\n"
      ],
      "text/plain": [
       "   prenom  nom     \n",
       "1  siham   Bensalem\n",
       "2  siham   Bensalem\n",
       "3  siham   Bensalem\n",
       "4  karim   Abusaid \n",
       "5  karim   Abusaid \n",
       "6  karim   Abusaid \n",
       "7  mohamed Benahmed\n",
       "8  mohamed Benahmed\n",
       "9  mohamed Benahmed\n",
       "10 salma   Ouhmmou \n",
       "11 salma   Ouhmmou \n",
       "12 salma   Ouhmmou "
      ]
     },
     "metadata": {},
     "output_type": "display_data"
    }
   ],
   "source": [
    "dt[,c(2,3)]"
   ]
  },
  {
   "cell_type": "code",
   "execution_count": 30,
   "metadata": {},
   "outputs": [
    {
     "data": {
      "text/html": [
       "<table>\n",
       "<thead><tr><th scope=col>prenom</th><th scope=col>nom</th></tr></thead>\n",
       "<tbody>\n",
       "\t<tr><td>siham   </td><td>Bensalem</td></tr>\n",
       "\t<tr><td>siham   </td><td>Bensalem</td></tr>\n",
       "\t<tr><td>siham   </td><td>Bensalem</td></tr>\n",
       "\t<tr><td>karim   </td><td>Abusaid </td></tr>\n",
       "\t<tr><td>karim   </td><td>Abusaid </td></tr>\n",
       "\t<tr><td>karim   </td><td>Abusaid </td></tr>\n",
       "\t<tr><td>mohamed </td><td>Benahmed</td></tr>\n",
       "\t<tr><td>mohamed </td><td>Benahmed</td></tr>\n",
       "\t<tr><td>mohamed </td><td>Benahmed</td></tr>\n",
       "\t<tr><td>salma   </td><td>Ouhmmou </td></tr>\n",
       "\t<tr><td>salma   </td><td>Ouhmmou </td></tr>\n",
       "\t<tr><td>salma   </td><td>Ouhmmou </td></tr>\n",
       "</tbody>\n",
       "</table>\n"
      ],
      "text/latex": [
       "\\begin{tabular}{r|ll}\n",
       " prenom & nom\\\\\n",
       "\\hline\n",
       "\t siham    & Bensalem\\\\\n",
       "\t siham    & Bensalem\\\\\n",
       "\t siham    & Bensalem\\\\\n",
       "\t karim    & Abusaid \\\\\n",
       "\t karim    & Abusaid \\\\\n",
       "\t karim    & Abusaid \\\\\n",
       "\t mohamed  & Benahmed\\\\\n",
       "\t mohamed  & Benahmed\\\\\n",
       "\t mohamed  & Benahmed\\\\\n",
       "\t salma    & Ouhmmou \\\\\n",
       "\t salma    & Ouhmmou \\\\\n",
       "\t salma    & Ouhmmou \\\\\n",
       "\\end{tabular}\n"
      ],
      "text/markdown": [
       "\n",
       "prenom | nom | \n",
       "|---|---|---|---|---|---|---|---|---|---|---|---|\n",
       "| siham    | Bensalem | \n",
       "| siham    | Bensalem | \n",
       "| siham    | Bensalem | \n",
       "| karim    | Abusaid  | \n",
       "| karim    | Abusaid  | \n",
       "| karim    | Abusaid  | \n",
       "| mohamed  | Benahmed | \n",
       "| mohamed  | Benahmed | \n",
       "| mohamed  | Benahmed | \n",
       "| salma    | Ouhmmou  | \n",
       "| salma    | Ouhmmou  | \n",
       "| salma    | Ouhmmou  | \n",
       "\n",
       "\n"
      ],
      "text/plain": [
       "   prenom  nom     \n",
       "1  siham   Bensalem\n",
       "2  siham   Bensalem\n",
       "3  siham   Bensalem\n",
       "4  karim   Abusaid \n",
       "5  karim   Abusaid \n",
       "6  karim   Abusaid \n",
       "7  mohamed Benahmed\n",
       "8  mohamed Benahmed\n",
       "9  mohamed Benahmed\n",
       "10 salma   Ouhmmou \n",
       "11 salma   Ouhmmou \n",
       "12 salma   Ouhmmou "
      ]
     },
     "metadata": {},
     "output_type": "display_data"
    }
   ],
   "source": [
    "dt[, c(\"prenom\", \"nom\")]"
   ]
  },
  {
   "cell_type": "code",
   "execution_count": 32,
   "metadata": {},
   "outputs": [
    {
     "data": {
      "text/html": [
       "<table>\n",
       "<thead><tr><th scope=col>V1</th><th scope=col>V2</th></tr></thead>\n",
       "<tbody>\n",
       "\t<tr><td>7.386686</td><td>88.64023</td></tr>\n",
       "</tbody>\n",
       "</table>\n"
      ],
      "text/latex": [
       "\\begin{tabular}{r|ll}\n",
       " V1 & V2\\\\\n",
       "\\hline\n",
       "\t 7.386686 & 88.64023\\\\\n",
       "\\end{tabular}\n"
      ],
      "text/markdown": [
       "\n",
       "V1 | V2 | \n",
       "|---|\n",
       "| 7.386686 | 88.64023 | \n",
       "\n",
       "\n"
      ],
      "text/plain": [
       "  V1       V2      \n",
       "1 7.386686 88.64023"
      ]
     },
     "metadata": {},
     "output_type": "display_data"
    }
   ],
   "source": [
    "dt[, list(mean(note), sum(note))]"
   ]
  },
  {
   "cell_type": "code",
   "execution_count": 33,
   "metadata": {},
   "outputs": [
    {
     "data": {
      "text/plain": [
       "note\n",
       "6.66403471204164 6.70280994182334  6.7266957369802 6.87709065107338 \n",
       "               2                2                2                2 \n",
       "8.65959183166517 8.68989363474649 \n",
       "               2                2 "
      ]
     },
     "metadata": {},
     "output_type": "display_data"
    }
   ],
   "source": [
    "dt[, table(note)]"
   ]
  },
  {
   "cell_type": "code",
   "execution_count": 36,
   "metadata": {},
   "outputs": [
    {
     "data": {},
     "metadata": {},
     "output_type": "display_data"
    }
   ],
   "source": [
    "dt[, x:= rnorm(12)]"
   ]
  },
  {
   "cell_type": "code",
   "execution_count": 37,
   "metadata": {},
   "outputs": [
    {
     "data": {},
     "metadata": {},
     "output_type": "display_data"
    }
   ],
   "source": [
    "dt[, y := rnorm(12)]"
   ]
  },
  {
   "cell_type": "code",
   "execution_count": 40,
   "metadata": {},
   "outputs": [
    {
     "data": {},
     "metadata": {},
     "output_type": "display_data"
    }
   ],
   "source": [
    "dt[, z := rnorm(12)]"
   ]
  },
  {
   "cell_type": "code",
   "execution_count": 42,
   "metadata": {},
   "outputs": [
    {
     "data": {},
     "metadata": {},
     "output_type": "display_data"
    },
    {
     "data": {
      "text/html": [
       "<table>\n",
       "<thead><tr><th scope=col>note</th><th scope=col>prenom</th><th scope=col>nom</th><th scope=col>matieres</th><th scope=col>nom_long</th><th scope=col>x</th><th scope=col>y</th><th scope=col>z</th><th scope=col>a</th></tr></thead>\n",
       "<tbody>\n",
       "\t<tr><td>6.664035        </td><td>siham           </td><td>Bensalem        </td><td>arabe           </td><td>siham_Bensalem  </td><td>-0.58400517     </td><td> 1.0654570      </td><td>-0.4192776      </td><td>FALSE           </td></tr>\n",
       "\t<tr><td>6.726696        </td><td>siham           </td><td>Bensalem        </td><td>fran            </td><td>siham_Bensalem  </td><td>-0.07525489     </td><td> 1.6860487      </td><td> 1.0038863      </td><td>FALSE           </td></tr>\n",
       "\t<tr><td>6.877091        </td><td>siham           </td><td>Bensalem        </td><td>math            </td><td>siham_Bensalem  </td><td>-0.74357645     </td><td>-0.6342401      </td><td> 0.5968864      </td><td>FALSE           </td></tr>\n",
       "\t<tr><td>8.659592        </td><td>karim           </td><td>Abusaid         </td><td>arabe           </td><td>karim_Abusaid   </td><td> 0.63811298     </td><td> 0.3542372      </td><td>-0.4808764      </td><td> TRUE           </td></tr>\n",
       "\t<tr><td>8.689894        </td><td>karim           </td><td>Abusaid         </td><td>fran            </td><td>karim_Abusaid   </td><td>-0.16332180     </td><td>-0.3317116      </td><td>-2.2156904      </td><td>FALSE           </td></tr>\n",
       "\t<tr><td>6.702810        </td><td>karim           </td><td>Abusaid         </td><td>math            </td><td>karim_Abusaid   </td><td>-0.49025657     </td><td> 0.3536686      </td><td>-0.2255342      </td><td>FALSE           </td></tr>\n",
       "\t<tr><td>6.664035        </td><td>mohamed         </td><td>Benahmed        </td><td>arabe           </td><td>mohamed_Benahmed</td><td> 0.18072415     </td><td> 0.6353311      </td><td>-1.4426271      </td><td> TRUE           </td></tr>\n",
       "\t<tr><td>6.726696        </td><td>mohamed         </td><td>Benahmed        </td><td>fran            </td><td>mohamed_Benahmed</td><td>-2.56187853     </td><td>-1.3795227      </td><td> 0.1061144      </td><td>FALSE           </td></tr>\n",
       "\t<tr><td>6.877091        </td><td>mohamed         </td><td>Benahmed        </td><td>math            </td><td>mohamed_Benahmed</td><td>-1.12002789     </td><td>-1.0901899      </td><td>-0.8120601      </td><td>FALSE           </td></tr>\n",
       "\t<tr><td>8.659592        </td><td>salma           </td><td>Ouhmmou         </td><td>arabe           </td><td>salma_Ouhmmou   </td><td> 0.56147774     </td><td> 0.3489392      </td><td> 2.5649874      </td><td> TRUE           </td></tr>\n",
       "\t<tr><td>8.689894        </td><td>salma           </td><td>Ouhmmou         </td><td>fran            </td><td>salma_Ouhmmou   </td><td> 0.84030717     </td><td>-0.2588782      </td><td> 0.1841000      </td><td> TRUE           </td></tr>\n",
       "\t<tr><td>6.702810        </td><td>salma           </td><td>Ouhmmou         </td><td>math            </td><td>salma_Ouhmmou   </td><td>-1.11319876     </td><td>-0.0602442      </td><td> 1.2747939      </td><td>FALSE           </td></tr>\n",
       "</tbody>\n",
       "</table>\n"
      ],
      "text/latex": [
       "\\begin{tabular}{r|lllllllll}\n",
       " note & prenom & nom & matieres & nom\\_long & x & y & z & a\\\\\n",
       "\\hline\n",
       "\t 6.664035           & siham              & Bensalem           & arabe              & siham\\_Bensalem   & -0.58400517        &  1.0654570         & -0.4192776         & FALSE             \\\\\n",
       "\t 6.726696           & siham              & Bensalem           & fran               & siham\\_Bensalem   & -0.07525489        &  1.6860487         &  1.0038863         & FALSE             \\\\\n",
       "\t 6.877091           & siham              & Bensalem           & math               & siham\\_Bensalem   & -0.74357645        & -0.6342401         &  0.5968864         & FALSE             \\\\\n",
       "\t 8.659592           & karim              & Abusaid            & arabe              & karim\\_Abusaid    &  0.63811298        &  0.3542372         & -0.4808764         &  TRUE             \\\\\n",
       "\t 8.689894           & karim              & Abusaid            & fran               & karim\\_Abusaid    & -0.16332180        & -0.3317116         & -2.2156904         & FALSE             \\\\\n",
       "\t 6.702810           & karim              & Abusaid            & math               & karim\\_Abusaid    & -0.49025657        &  0.3536686         & -0.2255342         & FALSE             \\\\\n",
       "\t 6.664035           & mohamed            & Benahmed           & arabe              & mohamed\\_Benahmed &  0.18072415        &  0.6353311         & -1.4426271         &  TRUE             \\\\\n",
       "\t 6.726696           & mohamed            & Benahmed           & fran               & mohamed\\_Benahmed & -2.56187853        & -1.3795227         &  0.1061144         & FALSE             \\\\\n",
       "\t 6.877091           & mohamed            & Benahmed           & math               & mohamed\\_Benahmed & -1.12002789        & -1.0901899         & -0.8120601         & FALSE             \\\\\n",
       "\t 8.659592           & salma              & Ouhmmou            & arabe              & salma\\_Ouhmmou    &  0.56147774        &  0.3489392         &  2.5649874         &  TRUE             \\\\\n",
       "\t 8.689894           & salma              & Ouhmmou            & fran               & salma\\_Ouhmmou    &  0.84030717        & -0.2588782         &  0.1841000         &  TRUE             \\\\\n",
       "\t 6.702810           & salma              & Ouhmmou            & math               & salma\\_Ouhmmou    & -1.11319876        & -0.0602442         &  1.2747939         & FALSE             \\\\\n",
       "\\end{tabular}\n"
      ],
      "text/markdown": [
       "\n",
       "note | prenom | nom | matieres | nom_long | x | y | z | a | \n",
       "|---|---|---|---|---|---|---|---|---|---|---|---|\n",
       "| 6.664035         | siham            | Bensalem         | arabe            | siham_Bensalem   | -0.58400517      |  1.0654570       | -0.4192776       | FALSE            | \n",
       "| 6.726696         | siham            | Bensalem         | fran             | siham_Bensalem   | -0.07525489      |  1.6860487       |  1.0038863       | FALSE            | \n",
       "| 6.877091         | siham            | Bensalem         | math             | siham_Bensalem   | -0.74357645      | -0.6342401       |  0.5968864       | FALSE            | \n",
       "| 8.659592         | karim            | Abusaid          | arabe            | karim_Abusaid    |  0.63811298      |  0.3542372       | -0.4808764       |  TRUE            | \n",
       "| 8.689894         | karim            | Abusaid          | fran             | karim_Abusaid    | -0.16332180      | -0.3317116       | -2.2156904       | FALSE            | \n",
       "| 6.702810         | karim            | Abusaid          | math             | karim_Abusaid    | -0.49025657      |  0.3536686       | -0.2255342       | FALSE            | \n",
       "| 6.664035         | mohamed          | Benahmed         | arabe            | mohamed_Benahmed |  0.18072415      |  0.6353311       | -1.4426271       |  TRUE            | \n",
       "| 6.726696         | mohamed          | Benahmed         | fran             | mohamed_Benahmed | -2.56187853      | -1.3795227       |  0.1061144       | FALSE            | \n",
       "| 6.877091         | mohamed          | Benahmed         | math             | mohamed_Benahmed | -1.12002789      | -1.0901899       | -0.8120601       | FALSE            | \n",
       "| 8.659592         | salma            | Ouhmmou          | arabe            | salma_Ouhmmou    |  0.56147774      |  0.3489392       |  2.5649874       |  TRUE            | \n",
       "| 8.689894         | salma            | Ouhmmou          | fran             | salma_Ouhmmou    |  0.84030717      | -0.2588782       |  0.1841000       |  TRUE            | \n",
       "| 6.702810         | salma            | Ouhmmou          | math             | salma_Ouhmmou    | -1.11319876      | -0.0602442       |  1.2747939       | FALSE            | \n",
       "\n",
       "\n"
      ],
      "text/plain": [
       "   note     prenom  nom      matieres nom_long         x           y         \n",
       "1  6.664035 siham   Bensalem arabe    siham_Bensalem   -0.58400517  1.0654570\n",
       "2  6.726696 siham   Bensalem fran     siham_Bensalem   -0.07525489  1.6860487\n",
       "3  6.877091 siham   Bensalem math     siham_Bensalem   -0.74357645 -0.6342401\n",
       "4  8.659592 karim   Abusaid  arabe    karim_Abusaid     0.63811298  0.3542372\n",
       "5  8.689894 karim   Abusaid  fran     karim_Abusaid    -0.16332180 -0.3317116\n",
       "6  6.702810 karim   Abusaid  math     karim_Abusaid    -0.49025657  0.3536686\n",
       "7  6.664035 mohamed Benahmed arabe    mohamed_Benahmed  0.18072415  0.6353311\n",
       "8  6.726696 mohamed Benahmed fran     mohamed_Benahmed -2.56187853 -1.3795227\n",
       "9  6.877091 mohamed Benahmed math     mohamed_Benahmed -1.12002789 -1.0901899\n",
       "10 8.659592 salma   Ouhmmou  arabe    salma_Ouhmmou     0.56147774  0.3489392\n",
       "11 8.689894 salma   Ouhmmou  fran     salma_Ouhmmou     0.84030717 -0.2588782\n",
       "12 6.702810 salma   Ouhmmou  math     salma_Ouhmmou    -1.11319876 -0.0602442\n",
       "   z          a    \n",
       "1  -0.4192776 FALSE\n",
       "2   1.0038863 FALSE\n",
       "3   0.5968864 FALSE\n",
       "4  -0.4808764  TRUE\n",
       "5  -2.2156904 FALSE\n",
       "6  -0.2255342 FALSE\n",
       "7  -1.4426271  TRUE\n",
       "8   0.1061144 FALSE\n",
       "9  -0.8120601 FALSE\n",
       "10  2.5649874  TRUE\n",
       "11  0.1841000  TRUE\n",
       "12  1.2747939 FALSE"
      ]
     },
     "metadata": {},
     "output_type": "display_data"
    }
   ],
   "source": [
    "dt[, a := x>0]\n",
    "dt"
   ]
  },
  {
   "cell_type": "code",
   "execution_count": 45,
   "metadata": {},
   "outputs": [
    {
     "data": {},
     "metadata": {},
     "output_type": "display_data"
    },
    {
     "data": {
      "text/html": [
       "<table>\n",
       "<thead><tr><th scope=col>note</th><th scope=col>prenom</th><th scope=col>nom</th><th scope=col>matieres</th><th scope=col>nom_long</th><th scope=col>x</th><th scope=col>y</th><th scope=col>z</th><th scope=col>a</th><th scope=col>b</th></tr></thead>\n",
       "<tbody>\n",
       "\t<tr><td>6.664035        </td><td>siham           </td><td>Bensalem        </td><td>arabe           </td><td>siham_Bensalem  </td><td>-0.58400517     </td><td> 1.0654570      </td><td>-0.4192776      </td><td>FALSE           </td><td>6.288328        </td></tr>\n",
       "\t<tr><td>6.726696        </td><td>siham           </td><td>Bensalem        </td><td>fran            </td><td>siham_Bensalem  </td><td>-0.07525489     </td><td> 1.6860487      </td><td> 1.0038863      </td><td>FALSE           </td><td>6.288328        </td></tr>\n",
       "\t<tr><td>6.877091        </td><td>siham           </td><td>Bensalem        </td><td>math            </td><td>siham_Bensalem  </td><td>-0.74357645     </td><td>-0.6342401      </td><td> 0.5968864      </td><td>FALSE           </td><td>6.288328        </td></tr>\n",
       "\t<tr><td>8.659592        </td><td>karim           </td><td>Abusaid         </td><td>arabe           </td><td>karim_Abusaid   </td><td> 0.63811298     </td><td> 0.3542372      </td><td>-0.4808764      </td><td> TRUE           </td><td>8.012277        </td></tr>\n",
       "\t<tr><td>8.689894        </td><td>karim           </td><td>Abusaid         </td><td>fran            </td><td>karim_Abusaid   </td><td>-0.16332180     </td><td>-0.3317116      </td><td>-2.2156904      </td><td>FALSE           </td><td>8.012277        </td></tr>\n",
       "\t<tr><td>6.702810        </td><td>karim           </td><td>Abusaid         </td><td>math            </td><td>karim_Abusaid   </td><td>-0.49025657     </td><td> 0.3536686      </td><td>-0.2255342      </td><td>FALSE           </td><td>8.012277        </td></tr>\n",
       "\t<tr><td>6.664035        </td><td>mohamed         </td><td>Benahmed        </td><td>arabe           </td><td>mohamed_Benahmed</td><td> 0.18072415     </td><td> 0.6353311      </td><td>-1.4426271      </td><td> TRUE           </td><td>5.588880        </td></tr>\n",
       "\t<tr><td>6.726696        </td><td>mohamed         </td><td>Benahmed        </td><td>fran            </td><td>mohamed_Benahmed</td><td>-2.56187853     </td><td>-1.3795227      </td><td> 0.1061144      </td><td>FALSE           </td><td>5.588880        </td></tr>\n",
       "\t<tr><td>6.877091        </td><td>mohamed         </td><td>Benahmed        </td><td>math            </td><td>mohamed_Benahmed</td><td>-1.12002789     </td><td>-1.0901899      </td><td>-0.8120601      </td><td>FALSE           </td><td>5.588880        </td></tr>\n",
       "\t<tr><td>8.659592        </td><td>salma           </td><td>Ouhmmou         </td><td>arabe           </td><td>salma_Ouhmmou   </td><td> 0.56147774     </td><td> 0.3489392      </td><td> 2.5649874      </td><td> TRUE           </td><td>8.113627        </td></tr>\n",
       "\t<tr><td>8.689894        </td><td>salma           </td><td>Ouhmmou         </td><td>fran            </td><td>salma_Ouhmmou   </td><td> 0.84030717     </td><td>-0.2588782      </td><td> 0.1841000      </td><td> TRUE           </td><td>8.113627        </td></tr>\n",
       "\t<tr><td>6.702810        </td><td>salma           </td><td>Ouhmmou         </td><td>math            </td><td>salma_Ouhmmou   </td><td>-1.11319876     </td><td>-0.0602442      </td><td> 1.2747939      </td><td>FALSE           </td><td>8.113627        </td></tr>\n",
       "</tbody>\n",
       "</table>\n"
      ],
      "text/latex": [
       "\\begin{tabular}{r|llllllllll}\n",
       " note & prenom & nom & matieres & nom\\_long & x & y & z & a & b\\\\\n",
       "\\hline\n",
       "\t 6.664035           & siham              & Bensalem           & arabe              & siham\\_Bensalem   & -0.58400517        &  1.0654570         & -0.4192776         & FALSE              & 6.288328          \\\\\n",
       "\t 6.726696           & siham              & Bensalem           & fran               & siham\\_Bensalem   & -0.07525489        &  1.6860487         &  1.0038863         & FALSE              & 6.288328          \\\\\n",
       "\t 6.877091           & siham              & Bensalem           & math               & siham\\_Bensalem   & -0.74357645        & -0.6342401         &  0.5968864         & FALSE              & 6.288328          \\\\\n",
       "\t 8.659592           & karim              & Abusaid            & arabe              & karim\\_Abusaid    &  0.63811298        &  0.3542372         & -0.4808764         &  TRUE              & 8.012277          \\\\\n",
       "\t 8.689894           & karim              & Abusaid            & fran               & karim\\_Abusaid    & -0.16332180        & -0.3317116         & -2.2156904         & FALSE              & 8.012277          \\\\\n",
       "\t 6.702810           & karim              & Abusaid            & math               & karim\\_Abusaid    & -0.49025657        &  0.3536686         & -0.2255342         & FALSE              & 8.012277          \\\\\n",
       "\t 6.664035           & mohamed            & Benahmed           & arabe              & mohamed\\_Benahmed &  0.18072415        &  0.6353311         & -1.4426271         &  TRUE              & 5.588880          \\\\\n",
       "\t 6.726696           & mohamed            & Benahmed           & fran               & mohamed\\_Benahmed & -2.56187853        & -1.3795227         &  0.1061144         & FALSE              & 5.588880          \\\\\n",
       "\t 6.877091           & mohamed            & Benahmed           & math               & mohamed\\_Benahmed & -1.12002789        & -1.0901899         & -0.8120601         & FALSE              & 5.588880          \\\\\n",
       "\t 8.659592           & salma              & Ouhmmou            & arabe              & salma\\_Ouhmmou    &  0.56147774        &  0.3489392         &  2.5649874         &  TRUE              & 8.113627          \\\\\n",
       "\t 8.689894           & salma              & Ouhmmou            & fran               & salma\\_Ouhmmou    &  0.84030717        & -0.2588782         &  0.1841000         &  TRUE              & 8.113627          \\\\\n",
       "\t 6.702810           & salma              & Ouhmmou            & math               & salma\\_Ouhmmou    & -1.11319876        & -0.0602442         &  1.2747939         & FALSE              & 8.113627          \\\\\n",
       "\\end{tabular}\n"
      ],
      "text/markdown": [
       "\n",
       "note | prenom | nom | matieres | nom_long | x | y | z | a | b | \n",
       "|---|---|---|---|---|---|---|---|---|---|---|---|\n",
       "| 6.664035         | siham            | Bensalem         | arabe            | siham_Bensalem   | -0.58400517      |  1.0654570       | -0.4192776       | FALSE            | 6.288328         | \n",
       "| 6.726696         | siham            | Bensalem         | fran             | siham_Bensalem   | -0.07525489      |  1.6860487       |  1.0038863       | FALSE            | 6.288328         | \n",
       "| 6.877091         | siham            | Bensalem         | math             | siham_Bensalem   | -0.74357645      | -0.6342401       |  0.5968864       | FALSE            | 6.288328         | \n",
       "| 8.659592         | karim            | Abusaid          | arabe            | karim_Abusaid    |  0.63811298      |  0.3542372       | -0.4808764       |  TRUE            | 8.012277         | \n",
       "| 8.689894         | karim            | Abusaid          | fran             | karim_Abusaid    | -0.16332180      | -0.3317116       | -2.2156904       | FALSE            | 8.012277         | \n",
       "| 6.702810         | karim            | Abusaid          | math             | karim_Abusaid    | -0.49025657      |  0.3536686       | -0.2255342       | FALSE            | 8.012277         | \n",
       "| 6.664035         | mohamed          | Benahmed         | arabe            | mohamed_Benahmed |  0.18072415      |  0.6353311       | -1.4426271       |  TRUE            | 5.588880         | \n",
       "| 6.726696         | mohamed          | Benahmed         | fran             | mohamed_Benahmed | -2.56187853      | -1.3795227       |  0.1061144       | FALSE            | 5.588880         | \n",
       "| 6.877091         | mohamed          | Benahmed         | math             | mohamed_Benahmed | -1.12002789      | -1.0901899       | -0.8120601       | FALSE            | 5.588880         | \n",
       "| 8.659592         | salma            | Ouhmmou          | arabe            | salma_Ouhmmou    |  0.56147774      |  0.3489392       |  2.5649874       |  TRUE            | 8.113627         | \n",
       "| 8.689894         | salma            | Ouhmmou          | fran             | salma_Ouhmmou    |  0.84030717      | -0.2588782       |  0.1841000       |  TRUE            | 8.113627         | \n",
       "| 6.702810         | salma            | Ouhmmou          | math             | salma_Ouhmmou    | -1.11319876      | -0.0602442       |  1.2747939       | FALSE            | 8.113627         | \n",
       "\n",
       "\n"
      ],
      "text/plain": [
       "   note     prenom  nom      matieres nom_long         x           y         \n",
       "1  6.664035 siham   Bensalem arabe    siham_Bensalem   -0.58400517  1.0654570\n",
       "2  6.726696 siham   Bensalem fran     siham_Bensalem   -0.07525489  1.6860487\n",
       "3  6.877091 siham   Bensalem math     siham_Bensalem   -0.74357645 -0.6342401\n",
       "4  8.659592 karim   Abusaid  arabe    karim_Abusaid     0.63811298  0.3542372\n",
       "5  8.689894 karim   Abusaid  fran     karim_Abusaid    -0.16332180 -0.3317116\n",
       "6  6.702810 karim   Abusaid  math     karim_Abusaid    -0.49025657  0.3536686\n",
       "7  6.664035 mohamed Benahmed arabe    mohamed_Benahmed  0.18072415  0.6353311\n",
       "8  6.726696 mohamed Benahmed fran     mohamed_Benahmed -2.56187853 -1.3795227\n",
       "9  6.877091 mohamed Benahmed math     mohamed_Benahmed -1.12002789 -1.0901899\n",
       "10 8.659592 salma   Ouhmmou  arabe    salma_Ouhmmou     0.56147774  0.3489392\n",
       "11 8.689894 salma   Ouhmmou  fran     salma_Ouhmmou     0.84030717 -0.2588782\n",
       "12 6.702810 salma   Ouhmmou  math     salma_Ouhmmou    -1.11319876 -0.0602442\n",
       "   z          a     b       \n",
       "1  -0.4192776 FALSE 6.288328\n",
       "2   1.0038863 FALSE 6.288328\n",
       "3   0.5968864 FALSE 6.288328\n",
       "4  -0.4808764  TRUE 8.012277\n",
       "5  -2.2156904 FALSE 8.012277\n",
       "6  -0.2255342 FALSE 8.012277\n",
       "7  -1.4426271  TRUE 5.588880\n",
       "8   0.1061144 FALSE 5.588880\n",
       "9  -0.8120601 FALSE 5.588880\n",
       "10  2.5649874  TRUE 8.113627\n",
       "11  0.1841000  TRUE 8.113627\n",
       "12  1.2747939 FALSE 8.113627"
      ]
     },
     "metadata": {},
     "output_type": "display_data"
    }
   ],
   "source": [
    "dt[, b := mean(note + x), by = nom_long]\n",
    "dt"
   ]
  },
  {
   "cell_type": "code",
   "execution_count": 47,
   "metadata": {},
   "outputs": [],
   "source": [
    "set.seed(123)\n",
    "dt <- data.table(x=sample(letters[1:3], 1E5, TRUE))"
   ]
  },
  {
   "cell_type": "code",
   "execution_count": 48,
   "metadata": {},
   "outputs": [
    {
     "data": {
      "text/html": [
       "<table>\n",
       "<thead><tr><th scope=col>x</th><th scope=col>N</th></tr></thead>\n",
       "<tbody>\n",
       "\t<tr><td>a    </td><td>33387</td></tr>\n",
       "\t<tr><td>c    </td><td>33201</td></tr>\n",
       "\t<tr><td>b    </td><td>33412</td></tr>\n",
       "</tbody>\n",
       "</table>\n"
      ],
      "text/latex": [
       "\\begin{tabular}{r|ll}\n",
       " x & N\\\\\n",
       "\\hline\n",
       "\t a     & 33387\\\\\n",
       "\t c     & 33201\\\\\n",
       "\t b     & 33412\\\\\n",
       "\\end{tabular}\n"
      ],
      "text/markdown": [
       "\n",
       "x | N | \n",
       "|---|---|---|\n",
       "| a     | 33387 | \n",
       "| c     | 33201 | \n",
       "| b     | 33412 | \n",
       "\n",
       "\n"
      ],
      "text/plain": [
       "  x N    \n",
       "1 a 33387\n",
       "2 c 33201\n",
       "3 b 33412"
      ]
     },
     "metadata": {},
     "output_type": "display_data"
    }
   ],
   "source": [
    "dt[, .N, by=x]\n"
   ]
  },
  {
   "cell_type": "code",
   "execution_count": 51,
   "metadata": {},
   "outputs": [
    {
     "data": {
      "text/html": [
       "<table>\n",
       "<thead><tr><th scope=col>x</th><th scope=col>y</th></tr></thead>\n",
       "<tbody>\n",
       "\t<tr><td>a          </td><td> 0.30658468</td></tr>\n",
       "\t<tr><td>a          </td><td> 0.32274351</td></tr>\n",
       "\t<tr><td>a          </td><td> 1.36607930</td></tr>\n",
       "\t<tr><td>a          </td><td>-0.58881630</td></tr>\n",
       "\t<tr><td>a          </td><td> 1.69783186</td></tr>\n",
       "\t<tr><td>a          </td><td> 0.05636327</td></tr>\n",
       "\t<tr><td>a          </td><td>-0.09959346</td></tr>\n",
       "\t<tr><td>a          </td><td>-0.21019900</td></tr>\n",
       "\t<tr><td>a          </td><td>-1.85516274</td></tr>\n",
       "\t<tr><td>a          </td><td> 0.41500331</td></tr>\n",
       "\t<tr><td>a          </td><td> 0.50250638</td></tr>\n",
       "\t<tr><td>a          </td><td>-1.08181284</td></tr>\n",
       "\t<tr><td>a          </td><td> 2.30177216</td></tr>\n",
       "\t<tr><td>a          </td><td> 0.85554938</td></tr>\n",
       "\t<tr><td>a          </td><td> 0.28315057</td></tr>\n",
       "\t<tr><td>a          </td><td>-0.33727774</td></tr>\n",
       "\t<tr><td>a          </td><td> 1.61978305</td></tr>\n",
       "\t<tr><td>a          </td><td> 0.63488972</td></tr>\n",
       "\t<tr><td>a          </td><td> 0.81898816</td></tr>\n",
       "\t<tr><td>a          </td><td>-0.56628036</td></tr>\n",
       "\t<tr><td>a          </td><td>-0.94752868</td></tr>\n",
       "\t<tr><td>a          </td><td> 1.62341545</td></tr>\n",
       "\t<tr><td>a          </td><td>-0.41128692</td></tr>\n",
       "\t<tr><td>a          </td><td> 0.40998770</td></tr>\n",
       "\t<tr><td>a          </td><td> 0.88233079</td></tr>\n",
       "\t<tr><td>a          </td><td> 0.31632194</td></tr>\n",
       "\t<tr><td>a          </td><td>-2.26699116</td></tr>\n",
       "\t<tr><td>a          </td><td>-0.75910612</td></tr>\n",
       "\t<tr><td>a          </td><td> 0.86844629</td></tr>\n",
       "\t<tr><td>a          </td><td> 0.89530695</td></tr>\n",
       "\t<tr><td>...</td><td>...</td></tr>\n",
       "\t<tr><td>a          </td><td>-1.03758160</td></tr>\n",
       "\t<tr><td>a          </td><td>-1.09847545</td></tr>\n",
       "\t<tr><td>a          </td><td> 0.33384716</td></tr>\n",
       "\t<tr><td>a          </td><td> 3.56068910</td></tr>\n",
       "\t<tr><td>a          </td><td>-0.33113483</td></tr>\n",
       "\t<tr><td>a          </td><td>-1.10316019</td></tr>\n",
       "\t<tr><td>a          </td><td>-1.17876668</td></tr>\n",
       "\t<tr><td>a          </td><td> 0.24245798</td></tr>\n",
       "\t<tr><td>a          </td><td>-1.50419710</td></tr>\n",
       "\t<tr><td>a          </td><td>-0.27876522</td></tr>\n",
       "\t<tr><td>a          </td><td> 1.23119326</td></tr>\n",
       "\t<tr><td>a          </td><td>-0.47187066</td></tr>\n",
       "\t<tr><td>a          </td><td> 0.89385628</td></tr>\n",
       "\t<tr><td>a          </td><td> 1.53112456</td></tr>\n",
       "\t<tr><td>a          </td><td>-0.09711802</td></tr>\n",
       "\t<tr><td>a          </td><td>-0.18354047</td></tr>\n",
       "\t<tr><td>a          </td><td> 1.43449686</td></tr>\n",
       "\t<tr><td>a          </td><td> 0.48826585</td></tr>\n",
       "\t<tr><td>a          </td><td> 1.32981030</td></tr>\n",
       "\t<tr><td>a          </td><td> 0.02408197</td></tr>\n",
       "\t<tr><td>a          </td><td>-0.18144906</td></tr>\n",
       "\t<tr><td>a          </td><td> 2.92908905</td></tr>\n",
       "\t<tr><td>a          </td><td> 2.14012951</td></tr>\n",
       "\t<tr><td>a          </td><td> 1.59321997</td></tr>\n",
       "\t<tr><td>a          </td><td>-0.36625875</td></tr>\n",
       "\t<tr><td>a          </td><td>-1.12552189</td></tr>\n",
       "\t<tr><td>a          </td><td>-0.42586226</td></tr>\n",
       "\t<tr><td>a          </td><td> 1.31785788</td></tr>\n",
       "\t<tr><td>a          </td><td> 0.48966207</td></tr>\n",
       "\t<tr><td>a          </td><td>-0.60964323</td></tr>\n",
       "</tbody>\n",
       "</table>\n"
      ],
      "text/latex": [
       "\\begin{tabular}{r|ll}\n",
       " x & y\\\\\n",
       "\\hline\n",
       "\t a           &  0.30658468\\\\\n",
       "\t a           &  0.32274351\\\\\n",
       "\t a           &  1.36607930\\\\\n",
       "\t a           & -0.58881630\\\\\n",
       "\t a           &  1.69783186\\\\\n",
       "\t a           &  0.05636327\\\\\n",
       "\t a           & -0.09959346\\\\\n",
       "\t a           & -0.21019900\\\\\n",
       "\t a           & -1.85516274\\\\\n",
       "\t a           &  0.41500331\\\\\n",
       "\t a           &  0.50250638\\\\\n",
       "\t a           & -1.08181284\\\\\n",
       "\t a           &  2.30177216\\\\\n",
       "\t a           &  0.85554938\\\\\n",
       "\t a           &  0.28315057\\\\\n",
       "\t a           & -0.33727774\\\\\n",
       "\t a           &  1.61978305\\\\\n",
       "\t a           &  0.63488972\\\\\n",
       "\t a           &  0.81898816\\\\\n",
       "\t a           & -0.56628036\\\\\n",
       "\t a           & -0.94752868\\\\\n",
       "\t a           &  1.62341545\\\\\n",
       "\t a           & -0.41128692\\\\\n",
       "\t a           &  0.40998770\\\\\n",
       "\t a           &  0.88233079\\\\\n",
       "\t a           &  0.31632194\\\\\n",
       "\t a           & -2.26699116\\\\\n",
       "\t a           & -0.75910612\\\\\n",
       "\t a           &  0.86844629\\\\\n",
       "\t a           &  0.89530695\\\\\n",
       "\t ... & ...\\\\\n",
       "\t a           & -1.03758160\\\\\n",
       "\t a           & -1.09847545\\\\\n",
       "\t a           &  0.33384716\\\\\n",
       "\t a           &  3.56068910\\\\\n",
       "\t a           & -0.33113483\\\\\n",
       "\t a           & -1.10316019\\\\\n",
       "\t a           & -1.17876668\\\\\n",
       "\t a           &  0.24245798\\\\\n",
       "\t a           & -1.50419710\\\\\n",
       "\t a           & -0.27876522\\\\\n",
       "\t a           &  1.23119326\\\\\n",
       "\t a           & -0.47187066\\\\\n",
       "\t a           &  0.89385628\\\\\n",
       "\t a           &  1.53112456\\\\\n",
       "\t a           & -0.09711802\\\\\n",
       "\t a           & -0.18354047\\\\\n",
       "\t a           &  1.43449686\\\\\n",
       "\t a           &  0.48826585\\\\\n",
       "\t a           &  1.32981030\\\\\n",
       "\t a           &  0.02408197\\\\\n",
       "\t a           & -0.18144906\\\\\n",
       "\t a           &  2.92908905\\\\\n",
       "\t a           &  2.14012951\\\\\n",
       "\t a           &  1.59321997\\\\\n",
       "\t a           & -0.36625875\\\\\n",
       "\t a           & -1.12552189\\\\\n",
       "\t a           & -0.42586226\\\\\n",
       "\t a           &  1.31785788\\\\\n",
       "\t a           &  0.48966207\\\\\n",
       "\t a           & -0.60964323\\\\\n",
       "\\end{tabular}\n"
      ],
      "text/markdown": [
       "\n",
       "x | y | \n",
       "|---|---|---|---|---|---|---|---|---|---|---|---|---|---|---|---|---|---|---|---|---|---|---|---|---|---|---|---|---|---|---|---|---|---|---|---|---|---|---|---|---|---|---|---|---|---|---|---|---|---|---|---|---|---|---|---|---|---|---|---|---|\n",
       "| a           |  0.30658468 | \n",
       "| a           |  0.32274351 | \n",
       "| a           |  1.36607930 | \n",
       "| a           | -0.58881630 | \n",
       "| a           |  1.69783186 | \n",
       "| a           |  0.05636327 | \n",
       "| a           | -0.09959346 | \n",
       "| a           | -0.21019900 | \n",
       "| a           | -1.85516274 | \n",
       "| a           |  0.41500331 | \n",
       "| a           |  0.50250638 | \n",
       "| a           | -1.08181284 | \n",
       "| a           |  2.30177216 | \n",
       "| a           |  0.85554938 | \n",
       "| a           |  0.28315057 | \n",
       "| a           | -0.33727774 | \n",
       "| a           |  1.61978305 | \n",
       "| a           |  0.63488972 | \n",
       "| a           |  0.81898816 | \n",
       "| a           | -0.56628036 | \n",
       "| a           | -0.94752868 | \n",
       "| a           |  1.62341545 | \n",
       "| a           | -0.41128692 | \n",
       "| a           |  0.40998770 | \n",
       "| a           |  0.88233079 | \n",
       "| a           |  0.31632194 | \n",
       "| a           | -2.26699116 | \n",
       "| a           | -0.75910612 | \n",
       "| a           |  0.86844629 | \n",
       "| a           |  0.89530695 | \n",
       "| ... | ... | \n",
       "| a           | -1.03758160 | \n",
       "| a           | -1.09847545 | \n",
       "| a           |  0.33384716 | \n",
       "| a           |  3.56068910 | \n",
       "| a           | -0.33113483 | \n",
       "| a           | -1.10316019 | \n",
       "| a           | -1.17876668 | \n",
       "| a           |  0.24245798 | \n",
       "| a           | -1.50419710 | \n",
       "| a           | -0.27876522 | \n",
       "| a           |  1.23119326 | \n",
       "| a           | -0.47187066 | \n",
       "| a           |  0.89385628 | \n",
       "| a           |  1.53112456 | \n",
       "| a           | -0.09711802 | \n",
       "| a           | -0.18354047 | \n",
       "| a           |  1.43449686 | \n",
       "| a           |  0.48826585 | \n",
       "| a           |  1.32981030 | \n",
       "| a           |  0.02408197 | \n",
       "| a           | -0.18144906 | \n",
       "| a           |  2.92908905 | \n",
       "| a           |  2.14012951 | \n",
       "| a           |  1.59321997 | \n",
       "| a           | -0.36625875 | \n",
       "| a           | -1.12552189 | \n",
       "| a           | -0.42586226 | \n",
       "| a           |  1.31785788 | \n",
       "| a           |  0.48966207 | \n",
       "| a           | -0.60964323 | \n",
       "\n",
       "\n"
      ],
      "text/plain": [
       "    x   y          \n",
       "1   a    0.30658468\n",
       "2   a    0.32274351\n",
       "3   a    1.36607930\n",
       "4   a   -0.58881630\n",
       "5   a    1.69783186\n",
       "6   a    0.05636327\n",
       "7   a   -0.09959346\n",
       "8   a   -0.21019900\n",
       "9   a   -1.85516274\n",
       "10  a    0.41500331\n",
       "11  a    0.50250638\n",
       "12  a   -1.08181284\n",
       "13  a    2.30177216\n",
       "14  a    0.85554938\n",
       "15  a    0.28315057\n",
       "16  a   -0.33727774\n",
       "17  a    1.61978305\n",
       "18  a    0.63488972\n",
       "19  a    0.81898816\n",
       "20  a   -0.56628036\n",
       "21  a   -0.94752868\n",
       "22  a    1.62341545\n",
       "23  a   -0.41128692\n",
       "24  a    0.40998770\n",
       "25  a    0.88233079\n",
       "26  a    0.31632194\n",
       "27  a   -2.26699116\n",
       "28  a   -0.75910612\n",
       "29  a    0.86844629\n",
       "30  a    0.89530695\n",
       "... ... ...        \n",
       "71  a   -1.03758160\n",
       "72  a   -1.09847545\n",
       "73  a    0.33384716\n",
       "74  a    3.56068910\n",
       "75  a   -0.33113483\n",
       "76  a   -1.10316019\n",
       "77  a   -1.17876668\n",
       "78  a    0.24245798\n",
       "79  a   -1.50419710\n",
       "80  a   -0.27876522\n",
       "81  a    1.23119326\n",
       "82  a   -0.47187066\n",
       "83  a    0.89385628\n",
       "84  a    1.53112456\n",
       "85  a   -0.09711802\n",
       "86  a   -0.18354047\n",
       "87  a    1.43449686\n",
       "88  a    0.48826585\n",
       "89  a    1.32981030\n",
       "90  a    0.02408197\n",
       "91  a   -0.18144906\n",
       "92  a    2.92908905\n",
       "93  a    2.14012951\n",
       "94  a    1.59321997\n",
       "95  a   -0.36625875\n",
       "96  a   -1.12552189\n",
       "97  a   -0.42586226\n",
       "98  a    1.31785788\n",
       "99  a    0.48966207\n",
       "100 a   -0.60964323"
      ]
     },
     "metadata": {},
     "output_type": "display_data"
    }
   ],
   "source": [
    "dt <- data.table(x = rep(c(\"a\", \"b\", \"c\"), each = 100), y=rnorm(300))\n",
    "setkey(dt, x)\n",
    "dt['a']"
   ]
  },
  {
   "cell_type": "code",
   "execution_count": 54,
   "metadata": {},
   "outputs": [
    {
     "data": {
      "text/html": [
       "<table>\n",
       "<thead><tr><th scope=col>x</th><th scope=col>y</th><th scope=col>z</th></tr></thead>\n",
       "<tbody>\n",
       "\t<tr><td>a</td><td>1</td><td>5</td></tr>\n",
       "\t<tr><td>b</td><td>2</td><td>6</td></tr>\n",
       "</tbody>\n",
       "</table>\n"
      ],
      "text/latex": [
       "\\begin{tabular}{r|lll}\n",
       " x & y & z\\\\\n",
       "\\hline\n",
       "\t a & 1 & 5\\\\\n",
       "\t b & 2 & 6\\\\\n",
       "\\end{tabular}\n"
      ],
      "text/markdown": [
       "\n",
       "x | y | z | \n",
       "|---|---|\n",
       "| a | 1 | 5 | \n",
       "| b | 2 | 6 | \n",
       "\n",
       "\n"
      ],
      "text/plain": [
       "  x y z\n",
       "1 a 1 5\n",
       "2 b 2 6"
      ]
     },
     "metadata": {},
     "output_type": "display_data"
    }
   ],
   "source": [
    "dt1 <- data.table(x=c('a', 'b', 'c', 'dt1'), y=1:4)\n",
    "dt2 <- data.table(x = c('a', 'b', 'dt2'), z=5:7)\n",
    "setkey(dt1, x);setkey(dt2, x)\n",
    "merge(dt1, dt2)"
   ]
  },
  {
   "cell_type": "code",
   "execution_count": 55,
   "metadata": {},
   "outputs": [
    {
     "data": {
      "text/plain": [
       "   user  system elapsed \n",
       "   0.11    0.06    3.39 "
      ]
     },
     "metadata": {},
     "output_type": "display_data"
    }
   ],
   "source": [
    "big_df <- data.frame(x = rnorm(1E6), y=rnorm(1E6))\n",
    "file <- tempfile()\n",
    "write.table(big_df, file = file, \n",
    "            row.names = FALSE, \n",
    "            col.names = TRUE, \n",
    "            sep = '\\t',\n",
    "            quote = FALSE)\n",
    "system.time(fread(file))"
   ]
  },
  {
   "cell_type": "code",
   "execution_count": 57,
   "metadata": {},
   "outputs": [
    {
     "data": {
      "text/plain": [
       "   user  system elapsed \n",
       "   7.75    0.20    8.91 "
      ]
     },
     "metadata": {},
     "output_type": "display_data"
    }
   ],
   "source": [
    "system.time(read.table(file,, header = TRUE, sep = \"\\t\"))"
   ]
  },
  {
   "cell_type": "code",
   "execution_count": 58,
   "metadata": {},
   "outputs": [
    {
     "ename": "ERROR",
     "evalue": "Error in library(swirl): there is no package called 'swirl'\n",
     "output_type": "error",
     "traceback": [
      "Error in library(swirl): there is no package called 'swirl'\nTraceback:\n",
      "1. library(swirl)",
      "2. stop(txt, domain = NA)"
     ]
    }
   ],
   "source": [
    "library(swirl)"
   ]
  },
  {
   "cell_type": "code",
   "execution_count": null,
   "metadata": {},
   "outputs": [],
   "source": []
  }
 ],
 "metadata": {
  "kernelspec": {
   "display_name": "R",
   "language": "R",
   "name": "ir"
  },
  "language_info": {
   "codemirror_mode": "r",
   "file_extension": ".r",
   "mimetype": "text/x-r-source",
   "name": "R",
   "pygments_lexer": "r",
   "version": "3.5.1"
  }
 },
 "nbformat": 4,
 "nbformat_minor": 2
}
