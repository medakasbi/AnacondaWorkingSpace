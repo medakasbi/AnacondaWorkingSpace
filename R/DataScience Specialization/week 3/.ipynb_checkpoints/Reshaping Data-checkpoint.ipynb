{
 "cells": [
  {
   "cell_type": "code",
   "execution_count": 13,
   "metadata": {},
   "outputs": [],
   "source": [
    "library(reshape2)"
   ]
  },
  {
   "cell_type": "code",
   "execution_count": 14,
   "metadata": {},
   "outputs": [
    {
     "data": {
      "text/html": [
       "<table>\n",
       "<thead><tr><th></th><th scope=col>mpg</th><th scope=col>cyl</th><th scope=col>disp</th><th scope=col>hp</th><th scope=col>drat</th><th scope=col>wt</th><th scope=col>qsec</th><th scope=col>vs</th><th scope=col>am</th><th scope=col>gear</th><th scope=col>carb</th><th scope=col>carnames</th></tr></thead>\n",
       "<tbody>\n",
       "\t<tr><th scope=row>Mazda RX4</th><td>21.0             </td><td>6                </td><td>160              </td><td>110              </td><td>3.90             </td><td>2.620            </td><td>16.46            </td><td>0                </td><td>1                </td><td>4                </td><td>4                </td><td>Mazda RX4        </td></tr>\n",
       "\t<tr><th scope=row>Mazda RX4 Wag</th><td>21.0             </td><td>6                </td><td>160              </td><td>110              </td><td>3.90             </td><td>2.875            </td><td>17.02            </td><td>0                </td><td>1                </td><td>4                </td><td>4                </td><td>Mazda RX4 Wag    </td></tr>\n",
       "\t<tr><th scope=row>Datsun 710</th><td>22.8             </td><td>4                </td><td>108              </td><td> 93              </td><td>3.85             </td><td>2.320            </td><td>18.61            </td><td>1                </td><td>1                </td><td>4                </td><td>1                </td><td>Datsun 710       </td></tr>\n",
       "\t<tr><th scope=row>Hornet 4 Drive</th><td>21.4             </td><td>6                </td><td>258              </td><td>110              </td><td>3.08             </td><td>3.215            </td><td>19.44            </td><td>1                </td><td>0                </td><td>3                </td><td>1                </td><td>Hornet 4 Drive   </td></tr>\n",
       "\t<tr><th scope=row>Hornet Sportabout</th><td>18.7             </td><td>8                </td><td>360              </td><td>175              </td><td>3.15             </td><td>3.440            </td><td>17.02            </td><td>0                </td><td>0                </td><td>3                </td><td>2                </td><td>Hornet Sportabout</td></tr>\n",
       "\t<tr><th scope=row>Valiant</th><td>18.1             </td><td>6                </td><td>225              </td><td>105              </td><td>2.76             </td><td>3.460            </td><td>20.22            </td><td>1                </td><td>0                </td><td>3                </td><td>1                </td><td>Valiant          </td></tr>\n",
       "</tbody>\n",
       "</table>\n"
      ],
      "text/latex": [
       "\\begin{tabular}{r|llllllllllll}\n",
       "  & mpg & cyl & disp & hp & drat & wt & qsec & vs & am & gear & carb & carnames\\\\\n",
       "\\hline\n",
       "\tMazda RX4 & 21.0              & 6                 & 160               & 110               & 3.90              & 2.620             & 16.46             & 0                 & 1                 & 4                 & 4                 & Mazda RX4        \\\\\n",
       "\tMazda RX4 Wag & 21.0              & 6                 & 160               & 110               & 3.90              & 2.875             & 17.02             & 0                 & 1                 & 4                 & 4                 & Mazda RX4 Wag    \\\\\n",
       "\tDatsun 710 & 22.8              & 4                 & 108               &  93               & 3.85              & 2.320             & 18.61             & 1                 & 1                 & 4                 & 1                 & Datsun 710       \\\\\n",
       "\tHornet 4 Drive & 21.4              & 6                 & 258               & 110               & 3.08              & 3.215             & 19.44             & 1                 & 0                 & 3                 & 1                 & Hornet 4 Drive   \\\\\n",
       "\tHornet Sportabout & 18.7              & 8                 & 360               & 175               & 3.15              & 3.440             & 17.02             & 0                 & 0                 & 3                 & 2                 & Hornet Sportabout\\\\\n",
       "\tValiant & 18.1              & 6                 & 225               & 105               & 2.76              & 3.460             & 20.22             & 1                 & 0                 & 3                 & 1                 & Valiant          \\\\\n",
       "\\end{tabular}\n"
      ],
      "text/markdown": [
       "\n",
       "| <!--/--> | mpg | cyl | disp | hp | drat | wt | qsec | vs | am | gear | carb | carnames | \n",
       "|---|---|---|---|---|---|\n",
       "| Mazda RX4 | 21.0              | 6                 | 160               | 110               | 3.90              | 2.620             | 16.46             | 0                 | 1                 | 4                 | 4                 | Mazda RX4         | \n",
       "| Mazda RX4 Wag | 21.0              | 6                 | 160               | 110               | 3.90              | 2.875             | 17.02             | 0                 | 1                 | 4                 | 4                 | Mazda RX4 Wag     | \n",
       "| Datsun 710 | 22.8              | 4                 | 108               |  93               | 3.85              | 2.320             | 18.61             | 1                 | 1                 | 4                 | 1                 | Datsun 710        | \n",
       "| Hornet 4 Drive | 21.4              | 6                 | 258               | 110               | 3.08              | 3.215             | 19.44             | 1                 | 0                 | 3                 | 1                 | Hornet 4 Drive    | \n",
       "| Hornet Sportabout | 18.7              | 8                 | 360               | 175               | 3.15              | 3.440             | 17.02             | 0                 | 0                 | 3                 | 2                 | Hornet Sportabout | \n",
       "| Valiant | 18.1              | 6                 | 225               | 105               | 2.76              | 3.460             | 20.22             | 1                 | 0                 | 3                 | 1                 | Valiant           | \n",
       "\n",
       "\n"
      ],
      "text/plain": [
       "                  mpg  cyl disp hp  drat wt    qsec  vs am gear carb\n",
       "Mazda RX4         21.0 6   160  110 3.90 2.620 16.46 0  1  4    4   \n",
       "Mazda RX4 Wag     21.0 6   160  110 3.90 2.875 17.02 0  1  4    4   \n",
       "Datsun 710        22.8 4   108   93 3.85 2.320 18.61 1  1  4    1   \n",
       "Hornet 4 Drive    21.4 6   258  110 3.08 3.215 19.44 1  0  3    1   \n",
       "Hornet Sportabout 18.7 8   360  175 3.15 3.440 17.02 0  0  3    2   \n",
       "Valiant           18.1 6   225  105 2.76 3.460 20.22 1  0  3    1   \n",
       "                  carnames         \n",
       "Mazda RX4         Mazda RX4        \n",
       "Mazda RX4 Wag     Mazda RX4 Wag    \n",
       "Datsun 710        Datsun 710       \n",
       "Hornet 4 Drive    Hornet 4 Drive   \n",
       "Hornet Sportabout Hornet Sportabout\n",
       "Valiant           Valiant          "
      ]
     },
     "metadata": {},
     "output_type": "display_data"
    }
   ],
   "source": [
    "head(mtcars)"
   ]
  },
  {
   "cell_type": "code",
   "execution_count": 15,
   "metadata": {},
   "outputs": [
    {
     "data": {
      "text/html": [
       "<ol class=list-inline>\n",
       "\t<li>32</li>\n",
       "\t<li>12</li>\n",
       "</ol>\n"
      ],
      "text/latex": [
       "\\begin{enumerate*}\n",
       "\\item 32\n",
       "\\item 12\n",
       "\\end{enumerate*}\n"
      ],
      "text/markdown": [
       "1. 32\n",
       "2. 12\n",
       "\n",
       "\n"
      ],
      "text/plain": [
       "[1] 32 12"
      ]
     },
     "metadata": {},
     "output_type": "display_data"
    }
   ],
   "source": [
    "dim(mtcars)\n"
   ]
  },
  {
   "cell_type": "code",
   "execution_count": 16,
   "metadata": {},
   "outputs": [
    {
     "data": {
      "text/html": [
       "<ol class=list-inline>\n",
       "\t<li>'mpg'</li>\n",
       "\t<li>'cyl'</li>\n",
       "\t<li>'disp'</li>\n",
       "\t<li>'hp'</li>\n",
       "\t<li>'drat'</li>\n",
       "\t<li>'wt'</li>\n",
       "\t<li>'qsec'</li>\n",
       "\t<li>'vs'</li>\n",
       "\t<li>'am'</li>\n",
       "\t<li>'gear'</li>\n",
       "\t<li>'carb'</li>\n",
       "\t<li>'carnames'</li>\n",
       "</ol>\n"
      ],
      "text/latex": [
       "\\begin{enumerate*}\n",
       "\\item 'mpg'\n",
       "\\item 'cyl'\n",
       "\\item 'disp'\n",
       "\\item 'hp'\n",
       "\\item 'drat'\n",
       "\\item 'wt'\n",
       "\\item 'qsec'\n",
       "\\item 'vs'\n",
       "\\item 'am'\n",
       "\\item 'gear'\n",
       "\\item 'carb'\n",
       "\\item 'carnames'\n",
       "\\end{enumerate*}\n"
      ],
      "text/markdown": [
       "1. 'mpg'\n",
       "2. 'cyl'\n",
       "3. 'disp'\n",
       "4. 'hp'\n",
       "5. 'drat'\n",
       "6. 'wt'\n",
       "7. 'qsec'\n",
       "8. 'vs'\n",
       "9. 'am'\n",
       "10. 'gear'\n",
       "11. 'carb'\n",
       "12. 'carnames'\n",
       "\n",
       "\n"
      ],
      "text/plain": [
       " [1] \"mpg\"      \"cyl\"      \"disp\"     \"hp\"       \"drat\"     \"wt\"      \n",
       " [7] \"qsec\"     \"vs\"       \"am\"       \"gear\"     \"carb\"     \"carnames\""
      ]
     },
     "metadata": {},
     "output_type": "display_data"
    }
   ],
   "source": [
    "names(mtcars)"
   ]
  },
  {
   "cell_type": "code",
   "execution_count": 17,
   "metadata": {},
   "outputs": [
    {
     "data": {
      "text/html": [
       "<ol class=list-inline>\n",
       "\t<li>'Mazda RX4'</li>\n",
       "\t<li>'Mazda RX4 Wag'</li>\n",
       "\t<li>'Datsun 710'</li>\n",
       "\t<li>'Hornet 4 Drive'</li>\n",
       "\t<li>'Hornet Sportabout'</li>\n",
       "\t<li>'Valiant'</li>\n",
       "\t<li>'Duster 360'</li>\n",
       "\t<li>'Merc 240D'</li>\n",
       "\t<li>'Merc 230'</li>\n",
       "\t<li>'Merc 280'</li>\n",
       "\t<li>'Merc 280C'</li>\n",
       "\t<li>'Merc 450SE'</li>\n",
       "\t<li>'Merc 450SL'</li>\n",
       "\t<li>'Merc 450SLC'</li>\n",
       "\t<li>'Cadillac Fleetwood'</li>\n",
       "\t<li>'Lincoln Continental'</li>\n",
       "\t<li>'Chrysler Imperial'</li>\n",
       "\t<li>'Fiat 128'</li>\n",
       "\t<li>'Honda Civic'</li>\n",
       "\t<li>'Toyota Corolla'</li>\n",
       "\t<li>'Toyota Corona'</li>\n",
       "\t<li>'Dodge Challenger'</li>\n",
       "\t<li>'AMC Javelin'</li>\n",
       "\t<li>'Camaro Z28'</li>\n",
       "\t<li>'Pontiac Firebird'</li>\n",
       "\t<li>'Fiat X1-9'</li>\n",
       "\t<li>'Porsche 914-2'</li>\n",
       "\t<li>'Lotus Europa'</li>\n",
       "\t<li>'Ford Pantera L'</li>\n",
       "\t<li>'Ferrari Dino'</li>\n",
       "\t<li>'Maserati Bora'</li>\n",
       "\t<li>'Volvo 142E'</li>\n",
       "</ol>\n"
      ],
      "text/latex": [
       "\\begin{enumerate*}\n",
       "\\item 'Mazda RX4'\n",
       "\\item 'Mazda RX4 Wag'\n",
       "\\item 'Datsun 710'\n",
       "\\item 'Hornet 4 Drive'\n",
       "\\item 'Hornet Sportabout'\n",
       "\\item 'Valiant'\n",
       "\\item 'Duster 360'\n",
       "\\item 'Merc 240D'\n",
       "\\item 'Merc 230'\n",
       "\\item 'Merc 280'\n",
       "\\item 'Merc 280C'\n",
       "\\item 'Merc 450SE'\n",
       "\\item 'Merc 450SL'\n",
       "\\item 'Merc 450SLC'\n",
       "\\item 'Cadillac Fleetwood'\n",
       "\\item 'Lincoln Continental'\n",
       "\\item 'Chrysler Imperial'\n",
       "\\item 'Fiat 128'\n",
       "\\item 'Honda Civic'\n",
       "\\item 'Toyota Corolla'\n",
       "\\item 'Toyota Corona'\n",
       "\\item 'Dodge Challenger'\n",
       "\\item 'AMC Javelin'\n",
       "\\item 'Camaro Z28'\n",
       "\\item 'Pontiac Firebird'\n",
       "\\item 'Fiat X1-9'\n",
       "\\item 'Porsche 914-2'\n",
       "\\item 'Lotus Europa'\n",
       "\\item 'Ford Pantera L'\n",
       "\\item 'Ferrari Dino'\n",
       "\\item 'Maserati Bora'\n",
       "\\item 'Volvo 142E'\n",
       "\\end{enumerate*}\n"
      ],
      "text/markdown": [
       "1. 'Mazda RX4'\n",
       "2. 'Mazda RX4 Wag'\n",
       "3. 'Datsun 710'\n",
       "4. 'Hornet 4 Drive'\n",
       "5. 'Hornet Sportabout'\n",
       "6. 'Valiant'\n",
       "7. 'Duster 360'\n",
       "8. 'Merc 240D'\n",
       "9. 'Merc 230'\n",
       "10. 'Merc 280'\n",
       "11. 'Merc 280C'\n",
       "12. 'Merc 450SE'\n",
       "13. 'Merc 450SL'\n",
       "14. 'Merc 450SLC'\n",
       "15. 'Cadillac Fleetwood'\n",
       "16. 'Lincoln Continental'\n",
       "17. 'Chrysler Imperial'\n",
       "18. 'Fiat 128'\n",
       "19. 'Honda Civic'\n",
       "20. 'Toyota Corolla'\n",
       "21. 'Toyota Corona'\n",
       "22. 'Dodge Challenger'\n",
       "23. 'AMC Javelin'\n",
       "24. 'Camaro Z28'\n",
       "25. 'Pontiac Firebird'\n",
       "26. 'Fiat X1-9'\n",
       "27. 'Porsche 914-2'\n",
       "28. 'Lotus Europa'\n",
       "29. 'Ford Pantera L'\n",
       "30. 'Ferrari Dino'\n",
       "31. 'Maserati Bora'\n",
       "32. 'Volvo 142E'\n",
       "\n",
       "\n"
      ],
      "text/plain": [
       " [1] \"Mazda RX4\"           \"Mazda RX4 Wag\"       \"Datsun 710\"         \n",
       " [4] \"Hornet 4 Drive\"      \"Hornet Sportabout\"   \"Valiant\"            \n",
       " [7] \"Duster 360\"          \"Merc 240D\"           \"Merc 230\"           \n",
       "[10] \"Merc 280\"            \"Merc 280C\"           \"Merc 450SE\"         \n",
       "[13] \"Merc 450SL\"          \"Merc 450SLC\"         \"Cadillac Fleetwood\" \n",
       "[16] \"Lincoln Continental\" \"Chrysler Imperial\"   \"Fiat 128\"           \n",
       "[19] \"Honda Civic\"         \"Toyota Corolla\"      \"Toyota Corona\"      \n",
       "[22] \"Dodge Challenger\"    \"AMC Javelin\"         \"Camaro Z28\"         \n",
       "[25] \"Pontiac Firebird\"    \"Fiat X1-9\"           \"Porsche 914-2\"      \n",
       "[28] \"Lotus Europa\"        \"Ford Pantera L\"      \"Ferrari Dino\"       \n",
       "[31] \"Maserati Bora\"       \"Volvo 142E\"         "
      ]
     },
     "metadata": {},
     "output_type": "display_data"
    }
   ],
   "source": [
    "rownames(mtcars)"
   ]
  },
  {
   "cell_type": "code",
   "execution_count": 7,
   "metadata": {},
   "outputs": [],
   "source": [
    "mtcars$carnames <- rownames(mtcars)"
   ]
  },
  {
   "cell_type": "code",
   "execution_count": 8,
   "metadata": {},
   "outputs": [
    {
     "data": {
      "text/html": [
       "<table>\n",
       "<thead><tr><th scope=col>carnames</th><th scope=col>gear</th><th scope=col>cyl</th><th scope=col>variable</th><th scope=col>value</th></tr></thead>\n",
       "<tbody>\n",
       "\t<tr><td>Mazda RX4    </td><td>4            </td><td>6            </td><td>mpg          </td><td>21.0         </td></tr>\n",
       "\t<tr><td>Mazda RX4 Wag</td><td>4            </td><td>6            </td><td>mpg          </td><td>21.0         </td></tr>\n",
       "\t<tr><td>Datsun 710   </td><td>4            </td><td>4            </td><td>mpg          </td><td>22.8         </td></tr>\n",
       "</tbody>\n",
       "</table>\n"
      ],
      "text/latex": [
       "\\begin{tabular}{r|lllll}\n",
       " carnames & gear & cyl & variable & value\\\\\n",
       "\\hline\n",
       "\t Mazda RX4     & 4             & 6             & mpg           & 21.0         \\\\\n",
       "\t Mazda RX4 Wag & 4             & 6             & mpg           & 21.0         \\\\\n",
       "\t Datsun 710    & 4             & 4             & mpg           & 22.8         \\\\\n",
       "\\end{tabular}\n"
      ],
      "text/markdown": [
       "\n",
       "carnames | gear | cyl | variable | value | \n",
       "|---|---|---|\n",
       "| Mazda RX4     | 4             | 6             | mpg           | 21.0          | \n",
       "| Mazda RX4 Wag | 4             | 6             | mpg           | 21.0          | \n",
       "| Datsun 710    | 4             | 4             | mpg           | 22.8          | \n",
       "\n",
       "\n"
      ],
      "text/plain": [
       "  carnames      gear cyl variable value\n",
       "1 Mazda RX4     4    6   mpg      21.0 \n",
       "2 Mazda RX4 Wag 4    6   mpg      21.0 \n",
       "3 Datsun 710    4    4   mpg      22.8 "
      ]
     },
     "metadata": {},
     "output_type": "display_data"
    }
   ],
   "source": [
    "carmelt <- melt(mtcars,\n",
    "                id=c(\"carnames\", \"gear\", \"cyl\"),\n",
    "                measure.vars = c('mpg', 'hp'))\n",
    "head(carmelt, n=3)"
   ]
  },
  {
   "cell_type": "code",
   "execution_count": 9,
   "metadata": {},
   "outputs": [
    {
     "data": {
      "text/html": [
       "<table>\n",
       "<thead><tr><th></th><th scope=col>carnames</th><th scope=col>gear</th><th scope=col>cyl</th><th scope=col>variable</th><th scope=col>value</th></tr></thead>\n",
       "<tbody>\n",
       "\t<tr><th scope=row>62</th><td>Ferrari Dino </td><td>5            </td><td>6            </td><td>hp           </td><td>175          </td></tr>\n",
       "\t<tr><th scope=row>63</th><td>Maserati Bora</td><td>5            </td><td>8            </td><td>hp           </td><td>335          </td></tr>\n",
       "\t<tr><th scope=row>64</th><td>Volvo 142E   </td><td>4            </td><td>4            </td><td>hp           </td><td>109          </td></tr>\n",
       "</tbody>\n",
       "</table>\n"
      ],
      "text/latex": [
       "\\begin{tabular}{r|lllll}\n",
       "  & carnames & gear & cyl & variable & value\\\\\n",
       "\\hline\n",
       "\t62 & Ferrari Dino  & 5             & 6             & hp            & 175          \\\\\n",
       "\t63 & Maserati Bora & 5             & 8             & hp            & 335          \\\\\n",
       "\t64 & Volvo 142E    & 4             & 4             & hp            & 109          \\\\\n",
       "\\end{tabular}\n"
      ],
      "text/markdown": [
       "\n",
       "| <!--/--> | carnames | gear | cyl | variable | value | \n",
       "|---|---|---|\n",
       "| 62 | Ferrari Dino  | 5             | 6             | hp            | 175           | \n",
       "| 63 | Maserati Bora | 5             | 8             | hp            | 335           | \n",
       "| 64 | Volvo 142E    | 4             | 4             | hp            | 109           | \n",
       "\n",
       "\n"
      ],
      "text/plain": [
       "   carnames      gear cyl variable value\n",
       "62 Ferrari Dino  5    6   hp       175  \n",
       "63 Maserati Bora 5    8   hp       335  \n",
       "64 Volvo 142E    4    4   hp       109  "
      ]
     },
     "metadata": {},
     "output_type": "display_data"
    }
   ],
   "source": [
    "tail(carmelt, n=3)"
   ]
  },
  {
   "cell_type": "markdown",
   "metadata": {},
   "source": [
    "### Casting dataframes"
   ]
  },
  {
   "cell_type": "code",
   "execution_count": 19,
   "metadata": {},
   "outputs": [
    {
     "name": "stderr",
     "output_type": "stream",
     "text": [
      "Aggregation function missing: defaulting to length\n"
     ]
    },
    {
     "data": {
      "text/html": [
       "<table>\n",
       "<thead><tr><th scope=col>cyl</th><th scope=col>mpg</th><th scope=col>hp</th></tr></thead>\n",
       "<tbody>\n",
       "\t<tr><td>4 </td><td>11</td><td>11</td></tr>\n",
       "\t<tr><td>6 </td><td> 7</td><td> 7</td></tr>\n",
       "\t<tr><td>8 </td><td>14</td><td>14</td></tr>\n",
       "</tbody>\n",
       "</table>\n"
      ],
      "text/latex": [
       "\\begin{tabular}{r|lll}\n",
       " cyl & mpg & hp\\\\\n",
       "\\hline\n",
       "\t 4  & 11 & 11\\\\\n",
       "\t 6  &  7 &  7\\\\\n",
       "\t 8  & 14 & 14\\\\\n",
       "\\end{tabular}\n"
      ],
      "text/markdown": [
       "\n",
       "cyl | mpg | hp | \n",
       "|---|---|---|\n",
       "| 4  | 11 | 11 | \n",
       "| 6  |  7 |  7 | \n",
       "| 8  | 14 | 14 | \n",
       "\n",
       "\n"
      ],
      "text/plain": [
       "  cyl mpg hp\n",
       "1 4   11  11\n",
       "2 6    7   7\n",
       "3 8   14  14"
      ]
     },
     "metadata": {},
     "output_type": "display_data"
    }
   ],
   "source": [
    "cyldata <- dcast(carmelt, cyl ~ variable)\n",
    "cyldata"
   ]
  },
  {
   "cell_type": "code",
   "execution_count": 20,
   "metadata": {},
   "outputs": [
    {
     "data": {
      "text/html": [
       "<table>\n",
       "<thead><tr><th scope=col>cyl</th><th scope=col>mpg</th><th scope=col>hp</th></tr></thead>\n",
       "<tbody>\n",
       "\t<tr><td>4 </td><td>11</td><td>11</td></tr>\n",
       "\t<tr><td>6 </td><td> 7</td><td> 7</td></tr>\n",
       "\t<tr><td>8 </td><td>14</td><td>14</td></tr>\n",
       "</tbody>\n",
       "</table>\n"
      ],
      "text/latex": [
       "\\begin{tabular}{r|lll}\n",
       " cyl & mpg & hp\\\\\n",
       "\\hline\n",
       "\t 4  & 11 & 11\\\\\n",
       "\t 6  &  7 &  7\\\\\n",
       "\t 8  & 14 & 14\\\\\n",
       "\\end{tabular}\n"
      ],
      "text/markdown": [
       "\n",
       "cyl | mpg | hp | \n",
       "|---|---|---|\n",
       "| 4  | 11 | 11 | \n",
       "| 6  |  7 |  7 | \n",
       "| 8  | 14 | 14 | \n",
       "\n",
       "\n"
      ],
      "text/plain": [
       "  cyl mpg hp\n",
       "1 4   11  11\n",
       "2 6    7   7\n",
       "3 8   14  14"
      ]
     },
     "metadata": {},
     "output_type": "display_data"
    }
   ],
   "source": [
    "head(cyldata)"
   ]
  },
  {
   "cell_type": "code",
   "execution_count": 26,
   "metadata": {},
   "outputs": [
    {
     "data": {
      "text/html": [
       "<table>\n",
       "<thead><tr><th scope=col>cyl</th><th scope=col>mpg</th><th scope=col>hp</th></tr></thead>\n",
       "<tbody>\n",
       "\t<tr><td>4     </td><td>26.66 </td><td> 82.64</td></tr>\n",
       "\t<tr><td>6     </td><td>19.74 </td><td>122.30</td></tr>\n",
       "\t<tr><td>8     </td><td>15.10 </td><td>209.20</td></tr>\n",
       "</tbody>\n",
       "</table>\n"
      ],
      "text/latex": [
       "\\begin{tabular}{r|lll}\n",
       " cyl & mpg & hp\\\\\n",
       "\\hline\n",
       "\t 4      & 26.66  &  82.64\\\\\n",
       "\t 6      & 19.74  & 122.30\\\\\n",
       "\t 8      & 15.10  & 209.20\\\\\n",
       "\\end{tabular}\n"
      ],
      "text/markdown": [
       "\n",
       "cyl | mpg | hp | \n",
       "|---|---|---|\n",
       "| 4      | 26.66  |  82.64 | \n",
       "| 6      | 19.74  | 122.30 | \n",
       "| 8      | 15.10  | 209.20 | \n",
       "\n",
       "\n"
      ],
      "text/plain": [
       "  cyl mpg   hp    \n",
       "1 4   26.66  82.64\n",
       "2 6   19.74 122.30\n",
       "3 8   15.10 209.20"
      ]
     },
     "metadata": {},
     "output_type": "display_data"
    }
   ],
   "source": [
    "cyldata <- dcast(carmelt, cyl ~ variable, mean)\n",
    "cyldata <- signif(cyldata, digits = 4)\n",
    "cyldata"
   ]
  },
  {
   "cell_type": "code",
   "execution_count": null,
   "metadata": {},
   "outputs": [],
   "source": [
    "\n"
   ]
  },
  {
   "cell_type": "code",
   "execution_count": 27,
   "metadata": {},
   "outputs": [
    {
     "data": {
      "text/html": [
       "<table>\n",
       "<thead><tr><th scope=col>count</th><th scope=col>spray</th></tr></thead>\n",
       "<tbody>\n",
       "\t<tr><td>10</td><td>A </td></tr>\n",
       "\t<tr><td> 7</td><td>A </td></tr>\n",
       "\t<tr><td>20</td><td>A </td></tr>\n",
       "\t<tr><td>14</td><td>A </td></tr>\n",
       "\t<tr><td>14</td><td>A </td></tr>\n",
       "\t<tr><td>12</td><td>A </td></tr>\n",
       "</tbody>\n",
       "</table>\n"
      ],
      "text/latex": [
       "\\begin{tabular}{r|ll}\n",
       " count & spray\\\\\n",
       "\\hline\n",
       "\t 10 & A \\\\\n",
       "\t  7 & A \\\\\n",
       "\t 20 & A \\\\\n",
       "\t 14 & A \\\\\n",
       "\t 14 & A \\\\\n",
       "\t 12 & A \\\\\n",
       "\\end{tabular}\n"
      ],
      "text/markdown": [
       "\n",
       "count | spray | \n",
       "|---|---|---|---|---|---|\n",
       "| 10 | A  | \n",
       "|  7 | A  | \n",
       "| 20 | A  | \n",
       "| 14 | A  | \n",
       "| 14 | A  | \n",
       "| 12 | A  | \n",
       "\n",
       "\n"
      ],
      "text/plain": [
       "  count spray\n",
       "1 10    A    \n",
       "2  7    A    \n",
       "3 20    A    \n",
       "4 14    A    \n",
       "5 14    A    \n",
       "6 12    A    "
      ]
     },
     "metadata": {},
     "output_type": "display_data"
    }
   ],
   "source": [
    "head(InsectSprays)"
   ]
  },
  {
   "cell_type": "code",
   "execution_count": 28,
   "metadata": {},
   "outputs": [
    {
     "name": "stderr",
     "output_type": "stream",
     "text": [
      "ERROR while rich displaying an object: Error in dn[[2L]]: subscript out of bounds\n",
      "\n",
      "Traceback:\n",
      "1. FUN(X[[i]], ...)\n",
      "2. tryCatch(withCallingHandlers({\n",
      " .     rpr <- mime2repr[[mime]](obj)\n",
      " .     if (is.null(rpr)) \n",
      " .         return(NULL)\n",
      " .     prepare_content(is.raw(rpr), rpr)\n",
      " . }, error = error_handler), error = outer_handler)\n",
      "3. tryCatchList(expr, classes, parentenv, handlers)\n",
      "4. tryCatchOne(expr, names, parentenv, handlers[[1L]])\n",
      "5. doTryCatch(return(expr), name, parentenv, handler)\n",
      "6. withCallingHandlers({\n",
      " .     rpr <- mime2repr[[mime]](obj)\n",
      " .     if (is.null(rpr)) \n",
      " .         return(NULL)\n",
      " .     prepare_content(is.raw(rpr), rpr)\n",
      " . }, error = error_handler)\n",
      "7. mime2repr[[mime]](obj)\n",
      "8. repr_markdown.numeric(obj)\n",
      "9. repr_vector_generic(html_escape_names(obj), \"%s. %s\\n\", \"%s\\n:   %s\", \n",
      " .     \"**%s:** %s\", \"%s\\n\\n\", item_uses_numbers = TRUE, escape_fun = html_escape)\n",
      "10. html_escape_names(obj)\n",
      "11. .escape_names(obj, \"html\")\n",
      "12. colnames(obj)\n",
      "ERROR while rich displaying an object: Error in dn[[2L]]: subscript out of bounds\n",
      "\n",
      "Traceback:\n",
      "1. FUN(X[[i]], ...)\n",
      "2. tryCatch(withCallingHandlers({\n",
      " .     rpr <- mime2repr[[mime]](obj)\n",
      " .     if (is.null(rpr)) \n",
      " .         return(NULL)\n",
      " .     prepare_content(is.raw(rpr), rpr)\n",
      " . }, error = error_handler), error = outer_handler)\n",
      "3. tryCatchList(expr, classes, parentenv, handlers)\n",
      "4. tryCatchOne(expr, names, parentenv, handlers[[1L]])\n",
      "5. doTryCatch(return(expr), name, parentenv, handler)\n",
      "6. withCallingHandlers({\n",
      " .     rpr <- mime2repr[[mime]](obj)\n",
      " .     if (is.null(rpr)) \n",
      " .         return(NULL)\n",
      " .     prepare_content(is.raw(rpr), rpr)\n",
      " . }, error = error_handler)\n",
      "7. mime2repr[[mime]](obj)\n",
      "8. repr_latex.numeric(obj)\n",
      "9. repr_vector_generic(latex_escape_names(obj), \"\\\\item %s\\n\", \"\\\\item[%s] %s\\n\", \n",
      " .     \"\\\\textbf{%s:} %s\", enum_wrap = \"\\\\begin{enumerate*}\\n%s\\\\end{enumerate*}\\n\", \n",
      " .     named_wrap = \"\\\\begin{description*}\\n%s\\\\end{description*}\\n\", \n",
      " .     only_named_item = \"\\\\textbf{%s:} %s\", escape_fun = latex_escape)\n",
      "10. latex_escape_names(obj)\n",
      "11. .escape_names(obj, \"latex\")\n",
      "12. colnames(obj)\n"
     ]
    },
    {
     "data": {
      "text/html": [
       "<dl class=dl-horizontal>\n",
       "\t<dt>A</dt>\n",
       "\t\t<dd>174</dd>\n",
       "\t<dt>B</dt>\n",
       "\t\t<dd>184</dd>\n",
       "\t<dt>C</dt>\n",
       "\t\t<dd>25</dd>\n",
       "\t<dt>D</dt>\n",
       "\t\t<dd>59</dd>\n",
       "\t<dt>E</dt>\n",
       "\t\t<dd>42</dd>\n",
       "\t<dt>F</dt>\n",
       "\t\t<dd>200</dd>\n",
       "</dl>\n"
      ],
      "text/plain": [
       "  A   B   C   D   E   F \n",
       "174 184  25  59  42 200 "
      ]
     },
     "metadata": {},
     "output_type": "display_data"
    }
   ],
   "source": [
    "tapply(InsectSprays$count, InsectSprays$spray, sum)"
   ]
  },
  {
   "cell_type": "code",
   "execution_count": 29,
   "metadata": {},
   "outputs": [
    {
     "data": {
      "text/html": [
       "<dl>\n",
       "\t<dt>$A</dt>\n",
       "\t\t<dd><ol class=list-inline>\n",
       "\t<li>10</li>\n",
       "\t<li>7</li>\n",
       "\t<li>20</li>\n",
       "\t<li>14</li>\n",
       "\t<li>14</li>\n",
       "\t<li>12</li>\n",
       "\t<li>10</li>\n",
       "\t<li>23</li>\n",
       "\t<li>17</li>\n",
       "\t<li>20</li>\n",
       "\t<li>14</li>\n",
       "\t<li>13</li>\n",
       "</ol>\n",
       "</dd>\n",
       "\t<dt>$B</dt>\n",
       "\t\t<dd><ol class=list-inline>\n",
       "\t<li>11</li>\n",
       "\t<li>17</li>\n",
       "\t<li>21</li>\n",
       "\t<li>11</li>\n",
       "\t<li>16</li>\n",
       "\t<li>14</li>\n",
       "\t<li>17</li>\n",
       "\t<li>17</li>\n",
       "\t<li>19</li>\n",
       "\t<li>21</li>\n",
       "\t<li>7</li>\n",
       "\t<li>13</li>\n",
       "</ol>\n",
       "</dd>\n",
       "\t<dt>$C</dt>\n",
       "\t\t<dd><ol class=list-inline>\n",
       "\t<li>0</li>\n",
       "\t<li>1</li>\n",
       "\t<li>7</li>\n",
       "\t<li>2</li>\n",
       "\t<li>3</li>\n",
       "\t<li>1</li>\n",
       "\t<li>2</li>\n",
       "\t<li>1</li>\n",
       "\t<li>3</li>\n",
       "\t<li>0</li>\n",
       "\t<li>1</li>\n",
       "\t<li>4</li>\n",
       "</ol>\n",
       "</dd>\n",
       "\t<dt>$D</dt>\n",
       "\t\t<dd><ol class=list-inline>\n",
       "\t<li>3</li>\n",
       "\t<li>5</li>\n",
       "\t<li>12</li>\n",
       "\t<li>6</li>\n",
       "\t<li>4</li>\n",
       "\t<li>3</li>\n",
       "\t<li>5</li>\n",
       "\t<li>5</li>\n",
       "\t<li>5</li>\n",
       "\t<li>5</li>\n",
       "\t<li>2</li>\n",
       "\t<li>4</li>\n",
       "</ol>\n",
       "</dd>\n",
       "\t<dt>$E</dt>\n",
       "\t\t<dd><ol class=list-inline>\n",
       "\t<li>3</li>\n",
       "\t<li>5</li>\n",
       "\t<li>3</li>\n",
       "\t<li>5</li>\n",
       "\t<li>3</li>\n",
       "\t<li>6</li>\n",
       "\t<li>1</li>\n",
       "\t<li>1</li>\n",
       "\t<li>3</li>\n",
       "\t<li>2</li>\n",
       "\t<li>6</li>\n",
       "\t<li>4</li>\n",
       "</ol>\n",
       "</dd>\n",
       "\t<dt>$F</dt>\n",
       "\t\t<dd><ol class=list-inline>\n",
       "\t<li>11</li>\n",
       "\t<li>9</li>\n",
       "\t<li>15</li>\n",
       "\t<li>22</li>\n",
       "\t<li>15</li>\n",
       "\t<li>16</li>\n",
       "\t<li>13</li>\n",
       "\t<li>10</li>\n",
       "\t<li>26</li>\n",
       "\t<li>26</li>\n",
       "\t<li>24</li>\n",
       "\t<li>13</li>\n",
       "</ol>\n",
       "</dd>\n",
       "</dl>\n"
      ],
      "text/latex": [
       "\\begin{description}\n",
       "\\item[\\$A] \\begin{enumerate*}\n",
       "\\item 10\n",
       "\\item 7\n",
       "\\item 20\n",
       "\\item 14\n",
       "\\item 14\n",
       "\\item 12\n",
       "\\item 10\n",
       "\\item 23\n",
       "\\item 17\n",
       "\\item 20\n",
       "\\item 14\n",
       "\\item 13\n",
       "\\end{enumerate*}\n",
       "\n",
       "\\item[\\$B] \\begin{enumerate*}\n",
       "\\item 11\n",
       "\\item 17\n",
       "\\item 21\n",
       "\\item 11\n",
       "\\item 16\n",
       "\\item 14\n",
       "\\item 17\n",
       "\\item 17\n",
       "\\item 19\n",
       "\\item 21\n",
       "\\item 7\n",
       "\\item 13\n",
       "\\end{enumerate*}\n",
       "\n",
       "\\item[\\$C] \\begin{enumerate*}\n",
       "\\item 0\n",
       "\\item 1\n",
       "\\item 7\n",
       "\\item 2\n",
       "\\item 3\n",
       "\\item 1\n",
       "\\item 2\n",
       "\\item 1\n",
       "\\item 3\n",
       "\\item 0\n",
       "\\item 1\n",
       "\\item 4\n",
       "\\end{enumerate*}\n",
       "\n",
       "\\item[\\$D] \\begin{enumerate*}\n",
       "\\item 3\n",
       "\\item 5\n",
       "\\item 12\n",
       "\\item 6\n",
       "\\item 4\n",
       "\\item 3\n",
       "\\item 5\n",
       "\\item 5\n",
       "\\item 5\n",
       "\\item 5\n",
       "\\item 2\n",
       "\\item 4\n",
       "\\end{enumerate*}\n",
       "\n",
       "\\item[\\$E] \\begin{enumerate*}\n",
       "\\item 3\n",
       "\\item 5\n",
       "\\item 3\n",
       "\\item 5\n",
       "\\item 3\n",
       "\\item 6\n",
       "\\item 1\n",
       "\\item 1\n",
       "\\item 3\n",
       "\\item 2\n",
       "\\item 6\n",
       "\\item 4\n",
       "\\end{enumerate*}\n",
       "\n",
       "\\item[\\$F] \\begin{enumerate*}\n",
       "\\item 11\n",
       "\\item 9\n",
       "\\item 15\n",
       "\\item 22\n",
       "\\item 15\n",
       "\\item 16\n",
       "\\item 13\n",
       "\\item 10\n",
       "\\item 26\n",
       "\\item 26\n",
       "\\item 24\n",
       "\\item 13\n",
       "\\end{enumerate*}\n",
       "\n",
       "\\end{description}\n"
      ],
      "text/markdown": [
       "$A\n",
       ":   1. 10\n",
       "2. 7\n",
       "3. 20\n",
       "4. 14\n",
       "5. 14\n",
       "6. 12\n",
       "7. 10\n",
       "8. 23\n",
       "9. 17\n",
       "10. 20\n",
       "11. 14\n",
       "12. 13\n",
       "\n",
       "\n",
       "\n",
       "$B\n",
       ":   1. 11\n",
       "2. 17\n",
       "3. 21\n",
       "4. 11\n",
       "5. 16\n",
       "6. 14\n",
       "7. 17\n",
       "8. 17\n",
       "9. 19\n",
       "10. 21\n",
       "11. 7\n",
       "12. 13\n",
       "\n",
       "\n",
       "\n",
       "$C\n",
       ":   1. 0\n",
       "2. 1\n",
       "3. 7\n",
       "4. 2\n",
       "5. 3\n",
       "6. 1\n",
       "7. 2\n",
       "8. 1\n",
       "9. 3\n",
       "10. 0\n",
       "11. 1\n",
       "12. 4\n",
       "\n",
       "\n",
       "\n",
       "$D\n",
       ":   1. 3\n",
       "2. 5\n",
       "3. 12\n",
       "4. 6\n",
       "5. 4\n",
       "6. 3\n",
       "7. 5\n",
       "8. 5\n",
       "9. 5\n",
       "10. 5\n",
       "11. 2\n",
       "12. 4\n",
       "\n",
       "\n",
       "\n",
       "$E\n",
       ":   1. 3\n",
       "2. 5\n",
       "3. 3\n",
       "4. 5\n",
       "5. 3\n",
       "6. 6\n",
       "7. 1\n",
       "8. 1\n",
       "9. 3\n",
       "10. 2\n",
       "11. 6\n",
       "12. 4\n",
       "\n",
       "\n",
       "\n",
       "$F\n",
       ":   1. 11\n",
       "2. 9\n",
       "3. 15\n",
       "4. 22\n",
       "5. 15\n",
       "6. 16\n",
       "7. 13\n",
       "8. 10\n",
       "9. 26\n",
       "10. 26\n",
       "11. 24\n",
       "12. 13\n",
       "\n",
       "\n",
       "\n",
       "\n",
       "\n"
      ],
      "text/plain": [
       "$A\n",
       " [1] 10  7 20 14 14 12 10 23 17 20 14 13\n",
       "\n",
       "$B\n",
       " [1] 11 17 21 11 16 14 17 17 19 21  7 13\n",
       "\n",
       "$C\n",
       " [1] 0 1 7 2 3 1 2 1 3 0 1 4\n",
       "\n",
       "$D\n",
       " [1]  3  5 12  6  4  3  5  5  5  5  2  4\n",
       "\n",
       "$E\n",
       " [1] 3 5 3 5 3 6 1 1 3 2 6 4\n",
       "\n",
       "$F\n",
       " [1] 11  9 15 22 15 16 13 10 26 26 24 13\n"
      ]
     },
     "metadata": {},
     "output_type": "display_data"
    }
   ],
   "source": [
    "spIns <- split(InsectSprays$count, InsectSprays$spray)\n",
    "spIns"
   ]
  },
  {
   "cell_type": "code",
   "execution_count": 30,
   "metadata": {},
   "outputs": [
    {
     "data": {
      "text/html": [
       "<dl>\n",
       "\t<dt>$A</dt>\n",
       "\t\t<dd>174</dd>\n",
       "\t<dt>$B</dt>\n",
       "\t\t<dd>184</dd>\n",
       "\t<dt>$C</dt>\n",
       "\t\t<dd>25</dd>\n",
       "\t<dt>$D</dt>\n",
       "\t\t<dd>59</dd>\n",
       "\t<dt>$E</dt>\n",
       "\t\t<dd>42</dd>\n",
       "\t<dt>$F</dt>\n",
       "\t\t<dd>200</dd>\n",
       "</dl>\n"
      ],
      "text/latex": [
       "\\begin{description}\n",
       "\\item[\\$A] 174\n",
       "\\item[\\$B] 184\n",
       "\\item[\\$C] 25\n",
       "\\item[\\$D] 59\n",
       "\\item[\\$E] 42\n",
       "\\item[\\$F] 200\n",
       "\\end{description}\n"
      ],
      "text/markdown": [
       "$A\n",
       ":   174\n",
       "$B\n",
       ":   184\n",
       "$C\n",
       ":   25\n",
       "$D\n",
       ":   59\n",
       "$E\n",
       ":   42\n",
       "$F\n",
       ":   200\n",
       "\n",
       "\n"
      ],
      "text/plain": [
       "$A\n",
       "[1] 174\n",
       "\n",
       "$B\n",
       "[1] 184\n",
       "\n",
       "$C\n",
       "[1] 25\n",
       "\n",
       "$D\n",
       "[1] 59\n",
       "\n",
       "$E\n",
       "[1] 42\n",
       "\n",
       "$F\n",
       "[1] 200\n"
      ]
     },
     "metadata": {},
     "output_type": "display_data"
    }
   ],
   "source": [
    "sprCount <- lapply(spIns, sum)\n",
    "sprCount"
   ]
  },
  {
   "cell_type": "code",
   "execution_count": 31,
   "metadata": {},
   "outputs": [
    {
     "data": {
      "text/html": [
       "<dl class=dl-horizontal>\n",
       "\t<dt>A</dt>\n",
       "\t\t<dd>174</dd>\n",
       "\t<dt>B</dt>\n",
       "\t\t<dd>184</dd>\n",
       "\t<dt>C</dt>\n",
       "\t\t<dd>25</dd>\n",
       "\t<dt>D</dt>\n",
       "\t\t<dd>59</dd>\n",
       "\t<dt>E</dt>\n",
       "\t\t<dd>42</dd>\n",
       "\t<dt>F</dt>\n",
       "\t\t<dd>200</dd>\n",
       "</dl>\n"
      ],
      "text/latex": [
       "\\begin{description*}\n",
       "\\item[A] 174\n",
       "\\item[B] 184\n",
       "\\item[C] 25\n",
       "\\item[D] 59\n",
       "\\item[E] 42\n",
       "\\item[F] 200\n",
       "\\end{description*}\n"
      ],
      "text/markdown": [
       "A\n",
       ":   174B\n",
       ":   184C\n",
       ":   25D\n",
       ":   59E\n",
       ":   42F\n",
       ":   200\n",
       "\n"
      ],
      "text/plain": [
       "  A   B   C   D   E   F \n",
       "174 184  25  59  42 200 "
      ]
     },
     "metadata": {},
     "output_type": "display_data"
    }
   ],
   "source": [
    "unlist(sprCount)"
   ]
  },
  {
   "cell_type": "code",
   "execution_count": 32,
   "metadata": {},
   "outputs": [
    {
     "data": {
      "text/html": [
       "<dl class=dl-horizontal>\n",
       "\t<dt>A</dt>\n",
       "\t\t<dd>174</dd>\n",
       "\t<dt>B</dt>\n",
       "\t\t<dd>184</dd>\n",
       "\t<dt>C</dt>\n",
       "\t\t<dd>25</dd>\n",
       "\t<dt>D</dt>\n",
       "\t\t<dd>59</dd>\n",
       "\t<dt>E</dt>\n",
       "\t\t<dd>42</dd>\n",
       "\t<dt>F</dt>\n",
       "\t\t<dd>200</dd>\n",
       "</dl>\n"
      ],
      "text/latex": [
       "\\begin{description*}\n",
       "\\item[A] 174\n",
       "\\item[B] 184\n",
       "\\item[C] 25\n",
       "\\item[D] 59\n",
       "\\item[E] 42\n",
       "\\item[F] 200\n",
       "\\end{description*}\n"
      ],
      "text/markdown": [
       "A\n",
       ":   174B\n",
       ":   184C\n",
       ":   25D\n",
       ":   59E\n",
       ":   42F\n",
       ":   200\n",
       "\n"
      ],
      "text/plain": [
       "  A   B   C   D   E   F \n",
       "174 184  25  59  42 200 "
      ]
     },
     "metadata": {},
     "output_type": "display_data"
    }
   ],
   "source": [
    "sapply(spIns, sum)\n"
   ]
  },
  {
   "cell_type": "code",
   "execution_count": 34,
   "metadata": {},
   "outputs": [
    {
     "data": {
      "text/html": [
       "<table>\n",
       "<thead><tr><th scope=col>spray</th><th scope=col>sum</th></tr></thead>\n",
       "<tbody>\n",
       "\t<tr><td>A  </td><td>174</td></tr>\n",
       "\t<tr><td>B  </td><td>184</td></tr>\n",
       "\t<tr><td>C  </td><td> 25</td></tr>\n",
       "\t<tr><td>D  </td><td> 59</td></tr>\n",
       "\t<tr><td>E  </td><td> 42</td></tr>\n",
       "\t<tr><td>F  </td><td>200</td></tr>\n",
       "</tbody>\n",
       "</table>\n"
      ],
      "text/latex": [
       "\\begin{tabular}{r|ll}\n",
       " spray & sum\\\\\n",
       "\\hline\n",
       "\t A   & 174\\\\\n",
       "\t B   & 184\\\\\n",
       "\t C   &  25\\\\\n",
       "\t D   &  59\\\\\n",
       "\t E   &  42\\\\\n",
       "\t F   & 200\\\\\n",
       "\\end{tabular}\n"
      ],
      "text/markdown": [
       "\n",
       "spray | sum | \n",
       "|---|---|---|---|---|---|\n",
       "| A   | 174 | \n",
       "| B   | 184 | \n",
       "| C   |  25 | \n",
       "| D   |  59 | \n",
       "| E   |  42 | \n",
       "| F   | 200 | \n",
       "\n",
       "\n"
      ],
      "text/plain": [
       "  spray sum\n",
       "1 A     174\n",
       "2 B     184\n",
       "3 C      25\n",
       "4 D      59\n",
       "5 E      42\n",
       "6 F     200"
      ]
     },
     "metadata": {},
     "output_type": "display_data"
    }
   ],
   "source": [
    "library(plyr)\n",
    "ddply(InsectSprays, .(spray), summarize, sum = sum(count))"
   ]
  },
  {
   "cell_type": "code",
   "execution_count": 36,
   "metadata": {},
   "outputs": [
    {
     "data": {
      "text/html": [
       "<ol class=list-inline>\n",
       "\t<li>72</li>\n",
       "\t<li>2</li>\n",
       "</ol>\n"
      ],
      "text/latex": [
       "\\begin{enumerate*}\n",
       "\\item 72\n",
       "\\item 2\n",
       "\\end{enumerate*}\n"
      ],
      "text/markdown": [
       "1. 72\n",
       "2. 2\n",
       "\n",
       "\n"
      ],
      "text/plain": [
       "[1] 72  2"
      ]
     },
     "metadata": {},
     "output_type": "display_data"
    }
   ],
   "source": [
    "spraySums <- ddply(InsectSprays, .(spray), summarize, sum = ave(count, FUN=sum))\n",
    "dim(spraySums)"
   ]
  },
  {
   "cell_type": "code",
   "execution_count": 37,
   "metadata": {},
   "outputs": [
    {
     "data": {
      "text/html": [
       "<table>\n",
       "<thead><tr><th scope=col>spray</th><th scope=col>sum</th></tr></thead>\n",
       "<tbody>\n",
       "\t<tr><td>A  </td><td>174</td></tr>\n",
       "\t<tr><td>A  </td><td>174</td></tr>\n",
       "\t<tr><td>A  </td><td>174</td></tr>\n",
       "\t<tr><td>A  </td><td>174</td></tr>\n",
       "\t<tr><td>A  </td><td>174</td></tr>\n",
       "\t<tr><td>A  </td><td>174</td></tr>\n",
       "</tbody>\n",
       "</table>\n"
      ],
      "text/latex": [
       "\\begin{tabular}{r|ll}\n",
       " spray & sum\\\\\n",
       "\\hline\n",
       "\t A   & 174\\\\\n",
       "\t A   & 174\\\\\n",
       "\t A   & 174\\\\\n",
       "\t A   & 174\\\\\n",
       "\t A   & 174\\\\\n",
       "\t A   & 174\\\\\n",
       "\\end{tabular}\n"
      ],
      "text/markdown": [
       "\n",
       "spray | sum | \n",
       "|---|---|---|---|---|---|\n",
       "| A   | 174 | \n",
       "| A   | 174 | \n",
       "| A   | 174 | \n",
       "| A   | 174 | \n",
       "| A   | 174 | \n",
       "| A   | 174 | \n",
       "\n",
       "\n"
      ],
      "text/plain": [
       "  spray sum\n",
       "1 A     174\n",
       "2 A     174\n",
       "3 A     174\n",
       "4 A     174\n",
       "5 A     174\n",
       "6 A     174"
      ]
     },
     "metadata": {},
     "output_type": "display_data"
    }
   ],
   "source": [
    "head(spraySums)"
   ]
  },
  {
   "cell_type": "code",
   "execution_count": null,
   "metadata": {},
   "outputs": [],
   "source": []
  }
 ],
 "metadata": {
  "kernelspec": {
   "display_name": "R",
   "language": "R",
   "name": "ir"
  },
  "language_info": {
   "codemirror_mode": "r",
   "file_extension": ".r",
   "mimetype": "text/x-r-source",
   "name": "R",
   "pygments_lexer": "r",
   "version": "3.5.1"
  }
 },
 "nbformat": 4,
 "nbformat_minor": 2
}
