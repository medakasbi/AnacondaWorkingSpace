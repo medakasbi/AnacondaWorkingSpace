{
 "cells": [
  {
   "cell_type": "code",
   "execution_count": 1,
   "metadata": {},
   "outputs": [],
   "source": [
    "rstdt <- read.csv(\"./data/restaurants.csv\")"
   ]
  },
  {
   "cell_type": "code",
   "execution_count": 3,
   "metadata": {},
   "outputs": [
    {
     "data": {
      "text/html": [
       "<table>\n",
       "<thead><tr><th scope=col>name</th><th scope=col>zipCode</th><th scope=col>neighborhood</th><th scope=col>councilDistrict</th><th scope=col>policeDistrict</th><th scope=col>Location.1</th></tr></thead>\n",
       "<tbody>\n",
       "\t<tr><td>410                            </td><td>21206                          </td><td>Frankford                      </td><td>2                              </td><td>NORTHEASTERN                   </td><td>4509 BELAIR ROAD\n",
       "Baltimore, MD</td></tr>\n",
       "\t<tr><td>1919                           </td><td>21231                          </td><td>Fells Point                    </td><td>1                              </td><td>SOUTHEASTERN                   </td><td>1919 FLEET ST\n",
       "Baltimore, MD   </td></tr>\n",
       "\t<tr><td>SAUTE                          </td><td>21224                          </td><td>Canton                         </td><td>1                              </td><td>SOUTHEASTERN                   </td><td>2844 HUDSON ST\n",
       "Baltimore, MD  </td></tr>\n",
       "</tbody>\n",
       "</table>\n"
      ],
      "text/latex": [
       "\\begin{tabular}{r|llllll}\n",
       " name & zipCode & neighborhood & councilDistrict & policeDistrict & Location.1\\\\\n",
       "\\hline\n",
       "\t 410                             & 21206                           & Frankford                       & 2                               & NORTHEASTERN                    & 4509 BELAIR ROAD\n",
       "Baltimore, MD\\\\\n",
       "\t 1919                            & 21231                           & Fells Point                     & 1                               & SOUTHEASTERN                    & 1919 FLEET ST\n",
       "Baltimore, MD   \\\\\n",
       "\t SAUTE                           & 21224                           & Canton                          & 1                               & SOUTHEASTERN                    & 2844 HUDSON ST\n",
       "Baltimore, MD  \\\\\n",
       "\\end{tabular}\n"
      ],
      "text/markdown": [
       "\n",
       "name | zipCode | neighborhood | councilDistrict | policeDistrict | Location.1 | \n",
       "|---|---|---|\n",
       "| 410                             | 21206                           | Frankford                       | 2                               | NORTHEASTERN                    | 4509 BELAIR ROAD\n",
       "Baltimore, MD | \n",
       "| 1919                            | 21231                           | Fells Point                     | 1                               | SOUTHEASTERN                    | 1919 FLEET ST\n",
       "Baltimore, MD    | \n",
       "| SAUTE                           | 21224                           | Canton                          | 1                               | SOUTHEASTERN                    | 2844 HUDSON ST\n",
       "Baltimore, MD   | \n",
       "\n",
       "\n"
      ],
      "text/plain": [
       "  name  zipCode neighborhood councilDistrict policeDistrict\n",
       "1 410   21206   Frankford    2               NORTHEASTERN  \n",
       "2 1919  21231   Fells Point  1               SOUTHEASTERN  \n",
       "3 SAUTE 21224   Canton       1               SOUTHEASTERN  \n",
       "  Location.1                     \n",
       "1 4509 BELAIR ROAD\\nBaltimore, MD\n",
       "2 1919 FLEET ST\\nBaltimore, MD   \n",
       "3 2844 HUDSON ST\\nBaltimore, MD  "
      ]
     },
     "metadata": {},
     "output_type": "display_data"
    }
   ],
   "source": [
    "head(rstdt, n=3)"
   ]
  },
  {
   "cell_type": "markdown",
   "metadata": {},
   "source": [
    "# Creating sequences"
   ]
  },
  {
   "cell_type": "code",
   "execution_count": 5,
   "metadata": {},
   "outputs": [
    {
     "data": {
      "text/html": [
       "<ol class=list-inline>\n",
       "\t<li>1</li>\n",
       "\t<li>3</li>\n",
       "\t<li>5</li>\n",
       "\t<li>7</li>\n",
       "\t<li>9</li>\n",
       "</ol>\n"
      ],
      "text/latex": [
       "\\begin{enumerate*}\n",
       "\\item 1\n",
       "\\item 3\n",
       "\\item 5\n",
       "\\item 7\n",
       "\\item 9\n",
       "\\end{enumerate*}\n"
      ],
      "text/markdown": [
       "1. 1\n",
       "2. 3\n",
       "3. 5\n",
       "4. 7\n",
       "5. 9\n",
       "\n",
       "\n"
      ],
      "text/plain": [
       "[1] 1 3 5 7 9"
      ]
     },
     "metadata": {},
     "output_type": "display_data"
    }
   ],
   "source": [
    "s1 <- seq(1, 10, by=2)\n",
    "s1"
   ]
  },
  {
   "cell_type": "code",
   "execution_count": 6,
   "metadata": {},
   "outputs": [
    {
     "data": {
      "text/html": [
       "<ol class=list-inline>\n",
       "\t<li>1</li>\n",
       "\t<li>5.5</li>\n",
       "\t<li>10</li>\n",
       "</ol>\n"
      ],
      "text/latex": [
       "\\begin{enumerate*}\n",
       "\\item 1\n",
       "\\item 5.5\n",
       "\\item 10\n",
       "\\end{enumerate*}\n"
      ],
      "text/markdown": [
       "1. 1\n",
       "2. 5.5\n",
       "3. 10\n",
       "\n",
       "\n"
      ],
      "text/plain": [
       "[1]  1.0  5.5 10.0"
      ]
     },
     "metadata": {},
     "output_type": "display_data"
    }
   ],
   "source": [
    "s2 <- seq(1, 10, length=3)\n",
    "s2\n"
   ]
  },
  {
   "cell_type": "code",
   "execution_count": 7,
   "metadata": {},
   "outputs": [
    {
     "data": {
      "text/html": [
       "<ol class=list-inline>\n",
       "\t<li>1</li>\n",
       "\t<li>2</li>\n",
       "\t<li>3</li>\n",
       "\t<li>4</li>\n",
       "\t<li>5</li>\n",
       "</ol>\n"
      ],
      "text/latex": [
       "\\begin{enumerate*}\n",
       "\\item 1\n",
       "\\item 2\n",
       "\\item 3\n",
       "\\item 4\n",
       "\\item 5\n",
       "\\end{enumerate*}\n"
      ],
      "text/markdown": [
       "1. 1\n",
       "2. 2\n",
       "3. 3\n",
       "4. 4\n",
       "5. 5\n",
       "\n",
       "\n"
      ],
      "text/plain": [
       "[1] 1 2 3 4 5"
      ]
     },
     "metadata": {},
     "output_type": "display_data"
    }
   ],
   "source": [
    "x <- c(1, 3, 8, 25, 100)\n",
    "seq(along = x)"
   ]
  },
  {
   "cell_type": "code",
   "execution_count": 8,
   "metadata": {},
   "outputs": [
    {
     "data": {
      "text/plain": [
       "\n",
       "FALSE  TRUE \n",
       " 1314    13 "
      ]
     },
     "metadata": {},
     "output_type": "display_data"
    }
   ],
   "source": [
    "rstdt$nearme = rstdt$neighborhood %in% c(\"Roland Park\", \"Homeland\")\n",
    "table(rstdt$nearme)"
   ]
  },
  {
   "cell_type": "code",
   "execution_count": 10,
   "metadata": {},
   "outputs": [
    {
     "data": {
      "text/plain": [
       "       \n",
       "        FALSE TRUE\n",
       "  FALSE  1326    0\n",
       "  TRUE      0    1"
      ]
     },
     "metadata": {},
     "output_type": "display_data"
    }
   ],
   "source": [
    "rstdt$zipWrong = ifelse(rstdt$zipCode <0, TRUE, FALSE)\n",
    "table(rstdt$zipWrong, rstdt$zipCode < 0)"
   ]
  },
  {
   "cell_type": "code",
   "execution_count": 13,
   "metadata": {},
   "outputs": [
    {
     "data": {
      "text/plain": [
       "\n",
       "(-2.123e+04,2.12e+04]  (2.12e+04,2.122e+04] (2.122e+04,2.123e+04] \n",
       "                  337                   375                   282 \n",
       "(2.123e+04,2.129e+04] \n",
       "                  332 "
      ]
     },
     "metadata": {},
     "output_type": "display_data"
    }
   ],
   "source": [
    "rstdt $zipgroup <- cut(rstdt$zipCode,\n",
    "                       breaks = quantile(rstdt$zipCode))\n",
    "table(rstdt$zipgroup)"
   ]
  },
  {
   "cell_type": "code",
   "execution_count": null,
   "metadata": {},
   "outputs": [],
   "source": []
  },
  {
   "cell_type": "code",
   "execution_count": null,
   "metadata": {},
   "outputs": [],
   "source": []
  }
 ],
 "metadata": {
  "kernelspec": {
   "display_name": "R",
   "language": "R",
   "name": "ir"
  },
  "language_info": {
   "codemirror_mode": "r",
   "file_extension": ".r",
   "mimetype": "text/x-r-source",
   "name": "R",
   "pygments_lexer": "r",
   "version": "3.5.1"
  }
 },
 "nbformat": 4,
 "nbformat_minor": 2
}
