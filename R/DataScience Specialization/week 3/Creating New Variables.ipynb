{
 "cells": [
  {
   "cell_type": "code",
   "execution_count": 1,
   "metadata": {},
   "outputs": [],
   "source": [
    "rstdt <- read.csv(\"./data/restaurants.csv\")"
   ]
  },
  {
   "cell_type": "code",
   "execution_count": 3,
   "metadata": {},
   "outputs": [
    {
     "data": {
      "text/html": [
       "<table>\n",
       "<thead><tr><th scope=col>name</th><th scope=col>zipCode</th><th scope=col>neighborhood</th><th scope=col>councilDistrict</th><th scope=col>policeDistrict</th><th scope=col>Location.1</th></tr></thead>\n",
       "<tbody>\n",
       "\t<tr><td>410                            </td><td>21206                          </td><td>Frankford                      </td><td>2                              </td><td>NORTHEASTERN                   </td><td>4509 BELAIR ROAD\n",
       "Baltimore, MD</td></tr>\n",
       "\t<tr><td>1919                           </td><td>21231                          </td><td>Fells Point                    </td><td>1                              </td><td>SOUTHEASTERN                   </td><td>1919 FLEET ST\n",
       "Baltimore, MD   </td></tr>\n",
       "\t<tr><td>SAUTE                          </td><td>21224                          </td><td>Canton                         </td><td>1                              </td><td>SOUTHEASTERN                   </td><td>2844 HUDSON ST\n",
       "Baltimore, MD  </td></tr>\n",
       "</tbody>\n",
       "</table>\n"
      ],
      "text/latex": [
       "\\begin{tabular}{r|llllll}\n",
       " name & zipCode & neighborhood & councilDistrict & policeDistrict & Location.1\\\\\n",
       "\\hline\n",
       "\t 410                             & 21206                           & Frankford                       & 2                               & NORTHEASTERN                    & 4509 BELAIR ROAD\n",
       "Baltimore, MD\\\\\n",
       "\t 1919                            & 21231                           & Fells Point                     & 1                               & SOUTHEASTERN                    & 1919 FLEET ST\n",
       "Baltimore, MD   \\\\\n",
       "\t SAUTE                           & 21224                           & Canton                          & 1                               & SOUTHEASTERN                    & 2844 HUDSON ST\n",
       "Baltimore, MD  \\\\\n",
       "\\end{tabular}\n"
      ],
      "text/markdown": [
       "\n",
       "name | zipCode | neighborhood | councilDistrict | policeDistrict | Location.1 | \n",
       "|---|---|---|\n",
       "| 410                             | 21206                           | Frankford                       | 2                               | NORTHEASTERN                    | 4509 BELAIR ROAD\n",
       "Baltimore, MD | \n",
       "| 1919                            | 21231                           | Fells Point                     | 1                               | SOUTHEASTERN                    | 1919 FLEET ST\n",
       "Baltimore, MD    | \n",
       "| SAUTE                           | 21224                           | Canton                          | 1                               | SOUTHEASTERN                    | 2844 HUDSON ST\n",
       "Baltimore, MD   | \n",
       "\n",
       "\n"
      ],
      "text/plain": [
       "  name  zipCode neighborhood councilDistrict policeDistrict\n",
       "1 410   21206   Frankford    2               NORTHEASTERN  \n",
       "2 1919  21231   Fells Point  1               SOUTHEASTERN  \n",
       "3 SAUTE 21224   Canton       1               SOUTHEASTERN  \n",
       "  Location.1                     \n",
       "1 4509 BELAIR ROAD\\nBaltimore, MD\n",
       "2 1919 FLEET ST\\nBaltimore, MD   \n",
       "3 2844 HUDSON ST\\nBaltimore, MD  "
      ]
     },
     "metadata": {},
     "output_type": "display_data"
    }
   ],
   "source": [
    "head(rstdt, n=3)"
   ]
  },
  {
   "cell_type": "markdown",
   "metadata": {},
   "source": [
    "# Creating sequences"
   ]
  },
  {
   "cell_type": "code",
   "execution_count": 5,
   "metadata": {},
   "outputs": [
    {
     "data": {
      "text/html": [
       "<ol class=list-inline>\n",
       "\t<li>1</li>\n",
       "\t<li>3</li>\n",
       "\t<li>5</li>\n",
       "\t<li>7</li>\n",
       "\t<li>9</li>\n",
       "</ol>\n"
      ],
      "text/latex": [
       "\\begin{enumerate*}\n",
       "\\item 1\n",
       "\\item 3\n",
       "\\item 5\n",
       "\\item 7\n",
       "\\item 9\n",
       "\\end{enumerate*}\n"
      ],
      "text/markdown": [
       "1. 1\n",
       "2. 3\n",
       "3. 5\n",
       "4. 7\n",
       "5. 9\n",
       "\n",
       "\n"
      ],
      "text/plain": [
       "[1] 1 3 5 7 9"
      ]
     },
     "metadata": {},
     "output_type": "display_data"
    }
   ],
   "source": [
    "s1 <- seq(1, 10, by=2)\n",
    "s1"
   ]
  },
  {
   "cell_type": "code",
   "execution_count": 6,
   "metadata": {},
   "outputs": [
    {
     "data": {
      "text/html": [
       "<ol class=list-inline>\n",
       "\t<li>1</li>\n",
       "\t<li>5.5</li>\n",
       "\t<li>10</li>\n",
       "</ol>\n"
      ],
      "text/latex": [
       "\\begin{enumerate*}\n",
       "\\item 1\n",
       "\\item 5.5\n",
       "\\item 10\n",
       "\\end{enumerate*}\n"
      ],
      "text/markdown": [
       "1. 1\n",
       "2. 5.5\n",
       "3. 10\n",
       "\n",
       "\n"
      ],
      "text/plain": [
       "[1]  1.0  5.5 10.0"
      ]
     },
     "metadata": {},
     "output_type": "display_data"
    }
   ],
   "source": [
    "s2 <- seq(1, 10, length=3)\n",
    "s2\n"
   ]
  },
  {
   "cell_type": "code",
   "execution_count": 7,
   "metadata": {},
   "outputs": [
    {
     "data": {
      "text/html": [
       "<ol class=list-inline>\n",
       "\t<li>1</li>\n",
       "\t<li>2</li>\n",
       "\t<li>3</li>\n",
       "\t<li>4</li>\n",
       "\t<li>5</li>\n",
       "</ol>\n"
      ],
      "text/latex": [
       "\\begin{enumerate*}\n",
       "\\item 1\n",
       "\\item 2\n",
       "\\item 3\n",
       "\\item 4\n",
       "\\item 5\n",
       "\\end{enumerate*}\n"
      ],
      "text/markdown": [
       "1. 1\n",
       "2. 2\n",
       "3. 3\n",
       "4. 4\n",
       "5. 5\n",
       "\n",
       "\n"
      ],
      "text/plain": [
       "[1] 1 2 3 4 5"
      ]
     },
     "metadata": {},
     "output_type": "display_data"
    }
   ],
   "source": [
    "x <- c(1, 3, 8, 25, 100)\n",
    "seq(along = x)"
   ]
  },
  {
   "cell_type": "code",
   "execution_count": 8,
   "metadata": {},
   "outputs": [
    {
     "data": {
      "text/plain": [
       "\n",
       "FALSE  TRUE \n",
       " 1314    13 "
      ]
     },
     "metadata": {},
     "output_type": "display_data"
    }
   ],
   "source": [
    "rstdt$nearme = rstdt$neighborhood %in% c(\"Roland Park\", \"Homeland\")\n",
    "table(rstdt$nearme)"
   ]
  },
  {
   "cell_type": "code",
   "execution_count": 10,
   "metadata": {},
   "outputs": [
    {
     "data": {
      "text/plain": [
       "       \n",
       "        FALSE TRUE\n",
       "  FALSE  1326    0\n",
       "  TRUE      0    1"
      ]
     },
     "metadata": {},
     "output_type": "display_data"
    }
   ],
   "source": [
    "rstdt$zipWrong = ifelse(rstdt$zipCode <0, TRUE, FALSE)\n",
    "table(rstdt$zipWrong, rstdt$zipCode < 0)"
   ]
  },
  {
   "cell_type": "code",
   "execution_count": 13,
   "metadata": {},
   "outputs": [
    {
     "data": {
      "text/plain": [
       "\n",
       "(-2.123e+04,2.12e+04]  (2.12e+04,2.122e+04] (2.122e+04,2.123e+04] \n",
       "                  337                   375                   282 \n",
       "(2.123e+04,2.129e+04] \n",
       "                  332 "
      ]
     },
     "metadata": {},
     "output_type": "display_data"
    }
   ],
   "source": [
    "rstdt $zipgroup <- cut(rstdt$zipCode,\n",
    "                       breaks = quantile(rstdt$zipCode))\n",
    "table(rstdt$zipgroup)"
   ]
  },
  {
   "cell_type": "markdown",
   "metadata": {},
   "source": [
    "### Easier Cutting"
   ]
  },
  {
   "cell_type": "code",
   "execution_count": 16,
   "metadata": {},
   "outputs": [],
   "source": [
    "#install.packages('Hmisc')\n",
    "library(Hmisc)"
   ]
  },
  {
   "cell_type": "code",
   "execution_count": 17,
   "metadata": {},
   "outputs": [
    {
     "data": {
      "text/plain": [
       "\n",
       "(-2.123e+04,2.12e+04]  (2.12e+04,2.122e+04] (2.122e+04,2.123e+04] \n",
       "                  337                   375                   282 \n",
       "(2.123e+04,2.129e+04] \n",
       "                  332 "
      ]
     },
     "metadata": {},
     "output_type": "display_data"
    }
   ],
   "source": [
    "rstdt$zipgroups <- cut2(rstdt$zipCode, g=4)\n",
    "table(rstdt$zipgroup)"
   ]
  },
  {
   "cell_type": "code",
   "execution_count": 18,
   "metadata": {},
   "outputs": [
    {
     "data": {
      "text/html": [
       "<ol class=list-inline>\n",
       "\t<li>21206</li>\n",
       "\t<li>21231</li>\n",
       "\t<li>21224</li>\n",
       "\t<li>21211</li>\n",
       "\t<li>21223</li>\n",
       "\t<li>21218</li>\n",
       "\t<li>21205</li>\n",
       "\t<li>21211</li>\n",
       "\t<li>21205</li>\n",
       "\t<li>21231</li>\n",
       "</ol>\n",
       "\n",
       "<details>\n",
       "\t<summary style=display:list-item;cursor:pointer>\n",
       "\t\t<strong>Levels</strong>:\n",
       "\t</summary>\n",
       "\t<ol class=list-inline>\n",
       "\t\t<li>'-21226'</li>\n",
       "\t\t<li>'21201'</li>\n",
       "\t\t<li>'21202'</li>\n",
       "\t\t<li>'21205'</li>\n",
       "\t\t<li>'21206'</li>\n",
       "\t\t<li>'21207'</li>\n",
       "\t\t<li>'21208'</li>\n",
       "\t\t<li>'21209'</li>\n",
       "\t\t<li>'21210'</li>\n",
       "\t\t<li>'21211'</li>\n",
       "\t\t<li>'21212'</li>\n",
       "\t\t<li>'21213'</li>\n",
       "\t\t<li>'21214'</li>\n",
       "\t\t<li>'21215'</li>\n",
       "\t\t<li>'21216'</li>\n",
       "\t\t<li>'21217'</li>\n",
       "\t\t<li>'21218'</li>\n",
       "\t\t<li>'21220'</li>\n",
       "\t\t<li>'21222'</li>\n",
       "\t\t<li>'21223'</li>\n",
       "\t\t<li>'21224'</li>\n",
       "\t\t<li>'21225'</li>\n",
       "\t\t<li>'21226'</li>\n",
       "\t\t<li>'21227'</li>\n",
       "\t\t<li>'21229'</li>\n",
       "\t\t<li>'21230'</li>\n",
       "\t\t<li>'21231'</li>\n",
       "\t\t<li>'21234'</li>\n",
       "\t\t<li>'21237'</li>\n",
       "\t\t<li>'21239'</li>\n",
       "\t\t<li>'21251'</li>\n",
       "\t\t<li>'21287'</li>\n",
       "\t</ol>\n",
       "</details>"
      ],
      "text/latex": [
       "\\begin{enumerate*}\n",
       "\\item 21206\n",
       "\\item 21231\n",
       "\\item 21224\n",
       "\\item 21211\n",
       "\\item 21223\n",
       "\\item 21218\n",
       "\\item 21205\n",
       "\\item 21211\n",
       "\\item 21205\n",
       "\\item 21231\n",
       "\\end{enumerate*}\n",
       "\n",
       "\\emph{Levels}: \\begin{enumerate*}\n",
       "\\item '-21226'\n",
       "\\item '21201'\n",
       "\\item '21202'\n",
       "\\item '21205'\n",
       "\\item '21206'\n",
       "\\item '21207'\n",
       "\\item '21208'\n",
       "\\item '21209'\n",
       "\\item '21210'\n",
       "\\item '21211'\n",
       "\\item '21212'\n",
       "\\item '21213'\n",
       "\\item '21214'\n",
       "\\item '21215'\n",
       "\\item '21216'\n",
       "\\item '21217'\n",
       "\\item '21218'\n",
       "\\item '21220'\n",
       "\\item '21222'\n",
       "\\item '21223'\n",
       "\\item '21224'\n",
       "\\item '21225'\n",
       "\\item '21226'\n",
       "\\item '21227'\n",
       "\\item '21229'\n",
       "\\item '21230'\n",
       "\\item '21231'\n",
       "\\item '21234'\n",
       "\\item '21237'\n",
       "\\item '21239'\n",
       "\\item '21251'\n",
       "\\item '21287'\n",
       "\\end{enumerate*}\n"
      ],
      "text/markdown": [
       "1. 21206\n",
       "2. 21231\n",
       "3. 21224\n",
       "4. 21211\n",
       "5. 21223\n",
       "6. 21218\n",
       "7. 21205\n",
       "8. 21211\n",
       "9. 21205\n",
       "10. 21231\n",
       "\n",
       "\n",
       "\n",
       "**Levels**: 1. '-21226'\n",
       "2. '21201'\n",
       "3. '21202'\n",
       "4. '21205'\n",
       "5. '21206'\n",
       "6. '21207'\n",
       "7. '21208'\n",
       "8. '21209'\n",
       "9. '21210'\n",
       "10. '21211'\n",
       "11. '21212'\n",
       "12. '21213'\n",
       "13. '21214'\n",
       "14. '21215'\n",
       "15. '21216'\n",
       "16. '21217'\n",
       "17. '21218'\n",
       "18. '21220'\n",
       "19. '21222'\n",
       "20. '21223'\n",
       "21. '21224'\n",
       "22. '21225'\n",
       "23. '21226'\n",
       "24. '21227'\n",
       "25. '21229'\n",
       "26. '21230'\n",
       "27. '21231'\n",
       "28. '21234'\n",
       "29. '21237'\n",
       "30. '21239'\n",
       "31. '21251'\n",
       "32. '21287'\n",
       "\n",
       "\n"
      ],
      "text/plain": [
       " [1] 21206 21231 21224 21211 21223 21218 21205 21211 21205 21231\n",
       "32 Levels: -21226 21201 21202 21205 21206 21207 21208 21209 21210 ... 21287"
      ]
     },
     "metadata": {},
     "output_type": "display_data"
    }
   ],
   "source": [
    "rstdt$zcf <- factor(rstdt$zipCode)\n",
    "rstdt$zcf[1:10]"
   ]
  },
  {
   "cell_type": "code",
   "execution_count": 19,
   "metadata": {},
   "outputs": [
    {
     "data": {
      "text/html": [
       "'factor'"
      ],
      "text/latex": [
       "'factor'"
      ],
      "text/markdown": [
       "'factor'"
      ],
      "text/plain": [
       "[1] \"factor\""
      ]
     },
     "metadata": {},
     "output_type": "display_data"
    }
   ],
   "source": [
    "class(rstdt$zcf)"
   ]
  },
  {
   "cell_type": "code",
   "execution_count": 20,
   "metadata": {},
   "outputs": [
    {
     "data": {
      "text/html": [
       "<ol class=list-inline>\n",
       "\t<li>no</li>\n",
       "\t<li>no</li>\n",
       "\t<li>no</li>\n",
       "\t<li>yes</li>\n",
       "\t<li>no</li>\n",
       "\t<li>yes</li>\n",
       "\t<li>no</li>\n",
       "\t<li>yes</li>\n",
       "\t<li>no</li>\n",
       "\t<li>no</li>\n",
       "</ol>\n",
       "\n",
       "<details>\n",
       "\t<summary style=display:list-item;cursor:pointer>\n",
       "\t\t<strong>Levels</strong>:\n",
       "\t</summary>\n",
       "\t<ol class=list-inline>\n",
       "\t\t<li>'yes'</li>\n",
       "\t\t<li>'no'</li>\n",
       "\t</ol>\n",
       "</details>"
      ],
      "text/latex": [
       "\\begin{enumerate*}\n",
       "\\item no\n",
       "\\item no\n",
       "\\item no\n",
       "\\item yes\n",
       "\\item no\n",
       "\\item yes\n",
       "\\item no\n",
       "\\item yes\n",
       "\\item no\n",
       "\\item no\n",
       "\\end{enumerate*}\n",
       "\n",
       "\\emph{Levels}: \\begin{enumerate*}\n",
       "\\item 'yes'\n",
       "\\item 'no'\n",
       "\\end{enumerate*}\n"
      ],
      "text/markdown": [
       "1. no\n",
       "2. no\n",
       "3. no\n",
       "4. yes\n",
       "5. no\n",
       "6. yes\n",
       "7. no\n",
       "8. yes\n",
       "9. no\n",
       "10. no\n",
       "\n",
       "\n",
       "\n",
       "**Levels**: 1. 'yes'\n",
       "2. 'no'\n",
       "\n",
       "\n"
      ],
      "text/plain": [
       " [1] no  no  no  yes no  yes no  yes no  no \n",
       "Levels: yes no"
      ]
     },
     "metadata": {},
     "output_type": "display_data"
    }
   ],
   "source": [
    "yesno <- sample(c(\"yes\", \"no\"), size = 10, replace = TRUE)\n",
    "yesnofac = factor(yesno, levels = c(\"yes\", \"no\"))\n",
    "relevel(yesnofac, ref='yes')"
   ]
  },
  {
   "cell_type": "code",
   "execution_count": 21,
   "metadata": {},
   "outputs": [
    {
     "data": {
      "text/html": [
       "<ol class=list-inline>\n",
       "\t<li>2</li>\n",
       "\t<li>2</li>\n",
       "\t<li>2</li>\n",
       "\t<li>1</li>\n",
       "\t<li>2</li>\n",
       "\t<li>1</li>\n",
       "\t<li>2</li>\n",
       "\t<li>1</li>\n",
       "\t<li>2</li>\n",
       "\t<li>2</li>\n",
       "</ol>\n"
      ],
      "text/latex": [
       "\\begin{enumerate*}\n",
       "\\item 2\n",
       "\\item 2\n",
       "\\item 2\n",
       "\\item 1\n",
       "\\item 2\n",
       "\\item 1\n",
       "\\item 2\n",
       "\\item 1\n",
       "\\item 2\n",
       "\\item 2\n",
       "\\end{enumerate*}\n"
      ],
      "text/markdown": [
       "1. 2\n",
       "2. 2\n",
       "3. 2\n",
       "4. 1\n",
       "5. 2\n",
       "6. 1\n",
       "7. 2\n",
       "8. 1\n",
       "9. 2\n",
       "10. 2\n",
       "\n",
       "\n"
      ],
      "text/plain": [
       " [1] 2 2 2 1 2 1 2 1 2 2"
      ]
     },
     "metadata": {},
     "output_type": "display_data"
    }
   ],
   "source": [
    "as.numeric(yesnofac)"
   ]
  },
  {
   "cell_type": "code",
   "execution_count": 23,
   "metadata": {},
   "outputs": [],
   "source": [
    "#library(dplyr)"
   ]
  },
  {
   "cell_type": "code",
   "execution_count": 26,
   "metadata": {},
   "outputs": [
    {
     "data": {
      "text/plain": [
       "\n",
       "[-21226,21205) [ 21205,21220) [ 21220,21227) [ 21227,21287] \n",
       "           338            375            300            314 "
      ]
     },
     "metadata": {},
     "output_type": "display_data"
    }
   ],
   "source": [
    "restdata2 = mutate(rstdt, zipgroups = cut2(zipCode, g = 4))\n",
    "table(restdata2$zipgroups)\n"
   ]
  },
  {
   "cell_type": "code",
   "execution_count": null,
   "metadata": {},
   "outputs": [],
   "source": []
  }
 ],
 "metadata": {
  "kernelspec": {
   "display_name": "R",
   "language": "R",
   "name": "ir"
  },
  "language_info": {
   "codemirror_mode": "r",
   "file_extension": ".r",
   "mimetype": "text/x-r-source",
   "name": "R",
   "pygments_lexer": "r",
   "version": "3.5.1"
  }
 },
 "nbformat": 4,
 "nbformat_minor": 2
}
