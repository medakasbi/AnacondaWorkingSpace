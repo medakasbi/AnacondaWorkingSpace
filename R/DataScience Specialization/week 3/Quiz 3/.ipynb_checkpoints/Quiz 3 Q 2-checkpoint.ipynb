{
 "cells": [
  {
   "cell_type": "code",
   "execution_count": 3,
   "metadata": {},
   "outputs": [],
   "source": [
    "library(jpeg)"
   ]
  },
  {
   "cell_type": "code",
   "execution_count": 6,
   "metadata": {},
   "outputs": [
    {
     "data": {
      "text/html": [
       "'C:/Users/asus-A9/Documents/GitHub/AnacondaWorkingSpace/R/DataScience Specialization/week 3/Quiz 3'"
      ],
      "text/latex": [
       "'C:/Users/asus-A9/Documents/GitHub/AnacondaWorkingSpace/R/DataScience Specialization/week 3/Quiz 3'"
      ],
      "text/markdown": [
       "'C:/Users/asus-A9/Documents/GitHub/AnacondaWorkingSpace/R/DataScience Specialization/week 3/Quiz 3'"
      ],
      "text/plain": [
       "[1] \"C:/Users/asus-A9/Documents/GitHub/AnacondaWorkingSpace/R/DataScience Specialization/week 3/Quiz 3\""
      ]
     },
     "metadata": {},
     "output_type": "display_data"
    }
   ],
   "source": [
    "getwd()"
   ]
  },
  {
   "cell_type": "code",
   "execution_count": 18,
   "metadata": {},
   "outputs": [
    {
     "data": {
      "text/html": [
       "<dl class=dl-horizontal>\n",
       "\t<dt>30%</dt>\n",
       "\t\t<dd>-15259150.1</dd>\n",
       "\t<dt>80%</dt>\n",
       "\t\t<dd>-10575416</dd>\n",
       "</dl>\n"
      ],
      "text/latex": [
       "\\begin{description*}\n",
       "\\item[30\\textbackslash{}\\%] -15259150.1\n",
       "\\item[80\\textbackslash{}\\%] -10575416\n",
       "\\end{description*}\n"
      ],
      "text/markdown": [
       "30%\n",
       ":   -15259150.180%\n",
       ":   -10575416\n",
       "\n"
      ],
      "text/plain": [
       "      30%       80% \n",
       "-15259150 -10575416 "
      ]
     },
     "metadata": {},
     "output_type": "display_data"
    }
   ],
   "source": [
    "img_url = \"https://d396qusza40orc.cloudfront.net/getdata%2Fjeff.jpg\"\n",
    "my_img = download.file(img_url, file.path(getwd(), 'my_img.jpg'), mode = \"wb\")\n",
    "my_img_path = file.path(getwd(), 'my_img.jpg')\n",
    "my_img = readJPEG(my_img_path,native = TRUE)\n",
    "quantile(my_img, probs = c(0.3, 0.8))"
   ]
  },
  {
   "cell_type": "code",
   "execution_count": 14,
   "metadata": {},
   "outputs": [
    {
     "data": {
      "text/html": [
       "<ol class=list-inline>\n",
       "\t<li>180</li>\n",
       "\t<li>180</li>\n",
       "</ol>\n"
      ],
      "text/latex": [
       "\\begin{enumerate*}\n",
       "\\item 180\n",
       "\\item 180\n",
       "\\end{enumerate*}\n"
      ],
      "text/markdown": [
       "1. 180\n",
       "2. 180\n",
       "\n",
       "\n"
      ],
      "text/plain": [
       "[1] 180 180"
      ]
     },
     "metadata": {},
     "output_type": "display_data"
    }
   ],
   "source": [
    "dim(my_img)"
   ]
  },
  {
   "cell_type": "code",
   "execution_count": null,
   "metadata": {},
   "outputs": [],
   "source": []
  }
 ],
 "metadata": {
  "kernelspec": {
   "display_name": "R",
   "language": "R",
   "name": "ir"
  },
  "language_info": {
   "codemirror_mode": "r",
   "file_extension": ".r",
   "mimetype": "text/x-r-source",
   "name": "R",
   "pygments_lexer": "r",
   "version": "3.5.1"
  }
 },
 "nbformat": 4,
 "nbformat_minor": 2
}
