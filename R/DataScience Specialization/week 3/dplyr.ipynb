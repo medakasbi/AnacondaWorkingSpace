{
 "cells": [
  {
   "cell_type": "code",
   "execution_count": 2,
   "metadata": {},
   "outputs": [],
   "source": [
    "#library(dplyr)"
   ]
  },
  {
   "cell_type": "code",
   "execution_count": 3,
   "metadata": {},
   "outputs": [],
   "source": [
    "options(width = 105)"
   ]
  },
  {
   "cell_type": "code",
   "execution_count": 5,
   "metadata": {},
   "outputs": [
    {
     "data": {
      "text/html": [
       "<ol class=list-inline>\n",
       "\t<li>6940</li>\n",
       "\t<li>8</li>\n",
       "</ol>\n"
      ],
      "text/latex": [
       "\\begin{enumerate*}\n",
       "\\item 6940\n",
       "\\item 8\n",
       "\\end{enumerate*}\n"
      ],
      "text/markdown": [
       "1. 6940\n",
       "2. 8\n",
       "\n",
       "\n"
      ],
      "text/plain": [
       "[1] 6940    8"
      ]
     },
     "metadata": {},
     "output_type": "display_data"
    }
   ],
   "source": [
    "chicago <- readRDS(\"./data/chicago.rds\")\n",
    "dim(chicago)"
   ]
  },
  {
   "cell_type": "code",
   "execution_count": 6,
   "metadata": {},
   "outputs": [
    {
     "data": {
      "text/html": [
       "<ol class=list-inline>\n",
       "\t<li>'city'</li>\n",
       "\t<li>'tmpd'</li>\n",
       "\t<li>'dptp'</li>\n",
       "\t<li>'date'</li>\n",
       "\t<li>'pm25tmean2'</li>\n",
       "\t<li>'pm10tmean2'</li>\n",
       "\t<li>'o3tmean2'</li>\n",
       "\t<li>'no2tmean2'</li>\n",
       "</ol>\n"
      ],
      "text/latex": [
       "\\begin{enumerate*}\n",
       "\\item 'city'\n",
       "\\item 'tmpd'\n",
       "\\item 'dptp'\n",
       "\\item 'date'\n",
       "\\item 'pm25tmean2'\n",
       "\\item 'pm10tmean2'\n",
       "\\item 'o3tmean2'\n",
       "\\item 'no2tmean2'\n",
       "\\end{enumerate*}\n"
      ],
      "text/markdown": [
       "1. 'city'\n",
       "2. 'tmpd'\n",
       "3. 'dptp'\n",
       "4. 'date'\n",
       "5. 'pm25tmean2'\n",
       "6. 'pm10tmean2'\n",
       "7. 'o3tmean2'\n",
       "8. 'no2tmean2'\n",
       "\n",
       "\n"
      ],
      "text/plain": [
       "[1] \"city\"       \"tmpd\"       \"dptp\"       \"date\"       \"pm25tmean2\" \"pm10tmean2\" \"o3tmean2\"  \n",
       "[8] \"no2tmean2\" "
      ]
     },
     "metadata": {},
     "output_type": "display_data"
    }
   ],
   "source": [
    "names(chicago)"
   ]
  },
  {
   "cell_type": "code",
   "execution_count": 7,
   "metadata": {},
   "outputs": [
    {
     "data": {
      "text/html": [
       "<table>\n",
       "<thead><tr><th scope=col>city</th><th scope=col>tmpd</th><th scope=col>dptp</th></tr></thead>\n",
       "<tbody>\n",
       "\t<tr><td>chic  </td><td>31.5  </td><td>31.500</td></tr>\n",
       "\t<tr><td>chic  </td><td>33.0  </td><td>29.875</td></tr>\n",
       "\t<tr><td>chic  </td><td>33.0  </td><td>27.375</td></tr>\n",
       "\t<tr><td>chic  </td><td>29.0  </td><td>28.625</td></tr>\n",
       "\t<tr><td>chic  </td><td>32.0  </td><td>28.875</td></tr>\n",
       "\t<tr><td>chic  </td><td>40.0  </td><td>35.125</td></tr>\n",
       "</tbody>\n",
       "</table>\n"
      ],
      "text/latex": [
       "\\begin{tabular}{r|lll}\n",
       " city & tmpd & dptp\\\\\n",
       "\\hline\n",
       "\t chic   & 31.5   & 31.500\\\\\n",
       "\t chic   & 33.0   & 29.875\\\\\n",
       "\t chic   & 33.0   & 27.375\\\\\n",
       "\t chic   & 29.0   & 28.625\\\\\n",
       "\t chic   & 32.0   & 28.875\\\\\n",
       "\t chic   & 40.0   & 35.125\\\\\n",
       "\\end{tabular}\n"
      ],
      "text/markdown": [
       "\n",
       "city | tmpd | dptp | \n",
       "|---|---|---|---|---|---|\n",
       "| chic   | 31.5   | 31.500 | \n",
       "| chic   | 33.0   | 29.875 | \n",
       "| chic   | 33.0   | 27.375 | \n",
       "| chic   | 29.0   | 28.625 | \n",
       "| chic   | 32.0   | 28.875 | \n",
       "| chic   | 40.0   | 35.125 | \n",
       "\n",
       "\n"
      ],
      "text/plain": [
       "  city tmpd dptp  \n",
       "1 chic 31.5 31.500\n",
       "2 chic 33.0 29.875\n",
       "3 chic 33.0 27.375\n",
       "4 chic 29.0 28.625\n",
       "5 chic 32.0 28.875\n",
       "6 chic 40.0 35.125"
      ]
     },
     "metadata": {},
     "output_type": "display_data"
    }
   ],
   "source": [
    "head(select(chicago, city:dptp))"
   ]
  },
  {
   "cell_type": "code",
   "execution_count": 8,
   "metadata": {},
   "outputs": [
    {
     "data": {
      "text/html": [
       "<table>\n",
       "<thead><tr><th scope=col>date</th><th scope=col>pm25tmean2</th><th scope=col>pm10tmean2</th><th scope=col>o3tmean2</th><th scope=col>no2tmean2</th></tr></thead>\n",
       "<tbody>\n",
       "\t<tr><td>1987-01-01</td><td>NA        </td><td>34.00000  </td><td>4.250000  </td><td>19.98810  </td></tr>\n",
       "\t<tr><td>1987-01-02</td><td>NA        </td><td>      NA  </td><td>3.304348  </td><td>23.19099  </td></tr>\n",
       "\t<tr><td>1987-01-03</td><td>NA        </td><td>34.16667  </td><td>3.333333  </td><td>23.81548  </td></tr>\n",
       "\t<tr><td>1987-01-04</td><td>NA        </td><td>47.00000  </td><td>4.375000  </td><td>30.43452  </td></tr>\n",
       "\t<tr><td>1987-01-05</td><td>NA        </td><td>      NA  </td><td>4.750000  </td><td>30.33333  </td></tr>\n",
       "\t<tr><td>1987-01-06</td><td>NA        </td><td>48.00000  </td><td>5.833333  </td><td>25.77233  </td></tr>\n",
       "</tbody>\n",
       "</table>\n"
      ],
      "text/latex": [
       "\\begin{tabular}{r|lllll}\n",
       " date & pm25tmean2 & pm10tmean2 & o3tmean2 & no2tmean2\\\\\n",
       "\\hline\n",
       "\t 1987-01-01 & NA         & 34.00000   & 4.250000   & 19.98810  \\\\\n",
       "\t 1987-01-02 & NA         &       NA   & 3.304348   & 23.19099  \\\\\n",
       "\t 1987-01-03 & NA         & 34.16667   & 3.333333   & 23.81548  \\\\\n",
       "\t 1987-01-04 & NA         & 47.00000   & 4.375000   & 30.43452  \\\\\n",
       "\t 1987-01-05 & NA         &       NA   & 4.750000   & 30.33333  \\\\\n",
       "\t 1987-01-06 & NA         & 48.00000   & 5.833333   & 25.77233  \\\\\n",
       "\\end{tabular}\n"
      ],
      "text/markdown": [
       "\n",
       "date | pm25tmean2 | pm10tmean2 | o3tmean2 | no2tmean2 | \n",
       "|---|---|---|---|---|---|\n",
       "| 1987-01-01 | NA         | 34.00000   | 4.250000   | 19.98810   | \n",
       "| 1987-01-02 | NA         |       NA   | 3.304348   | 23.19099   | \n",
       "| 1987-01-03 | NA         | 34.16667   | 3.333333   | 23.81548   | \n",
       "| 1987-01-04 | NA         | 47.00000   | 4.375000   | 30.43452   | \n",
       "| 1987-01-05 | NA         |       NA   | 4.750000   | 30.33333   | \n",
       "| 1987-01-06 | NA         | 48.00000   | 5.833333   | 25.77233   | \n",
       "\n",
       "\n"
      ],
      "text/plain": [
       "  date       pm25tmean2 pm10tmean2 o3tmean2 no2tmean2\n",
       "1 1987-01-01 NA         34.00000   4.250000 19.98810 \n",
       "2 1987-01-02 NA               NA   3.304348 23.19099 \n",
       "3 1987-01-03 NA         34.16667   3.333333 23.81548 \n",
       "4 1987-01-04 NA         47.00000   4.375000 30.43452 \n",
       "5 1987-01-05 NA               NA   4.750000 30.33333 \n",
       "6 1987-01-06 NA         48.00000   5.833333 25.77233 "
      ]
     },
     "metadata": {},
     "output_type": "display_data"
    }
   ],
   "source": [
    "head(select(chicago, -(city:dptp)))"
   ]
  },
  {
   "cell_type": "code",
   "execution_count": 9,
   "metadata": {},
   "outputs": [
    {
     "data": {
      "text/html": [
       "<table>\n",
       "<thead><tr><th scope=col>city</th><th scope=col>tmpd</th><th scope=col>dptp</th><th scope=col>date</th><th scope=col>pm25tmean2</th><th scope=col>pm10tmean2</th><th scope=col>o3tmean2</th><th scope=col>no2tmean2</th></tr></thead>\n",
       "<tbody>\n",
       "\t<tr><td>chic      </td><td>23        </td><td>21.9      </td><td>1998-01-17</td><td>38.10     </td><td>32.46154  </td><td> 3.180556 </td><td>25.30000  </td></tr>\n",
       "\t<tr><td>chic      </td><td>28        </td><td>25.8      </td><td>1998-01-23</td><td>33.95     </td><td>38.69231  </td><td> 1.750000 </td><td>29.37630  </td></tr>\n",
       "\t<tr><td>chic      </td><td>55        </td><td>51.3      </td><td>1998-04-30</td><td>39.40     </td><td>34.00000  </td><td>10.786232 </td><td>25.31310  </td></tr>\n",
       "\t<tr><td>chic      </td><td>59        </td><td>53.7      </td><td>1998-05-01</td><td>35.40     </td><td>28.50000  </td><td>14.295125 </td><td>31.42905  </td></tr>\n",
       "\t<tr><td>chic      </td><td>57        </td><td>52.0      </td><td>1998-05-02</td><td>33.30     </td><td>35.00000  </td><td>20.662879 </td><td>26.79861  </td></tr>\n",
       "\t<tr><td>chic      </td><td>57        </td><td>56.0      </td><td>1998-05-07</td><td>32.10     </td><td>34.50000  </td><td>24.270422 </td><td>33.99167  </td></tr>\n",
       "</tbody>\n",
       "</table>\n"
      ],
      "text/latex": [
       "\\begin{tabular}{r|llllllll}\n",
       " city & tmpd & dptp & date & pm25tmean2 & pm10tmean2 & o3tmean2 & no2tmean2\\\\\n",
       "\\hline\n",
       "\t chic       & 23         & 21.9       & 1998-01-17 & 38.10      & 32.46154   &  3.180556  & 25.30000  \\\\\n",
       "\t chic       & 28         & 25.8       & 1998-01-23 & 33.95      & 38.69231   &  1.750000  & 29.37630  \\\\\n",
       "\t chic       & 55         & 51.3       & 1998-04-30 & 39.40      & 34.00000   & 10.786232  & 25.31310  \\\\\n",
       "\t chic       & 59         & 53.7       & 1998-05-01 & 35.40      & 28.50000   & 14.295125  & 31.42905  \\\\\n",
       "\t chic       & 57         & 52.0       & 1998-05-02 & 33.30      & 35.00000   & 20.662879  & 26.79861  \\\\\n",
       "\t chic       & 57         & 56.0       & 1998-05-07 & 32.10      & 34.50000   & 24.270422  & 33.99167  \\\\\n",
       "\\end{tabular}\n"
      ],
      "text/markdown": [
       "\n",
       "city | tmpd | dptp | date | pm25tmean2 | pm10tmean2 | o3tmean2 | no2tmean2 | \n",
       "|---|---|---|---|---|---|\n",
       "| chic       | 23         | 21.9       | 1998-01-17 | 38.10      | 32.46154   |  3.180556  | 25.30000   | \n",
       "| chic       | 28         | 25.8       | 1998-01-23 | 33.95      | 38.69231   |  1.750000  | 29.37630   | \n",
       "| chic       | 55         | 51.3       | 1998-04-30 | 39.40      | 34.00000   | 10.786232  | 25.31310   | \n",
       "| chic       | 59         | 53.7       | 1998-05-01 | 35.40      | 28.50000   | 14.295125  | 31.42905   | \n",
       "| chic       | 57         | 52.0       | 1998-05-02 | 33.30      | 35.00000   | 20.662879  | 26.79861   | \n",
       "| chic       | 57         | 56.0       | 1998-05-07 | 32.10      | 34.50000   | 24.270422  | 33.99167   | \n",
       "\n",
       "\n"
      ],
      "text/plain": [
       "  city tmpd dptp date       pm25tmean2 pm10tmean2 o3tmean2  no2tmean2\n",
       "1 chic 23   21.9 1998-01-17 38.10      32.46154    3.180556 25.30000 \n",
       "2 chic 28   25.8 1998-01-23 33.95      38.69231    1.750000 29.37630 \n",
       "3 chic 55   51.3 1998-04-30 39.40      34.00000   10.786232 25.31310 \n",
       "4 chic 59   53.7 1998-05-01 35.40      28.50000   14.295125 31.42905 \n",
       "5 chic 57   52.0 1998-05-02 33.30      35.00000   20.662879 26.79861 \n",
       "6 chic 57   56.0 1998-05-07 32.10      34.50000   24.270422 33.99167 "
      ]
     },
     "metadata": {},
     "output_type": "display_data"
    }
   ],
   "source": [
    "chic.f <- filter(chicago, pm25tmean2 > 30)\n",
    "head(chic.f)"
   ]
  },
  {
   "cell_type": "code",
   "execution_count": 10,
   "metadata": {},
   "outputs": [
    {
     "data": {
      "text/html": [
       "<table>\n",
       "<thead><tr><th scope=col>city</th><th scope=col>tmpd</th><th scope=col>dptp</th><th scope=col>date</th><th scope=col>pm25tmean2</th><th scope=col>pm10tmean2</th><th scope=col>o3tmean2</th><th scope=col>no2tmean2</th></tr></thead>\n",
       "<tbody>\n",
       "\t<tr><td>chic      </td><td>81        </td><td>71.2      </td><td>1998-08-23</td><td>39.6000   </td><td>59.0      </td><td>45.86364  </td><td>14.32639  </td></tr>\n",
       "\t<tr><td>chic      </td><td>81        </td><td>70.4      </td><td>1998-09-06</td><td>31.5000   </td><td>50.5      </td><td>50.66250  </td><td>20.31250  </td></tr>\n",
       "\t<tr><td>chic      </td><td>82        </td><td>72.2      </td><td>2001-07-20</td><td>32.3000   </td><td>58.5      </td><td>33.00380  </td><td>33.67500  </td></tr>\n",
       "\t<tr><td>chic      </td><td>84        </td><td>72.9      </td><td>2001-08-01</td><td>43.7000   </td><td>81.5      </td><td>45.17736  </td><td>27.44239  </td></tr>\n",
       "\t<tr><td>chic      </td><td>85        </td><td>72.6      </td><td>2001-08-08</td><td>38.8375   </td><td>70.0      </td><td>37.98047  </td><td>27.62743  </td></tr>\n",
       "\t<tr><td>chic      </td><td>84        </td><td>72.6      </td><td>2001-08-09</td><td>38.2000   </td><td>66.0      </td><td>36.73245  </td><td>26.46742  </td></tr>\n",
       "</tbody>\n",
       "</table>\n"
      ],
      "text/latex": [
       "\\begin{tabular}{r|llllllll}\n",
       " city & tmpd & dptp & date & pm25tmean2 & pm10tmean2 & o3tmean2 & no2tmean2\\\\\n",
       "\\hline\n",
       "\t chic       & 81         & 71.2       & 1998-08-23 & 39.6000    & 59.0       & 45.86364   & 14.32639  \\\\\n",
       "\t chic       & 81         & 70.4       & 1998-09-06 & 31.5000    & 50.5       & 50.66250   & 20.31250  \\\\\n",
       "\t chic       & 82         & 72.2       & 2001-07-20 & 32.3000    & 58.5       & 33.00380   & 33.67500  \\\\\n",
       "\t chic       & 84         & 72.9       & 2001-08-01 & 43.7000    & 81.5       & 45.17736   & 27.44239  \\\\\n",
       "\t chic       & 85         & 72.6       & 2001-08-08 & 38.8375    & 70.0       & 37.98047   & 27.62743  \\\\\n",
       "\t chic       & 84         & 72.6       & 2001-08-09 & 38.2000    & 66.0       & 36.73245   & 26.46742  \\\\\n",
       "\\end{tabular}\n"
      ],
      "text/markdown": [
       "\n",
       "city | tmpd | dptp | date | pm25tmean2 | pm10tmean2 | o3tmean2 | no2tmean2 | \n",
       "|---|---|---|---|---|---|\n",
       "| chic       | 81         | 71.2       | 1998-08-23 | 39.6000    | 59.0       | 45.86364   | 14.32639   | \n",
       "| chic       | 81         | 70.4       | 1998-09-06 | 31.5000    | 50.5       | 50.66250   | 20.31250   | \n",
       "| chic       | 82         | 72.2       | 2001-07-20 | 32.3000    | 58.5       | 33.00380   | 33.67500   | \n",
       "| chic       | 84         | 72.9       | 2001-08-01 | 43.7000    | 81.5       | 45.17736   | 27.44239   | \n",
       "| chic       | 85         | 72.6       | 2001-08-08 | 38.8375    | 70.0       | 37.98047   | 27.62743   | \n",
       "| chic       | 84         | 72.6       | 2001-08-09 | 38.2000    | 66.0       | 36.73245   | 26.46742   | \n",
       "\n",
       "\n"
      ],
      "text/plain": [
       "  city tmpd dptp date       pm25tmean2 pm10tmean2 o3tmean2 no2tmean2\n",
       "1 chic 81   71.2 1998-08-23 39.6000    59.0       45.86364 14.32639 \n",
       "2 chic 81   70.4 1998-09-06 31.5000    50.5       50.66250 20.31250 \n",
       "3 chic 82   72.2 2001-07-20 32.3000    58.5       33.00380 33.67500 \n",
       "4 chic 84   72.9 2001-08-01 43.7000    81.5       45.17736 27.44239 \n",
       "5 chic 85   72.6 2001-08-08 38.8375    70.0       37.98047 27.62743 \n",
       "6 chic 84   72.6 2001-08-09 38.2000    66.0       36.73245 26.46742 "
      ]
     },
     "metadata": {},
     "output_type": "display_data"
    }
   ],
   "source": [
    "chic.f <- filter(chicago, \n",
    "                 pm25tmean2 > 30 , tmpd >80)\n",
    "head(chic.f)"
   ]
  },
  {
   "cell_type": "code",
   "execution_count": 11,
   "metadata": {},
   "outputs": [
    {
     "data": {
      "text/html": [
       "<table>\n",
       "<thead><tr><th scope=col>city</th><th scope=col>tmpd</th><th scope=col>dptp</th><th scope=col>date</th><th scope=col>pm25tmean2</th><th scope=col>pm10tmean2</th><th scope=col>o3tmean2</th><th scope=col>no2tmean2</th></tr></thead>\n",
       "<tbody>\n",
       "\t<tr><td>chic      </td><td>81        </td><td>71.2      </td><td>1998-08-23</td><td>39.6000   </td><td>59.0      </td><td>45.86364  </td><td>14.32639  </td></tr>\n",
       "\t<tr><td>chic      </td><td>81        </td><td>70.4      </td><td>1998-09-06</td><td>31.5000   </td><td>50.5      </td><td>50.66250  </td><td>20.31250  </td></tr>\n",
       "\t<tr><td>chic      </td><td>82        </td><td>72.2      </td><td>2001-07-20</td><td>32.3000   </td><td>58.5      </td><td>33.00380  </td><td>33.67500  </td></tr>\n",
       "\t<tr><td>chic      </td><td>84        </td><td>72.9      </td><td>2001-08-01</td><td>43.7000   </td><td>81.5      </td><td>45.17736  </td><td>27.44239  </td></tr>\n",
       "\t<tr><td>chic      </td><td>85        </td><td>72.6      </td><td>2001-08-08</td><td>38.8375   </td><td>70.0      </td><td>37.98047  </td><td>27.62743  </td></tr>\n",
       "\t<tr><td>chic      </td><td>84        </td><td>72.6      </td><td>2001-08-09</td><td>38.2000   </td><td>66.0      </td><td>36.73245  </td><td>26.46742  </td></tr>\n",
       "</tbody>\n",
       "</table>\n"
      ],
      "text/latex": [
       "\\begin{tabular}{r|llllllll}\n",
       " city & tmpd & dptp & date & pm25tmean2 & pm10tmean2 & o3tmean2 & no2tmean2\\\\\n",
       "\\hline\n",
       "\t chic       & 81         & 71.2       & 1998-08-23 & 39.6000    & 59.0       & 45.86364   & 14.32639  \\\\\n",
       "\t chic       & 81         & 70.4       & 1998-09-06 & 31.5000    & 50.5       & 50.66250   & 20.31250  \\\\\n",
       "\t chic       & 82         & 72.2       & 2001-07-20 & 32.3000    & 58.5       & 33.00380   & 33.67500  \\\\\n",
       "\t chic       & 84         & 72.9       & 2001-08-01 & 43.7000    & 81.5       & 45.17736   & 27.44239  \\\\\n",
       "\t chic       & 85         & 72.6       & 2001-08-08 & 38.8375    & 70.0       & 37.98047   & 27.62743  \\\\\n",
       "\t chic       & 84         & 72.6       & 2001-08-09 & 38.2000    & 66.0       & 36.73245   & 26.46742  \\\\\n",
       "\\end{tabular}\n"
      ],
      "text/markdown": [
       "\n",
       "city | tmpd | dptp | date | pm25tmean2 | pm10tmean2 | o3tmean2 | no2tmean2 | \n",
       "|---|---|---|---|---|---|\n",
       "| chic       | 81         | 71.2       | 1998-08-23 | 39.6000    | 59.0       | 45.86364   | 14.32639   | \n",
       "| chic       | 81         | 70.4       | 1998-09-06 | 31.5000    | 50.5       | 50.66250   | 20.31250   | \n",
       "| chic       | 82         | 72.2       | 2001-07-20 | 32.3000    | 58.5       | 33.00380   | 33.67500   | \n",
       "| chic       | 84         | 72.9       | 2001-08-01 | 43.7000    | 81.5       | 45.17736   | 27.44239   | \n",
       "| chic       | 85         | 72.6       | 2001-08-08 | 38.8375    | 70.0       | 37.98047   | 27.62743   | \n",
       "| chic       | 84         | 72.6       | 2001-08-09 | 38.2000    | 66.0       | 36.73245   | 26.46742   | \n",
       "\n",
       "\n"
      ],
      "text/plain": [
       "  city tmpd dptp date       pm25tmean2 pm10tmean2 o3tmean2 no2tmean2\n",
       "1 chic 81   71.2 1998-08-23 39.6000    59.0       45.86364 14.32639 \n",
       "2 chic 81   70.4 1998-09-06 31.5000    50.5       50.66250 20.31250 \n",
       "3 chic 82   72.2 2001-07-20 32.3000    58.5       33.00380 33.67500 \n",
       "4 chic 84   72.9 2001-08-01 43.7000    81.5       45.17736 27.44239 \n",
       "5 chic 85   72.6 2001-08-08 38.8375    70.0       37.98047 27.62743 \n",
       "6 chic 84   72.6 2001-08-09 38.2000    66.0       36.73245 26.46742 "
      ]
     },
     "metadata": {},
     "output_type": "display_data"
    }
   ],
   "source": [
    "chic.f <- filter(chicago, \n",
    "                 pm25tmean2 > 30 & tmpd >80)\n",
    "head(chic.f)"
   ]
  },
  {
   "cell_type": "code",
   "execution_count": 13,
   "metadata": {},
   "outputs": [
    {
     "data": {
      "text/html": [
       "<table>\n",
       "<thead><tr><th scope=col>city</th><th scope=col>tmpd</th><th scope=col>dptp</th><th scope=col>date</th><th scope=col>pm25tmean2</th><th scope=col>pm10tmean2</th><th scope=col>o3tmean2</th><th scope=col>no2tmean2</th></tr></thead>\n",
       "<tbody>\n",
       "\t<tr><td>chic      </td><td>31.5      </td><td>31.500    </td><td>1987-01-01</td><td>NA        </td><td>34.00000  </td><td>4.250000  </td><td>19.98810  </td></tr>\n",
       "\t<tr><td>chic      </td><td>33.0      </td><td>29.875    </td><td>1987-01-02</td><td>NA        </td><td>      NA  </td><td>3.304348  </td><td>23.19099  </td></tr>\n",
       "\t<tr><td>chic      </td><td>33.0      </td><td>27.375    </td><td>1987-01-03</td><td>NA        </td><td>34.16667  </td><td>3.333333  </td><td>23.81548  </td></tr>\n",
       "\t<tr><td>chic      </td><td>29.0      </td><td>28.625    </td><td>1987-01-04</td><td>NA        </td><td>47.00000  </td><td>4.375000  </td><td>30.43452  </td></tr>\n",
       "\t<tr><td>chic      </td><td>32.0      </td><td>28.875    </td><td>1987-01-05</td><td>NA        </td><td>      NA  </td><td>4.750000  </td><td>30.33333  </td></tr>\n",
       "\t<tr><td>chic      </td><td>40.0      </td><td>35.125    </td><td>1987-01-06</td><td>NA        </td><td>48.00000  </td><td>5.833333  </td><td>25.77233  </td></tr>\n",
       "</tbody>\n",
       "</table>\n"
      ],
      "text/latex": [
       "\\begin{tabular}{r|llllllll}\n",
       " city & tmpd & dptp & date & pm25tmean2 & pm10tmean2 & o3tmean2 & no2tmean2\\\\\n",
       "\\hline\n",
       "\t chic       & 31.5       & 31.500     & 1987-01-01 & NA         & 34.00000   & 4.250000   & 19.98810  \\\\\n",
       "\t chic       & 33.0       & 29.875     & 1987-01-02 & NA         &       NA   & 3.304348   & 23.19099  \\\\\n",
       "\t chic       & 33.0       & 27.375     & 1987-01-03 & NA         & 34.16667   & 3.333333   & 23.81548  \\\\\n",
       "\t chic       & 29.0       & 28.625     & 1987-01-04 & NA         & 47.00000   & 4.375000   & 30.43452  \\\\\n",
       "\t chic       & 32.0       & 28.875     & 1987-01-05 & NA         &       NA   & 4.750000   & 30.33333  \\\\\n",
       "\t chic       & 40.0       & 35.125     & 1987-01-06 & NA         & 48.00000   & 5.833333   & 25.77233  \\\\\n",
       "\\end{tabular}\n"
      ],
      "text/markdown": [
       "\n",
       "city | tmpd | dptp | date | pm25tmean2 | pm10tmean2 | o3tmean2 | no2tmean2 | \n",
       "|---|---|---|---|---|---|\n",
       "| chic       | 31.5       | 31.500     | 1987-01-01 | NA         | 34.00000   | 4.250000   | 19.98810   | \n",
       "| chic       | 33.0       | 29.875     | 1987-01-02 | NA         |       NA   | 3.304348   | 23.19099   | \n",
       "| chic       | 33.0       | 27.375     | 1987-01-03 | NA         | 34.16667   | 3.333333   | 23.81548   | \n",
       "| chic       | 29.0       | 28.625     | 1987-01-04 | NA         | 47.00000   | 4.375000   | 30.43452   | \n",
       "| chic       | 32.0       | 28.875     | 1987-01-05 | NA         |       NA   | 4.750000   | 30.33333   | \n",
       "| chic       | 40.0       | 35.125     | 1987-01-06 | NA         | 48.00000   | 5.833333   | 25.77233   | \n",
       "\n",
       "\n"
      ],
      "text/plain": [
       "  city tmpd dptp   date       pm25tmean2 pm10tmean2 o3tmean2 no2tmean2\n",
       "1 chic 31.5 31.500 1987-01-01 NA         34.00000   4.250000 19.98810 \n",
       "2 chic 33.0 29.875 1987-01-02 NA               NA   3.304348 23.19099 \n",
       "3 chic 33.0 27.375 1987-01-03 NA         34.16667   3.333333 23.81548 \n",
       "4 chic 29.0 28.625 1987-01-04 NA         47.00000   4.375000 30.43452 \n",
       "5 chic 32.0 28.875 1987-01-05 NA               NA   4.750000 30.33333 \n",
       "6 chic 40.0 35.125 1987-01-06 NA         48.00000   5.833333 25.77233 "
      ]
     },
     "metadata": {},
     "output_type": "display_data"
    }
   ],
   "source": [
    "chicago <- arrange(chicago, date)\n",
    "head(chicago)"
   ]
  },
  {
   "cell_type": "code",
   "execution_count": 14,
   "metadata": {},
   "outputs": [
    {
     "data": {
      "text/html": [
       "<table>\n",
       "<thead><tr><th></th><th scope=col>city</th><th scope=col>tmpd</th><th scope=col>dptp</th><th scope=col>date</th><th scope=col>pm25tmean2</th><th scope=col>pm10tmean2</th><th scope=col>o3tmean2</th><th scope=col>no2tmean2</th></tr></thead>\n",
       "<tbody>\n",
       "\t<tr><th scope=row>6935</th><td>chic      </td><td>35        </td><td>29.6      </td><td>2005-12-26</td><td> 8.40000  </td><td> 8.5      </td><td>14.041667 </td><td>16.81944  </td></tr>\n",
       "\t<tr><th scope=row>6936</th><td>chic      </td><td>40        </td><td>33.6      </td><td>2005-12-27</td><td>23.56000  </td><td>27.0      </td><td> 4.468750 </td><td>23.50000  </td></tr>\n",
       "\t<tr><th scope=row>6937</th><td>chic      </td><td>37        </td><td>34.5      </td><td>2005-12-28</td><td>17.75000  </td><td>27.5      </td><td> 3.260417 </td><td>19.28563  </td></tr>\n",
       "\t<tr><th scope=row>6938</th><td>chic      </td><td>35        </td><td>29.4      </td><td>2005-12-29</td><td> 7.45000  </td><td>23.5      </td><td> 6.794837 </td><td>19.97222  </td></tr>\n",
       "\t<tr><th scope=row>6939</th><td>chic      </td><td>36        </td><td>31.0      </td><td>2005-12-30</td><td>15.05714  </td><td>19.2      </td><td> 3.034420 </td><td>22.80556  </td></tr>\n",
       "\t<tr><th scope=row>6940</th><td>chic      </td><td>35        </td><td>30.1      </td><td>2005-12-31</td><td>15.00000  </td><td>23.5      </td><td> 2.531250 </td><td>13.25000  </td></tr>\n",
       "</tbody>\n",
       "</table>\n"
      ],
      "text/latex": [
       "\\begin{tabular}{r|llllllll}\n",
       "  & city & tmpd & dptp & date & pm25tmean2 & pm10tmean2 & o3tmean2 & no2tmean2\\\\\n",
       "\\hline\n",
       "\t6935 & chic       & 35         & 29.6       & 2005-12-26 &  8.40000   &  8.5       & 14.041667  & 16.81944  \\\\\n",
       "\t6936 & chic       & 40         & 33.6       & 2005-12-27 & 23.56000   & 27.0       &  4.468750  & 23.50000  \\\\\n",
       "\t6937 & chic       & 37         & 34.5       & 2005-12-28 & 17.75000   & 27.5       &  3.260417  & 19.28563  \\\\\n",
       "\t6938 & chic       & 35         & 29.4       & 2005-12-29 &  7.45000   & 23.5       &  6.794837  & 19.97222  \\\\\n",
       "\t6939 & chic       & 36         & 31.0       & 2005-12-30 & 15.05714   & 19.2       &  3.034420  & 22.80556  \\\\\n",
       "\t6940 & chic       & 35         & 30.1       & 2005-12-31 & 15.00000   & 23.5       &  2.531250  & 13.25000  \\\\\n",
       "\\end{tabular}\n"
      ],
      "text/markdown": [
       "\n",
       "| <!--/--> | city | tmpd | dptp | date | pm25tmean2 | pm10tmean2 | o3tmean2 | no2tmean2 | \n",
       "|---|---|---|---|---|---|\n",
       "| 6935 | chic       | 35         | 29.6       | 2005-12-26 |  8.40000   |  8.5       | 14.041667  | 16.81944   | \n",
       "| 6936 | chic       | 40         | 33.6       | 2005-12-27 | 23.56000   | 27.0       |  4.468750  | 23.50000   | \n",
       "| 6937 | chic       | 37         | 34.5       | 2005-12-28 | 17.75000   | 27.5       |  3.260417  | 19.28563   | \n",
       "| 6938 | chic       | 35         | 29.4       | 2005-12-29 |  7.45000   | 23.5       |  6.794837  | 19.97222   | \n",
       "| 6939 | chic       | 36         | 31.0       | 2005-12-30 | 15.05714   | 19.2       |  3.034420  | 22.80556   | \n",
       "| 6940 | chic       | 35         | 30.1       | 2005-12-31 | 15.00000   | 23.5       |  2.531250  | 13.25000   | \n",
       "\n",
       "\n"
      ],
      "text/plain": [
       "     city tmpd dptp date       pm25tmean2 pm10tmean2 o3tmean2  no2tmean2\n",
       "6935 chic 35   29.6 2005-12-26  8.40000    8.5       14.041667 16.81944 \n",
       "6936 chic 40   33.6 2005-12-27 23.56000   27.0        4.468750 23.50000 \n",
       "6937 chic 37   34.5 2005-12-28 17.75000   27.5        3.260417 19.28563 \n",
       "6938 chic 35   29.4 2005-12-29  7.45000   23.5        6.794837 19.97222 \n",
       "6939 chic 36   31.0 2005-12-30 15.05714   19.2        3.034420 22.80556 \n",
       "6940 chic 35   30.1 2005-12-31 15.00000   23.5        2.531250 13.25000 "
      ]
     },
     "metadata": {},
     "output_type": "display_data"
    }
   ],
   "source": [
    "tail(chicago)"
   ]
  },
  {
   "cell_type": "code",
   "execution_count": 15,
   "metadata": {},
   "outputs": [
    {
     "data": {
      "text/html": [
       "<table>\n",
       "<thead><tr><th scope=col>city</th><th scope=col>tmpd</th><th scope=col>dptp</th><th scope=col>date</th><th scope=col>pm25tmean2</th><th scope=col>pm10tmean2</th><th scope=col>o3tmean2</th><th scope=col>no2tmean2</th></tr></thead>\n",
       "<tbody>\n",
       "\t<tr><td>chic      </td><td>35        </td><td>30.1      </td><td>2005-12-31</td><td>15.00000  </td><td>23.5      </td><td> 2.531250 </td><td>13.25000  </td></tr>\n",
       "\t<tr><td>chic      </td><td>36        </td><td>31.0      </td><td>2005-12-30</td><td>15.05714  </td><td>19.2      </td><td> 3.034420 </td><td>22.80556  </td></tr>\n",
       "\t<tr><td>chic      </td><td>35        </td><td>29.4      </td><td>2005-12-29</td><td> 7.45000  </td><td>23.5      </td><td> 6.794837 </td><td>19.97222  </td></tr>\n",
       "\t<tr><td>chic      </td><td>37        </td><td>34.5      </td><td>2005-12-28</td><td>17.75000  </td><td>27.5      </td><td> 3.260417 </td><td>19.28563  </td></tr>\n",
       "\t<tr><td>chic      </td><td>40        </td><td>33.6      </td><td>2005-12-27</td><td>23.56000  </td><td>27.0      </td><td> 4.468750 </td><td>23.50000  </td></tr>\n",
       "\t<tr><td>chic      </td><td>35        </td><td>29.6      </td><td>2005-12-26</td><td> 8.40000  </td><td> 8.5      </td><td>14.041667 </td><td>16.81944  </td></tr>\n",
       "</tbody>\n",
       "</table>\n"
      ],
      "text/latex": [
       "\\begin{tabular}{r|llllllll}\n",
       " city & tmpd & dptp & date & pm25tmean2 & pm10tmean2 & o3tmean2 & no2tmean2\\\\\n",
       "\\hline\n",
       "\t chic       & 35         & 30.1       & 2005-12-31 & 15.00000   & 23.5       &  2.531250  & 13.25000  \\\\\n",
       "\t chic       & 36         & 31.0       & 2005-12-30 & 15.05714   & 19.2       &  3.034420  & 22.80556  \\\\\n",
       "\t chic       & 35         & 29.4       & 2005-12-29 &  7.45000   & 23.5       &  6.794837  & 19.97222  \\\\\n",
       "\t chic       & 37         & 34.5       & 2005-12-28 & 17.75000   & 27.5       &  3.260417  & 19.28563  \\\\\n",
       "\t chic       & 40         & 33.6       & 2005-12-27 & 23.56000   & 27.0       &  4.468750  & 23.50000  \\\\\n",
       "\t chic       & 35         & 29.6       & 2005-12-26 &  8.40000   &  8.5       & 14.041667  & 16.81944  \\\\\n",
       "\\end{tabular}\n"
      ],
      "text/markdown": [
       "\n",
       "city | tmpd | dptp | date | pm25tmean2 | pm10tmean2 | o3tmean2 | no2tmean2 | \n",
       "|---|---|---|---|---|---|\n",
       "| chic       | 35         | 30.1       | 2005-12-31 | 15.00000   | 23.5       |  2.531250  | 13.25000   | \n",
       "| chic       | 36         | 31.0       | 2005-12-30 | 15.05714   | 19.2       |  3.034420  | 22.80556   | \n",
       "| chic       | 35         | 29.4       | 2005-12-29 |  7.45000   | 23.5       |  6.794837  | 19.97222   | \n",
       "| chic       | 37         | 34.5       | 2005-12-28 | 17.75000   | 27.5       |  3.260417  | 19.28563   | \n",
       "| chic       | 40         | 33.6       | 2005-12-27 | 23.56000   | 27.0       |  4.468750  | 23.50000   | \n",
       "| chic       | 35         | 29.6       | 2005-12-26 |  8.40000   |  8.5       | 14.041667  | 16.81944   | \n",
       "\n",
       "\n"
      ],
      "text/plain": [
       "  city tmpd dptp date       pm25tmean2 pm10tmean2 o3tmean2  no2tmean2\n",
       "1 chic 35   30.1 2005-12-31 15.00000   23.5        2.531250 13.25000 \n",
       "2 chic 36   31.0 2005-12-30 15.05714   19.2        3.034420 22.80556 \n",
       "3 chic 35   29.4 2005-12-29  7.45000   23.5        6.794837 19.97222 \n",
       "4 chic 37   34.5 2005-12-28 17.75000   27.5        3.260417 19.28563 \n",
       "5 chic 40   33.6 2005-12-27 23.56000   27.0        4.468750 23.50000 \n",
       "6 chic 35   29.6 2005-12-26  8.40000    8.5       14.041667 16.81944 "
      ]
     },
     "metadata": {},
     "output_type": "display_data"
    }
   ],
   "source": [
    "chicago <- arrange(chicago, desc(date))\n",
    "head(chicago)"
   ]
  },
  {
   "cell_type": "code",
   "execution_count": 18,
   "metadata": {},
   "outputs": [
    {
     "data": {
      "text/html": [
       "<table>\n",
       "<thead><tr><th scope=col>city</th><th scope=col>tmpd</th><th scope=col>dewpoint</th><th scope=col>date</th><th scope=col>pm25</th><th scope=col>pm10tmean2</th><th scope=col>o3tmean2</th><th scope=col>no2tmean2</th></tr></thead>\n",
       "<tbody>\n",
       "\t<tr><td>chic      </td><td>35        </td><td>30.1      </td><td>2005-12-31</td><td>15.00000  </td><td>23.5      </td><td> 2.531250 </td><td>13.25000  </td></tr>\n",
       "\t<tr><td>chic      </td><td>36        </td><td>31.0      </td><td>2005-12-30</td><td>15.05714  </td><td>19.2      </td><td> 3.034420 </td><td>22.80556  </td></tr>\n",
       "\t<tr><td>chic      </td><td>35        </td><td>29.4      </td><td>2005-12-29</td><td> 7.45000  </td><td>23.5      </td><td> 6.794837 </td><td>19.97222  </td></tr>\n",
       "\t<tr><td>chic      </td><td>37        </td><td>34.5      </td><td>2005-12-28</td><td>17.75000  </td><td>27.5      </td><td> 3.260417 </td><td>19.28563  </td></tr>\n",
       "\t<tr><td>chic      </td><td>40        </td><td>33.6      </td><td>2005-12-27</td><td>23.56000  </td><td>27.0      </td><td> 4.468750 </td><td>23.50000  </td></tr>\n",
       "\t<tr><td>chic      </td><td>35        </td><td>29.6      </td><td>2005-12-26</td><td> 8.40000  </td><td> 8.5      </td><td>14.041667 </td><td>16.81944  </td></tr>\n",
       "</tbody>\n",
       "</table>\n"
      ],
      "text/latex": [
       "\\begin{tabular}{r|llllllll}\n",
       " city & tmpd & dewpoint & date & pm25 & pm10tmean2 & o3tmean2 & no2tmean2\\\\\n",
       "\\hline\n",
       "\t chic       & 35         & 30.1       & 2005-12-31 & 15.00000   & 23.5       &  2.531250  & 13.25000  \\\\\n",
       "\t chic       & 36         & 31.0       & 2005-12-30 & 15.05714   & 19.2       &  3.034420  & 22.80556  \\\\\n",
       "\t chic       & 35         & 29.4       & 2005-12-29 &  7.45000   & 23.5       &  6.794837  & 19.97222  \\\\\n",
       "\t chic       & 37         & 34.5       & 2005-12-28 & 17.75000   & 27.5       &  3.260417  & 19.28563  \\\\\n",
       "\t chic       & 40         & 33.6       & 2005-12-27 & 23.56000   & 27.0       &  4.468750  & 23.50000  \\\\\n",
       "\t chic       & 35         & 29.6       & 2005-12-26 &  8.40000   &  8.5       & 14.041667  & 16.81944  \\\\\n",
       "\\end{tabular}\n"
      ],
      "text/markdown": [
       "\n",
       "city | tmpd | dewpoint | date | pm25 | pm10tmean2 | o3tmean2 | no2tmean2 | \n",
       "|---|---|---|---|---|---|\n",
       "| chic       | 35         | 30.1       | 2005-12-31 | 15.00000   | 23.5       |  2.531250  | 13.25000   | \n",
       "| chic       | 36         | 31.0       | 2005-12-30 | 15.05714   | 19.2       |  3.034420  | 22.80556   | \n",
       "| chic       | 35         | 29.4       | 2005-12-29 |  7.45000   | 23.5       |  6.794837  | 19.97222   | \n",
       "| chic       | 37         | 34.5       | 2005-12-28 | 17.75000   | 27.5       |  3.260417  | 19.28563   | \n",
       "| chic       | 40         | 33.6       | 2005-12-27 | 23.56000   | 27.0       |  4.468750  | 23.50000   | \n",
       "| chic       | 35         | 29.6       | 2005-12-26 |  8.40000   |  8.5       | 14.041667  | 16.81944   | \n",
       "\n",
       "\n"
      ],
      "text/plain": [
       "  city tmpd dewpoint date       pm25     pm10tmean2 o3tmean2  no2tmean2\n",
       "1 chic 35   30.1     2005-12-31 15.00000 23.5        2.531250 13.25000 \n",
       "2 chic 36   31.0     2005-12-30 15.05714 19.2        3.034420 22.80556 \n",
       "3 chic 35   29.4     2005-12-29  7.45000 23.5        6.794837 19.97222 \n",
       "4 chic 37   34.5     2005-12-28 17.75000 27.5        3.260417 19.28563 \n",
       "5 chic 40   33.6     2005-12-27 23.56000 27.0        4.468750 23.50000 \n",
       "6 chic 35   29.6     2005-12-26  8.40000  8.5       14.041667 16.81944 "
      ]
     },
     "metadata": {},
     "output_type": "display_data"
    }
   ],
   "source": [
    "#chicago <- rename(chicago, pm25 = pm25tmean2, dewpoint = dptp)\n",
    "head(chicago)"
   ]
  },
  {
   "cell_type": "code",
   "execution_count": 19,
   "metadata": {},
   "outputs": [],
   "source": [
    "chicago <- mutate(chicago,\n",
    "                  pm25detrend = pm25 - mean(pm25, na.rm = TRUE))"
   ]
  },
  {
   "cell_type": "code",
   "execution_count": 21,
   "metadata": {},
   "outputs": [
    {
     "data": {
      "text/html": [
       "<table>\n",
       "<thead><tr><th scope=col>city</th><th scope=col>tmpd</th><th scope=col>dewpoint</th><th scope=col>date</th><th scope=col>pm25</th><th scope=col>pm10tmean2</th><th scope=col>o3tmean2</th><th scope=col>no2tmean2</th><th scope=col>pm25detrend</th></tr></thead>\n",
       "<tbody>\n",
       "\t<tr><td>chic      </td><td>35        </td><td>30.1      </td><td>2005-12-31</td><td>15.00000  </td><td>23.5      </td><td> 2.531250 </td><td>13.25000  </td><td>-1.230958 </td></tr>\n",
       "\t<tr><td>chic      </td><td>36        </td><td>31.0      </td><td>2005-12-30</td><td>15.05714  </td><td>19.2      </td><td> 3.034420 </td><td>22.80556  </td><td>-1.173815 </td></tr>\n",
       "\t<tr><td>chic      </td><td>35        </td><td>29.4      </td><td>2005-12-29</td><td> 7.45000  </td><td>23.5      </td><td> 6.794837 </td><td>19.97222  </td><td>-8.780958 </td></tr>\n",
       "\t<tr><td>chic      </td><td>37        </td><td>34.5      </td><td>2005-12-28</td><td>17.75000  </td><td>27.5      </td><td> 3.260417 </td><td>19.28563  </td><td> 1.519042 </td></tr>\n",
       "\t<tr><td>chic      </td><td>40        </td><td>33.6      </td><td>2005-12-27</td><td>23.56000  </td><td>27.0      </td><td> 4.468750 </td><td>23.50000  </td><td> 7.329042 </td></tr>\n",
       "\t<tr><td>chic      </td><td>35        </td><td>29.6      </td><td>2005-12-26</td><td> 8.40000  </td><td> 8.5      </td><td>14.041667 </td><td>16.81944  </td><td>-7.830958 </td></tr>\n",
       "</tbody>\n",
       "</table>\n"
      ],
      "text/latex": [
       "\\begin{tabular}{r|lllllllll}\n",
       " city & tmpd & dewpoint & date & pm25 & pm10tmean2 & o3tmean2 & no2tmean2 & pm25detrend\\\\\n",
       "\\hline\n",
       "\t chic       & 35         & 30.1       & 2005-12-31 & 15.00000   & 23.5       &  2.531250  & 13.25000   & -1.230958 \\\\\n",
       "\t chic       & 36         & 31.0       & 2005-12-30 & 15.05714   & 19.2       &  3.034420  & 22.80556   & -1.173815 \\\\\n",
       "\t chic       & 35         & 29.4       & 2005-12-29 &  7.45000   & 23.5       &  6.794837  & 19.97222   & -8.780958 \\\\\n",
       "\t chic       & 37         & 34.5       & 2005-12-28 & 17.75000   & 27.5       &  3.260417  & 19.28563   &  1.519042 \\\\\n",
       "\t chic       & 40         & 33.6       & 2005-12-27 & 23.56000   & 27.0       &  4.468750  & 23.50000   &  7.329042 \\\\\n",
       "\t chic       & 35         & 29.6       & 2005-12-26 &  8.40000   &  8.5       & 14.041667  & 16.81944   & -7.830958 \\\\\n",
       "\\end{tabular}\n"
      ],
      "text/markdown": [
       "\n",
       "city | tmpd | dewpoint | date | pm25 | pm10tmean2 | o3tmean2 | no2tmean2 | pm25detrend | \n",
       "|---|---|---|---|---|---|\n",
       "| chic       | 35         | 30.1       | 2005-12-31 | 15.00000   | 23.5       |  2.531250  | 13.25000   | -1.230958  | \n",
       "| chic       | 36         | 31.0       | 2005-12-30 | 15.05714   | 19.2       |  3.034420  | 22.80556   | -1.173815  | \n",
       "| chic       | 35         | 29.4       | 2005-12-29 |  7.45000   | 23.5       |  6.794837  | 19.97222   | -8.780958  | \n",
       "| chic       | 37         | 34.5       | 2005-12-28 | 17.75000   | 27.5       |  3.260417  | 19.28563   |  1.519042  | \n",
       "| chic       | 40         | 33.6       | 2005-12-27 | 23.56000   | 27.0       |  4.468750  | 23.50000   |  7.329042  | \n",
       "| chic       | 35         | 29.6       | 2005-12-26 |  8.40000   |  8.5       | 14.041667  | 16.81944   | -7.830958  | \n",
       "\n",
       "\n"
      ],
      "text/plain": [
       "  city tmpd dewpoint date       pm25     pm10tmean2 o3tmean2  no2tmean2 pm25detrend\n",
       "1 chic 35   30.1     2005-12-31 15.00000 23.5        2.531250 13.25000  -1.230958  \n",
       "2 chic 36   31.0     2005-12-30 15.05714 19.2        3.034420 22.80556  -1.173815  \n",
       "3 chic 35   29.4     2005-12-29  7.45000 23.5        6.794837 19.97222  -8.780958  \n",
       "4 chic 37   34.5     2005-12-28 17.75000 27.5        3.260417 19.28563   1.519042  \n",
       "5 chic 40   33.6     2005-12-27 23.56000 27.0        4.468750 23.50000   7.329042  \n",
       "6 chic 35   29.6     2005-12-26  8.40000  8.5       14.041667 16.81944  -7.830958  "
      ]
     },
     "metadata": {},
     "output_type": "display_data"
    }
   ],
   "source": [
    "head(chicago)"
   ]
  },
  {
   "cell_type": "code",
   "execution_count": 24,
   "metadata": {},
   "outputs": [],
   "source": [
    "chicago <- mutate(chicago, \n",
    "                  temp_categ = factor( 1 * (tmpd > 80), \n",
    "                                      labels = c(\"cold\", \"hot\")))"
   ]
  },
  {
   "cell_type": "code",
   "execution_count": 26,
   "metadata": {},
   "outputs": [
    {
     "data": {
      "text/html": [
       "<table>\n",
       "<thead><tr><th scope=col>city</th><th scope=col>tmpd</th><th scope=col>dewpoint</th><th scope=col>date</th><th scope=col>pm25</th><th scope=col>pm10tmean2</th><th scope=col>o3tmean2</th><th scope=col>no2tmean2</th><th scope=col>pm25detrend</th><th scope=col>temp_categ</th></tr></thead>\n",
       "<tbody>\n",
       "\t<tr><td>chic      </td><td>35        </td><td>30.1      </td><td>2005-12-31</td><td>15.00000  </td><td>23.5      </td><td> 2.531250 </td><td>13.25000  </td><td>-1.230958 </td><td>cold      </td></tr>\n",
       "\t<tr><td>chic      </td><td>36        </td><td>31.0      </td><td>2005-12-30</td><td>15.05714  </td><td>19.2      </td><td> 3.034420 </td><td>22.80556  </td><td>-1.173815 </td><td>cold      </td></tr>\n",
       "\t<tr><td>chic      </td><td>35        </td><td>29.4      </td><td>2005-12-29</td><td> 7.45000  </td><td>23.5      </td><td> 6.794837 </td><td>19.97222  </td><td>-8.780958 </td><td>cold      </td></tr>\n",
       "\t<tr><td>chic      </td><td>37        </td><td>34.5      </td><td>2005-12-28</td><td>17.75000  </td><td>27.5      </td><td> 3.260417 </td><td>19.28563  </td><td> 1.519042 </td><td>cold      </td></tr>\n",
       "\t<tr><td>chic      </td><td>40        </td><td>33.6      </td><td>2005-12-27</td><td>23.56000  </td><td>27.0      </td><td> 4.468750 </td><td>23.50000  </td><td> 7.329042 </td><td>cold      </td></tr>\n",
       "\t<tr><td>chic      </td><td>35        </td><td>29.6      </td><td>2005-12-26</td><td> 8.40000  </td><td> 8.5      </td><td>14.041667 </td><td>16.81944  </td><td>-7.830958 </td><td>cold      </td></tr>\n",
       "</tbody>\n",
       "</table>\n"
      ],
      "text/latex": [
       "\\begin{tabular}{r|llllllllll}\n",
       " city & tmpd & dewpoint & date & pm25 & pm10tmean2 & o3tmean2 & no2tmean2 & pm25detrend & temp\\_categ\\\\\n",
       "\\hline\n",
       "\t chic       & 35         & 30.1       & 2005-12-31 & 15.00000   & 23.5       &  2.531250  & 13.25000   & -1.230958  & cold      \\\\\n",
       "\t chic       & 36         & 31.0       & 2005-12-30 & 15.05714   & 19.2       &  3.034420  & 22.80556   & -1.173815  & cold      \\\\\n",
       "\t chic       & 35         & 29.4       & 2005-12-29 &  7.45000   & 23.5       &  6.794837  & 19.97222   & -8.780958  & cold      \\\\\n",
       "\t chic       & 37         & 34.5       & 2005-12-28 & 17.75000   & 27.5       &  3.260417  & 19.28563   &  1.519042  & cold      \\\\\n",
       "\t chic       & 40         & 33.6       & 2005-12-27 & 23.56000   & 27.0       &  4.468750  & 23.50000   &  7.329042  & cold      \\\\\n",
       "\t chic       & 35         & 29.6       & 2005-12-26 &  8.40000   &  8.5       & 14.041667  & 16.81944   & -7.830958  & cold      \\\\\n",
       "\\end{tabular}\n"
      ],
      "text/markdown": [
       "\n",
       "city | tmpd | dewpoint | date | pm25 | pm10tmean2 | o3tmean2 | no2tmean2 | pm25detrend | temp_categ | \n",
       "|---|---|---|---|---|---|\n",
       "| chic       | 35         | 30.1       | 2005-12-31 | 15.00000   | 23.5       |  2.531250  | 13.25000   | -1.230958  | cold       | \n",
       "| chic       | 36         | 31.0       | 2005-12-30 | 15.05714   | 19.2       |  3.034420  | 22.80556   | -1.173815  | cold       | \n",
       "| chic       | 35         | 29.4       | 2005-12-29 |  7.45000   | 23.5       |  6.794837  | 19.97222   | -8.780958  | cold       | \n",
       "| chic       | 37         | 34.5       | 2005-12-28 | 17.75000   | 27.5       |  3.260417  | 19.28563   |  1.519042  | cold       | \n",
       "| chic       | 40         | 33.6       | 2005-12-27 | 23.56000   | 27.0       |  4.468750  | 23.50000   |  7.329042  | cold       | \n",
       "| chic       | 35         | 29.6       | 2005-12-26 |  8.40000   |  8.5       | 14.041667  | 16.81944   | -7.830958  | cold       | \n",
       "\n",
       "\n"
      ],
      "text/plain": [
       "  city tmpd dewpoint date       pm25     pm10tmean2 o3tmean2  no2tmean2 pm25detrend temp_categ\n",
       "1 chic 35   30.1     2005-12-31 15.00000 23.5        2.531250 13.25000  -1.230958   cold      \n",
       "2 chic 36   31.0     2005-12-30 15.05714 19.2        3.034420 22.80556  -1.173815   cold      \n",
       "3 chic 35   29.4     2005-12-29  7.45000 23.5        6.794837 19.97222  -8.780958   cold      \n",
       "4 chic 37   34.5     2005-12-28 17.75000 27.5        3.260417 19.28563   1.519042   cold      \n",
       "5 chic 40   33.6     2005-12-27 23.56000 27.0        4.468750 23.50000   7.329042   cold      \n",
       "6 chic 35   29.6     2005-12-26  8.40000  8.5       14.041667 16.81944  -7.830958   cold      "
      ]
     },
     "metadata": {},
     "output_type": "display_data"
    }
   ],
   "source": [
    "hotcold <- group_by(chicago, temp_categ)\n",
    "head(hotcold)"
   ]
  },
  {
   "cell_type": "code",
   "execution_count": 29,
   "metadata": {},
   "outputs": [
    {
     "data": {
      "text/html": [
       "<table>\n",
       "<thead><tr><th scope=col>temp_categ</th><th scope=col>pm25</th><th scope=col>o3</th><th scope=col>no2</th></tr></thead>\n",
       "<tbody>\n",
       "\t<tr><td>cold     </td><td>     NA  </td><td>66.587500</td><td>24.54924 </td></tr>\n",
       "\t<tr><td>hot      </td><td>     NA  </td><td>62.969656</td><td>24.93870 </td></tr>\n",
       "\t<tr><td>NA       </td><td>47.7375  </td><td> 9.416667</td><td>37.44444 </td></tr>\n",
       "</tbody>\n",
       "</table>\n"
      ],
      "text/latex": [
       "\\begin{tabular}{r|llll}\n",
       " temp\\_categ & pm25 & o3 & no2\\\\\n",
       "\\hline\n",
       "\t cold      &      NA   & 66.587500 & 24.54924 \\\\\n",
       "\t hot       &      NA   & 62.969656 & 24.93870 \\\\\n",
       "\t NA        & 47.7375   &  9.416667 & 37.44444 \\\\\n",
       "\\end{tabular}\n"
      ],
      "text/markdown": [
       "\n",
       "temp_categ | pm25 | o3 | no2 | \n",
       "|---|---|---|\n",
       "| cold      |      NA   | 66.587500 | 24.54924  | \n",
       "| hot       |      NA   | 62.969656 | 24.93870  | \n",
       "| NA        | 47.7375   |  9.416667 | 37.44444  | \n",
       "\n",
       "\n"
      ],
      "text/plain": [
       "  temp_categ pm25    o3        no2     \n",
       "1 cold            NA 66.587500 24.54924\n",
       "2 hot             NA 62.969656 24.93870\n",
       "3 NA         47.7375  9.416667 37.44444"
      ]
     },
     "metadata": {},
     "output_type": "display_data"
    }
   ],
   "source": [
    "summarize(hotcold, pm25 = mean(pm25), \n",
    "          o3 = max(o3tmean2),\n",
    "         no2 = median(no2tmean2))"
   ]
  },
  {
   "cell_type": "code",
   "execution_count": 31,
   "metadata": {},
   "outputs": [
    {
     "data": {
      "text/html": [
       "<table>\n",
       "<thead><tr><th scope=col>temp_categ</th><th scope=col>pm25</th><th scope=col>o3</th><th scope=col>no2</th></tr></thead>\n",
       "<tbody>\n",
       "\t<tr><td>cold     </td><td>15.97807 </td><td>66.587500</td><td>24.54924 </td></tr>\n",
       "\t<tr><td>hot      </td><td>26.48118 </td><td>62.969656</td><td>24.93870 </td></tr>\n",
       "\t<tr><td>NA       </td><td>47.73750 </td><td> 9.416667</td><td>37.44444 </td></tr>\n",
       "</tbody>\n",
       "</table>\n"
      ],
      "text/latex": [
       "\\begin{tabular}{r|llll}\n",
       " temp\\_categ & pm25 & o3 & no2\\\\\n",
       "\\hline\n",
       "\t cold      & 15.97807  & 66.587500 & 24.54924 \\\\\n",
       "\t hot       & 26.48118  & 62.969656 & 24.93870 \\\\\n",
       "\t NA        & 47.73750  &  9.416667 & 37.44444 \\\\\n",
       "\\end{tabular}\n"
      ],
      "text/markdown": [
       "\n",
       "temp_categ | pm25 | o3 | no2 | \n",
       "|---|---|---|\n",
       "| cold      | 15.97807  | 66.587500 | 24.54924  | \n",
       "| hot       | 26.48118  | 62.969656 | 24.93870  | \n",
       "| NA        | 47.73750  |  9.416667 | 37.44444  | \n",
       "\n",
       "\n"
      ],
      "text/plain": [
       "  temp_categ pm25     o3        no2     \n",
       "1 cold       15.97807 66.587500 24.54924\n",
       "2 hot        26.48118 62.969656 24.93870\n",
       "3 NA         47.73750  9.416667 37.44444"
      ]
     },
     "metadata": {},
     "output_type": "display_data"
    }
   ],
   "source": [
    "summarize(hotcold, pm25 = mean(pm25, na.rm = TRUE), \n",
    "          o3 = max(o3tmean2, na.rm = TRUE),\n",
    "         no2 = median(no2tmean2, na.rm = TRUE))\n"
   ]
  },
  {
   "cell_type": "code",
   "execution_count": 32,
   "metadata": {},
   "outputs": [],
   "source": [
    "chicago <- mutate(chicago, year = as.POSIXlt(date)$year + 1900)\n"
   ]
  },
  {
   "cell_type": "code",
   "execution_count": 34,
   "metadata": {},
   "outputs": [
    {
     "data": {
      "text/html": [
       "<table>\n",
       "<thead><tr><th scope=col>year</th><th scope=col>pm25</th><th scope=col>o3</th><th scope=col>no2</th></tr></thead>\n",
       "<tbody>\n",
       "\t<tr><td>1987    </td><td>     NaN</td><td>62.96966</td><td>23.49369</td></tr>\n",
       "\t<tr><td>1988    </td><td>     NaN</td><td>61.67708</td><td>24.52296</td></tr>\n",
       "\t<tr><td>1989    </td><td>     NaN</td><td>59.72727</td><td>26.14062</td></tr>\n",
       "\t<tr><td>1990    </td><td>     NaN</td><td>52.22917</td><td>22.59583</td></tr>\n",
       "\t<tr><td>1991    </td><td>     NaN</td><td>63.10417</td><td>21.38194</td></tr>\n",
       "\t<tr><td>1992    </td><td>     NaN</td><td>50.82870</td><td>24.78921</td></tr>\n",
       "\t<tr><td>1993    </td><td>     NaN</td><td>44.30093</td><td>25.76993</td></tr>\n",
       "\t<tr><td>1994    </td><td>     NaN</td><td>52.17844</td><td>28.47500</td></tr>\n",
       "\t<tr><td>1995    </td><td>     NaN</td><td>66.58750</td><td>27.26042</td></tr>\n",
       "\t<tr><td>1996    </td><td>     NaN</td><td>58.39583</td><td>26.38715</td></tr>\n",
       "\t<tr><td>1997    </td><td>     NaN</td><td>56.54167</td><td>25.48143</td></tr>\n",
       "\t<tr><td>1998    </td><td>18.26467</td><td>50.66250</td><td>24.58649</td></tr>\n",
       "\t<tr><td>1999    </td><td>18.49646</td><td>57.48864</td><td>24.66667</td></tr>\n",
       "\t<tr><td>2000    </td><td>16.93806</td><td>55.76103</td><td>23.46082</td></tr>\n",
       "\t<tr><td>2001    </td><td>16.92632</td><td>51.81984</td><td>25.06522</td></tr>\n",
       "\t<tr><td>2002    </td><td>15.27335</td><td>54.88043</td><td>22.73750</td></tr>\n",
       "\t<tr><td>2003    </td><td>15.23183</td><td>56.16608</td><td>24.62500</td></tr>\n",
       "\t<tr><td>2004    </td><td>14.62864</td><td>44.48240</td><td>23.39130</td></tr>\n",
       "\t<tr><td>2005    </td><td>16.18556</td><td>58.84126</td><td>22.62387</td></tr>\n",
       "</tbody>\n",
       "</table>\n"
      ],
      "text/latex": [
       "\\begin{tabular}{r|llll}\n",
       " year & pm25 & o3 & no2\\\\\n",
       "\\hline\n",
       "\t 1987     &      NaN & 62.96966 & 23.49369\\\\\n",
       "\t 1988     &      NaN & 61.67708 & 24.52296\\\\\n",
       "\t 1989     &      NaN & 59.72727 & 26.14062\\\\\n",
       "\t 1990     &      NaN & 52.22917 & 22.59583\\\\\n",
       "\t 1991     &      NaN & 63.10417 & 21.38194\\\\\n",
       "\t 1992     &      NaN & 50.82870 & 24.78921\\\\\n",
       "\t 1993     &      NaN & 44.30093 & 25.76993\\\\\n",
       "\t 1994     &      NaN & 52.17844 & 28.47500\\\\\n",
       "\t 1995     &      NaN & 66.58750 & 27.26042\\\\\n",
       "\t 1996     &      NaN & 58.39583 & 26.38715\\\\\n",
       "\t 1997     &      NaN & 56.54167 & 25.48143\\\\\n",
       "\t 1998     & 18.26467 & 50.66250 & 24.58649\\\\\n",
       "\t 1999     & 18.49646 & 57.48864 & 24.66667\\\\\n",
       "\t 2000     & 16.93806 & 55.76103 & 23.46082\\\\\n",
       "\t 2001     & 16.92632 & 51.81984 & 25.06522\\\\\n",
       "\t 2002     & 15.27335 & 54.88043 & 22.73750\\\\\n",
       "\t 2003     & 15.23183 & 56.16608 & 24.62500\\\\\n",
       "\t 2004     & 14.62864 & 44.48240 & 23.39130\\\\\n",
       "\t 2005     & 16.18556 & 58.84126 & 22.62387\\\\\n",
       "\\end{tabular}\n"
      ],
      "text/markdown": [
       "\n",
       "year | pm25 | o3 | no2 | \n",
       "|---|---|---|---|---|---|---|---|---|---|---|---|---|---|---|---|---|---|---|\n",
       "| 1987     |      NaN | 62.96966 | 23.49369 | \n",
       "| 1988     |      NaN | 61.67708 | 24.52296 | \n",
       "| 1989     |      NaN | 59.72727 | 26.14062 | \n",
       "| 1990     |      NaN | 52.22917 | 22.59583 | \n",
       "| 1991     |      NaN | 63.10417 | 21.38194 | \n",
       "| 1992     |      NaN | 50.82870 | 24.78921 | \n",
       "| 1993     |      NaN | 44.30093 | 25.76993 | \n",
       "| 1994     |      NaN | 52.17844 | 28.47500 | \n",
       "| 1995     |      NaN | 66.58750 | 27.26042 | \n",
       "| 1996     |      NaN | 58.39583 | 26.38715 | \n",
       "| 1997     |      NaN | 56.54167 | 25.48143 | \n",
       "| 1998     | 18.26467 | 50.66250 | 24.58649 | \n",
       "| 1999     | 18.49646 | 57.48864 | 24.66667 | \n",
       "| 2000     | 16.93806 | 55.76103 | 23.46082 | \n",
       "| 2001     | 16.92632 | 51.81984 | 25.06522 | \n",
       "| 2002     | 15.27335 | 54.88043 | 22.73750 | \n",
       "| 2003     | 15.23183 | 56.16608 | 24.62500 | \n",
       "| 2004     | 14.62864 | 44.48240 | 23.39130 | \n",
       "| 2005     | 16.18556 | 58.84126 | 22.62387 | \n",
       "\n",
       "\n"
      ],
      "text/plain": [
       "   year pm25     o3       no2     \n",
       "1  1987      NaN 62.96966 23.49369\n",
       "2  1988      NaN 61.67708 24.52296\n",
       "3  1989      NaN 59.72727 26.14062\n",
       "4  1990      NaN 52.22917 22.59583\n",
       "5  1991      NaN 63.10417 21.38194\n",
       "6  1992      NaN 50.82870 24.78921\n",
       "7  1993      NaN 44.30093 25.76993\n",
       "8  1994      NaN 52.17844 28.47500\n",
       "9  1995      NaN 66.58750 27.26042\n",
       "10 1996      NaN 58.39583 26.38715\n",
       "11 1997      NaN 56.54167 25.48143\n",
       "12 1998 18.26467 50.66250 24.58649\n",
       "13 1999 18.49646 57.48864 24.66667\n",
       "14 2000 16.93806 55.76103 23.46082\n",
       "15 2001 16.92632 51.81984 25.06522\n",
       "16 2002 15.27335 54.88043 22.73750\n",
       "17 2003 15.23183 56.16608 24.62500\n",
       "18 2004 14.62864 44.48240 23.39130\n",
       "19 2005 16.18556 58.84126 22.62387"
      ]
     },
     "metadata": {},
     "output_type": "display_data"
    }
   ],
   "source": [
    "years <- group_by(chicago, year)\n",
    "summarize(years, pm25 = mean(pm25, na.rm = TRUE), \n",
    "          o3 = max(o3tmean2, na.rm = TRUE),\n",
    "         no2 = median(no2tmean2, na.rm = TRUE))"
   ]
  },
  {
   "cell_type": "code",
   "execution_count": 37,
   "metadata": {},
   "outputs": [
    {
     "data": {
      "text/html": [
       "<table>\n",
       "<thead><tr><th scope=col>month</th><th scope=col>pm25</th><th scope=col>o3</th><th scope=col>no2</th></tr></thead>\n",
       "<tbody>\n",
       "\t<tr><td> 1      </td><td>17.76996</td><td>28.22222</td><td>25.35417</td></tr>\n",
       "\t<tr><td> 2      </td><td>20.37513</td><td>37.37500</td><td>26.78034</td></tr>\n",
       "\t<tr><td> 3      </td><td>17.40818</td><td>39.05000</td><td>26.76984</td></tr>\n",
       "\t<tr><td> 4      </td><td>13.85879</td><td>47.94907</td><td>25.03125</td></tr>\n",
       "\t<tr><td> 5      </td><td>14.07420</td><td>52.75000</td><td>24.22222</td></tr>\n",
       "\t<tr><td> 6      </td><td>15.86461</td><td>66.58750</td><td>25.01140</td></tr>\n",
       "\t<tr><td> 7      </td><td>16.57087</td><td>59.54167</td><td>22.38442</td></tr>\n",
       "\t<tr><td> 8      </td><td>16.93380</td><td>53.96701</td><td>22.98333</td></tr>\n",
       "\t<tr><td> 9      </td><td>15.91279</td><td>57.48864</td><td>24.47917</td></tr>\n",
       "\t<tr><td>10      </td><td>14.23557</td><td>47.09275</td><td>24.15217</td></tr>\n",
       "\t<tr><td>11      </td><td>15.15794</td><td>29.45833</td><td>23.56537</td></tr>\n",
       "\t<tr><td>12      </td><td>17.52221</td><td>27.70833</td><td>24.45773</td></tr>\n",
       "</tbody>\n",
       "</table>\n"
      ],
      "text/latex": [
       "\\begin{tabular}{r|llll}\n",
       " month & pm25 & o3 & no2\\\\\n",
       "\\hline\n",
       "\t  1       & 17.76996 & 28.22222 & 25.35417\\\\\n",
       "\t  2       & 20.37513 & 37.37500 & 26.78034\\\\\n",
       "\t  3       & 17.40818 & 39.05000 & 26.76984\\\\\n",
       "\t  4       & 13.85879 & 47.94907 & 25.03125\\\\\n",
       "\t  5       & 14.07420 & 52.75000 & 24.22222\\\\\n",
       "\t  6       & 15.86461 & 66.58750 & 25.01140\\\\\n",
       "\t  7       & 16.57087 & 59.54167 & 22.38442\\\\\n",
       "\t  8       & 16.93380 & 53.96701 & 22.98333\\\\\n",
       "\t  9       & 15.91279 & 57.48864 & 24.47917\\\\\n",
       "\t 10       & 14.23557 & 47.09275 & 24.15217\\\\\n",
       "\t 11       & 15.15794 & 29.45833 & 23.56537\\\\\n",
       "\t 12       & 17.52221 & 27.70833 & 24.45773\\\\\n",
       "\\end{tabular}\n"
      ],
      "text/markdown": [
       "\n",
       "month | pm25 | o3 | no2 | \n",
       "|---|---|---|---|---|---|---|---|---|---|---|---|\n",
       "|  1       | 17.76996 | 28.22222 | 25.35417 | \n",
       "|  2       | 20.37513 | 37.37500 | 26.78034 | \n",
       "|  3       | 17.40818 | 39.05000 | 26.76984 | \n",
       "|  4       | 13.85879 | 47.94907 | 25.03125 | \n",
       "|  5       | 14.07420 | 52.75000 | 24.22222 | \n",
       "|  6       | 15.86461 | 66.58750 | 25.01140 | \n",
       "|  7       | 16.57087 | 59.54167 | 22.38442 | \n",
       "|  8       | 16.93380 | 53.96701 | 22.98333 | \n",
       "|  9       | 15.91279 | 57.48864 | 24.47917 | \n",
       "| 10       | 14.23557 | 47.09275 | 24.15217 | \n",
       "| 11       | 15.15794 | 29.45833 | 23.56537 | \n",
       "| 12       | 17.52221 | 27.70833 | 24.45773 | \n",
       "\n",
       "\n"
      ],
      "text/plain": [
       "   month pm25     o3       no2     \n",
       "1   1    17.76996 28.22222 25.35417\n",
       "2   2    20.37513 37.37500 26.78034\n",
       "3   3    17.40818 39.05000 26.76984\n",
       "4   4    13.85879 47.94907 25.03125\n",
       "5   5    14.07420 52.75000 24.22222\n",
       "6   6    15.86461 66.58750 25.01140\n",
       "7   7    16.57087 59.54167 22.38442\n",
       "8   8    16.93380 53.96701 22.98333\n",
       "9   9    15.91279 57.48864 24.47917\n",
       "10 10    14.23557 47.09275 24.15217\n",
       "11 11    15.15794 29.45833 23.56537\n",
       "12 12    17.52221 27.70833 24.45773"
      ]
     },
     "metadata": {},
     "output_type": "display_data"
    }
   ],
   "source": [
    "chicago %>% \n",
    "mutate(month = as.POSIXlt(date)$mon +1) %>% \n",
    "group_by(month) %>% \n",
    "summarize(pm25 = mean(pm25, na.rm = TRUE), \n",
    "          o3 = max(o3tmean2, na.rm = TRUE),\n",
    "         no2 = median(no2tmean2, na.rm = TRUE))"
   ]
  },
  {
   "cell_type": "code",
   "execution_count": null,
   "metadata": {},
   "outputs": [],
   "source": []
  }
 ],
 "metadata": {
  "kernelspec": {
   "display_name": "R",
   "language": "R",
   "name": "ir"
  },
  "language_info": {
   "codemirror_mode": "r",
   "file_extension": ".r",
   "mimetype": "text/x-r-source",
   "name": "R",
   "pygments_lexer": "r",
   "version": "3.5.1"
  }
 },
 "nbformat": 4,
 "nbformat_minor": 2
}
