{
 "cells": [
  {
   "cell_type": "code",
   "execution_count": 1,
   "metadata": {},
   "outputs": [
    {
     "data": {
      "text/html": [
       "<table>\n",
       "<thead><tr><th scope=col>id</th><th scope=col>solution_id</th><th scope=col>reviewer_id</th><th scope=col>start</th><th scope=col>stop</th><th scope=col>time_left</th><th scope=col>accept</th></tr></thead>\n",
       "<tbody>\n",
       "\t<tr><td>1         </td><td>3         </td><td>27        </td><td>1304095698</td><td>1304095758</td><td>1754      </td><td>1         </td></tr>\n",
       "\t<tr><td>2         </td><td>4         </td><td>22        </td><td>1304095188</td><td>1304095206</td><td>2306      </td><td>1         </td></tr>\n",
       "</tbody>\n",
       "</table>\n"
      ],
      "text/latex": [
       "\\begin{tabular}{r|lllllll}\n",
       " id & solution\\_id & reviewer\\_id & start & stop & time\\_left & accept\\\\\n",
       "\\hline\n",
       "\t 1          & 3          & 27         & 1304095698 & 1304095758 & 1754       & 1         \\\\\n",
       "\t 2          & 4          & 22         & 1304095188 & 1304095206 & 2306       & 1         \\\\\n",
       "\\end{tabular}\n"
      ],
      "text/markdown": [
       "\n",
       "id | solution_id | reviewer_id | start | stop | time_left | accept | \n",
       "|---|---|\n",
       "| 1          | 3          | 27         | 1304095698 | 1304095758 | 1754       | 1          | \n",
       "| 2          | 4          | 22         | 1304095188 | 1304095206 | 2306       | 1          | \n",
       "\n",
       "\n"
      ],
      "text/plain": [
       "  id solution_id reviewer_id start      stop       time_left accept\n",
       "1 1  3           27          1304095698 1304095758 1754      1     \n",
       "2 2  4           22          1304095188 1304095206 2306      1     "
      ]
     },
     "metadata": {},
     "output_type": "display_data"
    }
   ],
   "source": [
    "# fileurl1 = \"https://raw.githubusercontent.com/jtleek/modules/master/03_GettingData/03_05_mergingData/data/reviews.csv\"\n",
    "# fileurl2 = \"https://raw.githubusercontent.com/jtleek/modules/master/03_GettingData/03_05_mergingData/data/solutions.csv\"\n",
    "\n",
    "# download.file(fileurl1, destfile = \"./data/reviews.csv\")\n",
    "# download.file(fileurl2, destfile = \"./data/solutions.csv\")\n",
    "\n",
    "reviews = read.csv(\"./data/reviews.csv\")\n",
    "solutions = read.csv(\"./data/solutions.csv\")\n",
    "\n",
    "head(reviews, 2)"
   ]
  },
  {
   "cell_type": "code",
   "execution_count": 2,
   "metadata": {},
   "outputs": [
    {
     "data": {
      "text/html": [
       "<table>\n",
       "<thead><tr><th scope=col>id</th><th scope=col>problem_id</th><th scope=col>subject_id</th><th scope=col>start</th><th scope=col>stop</th><th scope=col>time_left</th><th scope=col>answer</th></tr></thead>\n",
       "<tbody>\n",
       "\t<tr><td>1         </td><td>156       </td><td>29        </td><td>1304095119</td><td>1304095169</td><td>2343      </td><td>B         </td></tr>\n",
       "\t<tr><td>2         </td><td>269       </td><td>25        </td><td>1304095119</td><td>1304095183</td><td>2329      </td><td>C         </td></tr>\n",
       "</tbody>\n",
       "</table>\n"
      ],
      "text/latex": [
       "\\begin{tabular}{r|lllllll}\n",
       " id & problem\\_id & subject\\_id & start & stop & time\\_left & answer\\\\\n",
       "\\hline\n",
       "\t 1          & 156        & 29         & 1304095119 & 1304095169 & 2343       & B         \\\\\n",
       "\t 2          & 269        & 25         & 1304095119 & 1304095183 & 2329       & C         \\\\\n",
       "\\end{tabular}\n"
      ],
      "text/markdown": [
       "\n",
       "id | problem_id | subject_id | start | stop | time_left | answer | \n",
       "|---|---|\n",
       "| 1          | 156        | 29         | 1304095119 | 1304095169 | 2343       | B          | \n",
       "| 2          | 269        | 25         | 1304095119 | 1304095183 | 2329       | C          | \n",
       "\n",
       "\n"
      ],
      "text/plain": [
       "  id problem_id subject_id start      stop       time_left answer\n",
       "1 1  156        29         1304095119 1304095169 2343      B     \n",
       "2 2  269        25         1304095119 1304095183 2329      C     "
      ]
     },
     "metadata": {},
     "output_type": "display_data"
    }
   ],
   "source": [
    "head(solutions, n=2)"
   ]
  },
  {
   "cell_type": "markdown",
   "metadata": {},
   "source": [
    "### Merging data - merge()\n",
    "\n",
    "merges data frames\n",
    "\n",
    "Important parameters : x, y, by, by.x, dy.y all"
   ]
  },
  {
   "cell_type": "code",
   "execution_count": 3,
   "metadata": {},
   "outputs": [
    {
     "data": {
      "text/html": [
       "<ol class=list-inline>\n",
       "\t<li>'id'</li>\n",
       "\t<li>'solution_id'</li>\n",
       "\t<li>'reviewer_id'</li>\n",
       "\t<li>'start'</li>\n",
       "\t<li>'stop'</li>\n",
       "\t<li>'time_left'</li>\n",
       "\t<li>'accept'</li>\n",
       "</ol>\n"
      ],
      "text/latex": [
       "\\begin{enumerate*}\n",
       "\\item 'id'\n",
       "\\item 'solution\\_id'\n",
       "\\item 'reviewer\\_id'\n",
       "\\item 'start'\n",
       "\\item 'stop'\n",
       "\\item 'time\\_left'\n",
       "\\item 'accept'\n",
       "\\end{enumerate*}\n"
      ],
      "text/markdown": [
       "1. 'id'\n",
       "2. 'solution_id'\n",
       "3. 'reviewer_id'\n",
       "4. 'start'\n",
       "5. 'stop'\n",
       "6. 'time_left'\n",
       "7. 'accept'\n",
       "\n",
       "\n"
      ],
      "text/plain": [
       "[1] \"id\"          \"solution_id\" \"reviewer_id\" \"start\"       \"stop\"       \n",
       "[6] \"time_left\"   \"accept\"     "
      ]
     },
     "metadata": {},
     "output_type": "display_data"
    }
   ],
   "source": [
    "names(reviews)"
   ]
  },
  {
   "cell_type": "code",
   "execution_count": 4,
   "metadata": {},
   "outputs": [
    {
     "data": {
      "text/html": [
       "<ol class=list-inline>\n",
       "\t<li>'id'</li>\n",
       "\t<li>'problem_id'</li>\n",
       "\t<li>'subject_id'</li>\n",
       "\t<li>'start'</li>\n",
       "\t<li>'stop'</li>\n",
       "\t<li>'time_left'</li>\n",
       "\t<li>'answer'</li>\n",
       "</ol>\n"
      ],
      "text/latex": [
       "\\begin{enumerate*}\n",
       "\\item 'id'\n",
       "\\item 'problem\\_id'\n",
       "\\item 'subject\\_id'\n",
       "\\item 'start'\n",
       "\\item 'stop'\n",
       "\\item 'time\\_left'\n",
       "\\item 'answer'\n",
       "\\end{enumerate*}\n"
      ],
      "text/markdown": [
       "1. 'id'\n",
       "2. 'problem_id'\n",
       "3. 'subject_id'\n",
       "4. 'start'\n",
       "5. 'stop'\n",
       "6. 'time_left'\n",
       "7. 'answer'\n",
       "\n",
       "\n"
      ],
      "text/plain": [
       "[1] \"id\"         \"problem_id\" \"subject_id\" \"start\"      \"stop\"      \n",
       "[6] \"time_left\"  \"answer\"    "
      ]
     },
     "metadata": {},
     "output_type": "display_data"
    }
   ],
   "source": [
    "names(solutions)"
   ]
  },
  {
   "cell_type": "code",
   "execution_count": 14,
   "metadata": {},
   "outputs": [
    {
     "data": {
      "text/html": [
       "<table>\n",
       "<thead><tr><th scope=col>id</th><th scope=col>solution_id</th><th scope=col>reviewer_id</th><th scope=col>start</th><th scope=col>stop</th><th scope=col>time_left</th><th scope=col>accept</th></tr></thead>\n",
       "<tbody>\n",
       "\t<tr><td>1         </td><td>3         </td><td>27        </td><td>1304095698</td><td>1304095758</td><td>1754      </td><td>1         </td></tr>\n",
       "\t<tr><td>2         </td><td>4         </td><td>22        </td><td>1304095188</td><td>1304095206</td><td>2306      </td><td>1         </td></tr>\n",
       "\t<tr><td>3         </td><td>5         </td><td>28        </td><td>1304095276</td><td>1304095320</td><td>2192      </td><td>1         </td></tr>\n",
       "</tbody>\n",
       "</table>\n"
      ],
      "text/latex": [
       "\\begin{tabular}{r|lllllll}\n",
       " id & solution\\_id & reviewer\\_id & start & stop & time\\_left & accept\\\\\n",
       "\\hline\n",
       "\t 1          & 3          & 27         & 1304095698 & 1304095758 & 1754       & 1         \\\\\n",
       "\t 2          & 4          & 22         & 1304095188 & 1304095206 & 2306       & 1         \\\\\n",
       "\t 3          & 5          & 28         & 1304095276 & 1304095320 & 2192       & 1         \\\\\n",
       "\\end{tabular}\n"
      ],
      "text/markdown": [
       "\n",
       "id | solution_id | reviewer_id | start | stop | time_left | accept | \n",
       "|---|---|---|\n",
       "| 1          | 3          | 27         | 1304095698 | 1304095758 | 1754       | 1          | \n",
       "| 2          | 4          | 22         | 1304095188 | 1304095206 | 2306       | 1          | \n",
       "| 3          | 5          | 28         | 1304095276 | 1304095320 | 2192       | 1          | \n",
       "\n",
       "\n"
      ],
      "text/plain": [
       "  id solution_id reviewer_id start      stop       time_left accept\n",
       "1 1  3           27          1304095698 1304095758 1754      1     \n",
       "2 2  4           22          1304095188 1304095206 2306      1     \n",
       "3 3  5           28          1304095276 1304095320 2192      1     "
      ]
     },
     "metadata": {},
     "output_type": "display_data"
    }
   ],
   "source": [
    "reviews_20 = reviews[1:20,]\n",
    "head(reviews_20, n =3)"
   ]
  },
  {
   "cell_type": "code",
   "execution_count": 15,
   "metadata": {},
   "outputs": [
    {
     "data": {
      "text/html": [
       "<table>\n",
       "<thead><tr><th scope=col>id</th><th scope=col>problem_id</th><th scope=col>subject_id</th><th scope=col>start</th><th scope=col>stop</th><th scope=col>time_left</th><th scope=col>answer</th></tr></thead>\n",
       "<tbody>\n",
       "\t<tr><td>1         </td><td>156       </td><td>29        </td><td>1304095119</td><td>1304095169</td><td>2343      </td><td>B         </td></tr>\n",
       "\t<tr><td>2         </td><td>269       </td><td>25        </td><td>1304095119</td><td>1304095183</td><td>2329      </td><td>C         </td></tr>\n",
       "\t<tr><td>3         </td><td> 34       </td><td>22        </td><td>1304095127</td><td>1304095146</td><td>2366      </td><td>C         </td></tr>\n",
       "</tbody>\n",
       "</table>\n"
      ],
      "text/latex": [
       "\\begin{tabular}{r|lllllll}\n",
       " id & problem\\_id & subject\\_id & start & stop & time\\_left & answer\\\\\n",
       "\\hline\n",
       "\t 1          & 156        & 29         & 1304095119 & 1304095169 & 2343       & B         \\\\\n",
       "\t 2          & 269        & 25         & 1304095119 & 1304095183 & 2329       & C         \\\\\n",
       "\t 3          &  34        & 22         & 1304095127 & 1304095146 & 2366       & C         \\\\\n",
       "\\end{tabular}\n"
      ],
      "text/markdown": [
       "\n",
       "id | problem_id | subject_id | start | stop | time_left | answer | \n",
       "|---|---|---|\n",
       "| 1          | 156        | 29         | 1304095119 | 1304095169 | 2343       | B          | \n",
       "| 2          | 269        | 25         | 1304095119 | 1304095183 | 2329       | C          | \n",
       "| 3          |  34        | 22         | 1304095127 | 1304095146 | 2366       | C          | \n",
       "\n",
       "\n"
      ],
      "text/plain": [
       "  id problem_id subject_id start      stop       time_left answer\n",
       "1 1  156        29         1304095119 1304095169 2343      B     \n",
       "2 2  269        25         1304095119 1304095183 2329      C     \n",
       "3 3   34        22         1304095127 1304095146 2366      C     "
      ]
     },
     "metadata": {},
     "output_type": "display_data"
    }
   ],
   "source": [
    "solutions_20 = solutions[1:20,]\n",
    "head(solutions_20, n=3)"
   ]
  },
  {
   "cell_type": "code",
   "execution_count": 12,
   "metadata": {},
   "outputs": [],
   "source": [
    "rev_and_solut = merge(reviews_20, \n",
    "                      solutions_20, \n",
    "                      by.x = \"solution_id\",\n",
    "                     by.y = \"id\", \n",
    "                      all=TRUE)"
   ]
  },
  {
   "cell_type": "code",
   "execution_count": 16,
   "metadata": {},
   "outputs": [
    {
     "data": {
      "text/html": [
       "<table>\n",
       "<thead><tr><th scope=col>solution_id</th><th scope=col>id</th><th scope=col>reviewer_id</th><th scope=col>start.x</th><th scope=col>stop.x</th><th scope=col>time_left.x</th><th scope=col>accept</th><th scope=col>problem_id</th><th scope=col>subject_id</th><th scope=col>start.y</th><th scope=col>stop.y</th><th scope=col>time_left.y</th><th scope=col>answer</th></tr></thead>\n",
       "<tbody>\n",
       "\t<tr><td>1         </td><td>4         </td><td>26        </td><td>1304095267</td><td>1304095423</td><td>2089      </td><td>1         </td><td>156       </td><td>29        </td><td>1304095119</td><td>1304095169</td><td>2343      </td><td>B         </td></tr>\n",
       "\t<tr><td>2         </td><td>6         </td><td>29        </td><td>1304095471</td><td>1304095513</td><td>1999      </td><td>1         </td><td>269       </td><td>25        </td><td>1304095119</td><td>1304095183</td><td>2329      </td><td>C         </td></tr>\n",
       "\t<tr><td>3         </td><td>1         </td><td>27        </td><td>1304095698</td><td>1304095758</td><td>1754      </td><td>1         </td><td> 34       </td><td>22        </td><td>1304095127</td><td>1304095146</td><td>2366      </td><td>C         </td></tr>\n",
       "</tbody>\n",
       "</table>\n"
      ],
      "text/latex": [
       "\\begin{tabular}{r|lllllllllllll}\n",
       " solution\\_id & id & reviewer\\_id & start.x & stop.x & time\\_left.x & accept & problem\\_id & subject\\_id & start.y & stop.y & time\\_left.y & answer\\\\\n",
       "\\hline\n",
       "\t 1          & 4          & 26         & 1304095267 & 1304095423 & 2089       & 1          & 156        & 29         & 1304095119 & 1304095169 & 2343       & B         \\\\\n",
       "\t 2          & 6          & 29         & 1304095471 & 1304095513 & 1999       & 1          & 269        & 25         & 1304095119 & 1304095183 & 2329       & C         \\\\\n",
       "\t 3          & 1          & 27         & 1304095698 & 1304095758 & 1754       & 1          &  34        & 22         & 1304095127 & 1304095146 & 2366       & C         \\\\\n",
       "\\end{tabular}\n"
      ],
      "text/markdown": [
       "\n",
       "solution_id | id | reviewer_id | start.x | stop.x | time_left.x | accept | problem_id | subject_id | start.y | stop.y | time_left.y | answer | \n",
       "|---|---|---|\n",
       "| 1          | 4          | 26         | 1304095267 | 1304095423 | 2089       | 1          | 156        | 29         | 1304095119 | 1304095169 | 2343       | B          | \n",
       "| 2          | 6          | 29         | 1304095471 | 1304095513 | 1999       | 1          | 269        | 25         | 1304095119 | 1304095183 | 2329       | C          | \n",
       "| 3          | 1          | 27         | 1304095698 | 1304095758 | 1754       | 1          |  34        | 22         | 1304095127 | 1304095146 | 2366       | C          | \n",
       "\n",
       "\n"
      ],
      "text/plain": [
       "  solution_id id reviewer_id start.x    stop.x     time_left.x accept\n",
       "1 1           4  26          1304095267 1304095423 2089        1     \n",
       "2 2           6  29          1304095471 1304095513 1999        1     \n",
       "3 3           1  27          1304095698 1304095758 1754        1     \n",
       "  problem_id subject_id start.y    stop.y     time_left.y answer\n",
       "1 156        29         1304095119 1304095169 2343        B     \n",
       "2 269        25         1304095119 1304095183 2329        C     \n",
       "3  34        22         1304095127 1304095146 2366        C     "
      ]
     },
     "metadata": {},
     "output_type": "display_data"
    }
   ],
   "source": [
    "head(rev_and_solut, n=3)"
   ]
  },
  {
   "cell_type": "code",
   "execution_count": null,
   "metadata": {},
   "outputs": [],
   "source": []
  },
  {
   "cell_type": "code",
   "execution_count": 18,
   "metadata": {},
   "outputs": [
    {
     "data": {
      "text/html": [
       "<ol class=list-inline>\n",
       "\t<li>'id'</li>\n",
       "\t<li>'start'</li>\n",
       "\t<li>'stop'</li>\n",
       "\t<li>'time_left'</li>\n",
       "</ol>\n"
      ],
      "text/latex": [
       "\\begin{enumerate*}\n",
       "\\item 'id'\n",
       "\\item 'start'\n",
       "\\item 'stop'\n",
       "\\item 'time\\_left'\n",
       "\\end{enumerate*}\n"
      ],
      "text/markdown": [
       "1. 'id'\n",
       "2. 'start'\n",
       "3. 'stop'\n",
       "4. 'time_left'\n",
       "\n",
       "\n"
      ],
      "text/plain": [
       "[1] \"id\"        \"start\"     \"stop\"      \"time_left\""
      ]
     },
     "metadata": {},
     "output_type": "display_data"
    }
   ],
   "source": [
    "intersect(names(reviews), names(solutions))"
   ]
  },
  {
   "cell_type": "code",
   "execution_count": 19,
   "metadata": {},
   "outputs": [
    {
     "data": {
      "text/html": [
       "<table>\n",
       "<thead><tr><th scope=col>id</th><th scope=col>start</th><th scope=col>stop</th><th scope=col>time_left</th><th scope=col>solution_id</th><th scope=col>reviewer_id</th><th scope=col>accept</th><th scope=col>problem_id</th><th scope=col>subject_id</th><th scope=col>answer</th></tr></thead>\n",
       "<tbody>\n",
       "\t<tr><td>1         </td><td>1304095119</td><td>1304095169</td><td>2343      </td><td>NA        </td><td>NA        </td><td>NA        </td><td>156       </td><td>29        </td><td>B         </td></tr>\n",
       "\t<tr><td>1         </td><td>1304095698</td><td>1304095758</td><td>1754      </td><td> 3        </td><td>27        </td><td> 1        </td><td> NA       </td><td>NA        </td><td>NA        </td></tr>\n",
       "\t<tr><td>2         </td><td>1304095119</td><td>1304095183</td><td>2329      </td><td>NA        </td><td>NA        </td><td>NA        </td><td>269       </td><td>25        </td><td>C         </td></tr>\n",
       "\t<tr><td>2         </td><td>1304095188</td><td>1304095206</td><td>2306      </td><td> 4        </td><td>22        </td><td> 1        </td><td> NA       </td><td>NA        </td><td>NA        </td></tr>\n",
       "\t<tr><td>3         </td><td>1304095127</td><td>1304095146</td><td>2366      </td><td>NA        </td><td>NA        </td><td>NA        </td><td> 34       </td><td>22        </td><td>C         </td></tr>\n",
       "\t<tr><td>3         </td><td>1304095276</td><td>1304095320</td><td>2192      </td><td> 5        </td><td>28        </td><td> 1        </td><td> NA       </td><td>NA        </td><td>NA        </td></tr>\n",
       "</tbody>\n",
       "</table>\n"
      ],
      "text/latex": [
       "\\begin{tabular}{r|llllllllll}\n",
       " id & start & stop & time\\_left & solution\\_id & reviewer\\_id & accept & problem\\_id & subject\\_id & answer\\\\\n",
       "\\hline\n",
       "\t 1          & 1304095119 & 1304095169 & 2343       & NA         & NA         & NA         & 156        & 29         & B         \\\\\n",
       "\t 1          & 1304095698 & 1304095758 & 1754       &  3         & 27         &  1         &  NA        & NA         & NA        \\\\\n",
       "\t 2          & 1304095119 & 1304095183 & 2329       & NA         & NA         & NA         & 269        & 25         & C         \\\\\n",
       "\t 2          & 1304095188 & 1304095206 & 2306       &  4         & 22         &  1         &  NA        & NA         & NA        \\\\\n",
       "\t 3          & 1304095127 & 1304095146 & 2366       & NA         & NA         & NA         &  34        & 22         & C         \\\\\n",
       "\t 3          & 1304095276 & 1304095320 & 2192       &  5         & 28         &  1         &  NA        & NA         & NA        \\\\\n",
       "\\end{tabular}\n"
      ],
      "text/markdown": [
       "\n",
       "id | start | stop | time_left | solution_id | reviewer_id | accept | problem_id | subject_id | answer | \n",
       "|---|---|---|---|---|---|\n",
       "| 1          | 1304095119 | 1304095169 | 2343       | NA         | NA         | NA         | 156        | 29         | B          | \n",
       "| 1          | 1304095698 | 1304095758 | 1754       |  3         | 27         |  1         |  NA        | NA         | NA         | \n",
       "| 2          | 1304095119 | 1304095183 | 2329       | NA         | NA         | NA         | 269        | 25         | C          | \n",
       "| 2          | 1304095188 | 1304095206 | 2306       |  4         | 22         |  1         |  NA        | NA         | NA         | \n",
       "| 3          | 1304095127 | 1304095146 | 2366       | NA         | NA         | NA         |  34        | 22         | C          | \n",
       "| 3          | 1304095276 | 1304095320 | 2192       |  5         | 28         |  1         |  NA        | NA         | NA         | \n",
       "\n",
       "\n"
      ],
      "text/plain": [
       "  id start      stop       time_left solution_id reviewer_id accept problem_id\n",
       "1 1  1304095119 1304095169 2343      NA          NA          NA     156       \n",
       "2 1  1304095698 1304095758 1754       3          27           1      NA       \n",
       "3 2  1304095119 1304095183 2329      NA          NA          NA     269       \n",
       "4 2  1304095188 1304095206 2306       4          22           1      NA       \n",
       "5 3  1304095127 1304095146 2366      NA          NA          NA      34       \n",
       "6 3  1304095276 1304095320 2192       5          28           1      NA       \n",
       "  subject_id answer\n",
       "1 29         B     \n",
       "2 NA         NA    \n",
       "3 25         C     \n",
       "4 NA         NA    \n",
       "5 22         C     \n",
       "6 NA         NA    "
      ]
     },
     "metadata": {},
     "output_type": "display_data"
    }
   ],
   "source": [
    "mergeddata = merge(reviews, solutions, all = TRUE)\n",
    "head(mergeddata)"
   ]
  },
  {
   "cell_type": "code",
   "execution_count": 20,
   "metadata": {},
   "outputs": [
    {
     "data": {
      "text/html": [
       "<ol class=list-inline>\n",
       "\t<li>199</li>\n",
       "\t<li>7</li>\n",
       "</ol>\n"
      ],
      "text/latex": [
       "\\begin{enumerate*}\n",
       "\\item 199\n",
       "\\item 7\n",
       "\\end{enumerate*}\n"
      ],
      "text/markdown": [
       "1. 199\n",
       "2. 7\n",
       "\n",
       "\n"
      ],
      "text/plain": [
       "[1] 199   7"
      ]
     },
     "metadata": {},
     "output_type": "display_data"
    }
   ],
   "source": [
    "dim(reviews)"
   ]
  },
  {
   "cell_type": "code",
   "execution_count": 21,
   "metadata": {},
   "outputs": [
    {
     "data": {
      "text/html": [
       "<ol class=list-inline>\n",
       "\t<li>205</li>\n",
       "\t<li>7</li>\n",
       "</ol>\n"
      ],
      "text/latex": [
       "\\begin{enumerate*}\n",
       "\\item 205\n",
       "\\item 7\n",
       "\\end{enumerate*}\n"
      ],
      "text/markdown": [
       "1. 205\n",
       "2. 7\n",
       "\n",
       "\n"
      ],
      "text/plain": [
       "[1] 205   7"
      ]
     },
     "metadata": {},
     "output_type": "display_data"
    }
   ],
   "source": [
    "dim(solutions)"
   ]
  },
  {
   "cell_type": "code",
   "execution_count": 22,
   "metadata": {},
   "outputs": [
    {
     "data": {
      "text/html": [
       "<ol class=list-inline>\n",
       "\t<li>404</li>\n",
       "\t<li>10</li>\n",
       "</ol>\n"
      ],
      "text/latex": [
       "\\begin{enumerate*}\n",
       "\\item 404\n",
       "\\item 10\n",
       "\\end{enumerate*}\n"
      ],
      "text/markdown": [
       "1. 404\n",
       "2. 10\n",
       "\n",
       "\n"
      ],
      "text/plain": [
       "[1] 404  10"
      ]
     },
     "metadata": {},
     "output_type": "display_data"
    }
   ],
   "source": [
    "dim(mergeddata)"
   ]
  },
  {
   "cell_type": "markdown",
   "metadata": {},
   "source": [
    "# Using join() in the plyr package"
   ]
  },
  {
   "cell_type": "code",
   "execution_count": 23,
   "metadata": {},
   "outputs": [],
   "source": [
    "library(plyr)"
   ]
  },
  {
   "cell_type": "code",
   "execution_count": 29,
   "metadata": {},
   "outputs": [
    {
     "data": {
      "text/html": [
       "<table>\n",
       "<thead><tr><th scope=col>id</th><th scope=col>solution_id</th><th scope=col>reviewer_id</th><th scope=col>start</th><th scope=col>stop</th><th scope=col>time_left</th><th scope=col>accept</th><th scope=col>problem_id</th><th scope=col>subject_id</th><th scope=col>start</th><th scope=col>stop</th><th scope=col>time_left</th><th scope=col>answer</th></tr></thead>\n",
       "<tbody>\n",
       "\t<tr><td> 1        </td><td> 3        </td><td>27        </td><td>1304095698</td><td>1304095758</td><td>1754      </td><td> 1        </td><td>156       </td><td>29        </td><td>1304095119</td><td>1304095169</td><td>2343      </td><td>B         </td></tr>\n",
       "\t<tr><td> 2        </td><td> 4        </td><td>22        </td><td>1304095188</td><td>1304095206</td><td>2306      </td><td> 1        </td><td>269       </td><td>25        </td><td>1304095119</td><td>1304095183</td><td>2329      </td><td>C         </td></tr>\n",
       "\t<tr><td> 3        </td><td> 5        </td><td>28        </td><td>1304095276</td><td>1304095320</td><td>2192      </td><td> 1        </td><td> 34       </td><td>22        </td><td>1304095127</td><td>1304095146</td><td>2366      </td><td>C         </td></tr>\n",
       "\t<tr><td> 4        </td><td> 1        </td><td>26        </td><td>1304095267</td><td>1304095423</td><td>2089      </td><td> 1        </td><td> 19       </td><td>23        </td><td>1304095127</td><td>1304095150</td><td>2362      </td><td>D         </td></tr>\n",
       "\t<tr><td> 5        </td><td>10        </td><td>29        </td><td>1304095456</td><td>1304095469</td><td>2043      </td><td> 1        </td><td>605       </td><td>26        </td><td>1304095127</td><td>1304095167</td><td>2345      </td><td>A         </td></tr>\n",
       "\t<tr><td> 6        </td><td> 2        </td><td>29        </td><td>1304095471</td><td>1304095513</td><td>1999      </td><td> 1        </td><td>384       </td><td>27        </td><td>1304095131</td><td>1304095270</td><td>2242      </td><td>C         </td></tr>\n",
       "\t<tr><td> 7        </td><td> 9        </td><td>25        </td><td>1304095343</td><td>1304095382</td><td>2130      </td><td> 1        </td><td>538       </td><td>28        </td><td>1304095133</td><td>1304095201</td><td>2311      </td><td>C         </td></tr>\n",
       "\t<tr><td> 8        </td><td> 8        </td><td>23        </td><td>        NA</td><td>        NA</td><td>  NA      </td><td>NA        </td><td>312       </td><td>24        </td><td>1304095134</td><td>1304095198</td><td>2314      </td><td>D         </td></tr>\n",
       "\t<tr><td> 9        </td><td> 7        </td><td>29        </td><td>1304095520</td><td>1304095613</td><td>1899      </td><td> 1        </td><td>327       </td><td>22        </td><td>1304095151</td><td>1304095184</td><td>2328      </td><td>E         </td></tr>\n",
       "\t<tr><td>10        </td><td>11        </td><td>26        </td><td>1304095428</td><td>1304095488</td><td>2024      </td><td> 1        </td><td>194       </td><td>23        </td><td>1304095152</td><td>1304095175</td><td>2337      </td><td>A         </td></tr>\n",
       "\t<tr><td>11        </td><td>17        </td><td>26        </td><td>1304095493</td><td>1304095523</td><td>1989      </td><td> 0        </td><td>409       </td><td>29        </td><td>1304095171</td><td>1304095202</td><td>2310      </td><td>B         </td></tr>\n",
       "\t<tr><td>12        </td><td>14        </td><td>22        </td><td>1304095280</td><td>1304095301</td><td>2211      </td><td> 1        </td><td>566       </td><td>23        </td><td>1304095177</td><td>1304095375</td><td>2137      </td><td>D         </td></tr>\n",
       "\t<tr><td>13        </td><td>16        </td><td>26        </td><td>1304095529</td><td>1304095550</td><td>1962      </td><td> 1        </td><td>490       </td><td>26        </td><td>1304095179</td><td>1304095264</td><td>2248      </td><td>C         </td></tr>\n",
       "\t<tr><td>14        </td><td>20        </td><td>29        </td><td>1304095617</td><td>1304095624</td><td>1888      </td><td> 1        </td><td>270       </td><td>25        </td><td>1304095184</td><td>1304095224</td><td>2288      </td><td>C         </td></tr>\n",
       "\t<tr><td>15        </td><td>13        </td><td>24        </td><td>1304095395</td><td>1304095462</td><td>2050      </td><td> 0        </td><td>234       </td><td>29        </td><td>1304095204</td><td>1304095325</td><td>2187      </td><td>A         </td></tr>\n",
       "\t<tr><td>16        </td><td> 6        </td><td>22        </td><td>1304095303</td><td>1304095471</td><td>2041      </td><td> 1        </td><td>183       </td><td>24        </td><td>1304095205</td><td>1304095230</td><td>2282      </td><td>A         </td></tr>\n",
       "\t<tr><td>17        </td><td>19        </td><td>23        </td><td>        NA</td><td>        NA</td><td>  NA      </td><td>NA        </td><td>426       </td><td>28        </td><td>1304095205</td><td>1304095222</td><td>2290      </td><td>A         </td></tr>\n",
       "\t<tr><td>18        </td><td>18        </td><td>28        </td><td>1304095422</td><td>1304095474</td><td>2038      </td><td> 0        </td><td>456       </td><td>22        </td><td>1304095212</td><td>1304095276</td><td>2236      </td><td>C         </td></tr>\n",
       "\t<tr><td>19        </td><td>21        </td><td>28        </td><td>1304095515</td><td>1304095532</td><td>1980      </td><td> 0        </td><td>207       </td><td>28        </td><td>1304095226</td><td>1304095272</td><td>2240      </td><td>C         </td></tr>\n",
       "\t<tr><td>20        </td><td>15        </td><td>23        </td><td>        NA</td><td>        NA</td><td>  NA      </td><td>NA        </td><td>418       </td><td>25        </td><td>1304095226</td><td>1304095246</td><td>2266      </td><td>D         </td></tr>\n",
       "\t<tr><td>21        </td><td>22        </td><td>22        </td><td>1304095520</td><td>1304095598</td><td>1914      </td><td> 1        </td><td>214       </td><td>24        </td><td>1304095233</td><td>1304095293</td><td>2219      </td><td>D         </td></tr>\n",
       "\t<tr><td>22        </td><td>25        </td><td>26        </td><td>1304095553</td><td>1304095592</td><td>1920      </td><td> 1        </td><td>262       </td><td>25        </td><td>1304095251</td><td>1304095339</td><td>2173      </td><td>A         </td></tr>\n",
       "\t<tr><td>23        </td><td>12        </td><td>27        </td><td>1304095767</td><td>1304095852</td><td>1660      </td><td> 1        </td><td>493       </td><td>27        </td><td>1304095278</td><td>1304095403</td><td>2109      </td><td>E         </td></tr>\n",
       "\t<tr><td>24        </td><td>27        </td><td>22        </td><td>        NA</td><td>        NA</td><td>  NA      </td><td>NA        </td><td>  8       </td><td>24        </td><td>1304095302</td><td>1304095389</td><td>2123      </td><td>B         </td></tr>\n",
       "\t<tr><td>25        </td><td>24        </td><td>22        </td><td>        NA</td><td>        NA</td><td>  NA      </td><td>NA        </td><td> 40       </td><td>29        </td><td>1304095326</td><td>1304095357</td><td>2155      </td><td>C         </td></tr>\n",
       "\t<tr><td>26        </td><td>23        </td><td>22        </td><td>        NA</td><td>        NA</td><td>  NA      </td><td>NA        </td><td>427       </td><td>28        </td><td>1304095340</td><td>1304095419</td><td>2093      </td><td>B         </td></tr>\n",
       "\t<tr><td>27        </td><td>26        </td><td>26        </td><td>1304095594</td><td>1304095603</td><td>1909      </td><td> 1        </td><td>428       </td><td>29        </td><td>1304095358</td><td>1304095384</td><td>2128      </td><td>D         </td></tr>\n",
       "\t<tr><td>28        </td><td>30        </td><td>28        </td><td>1304095535</td><td>1304095567</td><td>1945      </td><td> 1        </td><td>348       </td><td>23        </td><td>1304095377</td><td>1304095638</td><td>1874      </td><td>C         </td></tr>\n",
       "\t<tr><td>29        </td><td>31        </td><td>29        </td><td>1304095627</td><td>1304095641</td><td>1871      </td><td> 1        </td><td>119       </td><td>25        </td><td>1304095388</td><td>1304095481</td><td>2031      </td><td>A         </td></tr>\n",
       "\t<tr><td>30        </td><td>29        </td><td>24        </td><td>1304095530</td><td>1304095652</td><td>1860      </td><td> 0        </td><td>145       </td><td>29        </td><td>1304095389</td><td>1304095453</td><td>2059      </td><td>D         </td></tr>\n",
       "\t<tr><td>...</td><td>...</td><td>...</td><td>...</td><td>...</td><td>...</td><td>...</td><td>...</td><td>...</td><td>...</td><td>...</td><td>...</td><td>...</td></tr>\n",
       "\t<tr><td>170       </td><td>172       </td><td>22        </td><td>        NA</td><td>        NA</td><td> NA       </td><td>NA        </td><td>299       </td><td>24        </td><td>1304097179</td><td>1304097274</td><td>238       </td><td>C         </td></tr>\n",
       "\t<tr><td>171       </td><td>173       </td><td>26        </td><td>1304097267</td><td>1304097289</td><td>223       </td><td> 1        </td><td>283       </td><td>26        </td><td>1304097183</td><td>1304097213</td><td>299       </td><td>A         </td></tr>\n",
       "\t<tr><td>172       </td><td>177       </td><td>28        </td><td>        NA</td><td>        NA</td><td> NA       </td><td>NA        </td><td>342       </td><td>29        </td><td>1304097193</td><td>1304097220</td><td>292       </td><td>D         </td></tr>\n",
       "\t<tr><td>173       </td><td>175       </td><td>25        </td><td>1304097268</td><td>1304097300</td><td>212       </td><td> 0        </td><td>324       </td><td>25        </td><td>1304097198</td><td>1304097222</td><td>290       </td><td>A         </td></tr>\n",
       "\t<tr><td>174       </td><td>168       </td><td>22        </td><td>        NA</td><td>        NA</td><td> NA       </td><td>NA        </td><td>379       </td><td>27        </td><td>1304097202</td><td>        NA</td><td> NA       </td><td>          </td></tr>\n",
       "\t<tr><td>175       </td><td>170       </td><td>27        </td><td>        NA</td><td>        NA</td><td> NA       </td><td>NA        </td><td>600       </td><td>26        </td><td>1304097214</td><td>1304097239</td><td>273       </td><td>E         </td></tr>\n",
       "\t<tr><td>176       </td><td>179       </td><td>22        </td><td>        NA</td><td>        NA</td><td> NA       </td><td>NA        </td><td>151       </td><td>29        </td><td>1304097222</td><td>1304097289</td><td>223       </td><td>C         </td></tr>\n",
       "\t<tr><td>177       </td><td>176       </td><td>28        </td><td>        NA</td><td>        NA</td><td> NA       </td><td>NA        </td><td>422       </td><td>25        </td><td>1304097224</td><td>1304097239</td><td>273       </td><td>D         </td></tr>\n",
       "\t<tr><td>178       </td><td>178       </td><td>23        </td><td>        NA</td><td>        NA</td><td> NA       </td><td>NA        </td><td>563       </td><td>28        </td><td>1304097248</td><td>1304097314</td><td>198       </td><td>E         </td></tr>\n",
       "\t<tr><td>179       </td><td>185       </td><td>29        </td><td>1304097324</td><td>1304097357</td><td>155       </td><td> 1        </td><td>451       </td><td>23        </td><td>1304097255</td><td>1304097287</td><td>225       </td><td>D         </td></tr>\n",
       "\t<tr><td>180       </td><td>183       </td><td>23        </td><td>        NA</td><td>        NA</td><td> NA       </td><td>NA        </td><td>135       </td><td>22        </td><td>1304097268</td><td>1304097322</td><td>190       </td><td>D         </td></tr>\n",
       "\t<tr><td>181       </td><td>180       </td><td>27        </td><td>        NA</td><td>        NA</td><td> NA       </td><td>NA        </td><td>425       </td><td>24        </td><td>1304097282</td><td>1304097341</td><td>171       </td><td>A         </td></tr>\n",
       "\t<tr><td>182       </td><td>181       </td><td>25        </td><td>        NA</td><td>        NA</td><td> NA       </td><td>NA        </td><td>519       </td><td>23        </td><td>1304097288</td><td>1304097347</td><td>165       </td><td>B         </td></tr>\n",
       "\t<tr><td>183       </td><td>182       </td><td>22        </td><td>        NA</td><td>        NA</td><td> NA       </td><td>NA        </td><td>458       </td><td>29        </td><td>1304097291</td><td>1304097322</td><td>190       </td><td>D         </td></tr>\n",
       "\t<tr><td>184       </td><td>184       </td><td>23        </td><td>        NA</td><td>        NA</td><td> NA       </td><td>NA        </td><td> 76       </td><td>26        </td><td>1304097292</td><td>1304097348</td><td>164       </td><td>D         </td></tr>\n",
       "\t<tr><td>185       </td><td>186       </td><td>27        </td><td>        NA</td><td>        NA</td><td> NA       </td><td>NA        </td><td> 14       </td><td>25        </td><td>1304097310</td><td>1304097318</td><td>194       </td><td>B         </td></tr>\n",
       "\t<tr><td>186       </td><td>190       </td><td>24        </td><td>        NA</td><td>        NA</td><td> NA       </td><td>NA        </td><td>149       </td><td>25        </td><td>1304097322</td><td>1304097353</td><td>159       </td><td>C         </td></tr>\n",
       "\t<tr><td>187       </td><td>191       </td><td>25        </td><td>        NA</td><td>        NA</td><td> NA       </td><td>NA        </td><td>336       </td><td>24        </td><td>1304097343</td><td>1304097378</td><td>134       </td><td>B         </td></tr>\n",
       "\t<tr><td>188       </td><td>187       </td><td>27        </td><td>        NA</td><td>        NA</td><td> NA       </td><td>NA        </td><td>245       </td><td>23        </td><td>1304097348</td><td>1304097465</td><td> 47       </td><td>D         </td></tr>\n",
       "\t<tr><td>189       </td><td>193       </td><td>26        </td><td>1304097410</td><td>1304097429</td><td> 83       </td><td> 0        </td><td> 73       </td><td>26        </td><td>1304097350</td><td>1304097404</td><td>108       </td><td>E         </td></tr>\n",
       "\t<tr><td>190       </td><td>189       </td><td>28        </td><td>        NA</td><td>        NA</td><td> NA       </td><td>NA        </td><td>297       </td><td>25        </td><td>1304097354</td><td>1304097376</td><td>136       </td><td>B         </td></tr>\n",
       "\t<tr><td>191       </td><td>192       </td><td>28        </td><td>        NA</td><td>        NA</td><td> NA       </td><td>NA        </td><td>542       </td><td>29        </td><td>1304097359</td><td>1304097376</td><td>136       </td><td>A         </td></tr>\n",
       "\t<tr><td>192       </td><td>194       </td><td>22        </td><td>1304097459</td><td>1304097469</td><td> 43       </td><td> 0        </td><td>308       </td><td>25        </td><td>1304097378</td><td>1304097407</td><td>105       </td><td>A         </td></tr>\n",
       "\t<tr><td>193       </td><td>196       </td><td>28        </td><td>        NA</td><td>        NA</td><td> NA       </td><td>NA        </td><td>510       </td><td>29        </td><td>1304097378</td><td>1304097395</td><td>117       </td><td>E         </td></tr>\n",
       "\t<tr><td>194       </td><td>195       </td><td>26        </td><td>        NA</td><td>        NA</td><td> NA       </td><td>NA        </td><td>254       </td><td>24        </td><td>1304097380</td><td>1304097425</td><td> 87       </td><td>A         </td></tr>\n",
       "\t<tr><td>195       </td><td>188       </td><td>27        </td><td>        NA</td><td>        NA</td><td> NA       </td><td>NA        </td><td>111       </td><td>29        </td><td>1304097396</td><td>1304097436</td><td> 76       </td><td>D         </td></tr>\n",
       "\t<tr><td>196       </td><td>201       </td><td>26        </td><td>        NA</td><td>        NA</td><td> NA       </td><td>NA        </td><td>562       </td><td>25        </td><td>1304097409</td><td>1304097426</td><td> 86       </td><td>B         </td></tr>\n",
       "\t<tr><td>197       </td><td>199       </td><td>23        </td><td>        NA</td><td>        NA</td><td> NA       </td><td>NA        </td><td>582       </td><td>25        </td><td>1304097428</td><td>1304097495</td><td> 17       </td><td>B         </td></tr>\n",
       "\t<tr><td>198       </td><td>200       </td><td>28        </td><td>        NA</td><td>        NA</td><td> NA       </td><td>NA        </td><td>376       </td><td>24        </td><td>1304097430</td><td>        NA</td><td> NA       </td><td>          </td></tr>\n",
       "\t<tr><td>199       </td><td>197       </td><td>22        </td><td>        NA</td><td>        NA</td><td> NA       </td><td>NA        </td><td>439       </td><td>28        </td><td>1304097432</td><td>1304097471</td><td> 41       </td><td>C         </td></tr>\n",
       "</tbody>\n",
       "</table>\n"
      ],
      "text/latex": [
       "\\begin{tabular}{r|lllllllllllll}\n",
       " id & solution\\_id & reviewer\\_id & start & stop & time\\_left & accept & problem\\_id & subject\\_id & start & stop & time\\_left & answer\\\\\n",
       "\\hline\n",
       "\t  1         &  3         & 27         & 1304095698 & 1304095758 & 1754       &  1         & 156        & 29         & 1304095119 & 1304095169 & 2343       & B         \\\\\n",
       "\t  2         &  4         & 22         & 1304095188 & 1304095206 & 2306       &  1         & 269        & 25         & 1304095119 & 1304095183 & 2329       & C         \\\\\n",
       "\t  3         &  5         & 28         & 1304095276 & 1304095320 & 2192       &  1         &  34        & 22         & 1304095127 & 1304095146 & 2366       & C         \\\\\n",
       "\t  4         &  1         & 26         & 1304095267 & 1304095423 & 2089       &  1         &  19        & 23         & 1304095127 & 1304095150 & 2362       & D         \\\\\n",
       "\t  5         & 10         & 29         & 1304095456 & 1304095469 & 2043       &  1         & 605        & 26         & 1304095127 & 1304095167 & 2345       & A         \\\\\n",
       "\t  6         &  2         & 29         & 1304095471 & 1304095513 & 1999       &  1         & 384        & 27         & 1304095131 & 1304095270 & 2242       & C         \\\\\n",
       "\t  7         &  9         & 25         & 1304095343 & 1304095382 & 2130       &  1         & 538        & 28         & 1304095133 & 1304095201 & 2311       & C         \\\\\n",
       "\t  8         &  8         & 23         &         NA &         NA &   NA       & NA         & 312        & 24         & 1304095134 & 1304095198 & 2314       & D         \\\\\n",
       "\t  9         &  7         & 29         & 1304095520 & 1304095613 & 1899       &  1         & 327        & 22         & 1304095151 & 1304095184 & 2328       & E         \\\\\n",
       "\t 10         & 11         & 26         & 1304095428 & 1304095488 & 2024       &  1         & 194        & 23         & 1304095152 & 1304095175 & 2337       & A         \\\\\n",
       "\t 11         & 17         & 26         & 1304095493 & 1304095523 & 1989       &  0         & 409        & 29         & 1304095171 & 1304095202 & 2310       & B         \\\\\n",
       "\t 12         & 14         & 22         & 1304095280 & 1304095301 & 2211       &  1         & 566        & 23         & 1304095177 & 1304095375 & 2137       & D         \\\\\n",
       "\t 13         & 16         & 26         & 1304095529 & 1304095550 & 1962       &  1         & 490        & 26         & 1304095179 & 1304095264 & 2248       & C         \\\\\n",
       "\t 14         & 20         & 29         & 1304095617 & 1304095624 & 1888       &  1         & 270        & 25         & 1304095184 & 1304095224 & 2288       & C         \\\\\n",
       "\t 15         & 13         & 24         & 1304095395 & 1304095462 & 2050       &  0         & 234        & 29         & 1304095204 & 1304095325 & 2187       & A         \\\\\n",
       "\t 16         &  6         & 22         & 1304095303 & 1304095471 & 2041       &  1         & 183        & 24         & 1304095205 & 1304095230 & 2282       & A         \\\\\n",
       "\t 17         & 19         & 23         &         NA &         NA &   NA       & NA         & 426        & 28         & 1304095205 & 1304095222 & 2290       & A         \\\\\n",
       "\t 18         & 18         & 28         & 1304095422 & 1304095474 & 2038       &  0         & 456        & 22         & 1304095212 & 1304095276 & 2236       & C         \\\\\n",
       "\t 19         & 21         & 28         & 1304095515 & 1304095532 & 1980       &  0         & 207        & 28         & 1304095226 & 1304095272 & 2240       & C         \\\\\n",
       "\t 20         & 15         & 23         &         NA &         NA &   NA       & NA         & 418        & 25         & 1304095226 & 1304095246 & 2266       & D         \\\\\n",
       "\t 21         & 22         & 22         & 1304095520 & 1304095598 & 1914       &  1         & 214        & 24         & 1304095233 & 1304095293 & 2219       & D         \\\\\n",
       "\t 22         & 25         & 26         & 1304095553 & 1304095592 & 1920       &  1         & 262        & 25         & 1304095251 & 1304095339 & 2173       & A         \\\\\n",
       "\t 23         & 12         & 27         & 1304095767 & 1304095852 & 1660       &  1         & 493        & 27         & 1304095278 & 1304095403 & 2109       & E         \\\\\n",
       "\t 24         & 27         & 22         &         NA &         NA &   NA       & NA         &   8        & 24         & 1304095302 & 1304095389 & 2123       & B         \\\\\n",
       "\t 25         & 24         & 22         &         NA &         NA &   NA       & NA         &  40        & 29         & 1304095326 & 1304095357 & 2155       & C         \\\\\n",
       "\t 26         & 23         & 22         &         NA &         NA &   NA       & NA         & 427        & 28         & 1304095340 & 1304095419 & 2093       & B         \\\\\n",
       "\t 27         & 26         & 26         & 1304095594 & 1304095603 & 1909       &  1         & 428        & 29         & 1304095358 & 1304095384 & 2128       & D         \\\\\n",
       "\t 28         & 30         & 28         & 1304095535 & 1304095567 & 1945       &  1         & 348        & 23         & 1304095377 & 1304095638 & 1874       & C         \\\\\n",
       "\t 29         & 31         & 29         & 1304095627 & 1304095641 & 1871       &  1         & 119        & 25         & 1304095388 & 1304095481 & 2031       & A         \\\\\n",
       "\t 30         & 29         & 24         & 1304095530 & 1304095652 & 1860       &  0         & 145        & 29         & 1304095389 & 1304095453 & 2059       & D         \\\\\n",
       "\t ... & ... & ... & ... & ... & ... & ... & ... & ... & ... & ... & ... & ...\\\\\n",
       "\t 170        & 172        & 22         &         NA &         NA &  NA        & NA         & 299        & 24         & 1304097179 & 1304097274 & 238        & C         \\\\\n",
       "\t 171        & 173        & 26         & 1304097267 & 1304097289 & 223        &  1         & 283        & 26         & 1304097183 & 1304097213 & 299        & A         \\\\\n",
       "\t 172        & 177        & 28         &         NA &         NA &  NA        & NA         & 342        & 29         & 1304097193 & 1304097220 & 292        & D         \\\\\n",
       "\t 173        & 175        & 25         & 1304097268 & 1304097300 & 212        &  0         & 324        & 25         & 1304097198 & 1304097222 & 290        & A         \\\\\n",
       "\t 174        & 168        & 22         &         NA &         NA &  NA        & NA         & 379        & 27         & 1304097202 &         NA &  NA        &           \\\\\n",
       "\t 175        & 170        & 27         &         NA &         NA &  NA        & NA         & 600        & 26         & 1304097214 & 1304097239 & 273        & E         \\\\\n",
       "\t 176        & 179        & 22         &         NA &         NA &  NA        & NA         & 151        & 29         & 1304097222 & 1304097289 & 223        & C         \\\\\n",
       "\t 177        & 176        & 28         &         NA &         NA &  NA        & NA         & 422        & 25         & 1304097224 & 1304097239 & 273        & D         \\\\\n",
       "\t 178        & 178        & 23         &         NA &         NA &  NA        & NA         & 563        & 28         & 1304097248 & 1304097314 & 198        & E         \\\\\n",
       "\t 179        & 185        & 29         & 1304097324 & 1304097357 & 155        &  1         & 451        & 23         & 1304097255 & 1304097287 & 225        & D         \\\\\n",
       "\t 180        & 183        & 23         &         NA &         NA &  NA        & NA         & 135        & 22         & 1304097268 & 1304097322 & 190        & D         \\\\\n",
       "\t 181        & 180        & 27         &         NA &         NA &  NA        & NA         & 425        & 24         & 1304097282 & 1304097341 & 171        & A         \\\\\n",
       "\t 182        & 181        & 25         &         NA &         NA &  NA        & NA         & 519        & 23         & 1304097288 & 1304097347 & 165        & B         \\\\\n",
       "\t 183        & 182        & 22         &         NA &         NA &  NA        & NA         & 458        & 29         & 1304097291 & 1304097322 & 190        & D         \\\\\n",
       "\t 184        & 184        & 23         &         NA &         NA &  NA        & NA         &  76        & 26         & 1304097292 & 1304097348 & 164        & D         \\\\\n",
       "\t 185        & 186        & 27         &         NA &         NA &  NA        & NA         &  14        & 25         & 1304097310 & 1304097318 & 194        & B         \\\\\n",
       "\t 186        & 190        & 24         &         NA &         NA &  NA        & NA         & 149        & 25         & 1304097322 & 1304097353 & 159        & C         \\\\\n",
       "\t 187        & 191        & 25         &         NA &         NA &  NA        & NA         & 336        & 24         & 1304097343 & 1304097378 & 134        & B         \\\\\n",
       "\t 188        & 187        & 27         &         NA &         NA &  NA        & NA         & 245        & 23         & 1304097348 & 1304097465 &  47        & D         \\\\\n",
       "\t 189        & 193        & 26         & 1304097410 & 1304097429 &  83        &  0         &  73        & 26         & 1304097350 & 1304097404 & 108        & E         \\\\\n",
       "\t 190        & 189        & 28         &         NA &         NA &  NA        & NA         & 297        & 25         & 1304097354 & 1304097376 & 136        & B         \\\\\n",
       "\t 191        & 192        & 28         &         NA &         NA &  NA        & NA         & 542        & 29         & 1304097359 & 1304097376 & 136        & A         \\\\\n",
       "\t 192        & 194        & 22         & 1304097459 & 1304097469 &  43        &  0         & 308        & 25         & 1304097378 & 1304097407 & 105        & A         \\\\\n",
       "\t 193        & 196        & 28         &         NA &         NA &  NA        & NA         & 510        & 29         & 1304097378 & 1304097395 & 117        & E         \\\\\n",
       "\t 194        & 195        & 26         &         NA &         NA &  NA        & NA         & 254        & 24         & 1304097380 & 1304097425 &  87        & A         \\\\\n",
       "\t 195        & 188        & 27         &         NA &         NA &  NA        & NA         & 111        & 29         & 1304097396 & 1304097436 &  76        & D         \\\\\n",
       "\t 196        & 201        & 26         &         NA &         NA &  NA        & NA         & 562        & 25         & 1304097409 & 1304097426 &  86        & B         \\\\\n",
       "\t 197        & 199        & 23         &         NA &         NA &  NA        & NA         & 582        & 25         & 1304097428 & 1304097495 &  17        & B         \\\\\n",
       "\t 198        & 200        & 28         &         NA &         NA &  NA        & NA         & 376        & 24         & 1304097430 &         NA &  NA        &           \\\\\n",
       "\t 199        & 197        & 22         &         NA &         NA &  NA        & NA         & 439        & 28         & 1304097432 & 1304097471 &  41        & C         \\\\\n",
       "\\end{tabular}\n"
      ],
      "text/markdown": [
       "\n",
       "id | solution_id | reviewer_id | start | stop | time_left | accept | problem_id | subject_id | start | stop | time_left | answer | \n",
       "|---|---|---|---|---|---|---|---|---|---|---|---|---|---|---|---|---|---|---|---|---|---|---|---|---|---|---|---|---|---|---|---|---|---|---|---|---|---|---|---|---|---|---|---|---|---|---|---|---|---|---|---|---|---|---|---|---|---|---|---|---|\n",
       "|  1         |  3         | 27         | 1304095698 | 1304095758 | 1754       |  1         | 156        | 29         | 1304095119 | 1304095169 | 2343       | B          | \n",
       "|  2         |  4         | 22         | 1304095188 | 1304095206 | 2306       |  1         | 269        | 25         | 1304095119 | 1304095183 | 2329       | C          | \n",
       "|  3         |  5         | 28         | 1304095276 | 1304095320 | 2192       |  1         |  34        | 22         | 1304095127 | 1304095146 | 2366       | C          | \n",
       "|  4         |  1         | 26         | 1304095267 | 1304095423 | 2089       |  1         |  19        | 23         | 1304095127 | 1304095150 | 2362       | D          | \n",
       "|  5         | 10         | 29         | 1304095456 | 1304095469 | 2043       |  1         | 605        | 26         | 1304095127 | 1304095167 | 2345       | A          | \n",
       "|  6         |  2         | 29         | 1304095471 | 1304095513 | 1999       |  1         | 384        | 27         | 1304095131 | 1304095270 | 2242       | C          | \n",
       "|  7         |  9         | 25         | 1304095343 | 1304095382 | 2130       |  1         | 538        | 28         | 1304095133 | 1304095201 | 2311       | C          | \n",
       "|  8         |  8         | 23         |         NA |         NA |   NA       | NA         | 312        | 24         | 1304095134 | 1304095198 | 2314       | D          | \n",
       "|  9         |  7         | 29         | 1304095520 | 1304095613 | 1899       |  1         | 327        | 22         | 1304095151 | 1304095184 | 2328       | E          | \n",
       "| 10         | 11         | 26         | 1304095428 | 1304095488 | 2024       |  1         | 194        | 23         | 1304095152 | 1304095175 | 2337       | A          | \n",
       "| 11         | 17         | 26         | 1304095493 | 1304095523 | 1989       |  0         | 409        | 29         | 1304095171 | 1304095202 | 2310       | B          | \n",
       "| 12         | 14         | 22         | 1304095280 | 1304095301 | 2211       |  1         | 566        | 23         | 1304095177 | 1304095375 | 2137       | D          | \n",
       "| 13         | 16         | 26         | 1304095529 | 1304095550 | 1962       |  1         | 490        | 26         | 1304095179 | 1304095264 | 2248       | C          | \n",
       "| 14         | 20         | 29         | 1304095617 | 1304095624 | 1888       |  1         | 270        | 25         | 1304095184 | 1304095224 | 2288       | C          | \n",
       "| 15         | 13         | 24         | 1304095395 | 1304095462 | 2050       |  0         | 234        | 29         | 1304095204 | 1304095325 | 2187       | A          | \n",
       "| 16         |  6         | 22         | 1304095303 | 1304095471 | 2041       |  1         | 183        | 24         | 1304095205 | 1304095230 | 2282       | A          | \n",
       "| 17         | 19         | 23         |         NA |         NA |   NA       | NA         | 426        | 28         | 1304095205 | 1304095222 | 2290       | A          | \n",
       "| 18         | 18         | 28         | 1304095422 | 1304095474 | 2038       |  0         | 456        | 22         | 1304095212 | 1304095276 | 2236       | C          | \n",
       "| 19         | 21         | 28         | 1304095515 | 1304095532 | 1980       |  0         | 207        | 28         | 1304095226 | 1304095272 | 2240       | C          | \n",
       "| 20         | 15         | 23         |         NA |         NA |   NA       | NA         | 418        | 25         | 1304095226 | 1304095246 | 2266       | D          | \n",
       "| 21         | 22         | 22         | 1304095520 | 1304095598 | 1914       |  1         | 214        | 24         | 1304095233 | 1304095293 | 2219       | D          | \n",
       "| 22         | 25         | 26         | 1304095553 | 1304095592 | 1920       |  1         | 262        | 25         | 1304095251 | 1304095339 | 2173       | A          | \n",
       "| 23         | 12         | 27         | 1304095767 | 1304095852 | 1660       |  1         | 493        | 27         | 1304095278 | 1304095403 | 2109       | E          | \n",
       "| 24         | 27         | 22         |         NA |         NA |   NA       | NA         |   8        | 24         | 1304095302 | 1304095389 | 2123       | B          | \n",
       "| 25         | 24         | 22         |         NA |         NA |   NA       | NA         |  40        | 29         | 1304095326 | 1304095357 | 2155       | C          | \n",
       "| 26         | 23         | 22         |         NA |         NA |   NA       | NA         | 427        | 28         | 1304095340 | 1304095419 | 2093       | B          | \n",
       "| 27         | 26         | 26         | 1304095594 | 1304095603 | 1909       |  1         | 428        | 29         | 1304095358 | 1304095384 | 2128       | D          | \n",
       "| 28         | 30         | 28         | 1304095535 | 1304095567 | 1945       |  1         | 348        | 23         | 1304095377 | 1304095638 | 1874       | C          | \n",
       "| 29         | 31         | 29         | 1304095627 | 1304095641 | 1871       |  1         | 119        | 25         | 1304095388 | 1304095481 | 2031       | A          | \n",
       "| 30         | 29         | 24         | 1304095530 | 1304095652 | 1860       |  0         | 145        | 29         | 1304095389 | 1304095453 | 2059       | D          | \n",
       "| ... | ... | ... | ... | ... | ... | ... | ... | ... | ... | ... | ... | ... | \n",
       "| 170        | 172        | 22         |         NA |         NA |  NA        | NA         | 299        | 24         | 1304097179 | 1304097274 | 238        | C          | \n",
       "| 171        | 173        | 26         | 1304097267 | 1304097289 | 223        |  1         | 283        | 26         | 1304097183 | 1304097213 | 299        | A          | \n",
       "| 172        | 177        | 28         |         NA |         NA |  NA        | NA         | 342        | 29         | 1304097193 | 1304097220 | 292        | D          | \n",
       "| 173        | 175        | 25         | 1304097268 | 1304097300 | 212        |  0         | 324        | 25         | 1304097198 | 1304097222 | 290        | A          | \n",
       "| 174        | 168        | 22         |         NA |         NA |  NA        | NA         | 379        | 27         | 1304097202 |         NA |  NA        |            | \n",
       "| 175        | 170        | 27         |         NA |         NA |  NA        | NA         | 600        | 26         | 1304097214 | 1304097239 | 273        | E          | \n",
       "| 176        | 179        | 22         |         NA |         NA |  NA        | NA         | 151        | 29         | 1304097222 | 1304097289 | 223        | C          | \n",
       "| 177        | 176        | 28         |         NA |         NA |  NA        | NA         | 422        | 25         | 1304097224 | 1304097239 | 273        | D          | \n",
       "| 178        | 178        | 23         |         NA |         NA |  NA        | NA         | 563        | 28         | 1304097248 | 1304097314 | 198        | E          | \n",
       "| 179        | 185        | 29         | 1304097324 | 1304097357 | 155        |  1         | 451        | 23         | 1304097255 | 1304097287 | 225        | D          | \n",
       "| 180        | 183        | 23         |         NA |         NA |  NA        | NA         | 135        | 22         | 1304097268 | 1304097322 | 190        | D          | \n",
       "| 181        | 180        | 27         |         NA |         NA |  NA        | NA         | 425        | 24         | 1304097282 | 1304097341 | 171        | A          | \n",
       "| 182        | 181        | 25         |         NA |         NA |  NA        | NA         | 519        | 23         | 1304097288 | 1304097347 | 165        | B          | \n",
       "| 183        | 182        | 22         |         NA |         NA |  NA        | NA         | 458        | 29         | 1304097291 | 1304097322 | 190        | D          | \n",
       "| 184        | 184        | 23         |         NA |         NA |  NA        | NA         |  76        | 26         | 1304097292 | 1304097348 | 164        | D          | \n",
       "| 185        | 186        | 27         |         NA |         NA |  NA        | NA         |  14        | 25         | 1304097310 | 1304097318 | 194        | B          | \n",
       "| 186        | 190        | 24         |         NA |         NA |  NA        | NA         | 149        | 25         | 1304097322 | 1304097353 | 159        | C          | \n",
       "| 187        | 191        | 25         |         NA |         NA |  NA        | NA         | 336        | 24         | 1304097343 | 1304097378 | 134        | B          | \n",
       "| 188        | 187        | 27         |         NA |         NA |  NA        | NA         | 245        | 23         | 1304097348 | 1304097465 |  47        | D          | \n",
       "| 189        | 193        | 26         | 1304097410 | 1304097429 |  83        |  0         |  73        | 26         | 1304097350 | 1304097404 | 108        | E          | \n",
       "| 190        | 189        | 28         |         NA |         NA |  NA        | NA         | 297        | 25         | 1304097354 | 1304097376 | 136        | B          | \n",
       "| 191        | 192        | 28         |         NA |         NA |  NA        | NA         | 542        | 29         | 1304097359 | 1304097376 | 136        | A          | \n",
       "| 192        | 194        | 22         | 1304097459 | 1304097469 |  43        |  0         | 308        | 25         | 1304097378 | 1304097407 | 105        | A          | \n",
       "| 193        | 196        | 28         |         NA |         NA |  NA        | NA         | 510        | 29         | 1304097378 | 1304097395 | 117        | E          | \n",
       "| 194        | 195        | 26         |         NA |         NA |  NA        | NA         | 254        | 24         | 1304097380 | 1304097425 |  87        | A          | \n",
       "| 195        | 188        | 27         |         NA |         NA |  NA        | NA         | 111        | 29         | 1304097396 | 1304097436 |  76        | D          | \n",
       "| 196        | 201        | 26         |         NA |         NA |  NA        | NA         | 562        | 25         | 1304097409 | 1304097426 |  86        | B          | \n",
       "| 197        | 199        | 23         |         NA |         NA |  NA        | NA         | 582        | 25         | 1304097428 | 1304097495 |  17        | B          | \n",
       "| 198        | 200        | 28         |         NA |         NA |  NA        | NA         | 376        | 24         | 1304097430 |         NA |  NA        |            | \n",
       "| 199        | 197        | 22         |         NA |         NA |  NA        | NA         | 439        | 28         | 1304097432 | 1304097471 |  41        | C          | \n",
       "\n",
       "\n"
      ],
      "text/plain": [
       "    id  solution_id reviewer_id start      stop       time_left accept\n",
       "1    1   3          27          1304095698 1304095758 1754       1    \n",
       "2    2   4          22          1304095188 1304095206 2306       1    \n",
       "3    3   5          28          1304095276 1304095320 2192       1    \n",
       "4    4   1          26          1304095267 1304095423 2089       1    \n",
       "5    5  10          29          1304095456 1304095469 2043       1    \n",
       "6    6   2          29          1304095471 1304095513 1999       1    \n",
       "7    7   9          25          1304095343 1304095382 2130       1    \n",
       "8    8   8          23                  NA         NA   NA      NA    \n",
       "9    9   7          29          1304095520 1304095613 1899       1    \n",
       "10  10  11          26          1304095428 1304095488 2024       1    \n",
       "11  11  17          26          1304095493 1304095523 1989       0    \n",
       "12  12  14          22          1304095280 1304095301 2211       1    \n",
       "13  13  16          26          1304095529 1304095550 1962       1    \n",
       "14  14  20          29          1304095617 1304095624 1888       1    \n",
       "15  15  13          24          1304095395 1304095462 2050       0    \n",
       "16  16   6          22          1304095303 1304095471 2041       1    \n",
       "17  17  19          23                  NA         NA   NA      NA    \n",
       "18  18  18          28          1304095422 1304095474 2038       0    \n",
       "19  19  21          28          1304095515 1304095532 1980       0    \n",
       "20  20  15          23                  NA         NA   NA      NA    \n",
       "21  21  22          22          1304095520 1304095598 1914       1    \n",
       "22  22  25          26          1304095553 1304095592 1920       1    \n",
       "23  23  12          27          1304095767 1304095852 1660       1    \n",
       "24  24  27          22                  NA         NA   NA      NA    \n",
       "25  25  24          22                  NA         NA   NA      NA    \n",
       "26  26  23          22                  NA         NA   NA      NA    \n",
       "27  27  26          26          1304095594 1304095603 1909       1    \n",
       "28  28  30          28          1304095535 1304095567 1945       1    \n",
       "29  29  31          29          1304095627 1304095641 1871       1    \n",
       "30  30  29          24          1304095530 1304095652 1860       0    \n",
       "... ... ...         ...         ...        ...        ...       ...   \n",
       "170 170 172         22                  NA         NA  NA       NA    \n",
       "171 171 173         26          1304097267 1304097289 223        1    \n",
       "172 172 177         28                  NA         NA  NA       NA    \n",
       "173 173 175         25          1304097268 1304097300 212        0    \n",
       "174 174 168         22                  NA         NA  NA       NA    \n",
       "175 175 170         27                  NA         NA  NA       NA    \n",
       "176 176 179         22                  NA         NA  NA       NA    \n",
       "177 177 176         28                  NA         NA  NA       NA    \n",
       "178 178 178         23                  NA         NA  NA       NA    \n",
       "179 179 185         29          1304097324 1304097357 155        1    \n",
       "180 180 183         23                  NA         NA  NA       NA    \n",
       "181 181 180         27                  NA         NA  NA       NA    \n",
       "182 182 181         25                  NA         NA  NA       NA    \n",
       "183 183 182         22                  NA         NA  NA       NA    \n",
       "184 184 184         23                  NA         NA  NA       NA    \n",
       "185 185 186         27                  NA         NA  NA       NA    \n",
       "186 186 190         24                  NA         NA  NA       NA    \n",
       "187 187 191         25                  NA         NA  NA       NA    \n",
       "188 188 187         27                  NA         NA  NA       NA    \n",
       "189 189 193         26          1304097410 1304097429  83        0    \n",
       "190 190 189         28                  NA         NA  NA       NA    \n",
       "191 191 192         28                  NA         NA  NA       NA    \n",
       "192 192 194         22          1304097459 1304097469  43        0    \n",
       "193 193 196         28                  NA         NA  NA       NA    \n",
       "194 194 195         26                  NA         NA  NA       NA    \n",
       "195 195 188         27                  NA         NA  NA       NA    \n",
       "196 196 201         26                  NA         NA  NA       NA    \n",
       "197 197 199         23                  NA         NA  NA       NA    \n",
       "198 198 200         28                  NA         NA  NA       NA    \n",
       "199 199 197         22                  NA         NA  NA       NA    \n",
       "    problem_id subject_id start      stop       time_left answer\n",
       "1   156        29         1304095119 1304095169 2343      B     \n",
       "2   269        25         1304095119 1304095183 2329      C     \n",
       "3    34        22         1304095127 1304095146 2366      C     \n",
       "4    19        23         1304095127 1304095150 2362      D     \n",
       "5   605        26         1304095127 1304095167 2345      A     \n",
       "6   384        27         1304095131 1304095270 2242      C     \n",
       "7   538        28         1304095133 1304095201 2311      C     \n",
       "8   312        24         1304095134 1304095198 2314      D     \n",
       "9   327        22         1304095151 1304095184 2328      E     \n",
       "10  194        23         1304095152 1304095175 2337      A     \n",
       "11  409        29         1304095171 1304095202 2310      B     \n",
       "12  566        23         1304095177 1304095375 2137      D     \n",
       "13  490        26         1304095179 1304095264 2248      C     \n",
       "14  270        25         1304095184 1304095224 2288      C     \n",
       "15  234        29         1304095204 1304095325 2187      A     \n",
       "16  183        24         1304095205 1304095230 2282      A     \n",
       "17  426        28         1304095205 1304095222 2290      A     \n",
       "18  456        22         1304095212 1304095276 2236      C     \n",
       "19  207        28         1304095226 1304095272 2240      C     \n",
       "20  418        25         1304095226 1304095246 2266      D     \n",
       "21  214        24         1304095233 1304095293 2219      D     \n",
       "22  262        25         1304095251 1304095339 2173      A     \n",
       "23  493        27         1304095278 1304095403 2109      E     \n",
       "24    8        24         1304095302 1304095389 2123      B     \n",
       "25   40        29         1304095326 1304095357 2155      C     \n",
       "26  427        28         1304095340 1304095419 2093      B     \n",
       "27  428        29         1304095358 1304095384 2128      D     \n",
       "28  348        23         1304095377 1304095638 1874      C     \n",
       "29  119        25         1304095388 1304095481 2031      A     \n",
       "30  145        29         1304095389 1304095453 2059      D     \n",
       "... ...        ...        ...        ...        ...       ...   \n",
       "170 299        24         1304097179 1304097274 238       C     \n",
       "171 283        26         1304097183 1304097213 299       A     \n",
       "172 342        29         1304097193 1304097220 292       D     \n",
       "173 324        25         1304097198 1304097222 290       A     \n",
       "174 379        27         1304097202         NA  NA             \n",
       "175 600        26         1304097214 1304097239 273       E     \n",
       "176 151        29         1304097222 1304097289 223       C     \n",
       "177 422        25         1304097224 1304097239 273       D     \n",
       "178 563        28         1304097248 1304097314 198       E     \n",
       "179 451        23         1304097255 1304097287 225       D     \n",
       "180 135        22         1304097268 1304097322 190       D     \n",
       "181 425        24         1304097282 1304097341 171       A     \n",
       "182 519        23         1304097288 1304097347 165       B     \n",
       "183 458        29         1304097291 1304097322 190       D     \n",
       "184  76        26         1304097292 1304097348 164       D     \n",
       "185  14        25         1304097310 1304097318 194       B     \n",
       "186 149        25         1304097322 1304097353 159       C     \n",
       "187 336        24         1304097343 1304097378 134       B     \n",
       "188 245        23         1304097348 1304097465  47       D     \n",
       "189  73        26         1304097350 1304097404 108       E     \n",
       "190 297        25         1304097354 1304097376 136       B     \n",
       "191 542        29         1304097359 1304097376 136       A     \n",
       "192 308        25         1304097378 1304097407 105       A     \n",
       "193 510        29         1304097378 1304097395 117       E     \n",
       "194 254        24         1304097380 1304097425  87       A     \n",
       "195 111        29         1304097396 1304097436  76       D     \n",
       "196 562        25         1304097409 1304097426  86       B     \n",
       "197 582        25         1304097428 1304097495  17       B     \n",
       "198 376        24         1304097430         NA  NA             \n",
       "199 439        28         1304097432 1304097471  41       C     "
      ]
     },
     "metadata": {},
     "output_type": "display_data"
    }
   ],
   "source": [
    "\n",
    "join_data = join(reviews, solutions,by = 'id')\n",
    "join_data"
   ]
  },
  {
   "cell_type": "code",
   "execution_count": null,
   "metadata": {},
   "outputs": [],
   "source": []
  }
 ],
 "metadata": {
  "kernelspec": {
   "display_name": "R",
   "language": "R",
   "name": "ir"
  },
  "language_info": {
   "codemirror_mode": "r",
   "file_extension": ".r",
   "mimetype": "text/x-r-source",
   "name": "R",
   "pygments_lexer": "r",
   "version": "3.5.1"
  }
 },
 "nbformat": 4,
 "nbformat_minor": 2
}
