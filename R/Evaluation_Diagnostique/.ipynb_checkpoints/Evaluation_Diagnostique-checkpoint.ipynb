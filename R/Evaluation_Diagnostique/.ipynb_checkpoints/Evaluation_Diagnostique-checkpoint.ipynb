{
 "cells": [
  {
   "cell_type": "markdown",
   "metadata": {},
   "source": [
    "## Introduction \n",
    "\n",
    "<p class = \"a\">\n",
    "    Dans ce rapport, je vais analyser les notes obtenus par les élèves de ma classe à deux niveaux, 5éme et 6éme années du primaire, de l'école centrale du secteur scolaire  Essakia Alhamra .\n",
    "    Ces notes sont obtenus durant les trois premières semaines  consacrées aux évaluations diagnostiques, la saison 2018, 2019.\n",
    "    Je vais utiliser les outils du langage R utilisé pour les statistiques. \n",
    "    Les étapees de mon analyses, seront expliquées et commentées à fur et à mesure de la progression de mon travail \n",
    "    \n",
    "</p>"
   ]
  },
  {
   "cell_type": "markdown",
   "metadata": {},
   "source": [
    "### 1- Charger les outils de travail.\n",
    "Je vais commençer d'abord par charger les bibliothèques du langage R qui  me permettrons de mener à terme cette analyse."
   ]
  },
  {
   "cell_type": "code",
   "execution_count": 72,
   "metadata": {
    "scrolled": true
   },
   "outputs": [],
   "source": [
    "# library(dplyr)\n",
    "# library(tidyr)\n",
    "# library(corrplot)\n",
    "# #library(statsr)\n",
    "# library(ggrepel)\n",
    "# library(readxl)\n",
    "# library(RColorBrewer)\n",
    "# options(repr.plot.width = 7, repr.plot.height = 4)"
   ]
  },
  {
   "cell_type": "markdown",
   "metadata": {},
   "source": [
    "### 2- Charger les donnée à partir d'un fichier Excel et les organiser selon le standard \"tidy data\" .\n"
   ]
  },
  {
   "cell_type": "code",
   "execution_count": 73,
   "metadata": {},
   "outputs": [
    {
     "data": {
      "text/html": [
       "<table>\n",
       "<thead><tr><th scope=col>Prenom_Nom</th><th scope=col>Niveau</th><th scope=col>Genre</th><th scope=col>Français</th><th scope=col>Mathematiques</th><th scope=col>Arabe</th><th scope=col>Sciences</th></tr></thead>\n",
       "<tbody>\n",
       "\t<tr><td>Mohamed Oubihi     </td><td>6                  </td><td>garçon             </td><td>6.81               </td><td>9.64               </td><td>7.18               </td><td>6.56               </td></tr>\n",
       "\t<tr><td>Asmaa Bendara      </td><td>6                  </td><td>fille              </td><td>5.90               </td><td>8.33               </td><td>6.33               </td><td>5.50               </td></tr>\n",
       "\t<tr><td>Ayoub bendara      </td><td>5                  </td><td>garçon             </td><td>4.29               </td><td>4.40               </td><td>4.92               </td><td>5.50               </td></tr>\n",
       "\t<tr><td>Ilham Alhabib      </td><td>5                  </td><td>fille              </td><td>4.67               </td><td>7.85               </td><td>6.35               </td><td>6.00               </td></tr>\n",
       "\t<tr><td>Hamza Ismail       </td><td>5                  </td><td>garçon             </td><td>2.67               </td><td>5.00               </td><td>5.30               </td><td>5.00               </td></tr>\n",
       "\t<tr><td>Mohamed Amine Hafid</td><td>5                  </td><td>garçon             </td><td>5.21               </td><td>5.12               </td><td>6.39               </td><td>5.50               </td></tr>\n",
       "</tbody>\n",
       "</table>\n"
      ],
      "text/latex": [
       "\\begin{tabular}{r|lllllll}\n",
       " Prenom\\_Nom & Niveau & Genre & Français & Mathematiques & Arabe & Sciences\\\\\n",
       "\\hline\n",
       "\t Mohamed Oubihi      & 6                   & garçon              & 6.81                & 9.64                & 7.18                & 6.56               \\\\\n",
       "\t Asmaa Bendara       & 6                   & fille               & 5.90                & 8.33                & 6.33                & 5.50               \\\\\n",
       "\t Ayoub bendara       & 5                   & garçon              & 4.29                & 4.40                & 4.92                & 5.50               \\\\\n",
       "\t Ilham Alhabib       & 5                   & fille               & 4.67                & 7.85                & 6.35                & 6.00               \\\\\n",
       "\t Hamza Ismail        & 5                   & garçon              & 2.67                & 5.00                & 5.30                & 5.00               \\\\\n",
       "\t Mohamed Amine Hafid & 5                   & garçon              & 5.21                & 5.12                & 6.39                & 5.50               \\\\\n",
       "\\end{tabular}\n"
      ],
      "text/markdown": [
       "\n",
       "Prenom_Nom | Niveau | Genre | Français | Mathematiques | Arabe | Sciences | \n",
       "|---|---|---|---|---|---|\n",
       "| Mohamed Oubihi      | 6                   | garçon              | 6.81                | 9.64                | 7.18                | 6.56                | \n",
       "| Asmaa Bendara       | 6                   | fille               | 5.90                | 8.33                | 6.33                | 5.50                | \n",
       "| Ayoub bendara       | 5                   | garçon              | 4.29                | 4.40                | 4.92                | 5.50                | \n",
       "| Ilham Alhabib       | 5                   | fille               | 4.67                | 7.85                | 6.35                | 6.00                | \n",
       "| Hamza Ismail        | 5                   | garçon              | 2.67                | 5.00                | 5.30                | 5.00                | \n",
       "| Mohamed Amine Hafid | 5                   | garçon              | 5.21                | 5.12                | 6.39                | 5.50                | \n",
       "\n",
       "\n"
      ],
      "text/plain": [
       "  Prenom_Nom          Niveau Genre  Français Mathematiques Arabe Sciences\n",
       "1 Mohamed Oubihi      6      garçon 6.81     9.64          7.18  6.56    \n",
       "2 Asmaa Bendara       6      fille  5.90     8.33          6.33  5.50    \n",
       "3 Ayoub bendara       5      garçon 4.29     4.40          4.92  5.50    \n",
       "4 Ilham Alhabib       5      fille  4.67     7.85          6.35  6.00    \n",
       "5 Hamza Ismail        5      garçon 2.67     5.00          5.30  5.00    \n",
       "6 Mohamed Amine Hafid 5      garçon 5.21     5.12          6.39  5.50    "
      ]
     },
     "metadata": {},
     "output_type": "display_data"
    }
   ],
   "source": [
    "data_path = './Evaluation_Diagnostique.xlsx'\n",
    "dt = tbl_df(read_xlsx(data_path, sheet = 2))\n",
    "head(dt)"
   ]
  },
  {
   "cell_type": "code",
   "execution_count": 74,
   "metadata": {},
   "outputs": [],
   "source": [
    "dt_orgnz <- dt %>% gather(4:7, key = Matiere, value = Note)"
   ]
  },
  {
   "cell_type": "code",
   "execution_count": 75,
   "metadata": {},
   "outputs": [
    {
     "data": {
      "text/html": [
       "<table>\n",
       "<thead><tr><th scope=col>Prenom_Nom</th><th scope=col>Niveau</th><th scope=col>Genre</th><th scope=col>Matiere</th><th scope=col>Note</th></tr></thead>\n",
       "<tbody>\n",
       "\t<tr><td>Mohamed Oubihi     </td><td>6                  </td><td>garçon             </td><td>Français           </td><td>6.81               </td></tr>\n",
       "\t<tr><td>Asmaa Bendara      </td><td>6                  </td><td>fille              </td><td>Français           </td><td>5.90               </td></tr>\n",
       "\t<tr><td>Ayoub bendara      </td><td>5                  </td><td>garçon             </td><td>Français           </td><td>4.29               </td></tr>\n",
       "\t<tr><td>Ilham Alhabib      </td><td>5                  </td><td>fille              </td><td>Français           </td><td>4.67               </td></tr>\n",
       "\t<tr><td>Hamza Ismail       </td><td>5                  </td><td>garçon             </td><td>Français           </td><td>2.67               </td></tr>\n",
       "\t<tr><td>Mohamed Amine Hafid</td><td>5                  </td><td>garçon             </td><td>Français           </td><td>5.21               </td></tr>\n",
       "</tbody>\n",
       "</table>\n"
      ],
      "text/latex": [
       "\\begin{tabular}{r|lllll}\n",
       " Prenom\\_Nom & Niveau & Genre & Matiere & Note\\\\\n",
       "\\hline\n",
       "\t Mohamed Oubihi      & 6                   & garçon              & Français            & 6.81               \\\\\n",
       "\t Asmaa Bendara       & 6                   & fille               & Français            & 5.90               \\\\\n",
       "\t Ayoub bendara       & 5                   & garçon              & Français            & 4.29               \\\\\n",
       "\t Ilham Alhabib       & 5                   & fille               & Français            & 4.67               \\\\\n",
       "\t Hamza Ismail        & 5                   & garçon              & Français            & 2.67               \\\\\n",
       "\t Mohamed Amine Hafid & 5                   & garçon              & Français            & 5.21               \\\\\n",
       "\\end{tabular}\n"
      ],
      "text/markdown": [
       "\n",
       "Prenom_Nom | Niveau | Genre | Matiere | Note | \n",
       "|---|---|---|---|---|---|\n",
       "| Mohamed Oubihi      | 6                   | garçon              | Français            | 6.81                | \n",
       "| Asmaa Bendara       | 6                   | fille               | Français            | 5.90                | \n",
       "| Ayoub bendara       | 5                   | garçon              | Français            | 4.29                | \n",
       "| Ilham Alhabib       | 5                   | fille               | Français            | 4.67                | \n",
       "| Hamza Ismail        | 5                   | garçon              | Français            | 2.67                | \n",
       "| Mohamed Amine Hafid | 5                   | garçon              | Français            | 5.21                | \n",
       "\n",
       "\n"
      ],
      "text/plain": [
       "  Prenom_Nom          Niveau Genre  Matiere  Note\n",
       "1 Mohamed Oubihi      6      garçon Français 6.81\n",
       "2 Asmaa Bendara       6      fille  Français 5.90\n",
       "3 Ayoub bendara       5      garçon Français 4.29\n",
       "4 Ilham Alhabib       5      fille  Français 4.67\n",
       "5 Hamza Ismail        5      garçon Français 2.67\n",
       "6 Mohamed Amine Hafid 5      garçon Français 5.21"
      ]
     },
     "metadata": {},
     "output_type": "display_data"
    }
   ],
   "source": [
    "head(dt_orgnz)"
   ]
  },
  {
   "cell_type": "code",
   "execution_count": 76,
   "metadata": {},
   "outputs": [
    {
     "data": {
      "text/html": [
       "<table>\n",
       "<thead><tr><th scope=col>Prenom_Nom</th><th scope=col>Niveau</th><th scope=col>Genre</th><th scope=col>Matiere</th><th scope=col>Note</th></tr></thead>\n",
       "<tbody>\n",
       "\t<tr><td>Mohamed Amine Hafid </td><td>5                   </td><td>garçon              </td><td>Sciences            </td><td>5.5                 </td></tr>\n",
       "\t<tr><td>Mohamed  Bendara    </td><td>5                   </td><td>garçon              </td><td>Sciences            </td><td>5.0                 </td></tr>\n",
       "\t<tr><td>Lahoucine Outferdine</td><td>5                   </td><td>garçon              </td><td>Sciences            </td><td>6.0                 </td></tr>\n",
       "\t<tr><td>Soulaimane Biramane </td><td>5                   </td><td>garçon              </td><td>Sciences            </td><td>5.0                 </td></tr>\n",
       "\t<tr><td>Karima Atanam       </td><td>5                   </td><td>fille               </td><td>Sciences            </td><td>7.5                 </td></tr>\n",
       "\t<tr><td>Salma Oubihi        </td><td>5                   </td><td>fille               </td><td>Sciences            </td><td>5.5                 </td></tr>\n",
       "</tbody>\n",
       "</table>\n"
      ],
      "text/latex": [
       "\\begin{tabular}{r|lllll}\n",
       " Prenom\\_Nom & Niveau & Genre & Matiere & Note\\\\\n",
       "\\hline\n",
       "\t Mohamed Amine Hafid  & 5                    & garçon               & Sciences             & 5.5                 \\\\\n",
       "\t Mohamed  Bendara     & 5                    & garçon               & Sciences             & 5.0                 \\\\\n",
       "\t Lahoucine Outferdine & 5                    & garçon               & Sciences             & 6.0                 \\\\\n",
       "\t Soulaimane Biramane  & 5                    & garçon               & Sciences             & 5.0                 \\\\\n",
       "\t Karima Atanam        & 5                    & fille                & Sciences             & 7.5                 \\\\\n",
       "\t Salma Oubihi         & 5                    & fille                & Sciences             & 5.5                 \\\\\n",
       "\\end{tabular}\n"
      ],
      "text/markdown": [
       "\n",
       "Prenom_Nom | Niveau | Genre | Matiere | Note | \n",
       "|---|---|---|---|---|---|\n",
       "| Mohamed Amine Hafid  | 5                    | garçon               | Sciences             | 5.5                  | \n",
       "| Mohamed  Bendara     | 5                    | garçon               | Sciences             | 5.0                  | \n",
       "| Lahoucine Outferdine | 5                    | garçon               | Sciences             | 6.0                  | \n",
       "| Soulaimane Biramane  | 5                    | garçon               | Sciences             | 5.0                  | \n",
       "| Karima Atanam        | 5                    | fille                | Sciences             | 7.5                  | \n",
       "| Salma Oubihi         | 5                    | fille                | Sciences             | 5.5                  | \n",
       "\n",
       "\n"
      ],
      "text/plain": [
       "  Prenom_Nom           Niveau Genre  Matiere  Note\n",
       "1 Mohamed Amine Hafid  5      garçon Sciences 5.5 \n",
       "2 Mohamed  Bendara     5      garçon Sciences 5.0 \n",
       "3 Lahoucine Outferdine 5      garçon Sciences 6.0 \n",
       "4 Soulaimane Biramane  5      garçon Sciences 5.0 \n",
       "5 Karima Atanam        5      fille  Sciences 7.5 \n",
       "6 Salma Oubihi         5      fille  Sciences 5.5 "
      ]
     },
     "metadata": {},
     "output_type": "display_data"
    }
   ],
   "source": [
    "tail(dt_orgnz)"
   ]
  },
  {
   "cell_type": "markdown",
   "metadata": {},
   "source": [
    "####  Sommaire des résultas\n",
    "Les fonctions summary()  et str() permettent de donner un sommaire globale sur les données, leurs types , et les quartiles pour les données de type numériques:\n",
    "\n",
    "<br> <b> Min.   : la note minimale.\n",
    "<br> 1st Qu.: 25% des éléves ont obtenu une note inférieure ou égale à cette note.\n",
    "<br> Median : 50% des éléves ont obtenu une note inférieure ou égale à cette notec\n",
    "<br> Mean   : La moyenne generale de la classe \n",
    "<br> 3rd Qu.: 25% des éléves ont obtenu une note supérieure ou égale à cette note\n",
    "<br> Max.   : la note maximale\n",
    "</b>\n"
   ]
  },
  {
   "cell_type": "code",
   "execution_count": 77,
   "metadata": {},
   "outputs": [
    {
     "data": {
      "text/plain": [
       "  Prenom_Nom            Niveau         Genre             Matiere         \n",
       " Length:44          Min.   :5.000   Length:44          Length:44         \n",
       " Class :character   1st Qu.:5.000   Class :character   Class :character  \n",
       " Mode  :character   Median :5.000   Mode  :character   Mode  :character  \n",
       "                    Mean   :5.182                                        \n",
       "                    3rd Qu.:5.000                                        \n",
       "                    Max.   :6.000                                        \n",
       "      Note       \n",
       " Min.   : 2.500  \n",
       " 1st Qu.: 4.987  \n",
       " Median : 5.500  \n",
       " Mean   : 5.734  \n",
       " 3rd Qu.: 6.433  \n",
       " Max.   :10.000  "
      ]
     },
     "metadata": {},
     "output_type": "display_data"
    }
   ],
   "source": [
    "summary(dt_orgnz)"
   ]
  },
  {
   "cell_type": "code",
   "execution_count": 78,
   "metadata": {},
   "outputs": [
    {
     "name": "stdout",
     "output_type": "stream",
     "text": [
      "Classes 'tbl_df', 'tbl' and 'data.frame':\t44 obs. of  5 variables:\n",
      " $ Prenom_Nom: chr  \"Mohamed Oubihi\" \"Asmaa Bendara\" \"Ayoub bendara\" \"Ilham Alhabib\" ...\n",
      " $ Niveau    : num  6 6 5 5 5 5 5 5 5 5 ...\n",
      " $ Genre     : chr  \"garçon\" \"fille\" \"garçon\" \"fille\" ...\n",
      " $ Matiere   : chr  \"Français\" \"Français\" \"Français\" \"Français\" ...\n",
      " $ Note      : num  6.81 5.9 4.29 4.67 2.67 5.21 4 2.5 4.78 6.68 ...\n"
     ]
    }
   ],
   "source": [
    "str(dt_orgnz)"
   ]
  },
  {
   "cell_type": "markdown",
   "metadata": {},
   "source": [
    "### NB: Il faut bien noter que ces statistiques concernent toutes les notes sans distiction entre les matiéres, \n",
    "Alors je vais m'interesser aux moyennes générales obtenus par matière, pour l'ensemble des éleves vu que la 6éme ne compte que deux éléves."
   ]
  },
  {
   "cell_type": "code",
   "execution_count": 79,
   "metadata": {},
   "outputs": [
    {
     "data": {
      "text/html": [
       "<table>\n",
       "<thead><tr><th scope=col>Matiere</th><th scope=col>Moyenne de la classe</th></tr></thead>\n",
       "<tbody>\n",
       "\t<tr><td>Arabe        </td><td>5.996364     </td></tr>\n",
       "\t<tr><td>Français     </td><td>4.777273     </td></tr>\n",
       "\t<tr><td>Mathematiques</td><td>6.430909     </td></tr>\n",
       "\t<tr><td>Sciences     </td><td>5.732727     </td></tr>\n",
       "</tbody>\n",
       "</table>\n"
      ],
      "text/latex": [
       "\\begin{tabular}{r|ll}\n",
       " Matiere & Moyenne de la classe\\\\\n",
       "\\hline\n",
       "\t Arabe         & 5.996364     \\\\\n",
       "\t Français      & 4.777273     \\\\\n",
       "\t Mathematiques & 6.430909     \\\\\n",
       "\t Sciences      & 5.732727     \\\\\n",
       "\\end{tabular}\n"
      ],
      "text/markdown": [
       "\n",
       "Matiere | Moyenne de la classe | \n",
       "|---|---|---|---|\n",
       "| Arabe         | 5.996364      | \n",
       "| Français      | 4.777273      | \n",
       "| Mathematiques | 6.430909      | \n",
       "| Sciences      | 5.732727      | \n",
       "\n",
       "\n"
      ],
      "text/plain": [
       "  Matiere       Moyenne de la classe\n",
       "1 Arabe         5.996364            \n",
       "2 Français      4.777273            \n",
       "3 Mathematiques 6.430909            \n",
       "4 Sciences      5.732727            "
      ]
     },
     "metadata": {},
     "output_type": "display_data"
    }
   ],
   "source": [
    "dt_orgnz%>% group_by(Matiere) %>% summarize(\"Moyenne de la classe\" = mean(Note))"
   ]
  },
  {
   "cell_type": "markdown",
   "metadata": {},
   "source": [
    "### à ce stade il faut se demander à quel point ses moyennes représentent le niveau de chaque classe,\n",
    "pour cela calculons l'écart type de chaque matiére"
   ]
  },
  {
   "cell_type": "code",
   "execution_count": 80,
   "metadata": {},
   "outputs": [
    {
     "data": {
      "text/html": [
       "<table>\n",
       "<thead><tr><th scope=col>Matiere</th><th scope=col>L'écart type</th></tr></thead>\n",
       "<tbody>\n",
       "\t<tr><td>Arabe        </td><td>1.0505263    </td></tr>\n",
       "\t<tr><td>Français     </td><td>1.4053049    </td></tr>\n",
       "\t<tr><td>Mathematiques</td><td>2.3823033    </td></tr>\n",
       "\t<tr><td>Sciences     </td><td>0.7601196    </td></tr>\n",
       "</tbody>\n",
       "</table>\n"
      ],
      "text/latex": [
       "\\begin{tabular}{r|ll}\n",
       " Matiere & L'écart type\\\\\n",
       "\\hline\n",
       "\t Arabe         & 1.0505263    \\\\\n",
       "\t Français      & 1.4053049    \\\\\n",
       "\t Mathematiques & 2.3823033    \\\\\n",
       "\t Sciences      & 0.7601196    \\\\\n",
       "\\end{tabular}\n"
      ],
      "text/markdown": [
       "\n",
       "Matiere | L'écart type | \n",
       "|---|---|---|---|\n",
       "| Arabe         | 1.0505263     | \n",
       "| Français      | 1.4053049     | \n",
       "| Mathematiques | 2.3823033     | \n",
       "| Sciences      | 0.7601196     | \n",
       "\n",
       "\n"
      ],
      "text/plain": [
       "  Matiere       L'écart type\n",
       "1 Arabe         1.0505263   \n",
       "2 Français      1.4053049   \n",
       "3 Mathematiques 2.3823033   \n",
       "4 Sciences      0.7601196   "
      ]
     },
     "metadata": {},
     "output_type": "display_data"
    }
   ],
   "source": [
    "dt_orgnz %>% group_by(Matiere) %>% summarize(\"L'écart type\" = sd(Note))"
   ]
  },
  {
   "cell_type": "markdown",
   "metadata": {},
   "source": [
    "Les écarts types calculés pour les mathematiques, et le francais suggérent une dispersion assez importante des notes autour de la moyenne de la classe, ce qui peut déja nous renseigner sur le fait que les élèves sont repartis en groupes , alors que les notes des sciences indiquent que le niveau des éléves est presque le meme."
   ]
  },
  {
   "cell_type": "markdown",
   "metadata": {},
   "source": [
    "# 3- Grouper les éléves.\n",
    "l'idée: Exploiter la correlation lineaire entre les donnés afin d'obtenir de constituer les groupes aussi scientifiquement que possible \n",
    "D'abord etablir la table de correlation \n"
   ]
  },
  {
   "cell_type": "code",
   "execution_count": 81,
   "metadata": {},
   "outputs": [
    {
     "data": {
      "text/html": [
       "<table>\n",
       "<thead><tr><th></th><th scope=col>Français</th><th scope=col>Mathematiques</th><th scope=col>Arabe</th><th scope=col>Sciences</th></tr></thead>\n",
       "<tbody>\n",
       "\t<tr><th scope=row>Français</th><td>1.0000000</td><td>0.7888922</td><td>0.6907149</td><td>0.5812379</td></tr>\n",
       "\t<tr><th scope=row>Mathematiques</th><td>0.7888922</td><td>1.0000000</td><td>0.7122721</td><td>0.7383483</td></tr>\n",
       "\t<tr><th scope=row>Arabe</th><td>0.6907149</td><td>0.7122721</td><td>1.0000000</td><td>0.8609754</td></tr>\n",
       "\t<tr><th scope=row>Sciences</th><td>0.5812379</td><td>0.7383483</td><td>0.8609754</td><td>1.0000000</td></tr>\n",
       "</tbody>\n",
       "</table>\n"
      ],
      "text/latex": [
       "\\begin{tabular}{r|llll}\n",
       "  & Français & Mathematiques & Arabe & Sciences\\\\\n",
       "\\hline\n",
       "\tFrançais & 1.0000000 & 0.7888922 & 0.6907149 & 0.5812379\\\\\n",
       "\tMathematiques & 0.7888922 & 1.0000000 & 0.7122721 & 0.7383483\\\\\n",
       "\tArabe & 0.6907149 & 0.7122721 & 1.0000000 & 0.8609754\\\\\n",
       "\tSciences & 0.5812379 & 0.7383483 & 0.8609754 & 1.0000000\\\\\n",
       "\\end{tabular}\n"
      ],
      "text/markdown": [
       "\n",
       "| <!--/--> | Français | Mathematiques | Arabe | Sciences | \n",
       "|---|---|---|---|\n",
       "| Français | 1.0000000 | 0.7888922 | 0.6907149 | 0.5812379 | \n",
       "| Mathematiques | 0.7888922 | 1.0000000 | 0.7122721 | 0.7383483 | \n",
       "| Arabe | 0.6907149 | 0.7122721 | 1.0000000 | 0.8609754 | \n",
       "| Sciences | 0.5812379 | 0.7383483 | 0.8609754 | 1.0000000 | \n",
       "\n",
       "\n"
      ],
      "text/plain": [
       "              Français  Mathematiques Arabe     Sciences \n",
       "Français      1.0000000 0.7888922     0.6907149 0.5812379\n",
       "Mathematiques 0.7888922 1.0000000     0.7122721 0.7383483\n",
       "Arabe         0.6907149 0.7122721     1.0000000 0.8609754\n",
       "Sciences      0.5812379 0.7383483     0.8609754 1.0000000"
      ]
     },
     "metadata": {},
     "output_type": "display_data"
    }
   ],
   "source": [
    "cor_ = cor(dt %>% select(Français:Sciences))\n",
    "cor_"
   ]
  },
  {
   "cell_type": "markdown",
   "metadata": {},
   "source": [
    "### Representer cette table avec des couleurs sera beaucoup plus  facile à comprendre."
   ]
  },
  {
   "cell_type": "code",
   "execution_count": 82,
   "metadata": {},
   "outputs": [
    {
     "data": {
      "image/png": "[encoded data removed]",
      "text/plain": [
       "Plot with title \"\""
      ]
     },
     "metadata": {},
     "output_type": "display_data"
    }
   ],
   "source": [
    "corrplot(cor_, type = 'upper')"
   ]
  },
  {
   "cell_type": "markdown",
   "metadata": {},
   "source": [
    "Entre les notes de l'arabe et celle des sciences la correlation est presque 1, ce que s'explique par une relation lineaire croissante,et il en est de meme pour l'arabe et le français.\n",
    "Les notes de ces trois sont \"trés liés\".\n",
    "Alors l'idée  et de calculer la moyenne de ces trois matières pur chaque élève et de les representer contre celle des mathèmatiques"
   ]
  },
  {
   "cell_type": "code",
   "execution_count": 83,
   "metadata": {},
   "outputs": [],
   "source": [
    "dt2 <- dt %>% mutate(moy_AFS = rowMeans(subset(dt, select = c(Français, Arabe, Sciences))))"
   ]
  },
  {
   "cell_type": "code",
   "execution_count": 84,
   "metadata": {},
   "outputs": [
    {
     "data": {
      "text/html": [
       "<table>\n",
       "<thead><tr><th scope=col>Prenom_Nom</th><th scope=col>Niveau</th><th scope=col>Genre</th><th scope=col>Français</th><th scope=col>Mathematiques</th><th scope=col>Arabe</th><th scope=col>Sciences</th><th scope=col>moy_AFS</th></tr></thead>\n",
       "<tbody>\n",
       "\t<tr><td>Mohamed Oubihi      </td><td>6                   </td><td>garçon              </td><td>6.81                </td><td> 9.64               </td><td>7.18                </td><td>6.56                </td><td>6.850000            </td></tr>\n",
       "\t<tr><td>Asmaa Bendara       </td><td>6                   </td><td>fille               </td><td>5.90                </td><td> 8.33               </td><td>6.33                </td><td>5.50                </td><td>5.910000            </td></tr>\n",
       "\t<tr><td>Ayoub bendara       </td><td>5                   </td><td>garçon              </td><td>4.29                </td><td> 4.40               </td><td>4.92                </td><td>5.50                </td><td>4.903333            </td></tr>\n",
       "\t<tr><td>Ilham Alhabib       </td><td>5                   </td><td>fille               </td><td>4.67                </td><td> 7.85               </td><td>6.35                </td><td>6.00                </td><td>5.673333            </td></tr>\n",
       "\t<tr><td>Hamza Ismail        </td><td>5                   </td><td>garçon              </td><td>2.67                </td><td> 5.00               </td><td>5.30                </td><td>5.00                </td><td>4.323333            </td></tr>\n",
       "\t<tr><td>Mohamed Amine Hafid </td><td>5                   </td><td>garçon              </td><td>5.21                </td><td> 5.12               </td><td>6.39                </td><td>5.50                </td><td>5.700000            </td></tr>\n",
       "\t<tr><td>Mohamed  Bendara    </td><td>5                   </td><td>garçon              </td><td>4.00                </td><td> 3.02               </td><td>5.63                </td><td>5.00                </td><td>4.876667            </td></tr>\n",
       "\t<tr><td>Lahoucine Outferdine</td><td>5                   </td><td>garçon              </td><td>2.50                </td><td> 4.40               </td><td>5.60                </td><td>6.00                </td><td>4.700000            </td></tr>\n",
       "\t<tr><td>Soulaimane Biramane </td><td>5                   </td><td>garçon              </td><td>4.78                </td><td> 5.00               </td><td>4.95                </td><td>5.00                </td><td>4.910000            </td></tr>\n",
       "\t<tr><td>Karima Atanam       </td><td>5                   </td><td>fille               </td><td>6.68                </td><td>10.00               </td><td>8.29                </td><td>7.50                </td><td>7.490000            </td></tr>\n",
       "\t<tr><td>Salma Oubihi        </td><td>5                   </td><td>fille               </td><td>5.04                </td><td> 7.98               </td><td>5.02                </td><td>5.50                </td><td>5.186667            </td></tr>\n",
       "</tbody>\n",
       "</table>\n"
      ],
      "text/latex": [
       "\\begin{tabular}{r|llllllll}\n",
       " Prenom\\_Nom & Niveau & Genre & Français & Mathematiques & Arabe & Sciences & moy\\_AFS\\\\\n",
       "\\hline\n",
       "\t Mohamed Oubihi       & 6                    & garçon               & 6.81                 &  9.64                & 7.18                 & 6.56                 & 6.850000            \\\\\n",
       "\t Asmaa Bendara        & 6                    & fille                & 5.90                 &  8.33                & 6.33                 & 5.50                 & 5.910000            \\\\\n",
       "\t Ayoub bendara        & 5                    & garçon               & 4.29                 &  4.40                & 4.92                 & 5.50                 & 4.903333            \\\\\n",
       "\t Ilham Alhabib        & 5                    & fille                & 4.67                 &  7.85                & 6.35                 & 6.00                 & 5.673333            \\\\\n",
       "\t Hamza Ismail         & 5                    & garçon               & 2.67                 &  5.00                & 5.30                 & 5.00                 & 4.323333            \\\\\n",
       "\t Mohamed Amine Hafid  & 5                    & garçon               & 5.21                 &  5.12                & 6.39                 & 5.50                 & 5.700000            \\\\\n",
       "\t Mohamed  Bendara     & 5                    & garçon               & 4.00                 &  3.02                & 5.63                 & 5.00                 & 4.876667            \\\\\n",
       "\t Lahoucine Outferdine & 5                    & garçon               & 2.50                 &  4.40                & 5.60                 & 6.00                 & 4.700000            \\\\\n",
       "\t Soulaimane Biramane  & 5                    & garçon               & 4.78                 &  5.00                & 4.95                 & 5.00                 & 4.910000            \\\\\n",
       "\t Karima Atanam        & 5                    & fille                & 6.68                 & 10.00                & 8.29                 & 7.50                 & 7.490000            \\\\\n",
       "\t Salma Oubihi         & 5                    & fille                & 5.04                 &  7.98                & 5.02                 & 5.50                 & 5.186667            \\\\\n",
       "\\end{tabular}\n"
      ],
      "text/markdown": [
       "\n",
       "Prenom_Nom | Niveau | Genre | Français | Mathematiques | Arabe | Sciences | moy_AFS | \n",
       "|---|---|---|---|---|---|---|---|---|---|---|\n",
       "| Mohamed Oubihi       | 6                    | garçon               | 6.81                 |  9.64                | 7.18                 | 6.56                 | 6.850000             | \n",
       "| Asmaa Bendara        | 6                    | fille                | 5.90                 |  8.33                | 6.33                 | 5.50                 | 5.910000             | \n",
       "| Ayoub bendara        | 5                    | garçon               | 4.29                 |  4.40                | 4.92                 | 5.50                 | 4.903333             | \n",
       "| Ilham Alhabib        | 5                    | fille                | 4.67                 |  7.85                | 6.35                 | 6.00                 | 5.673333             | \n",
       "| Hamza Ismail         | 5                    | garçon               | 2.67                 |  5.00                | 5.30                 | 5.00                 | 4.323333             | \n",
       "| Mohamed Amine Hafid  | 5                    | garçon               | 5.21                 |  5.12                | 6.39                 | 5.50                 | 5.700000             | \n",
       "| Mohamed  Bendara     | 5                    | garçon               | 4.00                 |  3.02                | 5.63                 | 5.00                 | 4.876667             | \n",
       "| Lahoucine Outferdine | 5                    | garçon               | 2.50                 |  4.40                | 5.60                 | 6.00                 | 4.700000             | \n",
       "| Soulaimane Biramane  | 5                    | garçon               | 4.78                 |  5.00                | 4.95                 | 5.00                 | 4.910000             | \n",
       "| Karima Atanam        | 5                    | fille                | 6.68                 | 10.00                | 8.29                 | 7.50                 | 7.490000             | \n",
       "| Salma Oubihi         | 5                    | fille                | 5.04                 |  7.98                | 5.02                 | 5.50                 | 5.186667             | \n",
       "\n",
       "\n"
      ],
      "text/plain": [
       "   Prenom_Nom           Niveau Genre  Français Mathematiques Arabe Sciences\n",
       "1  Mohamed Oubihi       6      garçon 6.81      9.64         7.18  6.56    \n",
       "2  Asmaa Bendara        6      fille  5.90      8.33         6.33  5.50    \n",
       "3  Ayoub bendara        5      garçon 4.29      4.40         4.92  5.50    \n",
       "4  Ilham Alhabib        5      fille  4.67      7.85         6.35  6.00    \n",
       "5  Hamza Ismail         5      garçon 2.67      5.00         5.30  5.00    \n",
       "6  Mohamed Amine Hafid  5      garçon 5.21      5.12         6.39  5.50    \n",
       "7  Mohamed  Bendara     5      garçon 4.00      3.02         5.63  5.00    \n",
       "8  Lahoucine Outferdine 5      garçon 2.50      4.40         5.60  6.00    \n",
       "9  Soulaimane Biramane  5      garçon 4.78      5.00         4.95  5.00    \n",
       "10 Karima Atanam        5      fille  6.68     10.00         8.29  7.50    \n",
       "11 Salma Oubihi         5      fille  5.04      7.98         5.02  5.50    \n",
       "   moy_AFS \n",
       "1  6.850000\n",
       "2  5.910000\n",
       "3  4.903333\n",
       "4  5.673333\n",
       "5  4.323333\n",
       "6  5.700000\n",
       "7  4.876667\n",
       "8  4.700000\n",
       "9  4.910000\n",
       "10 7.490000\n",
       "11 5.186667"
      ]
     },
     "metadata": {},
     "output_type": "display_data"
    }
   ],
   "source": [
    "dt2"
   ]
  },
  {
   "cell_type": "code",
   "execution_count": 85,
   "metadata": {},
   "outputs": [
    {
     "data": {},
     "metadata": {},
     "output_type": "display_data"
    },
    {
     "data": {
      "image/png": "[encoded data removed]",
      "text/plain": [
       "plot without title"
      ]
     },
     "metadata": {},
     "output_type": "display_data"
    }
   ],
   "source": [
    "dt2 %>% ggplot(aes(moy_AFS, Mathematiques, col = Genre))+\n",
    "geom_point()+\n",
    "geom_text_repel(aes(label= Prenom_Nom))+\n",
    "labs(title = \"Groupes selon les resultas obtenus\" , x = \"Moyenne des trois autres matières \")\n",
    "# geom_label_repel(label.r = \"moyee\")\n",
    "#+facet_wrap(~Niveau)"
   ]
  },
  {
   "cell_type": "markdown",
   "metadata": {},
   "source": [
    "Le graphe  indique qu'il y'a bien 2 groupes d'éléves:\n",
    "<br>G1 : {Karima, Mohamed Oubihi, Asmaa, Salma, Ilham}\n",
    "<br>G2 : {Hamza, Amine, Soulaimane, Lahoucine, Ayoub, Mohamed  Bendara}"
   ]
  }
 ],
 "metadata": {
  "kernelspec": {
   "display_name": "R",
   "language": "R",
   "name": "ir"
  },
  "language_info": {
   "codemirror_mode": "r",
   "file_extension": ".r",
   "mimetype": "text/x-r-source",
   "name": "R",
   "pygments_lexer": "r",
   "version": "3.5.1"
  }
 },
 "nbformat": 4,
 "nbformat_minor": 2
}
