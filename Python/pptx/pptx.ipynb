{
 "cells": [
  {
   "cell_type": "code",
   "execution_count": 1,
   "metadata": {},
   "outputs": [],
   "source": [
    "from pptx import Presentation"
   ]
  },
  {
   "cell_type": "code",
   "execution_count": 2,
   "metadata": {},
   "outputs": [],
   "source": [
    "import os"
   ]
  },
  {
   "cell_type": "code",
   "execution_count": 4,
   "metadata": {},
   "outputs": [
    {
     "data": {
      "text/plain": [
       "'C:\\\\Users\\\\asus-A9\\\\Documents\\\\GitHub\\\\AnacondaWorkingSpace\\\\Python\\\\pptx'"
      ]
     },
     "execution_count": 4,
     "metadata": {},
     "output_type": "execute_result"
    }
   ],
   "source": [
    "os.getcwd()"
   ]
  },
  {
   "cell_type": "code",
   "execution_count": 7,
   "metadata": {},
   "outputs": [],
   "source": [
    "if not(os.path.exists('./data')):\n",
    "    os.mkdir('./data')\n"
   ]
  },
  {
   "cell_type": "code",
   "execution_count": 17,
   "metadata": {},
   "outputs": [],
   "source": [
    "prs = Presentation()\n",
    "title_slide_layout = prs.slide_layouts[0]\n",
    "slide = prs.slides.add_slide(title_slide_layout)\n",
    "title = slide.shapes.title\n",
    "subtitle = slide.placeholders[1]\n",
    "\n",
    "title.text = \"YES\"\n",
    "subtitle.text = 'Ah yes'\n",
    "\n",
    "\n",
    "prs.save('test.pptx')\n"
   ]
  },
  {
   "cell_type": "code",
   "execution_count": 18,
   "metadata": {},
   "outputs": [],
   "source": [
    "prs = Presentation()\n",
    "bullet_slide_layout = prs.slide_layouts[1]\n",
    "\n",
    "slide = prs.slides.add_slide(bullet_slide_layout)\n",
    "shapes = slide.shapes\n",
    "\n",
    "title_shape = shapes.title\n",
    "body_shape = shapes.placeholders[1]\n",
    "title_shape.text = \"yaaaaaaaaaaaaaaah\"\n",
    "\n",
    "text_frame = body_shape.text_frame\n",
    "text_frame.text = 'Maluuba '\n",
    "\n",
    "paragraph = text_frame.add_paragraph()\n",
    "paragraph.text = \"\"\"\n",
    "Maluuba is a Canadian technology company conducting \n",
    "research in artificial intelligence and language understanding\n",
    "\"\"\"\n",
    "paragraph.level = 1\n",
    "\n",
    "paragraph = text_frame.add_paragraph()\n",
    "paragraph.text = \"\"\"  \n",
    "In late March 2016, \n",
    "the company demonstrated a machine reading system capable of \n",
    "answering arbitrary questions about J.K Rowling’s Harry Potter and \n",
    "the Philosopher’s Stone.[7] Maluuba's natural language understanding \n",
    "technology is used by several consumer electronic brands for over 50 \n",
    "million devices.[8]\n",
    "\"\"\"\n",
    "paragraph.level = 2\n",
    "\n",
    "prs.save('test2.pptx')\n",
    "\n",
    "\n"
   ]
  },
  {
   "cell_type": "code",
   "execution_count": null,
   "metadata": {},
   "outputs": [],
   "source": []
  }
 ],
 "metadata": {
  "kernelspec": {
   "display_name": "Python 3",
   "language": "python",
   "name": "python3"
  },
  "language_info": {
   "codemirror_mode": {
    "name": "ipython",
    "version": 3
   },
   "file_extension": ".py",
   "mimetype": "text/x-python",
   "name": "python",
   "nbconvert_exporter": "python",
   "pygments_lexer": "ipython3",
   "version": "3.7.1"
  }
 },
 "nbformat": 4,
 "nbformat_minor": 2
}
