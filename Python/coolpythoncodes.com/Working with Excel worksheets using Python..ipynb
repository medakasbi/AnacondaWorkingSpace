{
 "cells": [
  {
   "cell_type": "markdown",
   "metadata": {},
   "source": [
    "<a href=https://coolpythoncodes.com/openpyxl-python-tutorial/ > Working with Excel worksheets using Python. </a>"
   ]
  },
  {
   "cell_type": "code",
   "execution_count": 1,
   "metadata": {},
   "outputs": [],
   "source": [
    "import openpyxl\n",
    "from nltk.tokenize import word_tokenize"
   ]
  },
  {
   "cell_type": "code",
   "execution_count": 2,
   "metadata": {},
   "outputs": [],
   "source": [
    "text = \"\"\"Je te promets le sel au baiser de ma bouche \n",
    "Je te promets le miel à ma main qui te touche \n",
    "Je te promets le ciel au dessus de ta couche \n",
    "Des fleurs et des dentelles pour que tes nuits soient douces \n",
    "Je te promets la clé des secrets de mon âme \n",
    "Je te promets ma vie de mes rires à mes larmes \n",
    "Je te promets le feu à la place des armes \n",
    "Plus jamais des adieux rien que des au-revoir \n",
    "J'y crois comme à la terre, j'y crois comme au soleil \n",
    "J'y crois comme un enfant, comme on peut croire au ciel \n",
    "J'y crois comme à ta peau, à tes bras qui me serrent \n",
    "J'te promets une histoire différente des autres \n",
    "J'ai tant besoin d'y croire encore \n",
    "Je te promets des jours tout bleus comme tes veines \n",
    "Je te promets des nuits rouges comme tes rêves \n",
    "Des heures incandescentes et des minutes blanches \n",
    "Des secondes insouciantes au rythme de tes hanches \n",
    "Je te promets mes bras pour porter tes angoisses \n",
    "Je te promets mes mains pour que tu les embrasses \n",
    "Je te promets mes yeux si tu ne peux plus voir \n",
    "J'te promets d'être heureux si tu n'as plus d'espoir \n",
    "J'y crois comme à la terre, j'y crois comme au soleil \n",
    "J'y crois comme un enfant, comme on peut croire au ciel \n",
    "J'y crois comme à ta peau, à tes bras qui me serrent \n",
    "J'te promets une histoire différente des autres \n",
    "Si tu m'aides à y croire encore \n",
    "Et même si c'est pas vrai, si on te l'a trop fait \n",
    "Si les mots sont usés, comme écrits à la craie \n",
    "On fait bien des grands feux en frottant des cailloux \n",
    "Peut-être avec le temps à la force d'y croire \n",
    "On peut juste essayer pour voir \n",
    "Et même si c'est pas vrai, même si je mens \n",
    "Si les mots sont usés, légers comme du vent \n",
    "Et même si notre histoire se termine au matin \n",
    "J'te promets un moment de fièvre et de douceur \n",
    "Pas toute la nuit mais quelques heures ... \n",
    "Je te promets le sel au baiser de ma bouche \n",
    "Je te promets le miel à ma main qui te touche \n",
    "Je te promets le ciel au dessus de ta couche \n",
    "Des fleurs et des dentelles pour que tes nuits soient douces\"\"\"\n",
    "\n",
    "tokens = list(set(word_tokenize(text)))"
   ]
  },
  {
   "cell_type": "code",
   "execution_count": 3,
   "metadata": {},
   "outputs": [],
   "source": [
    "\n",
    "file_path = './newfile.xlsx'\n",
    "\n",
    "# Create a workbook\n",
    "\n",
    "wb = openpyxl.Workbook()\n",
    "\n",
    "# Get a sheet to work with\n",
    "\n",
    "ws = wb.active\n",
    "\n",
    "# Assign Values to cell\n",
    "ws[\"A1\"] = \"Name\"\n",
    "ws[\"B1\"] = \"Age\"\n",
    "ws[\"A2\"] =\"Mohamed\"\n",
    "ws[\"B2\"] = 40\n",
    "\n",
    "\n",
    "for _col in range (1,100):\n",
    "    for _row in range(1, 80):\n",
    "        ws.cell(_row, _col, tokens[_row])\n",
    "# Save workbook\n",
    "\n",
    "wb.save(file_path)\n"
   ]
  },
  {
   "cell_type": "code",
   "execution_count": 4,
   "metadata": {},
   "outputs": [],
   "source": [
    "\n",
    "file_path = \"./newfile.xlsx\"\n",
    "\n",
    "wb1 = openpyxl.load_workbook(file_path)\n",
    "\n",
    "sheet_2 = wb.create_sheet('Student details')\n",
    "sheet_3 = wb.create_sheet('Weather Report')\n",
    "sheet_4 = wb.create_sheet(\"Lecturers details\")\n",
    "\n",
    "# Creating cell Values\n",
    "\n",
    "data_frame = [\n",
    "    [\"Name\",\"Gender\",\"CGPA\"],\n",
    "    [\"Godson\",\"Male\",3.7],\n",
    "    [\"Esther\",\"Female\",3.0],\n",
    "    [\"Frank\",\"Male\",3.5],\n",
    "    [\"Sandra\",\"Female\",3.8]\n",
    "]\n",
    "\n",
    "# Appending cell values to cell\n",
    "\n",
    "for data in data_frame:\n",
    "    ws.append(data)\n",
    "    \n",
    "# Saving workbook\n",
    "wb.save(file_path)"
   ]
  },
  {
   "cell_type": "code",
   "execution_count": null,
   "metadata": {},
   "outputs": [],
   "source": [
    "import os"
   ]
  },
  {
   "cell_type": "code",
   "execution_count": null,
   "metadata": {},
   "outputs": [],
   "source": []
  }
 ],
 "metadata": {
  "kernelspec": {
   "display_name": "Python 3",
   "language": "python",
   "name": "python3"
  },
  "language_info": {
   "codemirror_mode": {
    "name": "ipython",
    "version": 3
   },
   "file_extension": ".py",
   "mimetype": "text/x-python",
   "name": "python",
   "nbconvert_exporter": "python",
   "pygments_lexer": "ipython3",
   "version": "3.7.1"
  }
 },
 "nbformat": 4,
 "nbformat_minor": 2
}
