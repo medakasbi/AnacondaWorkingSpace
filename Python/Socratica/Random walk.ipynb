{
 "cells": [
  {
   "cell_type": "markdown",
   "metadata": {},
   "source": [
    "##### https://www.youtube.com/watch?v=BfS2H1y6tzQ&index=22&list=PLi01XoE8jYohWFPpC17Z-wWhPOSuh8Er-&t=0s"
   ]
  },
  {
   "cell_type": "code",
   "execution_count": 1,
   "metadata": {},
   "outputs": [],
   "source": [
    "import random\n",
    "import numpy as np"
   ]
  },
  {
   "cell_type": "code",
   "execution_count": 2,
   "metadata": {},
   "outputs": [
    {
     "name": "stdout",
     "output_type": "stream",
     "text": [
      "3.12\n"
     ]
    }
   ],
   "source": [
    "def random_walk(n):\n",
    "    \"\"\"Return  coordinates after 'n' block random walk.\"\"\"\n",
    "    x = 0\n",
    "    y = 0\n",
    "    for i in range(n):\n",
    "        step = random.choice(['N', 'S', 'E',  'W'])\n",
    "        if step == 'N':\n",
    "            y = y + 1\n",
    "        if step == 'S':\n",
    "            y = y - 1\n",
    "        if step == 'E':\n",
    "            x = x + 1\n",
    "        if step == 'W':\n",
    "            x = x - 1\n",
    "    return (x, y)\n",
    "\n",
    "data = []\n",
    "for i in range(25):\n",
    "    walk = random_walk(10)\n",
    "    distance = abs(walk[0]) + abs(walk[1])\n",
    "#     print(walk, \"Distance from home =\", distance)\n",
    "    data.append(distance)\n",
    "print(np.mean(data))\n",
    "        \n",
    "        \n",
    "    "
   ]
  },
  {
   "cell_type": "code",
   "execution_count": 12,
   "metadata": {},
   "outputs": [
    {
     "name": "stdout",
     "output_type": "stream",
     "text": [
      "Walk size = 1  / % of no transport =  100.0\n",
      "Walk size = 2  / % of no transport =  100.0\n",
      "Walk size = 3  / % of no transport =  100.0\n",
      "Walk size = 4  / % of no transport =  100.0\n",
      "Walk size = 5  / % of no transport =  89.5\n",
      "Walk size = 6  / % of no transport =  94.6\n",
      "Walk size = 7  / % of no transport =  76.8\n",
      "Walk size = 8  / % of no transport =  85.0\n",
      "Walk size = 9  / % of no transport =  68.4\n",
      "Walk size = 10  / % of no transport =  78.0\n",
      "Walk size = 11  / % of no transport =  60.3\n",
      "Walk size = 12  / % of no transport =  73.8\n",
      "Walk size = 13  / % of no transport =  55.00000000000001\n",
      "Walk size = 14  / % of no transport =  70.5\n",
      "Walk size = 15  / % of no transport =  49.4\n",
      "Walk size = 16  / % of no transport =  63.3\n",
      "Walk size = 17  / % of no transport =  46.0\n",
      "Walk size = 18  / % of no transport =  57.599999999999994\n",
      "Walk size = 19  / % of no transport =  38.7\n",
      "Walk size = 20  / % of no transport =  54.400000000000006\n",
      "Walk size = 21  / % of no transport =  37.9\n",
      "Walk size = 22  / % of no transport =  51.800000000000004\n",
      "Walk size = 23  / % of no transport =  33.900000000000006\n",
      "Walk size = 24  / % of no transport =  47.599999999999994\n",
      "Walk size = 25  / % of no transport =  36.1\n",
      "Walk size = 26  / % of no transport =  44.3\n",
      "Walk size = 27  / % of no transport =  31.8\n",
      "Walk size = 28  / % of no transport =  43.0\n",
      "Walk size = 29  / % of no transport =  31.0\n",
      "Walk size = 30  / % of no transport =  41.3\n"
     ]
    }
   ],
   "source": [
    "def random_walk_2(n):\n",
    "    \"\"\"Return coordinates after 'n' block random walk.\"\"\"\n",
    "    x, y = 0, 0\n",
    "    for i in range(n):\n",
    "        (dx, dy) = random.choice([(0, 1), (0, -1), (1, 0), (-1, 0)])\n",
    "        x += dx\n",
    "        y += dy\n",
    "    return x,y\n",
    "\n",
    "\n",
    "number_of_walks = 1000\n",
    "\n",
    "for walk_length in range(1, 31):\n",
    "    no_transport = 0 # Number ofwalks fewer tha 4 bloks from home\n",
    "    for trial in range(number_of_walks):\n",
    "        x, y = random_walk_2(walk_length)\n",
    "        distance = abs(x) + abs(y)\n",
    "        if distance <= 4:\n",
    "            no_transport += 1\n",
    "    no_transport_probability = float(no_transport / number_of_walks)\n",
    "    print(\"Walk size =\", walk_length, \" / % of no transport = \", 100 * no_transport_probability )"
   ]
  },
  {
   "cell_type": "code",
   "execution_count": null,
   "metadata": {},
   "outputs": [],
   "source": []
  }
 ],
 "metadata": {
  "kernelspec": {
   "display_name": "Python 3",
   "language": "python",
   "name": "python3"
  },
  "language_info": {
   "codemirror_mode": {
    "name": "ipython",
    "version": 3
   },
   "file_extension": ".py",
   "mimetype": "text/x-python",
   "name": "python",
   "nbconvert_exporter": "python",
   "pygments_lexer": "ipython3",
   "version": "3.7.1"
  }
 },
 "nbformat": 4,
 "nbformat_minor": 2
}
